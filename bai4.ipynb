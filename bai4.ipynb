{
  "nbformat": 4,
  "nbformat_minor": 0,
  "metadata": {
    "colab": {
      "name": "bai4.ipynb",
      "provenance": [],
      "authorship_tag": "ABX9TyN80b10vw7pO/ZLCmeqEAzA",
      "include_colab_link": true
    },
    "kernelspec": {
      "name": "python3",
      "display_name": "Python 3"
    },
    "language_info": {
      "name": "python"
    }
  },
  "cells": [
    {
      "cell_type": "markdown",
      "metadata": {
        "id": "view-in-github",
        "colab_type": "text"
      },
      "source": [
        "<a href=\"https://colab.research.google.com/github/lmquann/leminhquan/blob/main/bai4.ipynb\" target=\"_parent\"><img src=\"https://colab.research.google.com/assets/colab-badge.svg\" alt=\"Open In Colab\"/></a>"
      ]
    },
    {
      "cell_type": "code",
      "metadata": {
        "colab": {
          "base_uri": "https://localhost:8080/"
        },
        "id": "uxyO6MjY_ASg",
        "outputId": "6748ade2-e0f7-48d5-facf-7373ab87e192"
      },
      "source": [
        "a = float(input(\"type the first number: \"))\n",
        "b = float(input(\"type the second number: \"))\n",
        "if (a >= b):\n",
        "  print(\" a >= b \")\n",
        "else:\n",
        "  print(\" try with another number \")"
      ],
      "execution_count": 3,
      "outputs": [
        {
          "output_type": "stream",
          "name": "stdout",
          "text": [
            "type the first number: 2\n",
            "type the second number: 5\n",
            " try with another number \n"
          ]
        }
      ]
    },
    {
      "cell_type": "code",
      "metadata": {
        "colab": {
          "base_uri": "https://localhost:8080/"
        },
        "id": "QJsnoT5dDkrN",
        "outputId": "07b9fca6-9a8f-49ef-aa24-000e7851dc8f"
      },
      "source": [
        "a = float(input(\"type the first number: \"))\n",
        "b = float(input(\"type the second number: \"))\n",
        "if (a <= b):\n",
        "  print(\" a <= b \")\n",
        "else:\n",
        "  print(\" try with another number \")"
      ],
      "execution_count": 4,
      "outputs": [
        {
          "output_type": "stream",
          "name": "stdout",
          "text": [
            "type the first number: 4\n",
            "type the second number: 4\n",
            " a <= b \n"
          ]
        }
      ]
    },
    {
      "cell_type": "code",
      "metadata": {
        "colab": {
          "base_uri": "https://localhost:8080/"
        },
        "id": "jDJybYO6DraK",
        "outputId": "473ed826-41af-430b-a2cd-5787b07cf540"
      },
      "source": [
        "a = float(input(\"type the first number: \"))\n",
        "b = float(input(\"type the second number: \"))\n",
        "if (a > b):\n",
        "  print(\" a > b \")\n",
        "else:\n",
        "  print(\" try with another number \")"
      ],
      "execution_count": 5,
      "outputs": [
        {
          "output_type": "stream",
          "name": "stdout",
          "text": [
            "type the first number: 5\n",
            "type the second number: 2\n",
            " a > b \n"
          ]
        }
      ]
    },
    {
      "cell_type": "code",
      "metadata": {
        "colab": {
          "base_uri": "https://localhost:8080/"
        },
        "id": "f8FiMJ0ADw4C",
        "outputId": "b03c7fef-8599-4149-fdb8-0f9690f1af79"
      },
      "source": [
        "a = float(input(\"type the first number: \"))\n",
        "b = float(input(\"type the second number: \"))\n",
        "if (a < b):\n",
        "  print(\" a < b \")\n",
        "else:\n",
        "  print(\" try with another number \")"
      ],
      "execution_count": 6,
      "outputs": [
        {
          "output_type": "stream",
          "name": "stdout",
          "text": [
            "type the first number: 4\n",
            "type the second number: 2\n",
            " try with another number \n"
          ]
        }
      ]
    },
    {
      "cell_type": "code",
      "metadata": {
        "colab": {
          "base_uri": "https://localhost:8080/"
        },
        "id": "lY29QGucD3Uv",
        "outputId": "a63a1929-4178-48a6-929d-359e231a6fa1"
      },
      "source": [
        "a = float(input(\"type the first number: \"))\n",
        "b = float(input(\"type the second number: \"))\n",
        "if (a != b):\n",
        "  print(\" a # b \")\n",
        "else:\n",
        "  print(\" a = b \")"
      ],
      "execution_count": 7,
      "outputs": [
        {
          "output_type": "stream",
          "name": "stdout",
          "text": [
            "type the first number: 4\n",
            "type the second number: 2\n",
            " a # b \n"
          ]
        }
      ]
    }
  ]
}