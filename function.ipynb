{
  "nbformat": 4,
  "nbformat_minor": 0,
  "metadata": {
    "colab": {
      "name": "function.ipynb",
      "provenance": [],
      "collapsed_sections": [],
      "authorship_tag": "ABX9TyPnzhkw7NivXlrpNu4eEDVY",
      "include_colab_link": true
    },
    "kernelspec": {
      "name": "python3",
      "display_name": "Python 3"
    },
    "language_info": {
      "name": "python"
    }
  },
  "cells": [
    {
      "cell_type": "markdown",
      "metadata": {
        "id": "view-in-github",
        "colab_type": "text"
      },
      "source": [
        "<a href=\"https://colab.research.google.com/github/lmquann/leminhquan/blob/main/function.ipynb\" target=\"_parent\"><img src=\"https://colab.research.google.com/assets/colab-badge.svg\" alt=\"Open In Colab\"/></a>"
      ]
    },
    {
      "cell_type": "markdown",
      "metadata": {
        "id": "LjJt5hegI637"
      },
      "source": [
        "Bài 1: Hãy xây dựng một hàm thực hiện các yêu cầu sau:\n",
        "- Xuất ra màn hình câu thông báo: “Lập trình Java 2021”\n",
        "- Hàm không có giá trị trả về\n",
        "Từ chương trình chính, gọi thực hiện hàm này."
      ]
    },
    {
      "cell_type": "code",
      "metadata": {
        "colab": {
          "base_uri": "https://localhost:8080/"
        },
        "id": "ByU1M8C8IokL",
        "outputId": "d97a4f21-5ba0-4132-d9c9-4767c22fb5b3"
      },
      "source": [
        "def main():\n",
        "  print(\"Lap trinh Java 2021\")\n",
        "main()\n"
      ],
      "execution_count": null,
      "outputs": [
        {
          "output_type": "stream",
          "name": "stdout",
          "text": [
            "Lap trinh Java 2021\n"
          ]
        }
      ]
    },
    {
      "cell_type": "markdown",
      "metadata": {
        "id": "Mq5XS9cTJFM2"
      },
      "source": [
        "Bài 2: Hãy xây dựng một hàm thực hiện các yêu cầu sau:\n",
        "- Nhận một tham số đầu vào là một chuỗi ký tự (kiểu String)\n",
        "- Xuất ra màn hình nội dung chuỗi được truyền vào từ tham số\n",
        "- Hàm không có giá trị trả về\n",
        "Từ chương trình chính gọi thực hiện hàm này."
      ]
    },
    {
      "cell_type": "code",
      "metadata": {
        "colab": {
          "base_uri": "https://localhost:8080/"
        },
        "id": "vz-vZ86lJHaO",
        "outputId": "bcc962f0-1ef0-438a-a84a-844a231db066"
      },
      "source": [
        "def write(mess):\n",
        "  print(mess)\n",
        "write(\"Welcome to Hue\")\n"
      ],
      "execution_count": null,
      "outputs": [
        {
          "output_type": "stream",
          "name": "stdout",
          "text": [
            "Welcome to Hue\n"
          ]
        }
      ]
    },
    {
      "cell_type": "markdown",
      "metadata": {
        "id": "gnFjeunsJNl3"
      },
      "source": [
        "Bài 3: Hãy viết chương trình thực hiện các yêu cầu sau:\n",
        "- Nhập một số nguyên dương n từ bàn phím (kiểm tra nếu không đạt yêu cầu thì bắt nhập\n",
        "lại)\n",
        "- Nhập một thông điệp từ bàn phím\n",
        "- Gọi thực hiện hàm ở Bài 2 n lần với thông điệp được truyền làm tham số đầu vào của hàm."
      ]
    },
    {
      "cell_type": "code",
      "metadata": {
        "colab": {
          "base_uri": "https://localhost:8080/"
        },
        "id": "jZRoFlQxJRpB",
        "outputId": "cb3561f6-857d-41f4-b2b6-1bcc71900d39"
      },
      "source": [
        "n = int(input(\"nhap n: \"))\n",
        "if (n < 0) :\n",
        "  print(\"try again\")\n",
        "elif (n > 0):\n",
        "  for i in range (0, n):\n",
        "    write(\"hello\")\n"
      ],
      "execution_count": null,
      "outputs": [
        {
          "output_type": "stream",
          "name": "stdout",
          "text": [
            "nhap n: 3\n",
            "hello\n",
            "hello\n",
            "hello\n"
          ]
        }
      ]
    },
    {
      "cell_type": "markdown",
      "metadata": {
        "id": "jw6RYB5vJXnT"
      },
      "source": [
        "Bài 4: Hãy viết chương trình thực hiện các yêu cầu sau:\n",
        "- Xây dựng hàm giải phương trình bậc 1 (ax + b = 0), với hệ số a & b được truyền vào qua\n",
        "thông số của hàm.\n",
        "- Chương trình chính nhận các thông số a, b từ bàn phím\n",
        "- Chương trình chính gọi hàm giải phương trình bậc 1 nêu trên"
      ]
    },
    {
      "cell_type": "code",
      "metadata": {
        "colab": {
          "base_uri": "https://localhost:8080/"
        },
        "id": "UgtotAq-JZ4z",
        "outputId": "d0211c47-0f26-4100-dddb-56c3ea9556e0"
      },
      "source": [
        "a = float(input(\"nhap a: \"))\n",
        "b = float(input(\"nhap b: \"))\n",
        "def ptbac1():\n",
        "  global a\n",
        "  global b\n",
        "  if (a == 0) and (b == 0):\n",
        "    print(\"pt co vo so nghiem \")\n",
        "  elif (a == 0) and (b != 0):\n",
        "    print(\"pt vo nghiem \")\n",
        "  else: \n",
        "    print(\"pt co nghiem la: \", -b/a)\n",
        "ptbac1()"
      ],
      "execution_count": null,
      "outputs": [
        {
          "output_type": "stream",
          "name": "stdout",
          "text": [
            "nhap a: 2\n",
            "nhap b: 1\n",
            "pt co nghiem la:  -0.5\n"
          ]
        }
      ]
    },
    {
      "cell_type": "markdown",
      "metadata": {
        "id": "BoUbdc-VKLZS"
      },
      "source": [
        "Bài 5: Hãy viết chương trình thực hiện các yêu cầu sau:\n",
        "- Xây dựng hàm giải phương trình bậc (ax2 + bx + c = 0), với hệ số a & b & c được truyền\n",
        "vào qua thông số của hàm.\n",
        "- Chương trình chính nhận các thông số a, b & c từ bàn phím\n",
        "- Chương trình chính gọi hàm giải phương trình bậc 2 nêu trên"
      ]
    },
    {
      "cell_type": "code",
      "metadata": {
        "colab": {
          "base_uri": "https://localhost:8080/"
        },
        "id": "thxTPoQsKOd7",
        "outputId": "2481e1d8-72b3-4eac-b415-9eb355414adb"
      },
      "source": [
        "a = float(input(\"nhap a: \"))\n",
        "b = float(input(\"nhap b: \"))\n",
        "c = float(input(\"nhap c: \"))\n",
        "def ptbac2():\n",
        "  global a\n",
        "  global b\n",
        "  global c\n",
        "  import math \n",
        "  if (a == 0):\n",
        "    if (b == 0) and (c == 0):\n",
        "      print(\"pt co vo so nghiem\")\n",
        "    elif (b == 0) and (c != 0):\n",
        "      print(\"pt vo nghiem \")\n",
        "    else: \n",
        "      print(\"pt co nghiem duy nhat la: \", -c/b)\n",
        "  else: \n",
        "    delta = b*b - 4*a*c\n",
        "    if (delta > 0):\n",
        "      x1 = (-b + math.sqrt(delta)) / (2 * a)\n",
        "      x2 = (-b - math.sqrt(delta)) / (2 * a)\n",
        "      print(\"pt co 2 nghiem phan biet la \", x1,\"va\", x2)\n",
        "    elif (delta == 0):\n",
        "      print(\"pt co nghiem kep la: \", -b/(2*a))\n",
        "    else:\n",
        "      print(\"pt vo nghiem\")\n",
        "ptbac2()\n"
      ],
      "execution_count": null,
      "outputs": [
        {
          "output_type": "stream",
          "name": "stdout",
          "text": [
            "nhap a: 2\n",
            "nhap b: 1\n",
            "nhap c: -2\n",
            "pt co 2 nghiem phan biet la  0.7807764064044151 va -1.2807764064044151\n"
          ]
        }
      ]
    },
    {
      "cell_type": "markdown",
      "metadata": {
        "id": "ldHgHsHUNKOB"
      },
      "source": [
        "Bài 6: Hãy viết chương trình thực hiện các yêu cầu sau:\n",
        "\n",
        "- Cho người dùng lựa chọn giải phương trình bậc 1 hay bậc 2 bằng cách nhập số (1 hay 2)\n",
        "từ bàn phím\n",
        "- Nếu người dùng chọn giải phương trình bậc 1, thì thực hiện các bước như Bài 4\n",
        "- Nếu người dùng chọn giải phương trình bậc 2, thì thực hiện các bước như Bài 5"
      ]
    },
    {
      "cell_type": "code",
      "metadata": {
        "colab": {
          "base_uri": "https://localhost:8080/"
        },
        "id": "GEu5V8QmNKwX",
        "outputId": "ebad5656-367e-4372-c0b7-3891b749a0e0"
      },
      "source": [
        "n = int(input(\"nhap 1 hoac 2: \"))\n",
        "if (n == 1):\n",
        "  a = float(input(\"nhap a: \"))\n",
        "  b = float(input(\"nhap b: \"))\n",
        "  ptbac1()\n",
        "elif (n == 2):\n",
        "  a = float(input(\"nhap a: \"))\n",
        "  b = float(input(\"nhap b: \"))\n",
        "  c = float(input(\"nhap c: \"))\n",
        "  ptbac2()\n",
        "else: \n",
        "  print(\"vui long nhap lai\")"
      ],
      "execution_count": null,
      "outputs": [
        {
          "output_type": "stream",
          "name": "stdout",
          "text": [
            "nhap 1 hoac 2: 2\n",
            "nhap a: 1\n",
            "nhap b: -5\n",
            "nhap c: 2\n",
            "pt co 2 nghiem phan biet la  4.561552812808831 va 0.4384471871911697\n"
          ]
        }
      ]
    },
    {
      "cell_type": "markdown",
      "metadata": {
        "id": "CtNLo2AlOuZ-"
      },
      "source": [
        "Bài 7: Viết chương trình thực hiện các yêu cầu sau:\n",
        "- Thực hiện yêu cầu như bài 6\n",
        "- Sau khi thực hiện xong cho người dùng lựa chọn tiếp tục thực hiện lại hay kết thúc chương\n",
        "trình"
      ]
    },
    {
      "cell_type": "code",
      "metadata": {
        "id": "GrqKo3VlOy9i",
        "colab": {
          "base_uri": "https://localhost:8080/"
        },
        "outputId": "6ecadd11-142e-4ae9-8223-0048e98b6a4a"
      },
      "source": [
        "m = \"tieptuc\"\n",
        "while True:\n",
        "  if m == \"tieptuc\" :\n",
        "     n = int(input(\"nhap 1 hoac 2: \"))\n",
        "     if (n == 1):\n",
        "        a = float(input(\"nhap a: \"))\n",
        "        b = float(input(\"nhap b: \"))\n",
        "        ptbac1()\n",
        "     elif (n == 2):\n",
        "        a = float(input(\"nhap a: \"))\n",
        "        b = float(input(\"nhap b: \"))\n",
        "        c = float(input(\"nhap c: \"))\n",
        "        ptbac2()\n",
        "     else: \n",
        "        print(\"vui long nhap lai\")\n",
        "  elif m == \"ketthuc\" : \n",
        "     break \n",
        "  m = input(\"tieptuc hay ketthuc: \")"
      ],
      "execution_count": null,
      "outputs": [
        {
          "name": "stdout",
          "output_type": "stream",
          "text": [
            "nhap 1 hoac 2: 2\n",
            "nhap a: 1\n",
            "nhap b: -3\n",
            "nhap c: 2\n",
            "pt co 2 nghiem phan biet la  2.0 va 1.0\n",
            "tieptuc hay ketthuc: tieptuc\n",
            "nhap 1 hoac 2: 1\n",
            "nhap a: 2\n",
            "nhap b: -11\n",
            "pt co nghiem la:  5.5\n",
            "tieptuc hay ketthuc: ketthuc\n"
          ]
        }
      ]
    }
  ]
}