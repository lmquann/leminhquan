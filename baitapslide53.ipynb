{
  "nbformat": 4,
  "nbformat_minor": 0,
  "metadata": {
    "colab": {
      "name": "baitapslide53.ipynb",
      "provenance": [],
      "authorship_tag": "ABX9TyOcXtnGZb+ecQrrK06TyJge",
      "include_colab_link": true
    },
    "kernelspec": {
      "name": "python3",
      "display_name": "Python 3"
    },
    "language_info": {
      "name": "python"
    }
  },
  "cells": [
    {
      "cell_type": "markdown",
      "metadata": {
        "id": "view-in-github",
        "colab_type": "text"
      },
      "source": [
        "<a href=\"https://colab.research.google.com/github/lmquann/leminhquan/blob/main/baitapslide53.ipynb\" target=\"_parent\"><img src=\"https://colab.research.google.com/assets/colab-badge.svg\" alt=\"Open In Colab\"/></a>"
      ]
    },
    {
      "cell_type": "code",
      "metadata": {
        "colab": {
          "base_uri": "https://localhost:8080/"
        },
        "id": "hlvIHfLVQIVa",
        "outputId": "5e88b788-ec50-4013-f685-18b9088375cc"
      },
      "source": [
        "import math\n",
        "x1= float(input(\"nhap x1:\"))\n",
        "y1= float(input(\"nhap y1:\"))\n",
        "x2= float(input(\"nhap x2:\"))\n",
        "y2= float(input(\"nhap y2:\"))\n",
        "distance= math.sqrt(((x2-x1)**2)+((y2-y1)**2))\n",
        "print(\"khoang cach giua hai diem la:\", distance)\n",
        "print(\"toa do cua diem 1 la:\", x1, y1)\n",
        "print(\"toa do cua diem 2 la:\", x2, y2)\n"
      ],
      "execution_count": 10,
      "outputs": [
        {
          "output_type": "stream",
          "name": "stdout",
          "text": [
            "nhap x1:3\n",
            "nhap y1:1\n",
            "nhap x2:2\n",
            "nhap y2:2\n",
            "khoang cach giua hai diem la: 1.4142135623730951\n",
            "toa do cua diem 1 la: 3.0 1.0\n",
            "toa do cua diem 2 la: 2.0 2.0\n"
          ]
        }
      ]
    }
  ]
}