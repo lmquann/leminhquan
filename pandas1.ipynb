{
  "nbformat": 4,
  "nbformat_minor": 0,
  "metadata": {
    "colab": {
      "name": "pandas1.ipynb",
      "provenance": [],
      "collapsed_sections": [],
      "authorship_tag": "ABX9TyOH2eqAwNbalPRXEfRvX8At",
      "include_colab_link": true
    },
    "kernelspec": {
      "name": "python3",
      "display_name": "Python 3"
    },
    "language_info": {
      "name": "python"
    }
  },
  "cells": [
    {
      "cell_type": "markdown",
      "metadata": {
        "id": "view-in-github",
        "colab_type": "text"
      },
      "source": [
        "<a href=\"https://colab.research.google.com/github/lmquann/leminhquan/blob/main/pandas1.ipynb\" target=\"_parent\"><img src=\"https://colab.research.google.com/assets/colab-badge.svg\" alt=\"Open In Colab\"/></a>"
      ]
    },
    {
      "cell_type": "code",
      "execution_count": null,
      "metadata": {
        "id": "E9XZ9p6n2srA"
      },
      "outputs": [],
      "source": [
        "import pandas as pd \n",
        "import numpy as np "
      ]
    },
    {
      "cell_type": "markdown",
      "source": [
        "Câu 1: Khởi tạo 1 Series với giá trị rỗng"
      ],
      "metadata": {
        "id": "Wklejpz63Ai0"
      }
    },
    {
      "cell_type": "code",
      "source": [
        "Seris = pd.Series([])\n",
        "print(\"Series rỗng: \\n\", Seris)"
      ],
      "metadata": {
        "colab": {
          "base_uri": "https://localhost:8080/"
        },
        "id": "oEi_qKg43Dqg",
        "outputId": "75ba6052-a154-49c6-fd90-d114382b4b80"
      },
      "execution_count": null,
      "outputs": [
        {
          "output_type": "stream",
          "name": "stdout",
          "text": [
            "Series rỗng: \n",
            " Series([], dtype: float64)\n"
          ]
        },
        {
          "output_type": "stream",
          "name": "stderr",
          "text": [
            "/usr/local/lib/python3.7/dist-packages/ipykernel_launcher.py:1: DeprecationWarning: The default dtype for empty Series will be 'object' instead of 'float64' in a future version. Specify a dtype explicitly to silence this warning.\n",
            "  \"\"\"Entry point for launching an IPython kernel.\n"
          ]
        }
      ]
    },
    {
      "cell_type": "markdown",
      "source": [
        "Câu 2: Giả sử có 1 vector hàng a có kích thước (1x7) được biểu diễn trong NumPy, hãy tạo 1\n",
        "series tương ứng với các giá trị được sinh ngẫu nhiên."
      ],
      "metadata": {
        "id": "zySI9uUA3UUl"
      }
    },
    {
      "cell_type": "code",
      "source": [
        "VectorA = np.random.randint(0,10,7)\n",
        "print(\"Vector A: \\n\", VectorA)\n",
        "\n",
        "SeriesA = pd.Series(VectorA)\n",
        "print(\"Series tương ứng : \\n\", SeriesA)"
      ],
      "metadata": {
        "colab": {
          "base_uri": "https://localhost:8080/"
        },
        "id": "lJFQ3-OB3YAW",
        "outputId": "591925df-e324-49c3-d8e3-e0f23b73a7d8"
      },
      "execution_count": null,
      "outputs": [
        {
          "output_type": "stream",
          "name": "stdout",
          "text": [
            "Vector A: \n",
            " [7 2 6 1 1 9 8]\n",
            "Series tương ứng : \n",
            " 0    7\n",
            "1    2\n",
            "2    6\n",
            "3    1\n",
            "4    1\n",
            "5    9\n",
            "6    8\n",
            "dtype: int64\n"
          ]
        }
      ]
    },
    {
      "cell_type": "markdown",
      "source": [
        "Câu 4: Giả sử có 1 vector cột có kích thước (7x1) được biểu diễn trong NumPy, hãy tạo Series\n",
        "tương ứng."
      ],
      "metadata": {
        "id": "rjNHcHUZ5ZOj"
      }
    },
    {
      "cell_type": "code",
      "source": [
        "VectorA = np.random.randint(0,10,(7,1))\n",
        "print(\"Vector A: \\n\", VectorA)\n",
        "\n",
        "SeriesA = pd.Series(VectorA.reshape(7,))\n",
        "print(\"Series tương ứng : \\n\", SeriesA)"
      ],
      "metadata": {
        "colab": {
          "base_uri": "https://localhost:8080/"
        },
        "id": "oj2SITXS5cLP",
        "outputId": "df16221d-28eb-4662-a7b7-6c466b243881"
      },
      "execution_count": null,
      "outputs": [
        {
          "output_type": "stream",
          "name": "stdout",
          "text": [
            "Vector A: \n",
            " [[5]\n",
            " [9]\n",
            " [6]\n",
            " [7]\n",
            " [7]\n",
            " [0]\n",
            " [0]]\n",
            "Series tương ứng : \n",
            " 0    5\n",
            "1    9\n",
            "2    6\n",
            "3    7\n",
            "4    7\n",
            "5    0\n",
            "6    0\n",
            "dtype: int64\n"
          ]
        }
      ]
    },
    {
      "cell_type": "markdown",
      "source": [
        "Câu 5: Chuyển đổi dữ liệu, hãy thực hiện các yêu cầu sau:\n",
        "- Chuyển 1 list thành 1 series\n",
        "- Chuyển 1 tuple thành 1 series\n",
        "- Chuyển 1 dictionary thành 1 series"
      ],
      "metadata": {
        "id": "TbxdeJFq6_vA"
      }
    },
    {
      "cell_type": "code",
      "source": [
        "onelist= [1,2,3]\n",
        "serieslist = pd.Series(onelist)\n",
        "print(serieslist)\n",
        "\n",
        "\n",
        "onetuple = (\"a\", \"b\", \"c\")\n",
        "seriestuple = pd.Series(onetuple)\n",
        "print(seriestuple)\n",
        "\n",
        "onedict = {\"a\": 1, \"b\": 2, \"c\": 3}\n",
        "seriesdict = pd.Series(onedict)\n",
        "print(seriesdict)"
      ],
      "metadata": {
        "colab": {
          "base_uri": "https://localhost:8080/"
        },
        "id": "3Kq9jOaq7K_c",
        "outputId": "653aa691-51f9-41c0-db5c-72ca2888d693"
      },
      "execution_count": null,
      "outputs": [
        {
          "output_type": "stream",
          "name": "stdout",
          "text": [
            "0    1\n",
            "1    2\n",
            "2    3\n",
            "dtype: int64\n",
            "0    a\n",
            "1    b\n",
            "2    c\n",
            "dtype: object\n",
            "a    1\n",
            "b    2\n",
            "c    3\n",
            "dtype: int64\n"
          ]
        }
      ]
    },
    {
      "cell_type": "markdown",
      "source": [
        "Câu 6: Mỗi phần tử của series đều gắn liền với các chỉ số (index) tương ứng, hãy tạo một series\n",
        "có kích thước (1x20) với giá trị ngẫu nhiên:\n",
        "- Xuất series ra màn hình\n",
        "- Xuất các chỉ số của series ra màn hình\n",
        "- Thay đổi cách đánh chỉ số mặc định của series từ đánh chỉ số bằng số nguyên sang các kiểu\n",
        "đánh chỉ số bằng label và in kết quả ra màn hình\n",
        "Gợi ý:\n",
        "- Hàm loc() dùng cho chỉ số label\n",
        "- Hàm iloc() dùng cho chỉ số đạng số nguyên\n",
        "- Hàm ix(): dùng cho cả 2 loại chỉ số trên"
      ],
      "metadata": {
        "id": "el-jZjbwiEs3"
      }
    },
    {
      "cell_type": "code",
      "source": [
        "mseries= pd.Series(np.random.randint(0,10,20))\n",
        "print(mseries)\n",
        "print(\"Các chỉ số của Series: \\n\", mseries.index)\n"
      ],
      "metadata": {
        "colab": {
          "base_uri": "https://localhost:8080/"
        },
        "id": "k2wiNuO5iJi6",
        "outputId": "9e5b00a0-4cc4-4d54-ad7c-e63ad2a1961b"
      },
      "execution_count": null,
      "outputs": [
        {
          "output_type": "stream",
          "name": "stdout",
          "text": [
            "0     1\n",
            "1     0\n",
            "2     1\n",
            "3     3\n",
            "4     8\n",
            "5     3\n",
            "6     4\n",
            "7     3\n",
            "8     2\n",
            "9     4\n",
            "10    6\n",
            "11    9\n",
            "12    7\n",
            "13    0\n",
            "14    1\n",
            "15    5\n",
            "16    3\n",
            "17    0\n",
            "18    8\n",
            "19    1\n",
            "dtype: int64\n",
            "Các chỉ số của Series: \n",
            " RangeIndex(start=0, stop=20, step=1)\n"
          ]
        }
      ]
    },
    {
      "cell_type": "markdown",
      "source": [
        "Câu 7: Giả sử có series có kích thước (1x10), giá trị ngẫu nhiên, index được đánh từ ‘a’ trở đi,\n",
        "hãy:\n",
        "- Trích xuất các phần tử của Series có chỉ số là ‘a’, ‘c’, ‘e’\n",
        "- Trích xuất các phần tử của Series có chỉ số từ 3 đến 6"
      ],
      "metadata": {
        "id": "NJtGQBufjZKy"
      }
    },
    {
      "cell_type": "code",
      "source": [
        ""
      ],
      "metadata": {
        "id": "7je29kwIwrT2"
      },
      "execution_count": null,
      "outputs": []
    }
  ]
}