{
  "nbformat": 4,
  "nbformat_minor": 0,
  "metadata": {
    "colab": {
      "name": "btset.ipynb",
      "provenance": [],
      "authorship_tag": "ABX9TyOF7zfoMKqpiLErLVDnLVw5",
      "include_colab_link": true
    },
    "kernelspec": {
      "name": "python3",
      "display_name": "Python 3"
    },
    "language_info": {
      "name": "python"
    }
  },
  "cells": [
    {
      "cell_type": "markdown",
      "metadata": {
        "id": "view-in-github",
        "colab_type": "text"
      },
      "source": [
        "<a href=\"https://colab.research.google.com/github/lmquann/leminhquan/blob/main/btset.ipynb\" target=\"_parent\"><img src=\"https://colab.research.google.com/assets/colab-badge.svg\" alt=\"Open In Colab\"/></a>"
      ]
    },
    {
      "cell_type": "code",
      "metadata": {
        "colab": {
          "base_uri": "https://localhost:8080/"
        },
        "id": "1J1gA75_LUaH",
        "outputId": "abe0a5a3-6572-4ddf-993d-13f35dd1c3b5"
      },
      "source": [
        "Set = set([\"a\", \"b\", \"c\"])\n",
        "print(\"Set: \")\n",
        "print(Set)\n",
        "Set.add(\"d\")\n",
        "print(\"\\nSet after adding: \")\n",
        "print(Set)\n",
        "people = {\"Jay\", \"Idrish\", \"Archi\"}\n",
        "print(\"People: \")\n",
        "print(people)\n",
        "people.add(\"Daxit\")\n",
        "print(\"\\nSet after adding element:\", end = \" \")\n",
        "print(people)\n",
        "Days=set([\"Mon\",\"Tue\",\"Wed\",\"Thu\",\"Fri\",\"Sat\"])\n",
        "Days.discard(\"Sat\")\n",
        "print(Days)"
      ],
      "execution_count": 24,
      "outputs": [
        {
          "output_type": "stream",
          "name": "stdout",
          "text": [
            "Set: \n",
            "{'b', 'a', 'c'}\n",
            "\n",
            "Set after adding: \n",
            "{'b', 'd', 'a', 'c'}\n",
            "People: \n",
            "{'Archi', 'Idrish', 'Jay'}\n",
            "\n",
            "Set after adding element: {'Archi', 'Daxit', 'Idrish', 'Jay'}\n",
            "{'Tue', 'Fri', 'Wed', 'Mon', 'Thu'}\n"
          ]
        }
      ]
    }
  ]
}