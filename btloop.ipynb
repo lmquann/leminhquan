{
  "nbformat": 4,
  "nbformat_minor": 0,
  "metadata": {
    "colab": {
      "name": "btloop.ipynb",
      "provenance": [],
      "authorship_tag": "ABX9TyNmEZCxlaVEtUfWkJMLMo1C",
      "include_colab_link": true
    },
    "kernelspec": {
      "name": "python3",
      "display_name": "Python 3"
    },
    "language_info": {
      "name": "python"
    }
  },
  "cells": [
    {
      "cell_type": "markdown",
      "metadata": {
        "id": "view-in-github",
        "colab_type": "text"
      },
      "source": [
        "<a href=\"https://colab.research.google.com/github/lmquann/leminhquan/blob/main/btloop.ipynb\" target=\"_parent\"><img src=\"https://colab.research.google.com/assets/colab-badge.svg\" alt=\"Open In Colab\"/></a>"
      ]
    },
    {
      "cell_type": "code",
      "metadata": {
        "colab": {
          "base_uri": "https://localhost:8080/"
        },
        "id": "Gx2XNGEQMKT1",
        "outputId": "af0e21d7-770f-4e38-defb-8897caf51595"
      },
      "source": [
        "#1\n",
        "i = 0\n",
        "while(i < 10):\n",
        "    print(i)\n",
        "    i = i + 1"
      ],
      "execution_count": 31,
      "outputs": [
        {
          "output_type": "stream",
          "name": "stdout",
          "text": [
            "0\n",
            "1\n",
            "2\n",
            "3\n",
            "4\n",
            "5\n",
            "6\n",
            "7\n",
            "8\n",
            "9\n"
          ]
        }
      ]
    },
    {
      "cell_type": "code",
      "metadata": {
        "colab": {
          "base_uri": "https://localhost:8080/"
        },
        "id": "C6soy4Z6Mp9O",
        "outputId": "e206a40a-241a-4eb8-b760-7486ce4af88d"
      },
      "source": [
        "#2\n",
        "num = 5\n",
        "for i in range(num, 0, -1):\n",
        "  for j in range(i, 0, -1):\n",
        "    print(j, end=' ')\n",
        "  print()"
      ],
      "execution_count": 52,
      "outputs": [
        {
          "output_type": "stream",
          "name": "stdout",
          "text": [
            "5 4 3 2 1 \n",
            "4 3 2 1 \n",
            "3 2 1 \n",
            "2 1 \n",
            "1 \n"
          ]
        }
      ]
    },
    {
      "cell_type": "code",
      "metadata": {
        "colab": {
          "base_uri": "https://localhost:8080/"
        },
        "id": "fcC9F9JINwg6",
        "outputId": "c350a301-8496-4523-8984-b3e58f9c6d83"
      },
      "source": [
        "#3\n",
        "number = float(input(\"type a number: \"))\n",
        "i = 1\n",
        "s = 0\n",
        "while (i <= number):\n",
        "  s = s + i\n",
        "  i = i + 1 \n",
        "print(s)"
      ],
      "execution_count": 6,
      "outputs": [
        {
          "output_type": "stream",
          "name": "stdout",
          "text": [
            "type a number: 100\n",
            "5050\n"
          ]
        }
      ]
    },
    {
      "cell_type": "code",
      "metadata": {
        "colab": {
          "base_uri": "https://localhost:8080/"
        },
        "id": "TZYuesUFOhDc",
        "outputId": "1de44118-213f-48e9-d3b2-573e5303f408"
      },
      "source": [
        "#4\n",
        "num = int(input(\" type a number: \"))\n",
        "i = 1\n",
        "while (i <= 10):\n",
        "    print(num, \"x\", i, \"=\", i*num)\n",
        "    i = i + 1\n",
        "\n",
        "\n"
      ],
      "execution_count": 13,
      "outputs": [
        {
          "output_type": "stream",
          "name": "stdout",
          "text": [
            " type a number: 8\n",
            "8 x 1 = 8\n",
            "8 x 2 = 16\n",
            "8 x 3 = 24\n",
            "8 x 4 = 32\n",
            "8 x 5 = 40\n",
            "8 x 6 = 48\n",
            "8 x 7 = 56\n",
            "8 x 8 = 64\n",
            "8 x 9 = 72\n",
            "8 x 10 = 80\n"
          ]
        }
      ]
    },
    {
      "cell_type": "code",
      "metadata": {
        "colab": {
          "base_uri": "https://localhost:8080/"
        },
        "id": "ozGJIYM3QUQX",
        "outputId": "6d14cd06-8adb-4bb1-9ba4-a13e28b5fea5"
      },
      "source": [
        "#5\n",
        "for num in [1, 2, 3, 4, 5]:\n",
        "  print(num)"
      ],
      "execution_count": 14,
      "outputs": [
        {
          "output_type": "stream",
          "name": "stdout",
          "text": [
            "1\n",
            "2\n",
            "3\n",
            "4\n",
            "5\n"
          ]
        }
      ]
    },
    {
      "cell_type": "code",
      "metadata": {
        "colab": {
          "base_uri": "https://localhost:8080/"
        },
        "id": "YSStiq5hRlVL",
        "outputId": "f670586b-2cf5-4f32-ee07-8b194a230274"
      },
      "source": [
        "#6\n",
        "n = int(input(\"type a number : \"))\n",
        "count = 0\n",
        "while (n != 0):\n",
        "  n = int(n/10)\n",
        "  count = count + 1\n",
        "print(\"Number of digits : \",count)\n"
      ],
      "execution_count": 15,
      "outputs": [
        {
          "output_type": "stream",
          "name": "stdout",
          "text": [
            "type a number : 36472\n",
            "Number of digits :  5\n"
          ]
        }
      ]
    },
    {
      "cell_type": "code",
      "metadata": {
        "colab": {
          "base_uri": "https://localhost:8080/"
        },
        "id": "n-8OaT06R6Uj",
        "outputId": "32d1096c-36ea-4b60-b41f-ab381912c96d"
      },
      "source": [
        "#7\n",
        "list = ['one','two','three','ten','five']\n",
        "i = len(list) - 1\n",
        "while (i>=0):\n",
        "  print(list[i])\n",
        "  i = i - 1"
      ],
      "execution_count": 18,
      "outputs": [
        {
          "output_type": "stream",
          "name": "stdout",
          "text": [
            "five\n",
            "ten\n",
            "three\n",
            "two\n",
            "one\n"
          ]
        }
      ]
    },
    {
      "cell_type": "code",
      "metadata": {
        "colab": {
          "base_uri": "https://localhost:8080/"
        },
        "id": "yafqRLL_S9oF",
        "outputId": "758a0222-6b83-4c85-cfab-9395e2507827"
      },
      "source": [
        "#8\n",
        "i = -10\n",
        "while (i < 0):\n",
        "  print(i)\n",
        "  i = i + 1"
      ],
      "execution_count": 19,
      "outputs": [
        {
          "output_type": "stream",
          "name": "stdout",
          "text": [
            "-10\n",
            "-9\n",
            "-8\n",
            "-7\n",
            "-6\n",
            "-5\n",
            "-4\n",
            "-3\n",
            "-2\n",
            "-1\n"
          ]
        }
      ]
    },
    {
      "cell_type": "code",
      "metadata": {
        "colab": {
          "base_uri": "https://localhost:8080/"
        },
        "id": "twKutVSATP1F",
        "outputId": "1c789f1a-3549-4c64-8e76-abbf0bf9e353"
      },
      "source": [
        "#10\n",
        "x = int(input(\"type the start number: \"))\n",
        "y = int(input(\"type the end number: \"))\n",
        "for i in range(x,y+1):\n",
        "  if i > 1:\n",
        "    for j in range(2,i):\n",
        "      if (i % j == 0):\n",
        "        break\n",
        "    else:\n",
        "       print(i)"
      ],
      "execution_count": 47,
      "outputs": [
        {
          "output_type": "stream",
          "name": "stdout",
          "text": [
            "type the start number: 2\n",
            "type the end number: 5\n",
            "2\n",
            "3\n",
            "5\n"
          ]
        }
      ]
    },
    {
      "cell_type": "code",
      "metadata": {
        "colab": {
          "base_uri": "https://localhost:8080/"
        },
        "id": "2XQ7lboTgJQU",
        "outputId": "36b18ed7-ed31-4356-f060-631058c26837"
      },
      "source": [
        "#11\n",
        "Fibo = int(input(\"type value: \"))\n",
        "x = 0\n",
        "y = 1\n",
        "sum = 0\n",
        "count = 1\n",
        "print(\"Day Fibo la: \", end = \" \")\n",
        "while(count <= Fibo):\n",
        "  print(sum, end = \" \")\n",
        "  count += 1\n",
        "  x = y\n",
        "  y = sum\n",
        "  sum = x + y\n"
      ],
      "execution_count": 55,
      "outputs": [
        {
          "output_type": "stream",
          "name": "stdout",
          "text": [
            "type value: 11\n",
            "Day Fibo la:  0 1 1 2 3 5 8 13 21 34 55 "
          ]
        }
      ]
    },
    {
      "cell_type": "code",
      "metadata": {
        "colab": {
          "base_uri": "https://localhost:8080/"
        },
        "id": "k47NH-LLXfLq",
        "outputId": "b7d6cff4-9ece-446d-ae41-19a0dcda3c0e"
      },
      "source": [
        "#12\n",
        "num = int(input(\"type number: \"))\n",
        "fac = 1\n",
        "i = 1\n",
        "if num < 0:\n",
        "   print(\"negative number\")\n",
        "elif num == 0:\n",
        "   print(\"The factorial of 0 is 1\")\n",
        "else:\n",
        "   while (i <= num):\n",
        "       fac = fac*i\n",
        "       i = i + 1\n",
        "   print(\"The factorial of\",num,\"is: \",fac)"
      ],
      "execution_count": 53,
      "outputs": [
        {
          "output_type": "stream",
          "name": "stdout",
          "text": [
            "type number: 21\n",
            "The factorial of 21 is:  51090942171709440000\n"
          ]
        }
      ]
    },
    {
      "cell_type": "code",
      "metadata": {
        "colab": {
          "base_uri": "https://localhost:8080/"
        },
        "id": "BAKVq8fCYbee",
        "outputId": "c16561c4-dd7e-4f94-c13f-9420aada0b29"
      },
      "source": [
        "#13\n",
        "x = int(input(\"type number: \"))\n",
        "rev = 0\n",
        "while (x > 0):\n",
        "    a = x % 10\n",
        "    rev = rev * 10 + a\n",
        "    x = x // 10\n",
        "print(rev)"
      ],
      "execution_count": 38,
      "outputs": [
        {
          "output_type": "stream",
          "name": "stdout",
          "text": [
            "type number: 12340\n",
            "4321\n"
          ]
        }
      ]
    },
    {
      "cell_type": "code",
      "metadata": {
        "colab": {
          "base_uri": "https://localhost:8080/"
        },
        "id": "CHKCb99FaBxE",
        "outputId": "53dd99d3-29e6-4bfa-c3de-f8b00cbdde21"
      },
      "source": [
        "#14\n",
        "list = [1, 2, 3, 4, 5,'one','thi','ca']    \n",
        "print(\"Elements from a given list at odd index position: \");    \n",
        "for i in range(0, len(list), 2):    \n",
        "    print(list[i]);     "
      ],
      "execution_count": 48,
      "outputs": [
        {
          "output_type": "stream",
          "name": "stdout",
          "text": [
            "Elements from a given list at odd index position: \n",
            "1\n",
            "3\n",
            "5\n",
            "thi\n"
          ]
        }
      ]
    },
    {
      "cell_type": "code",
      "metadata": {
        "colab": {
          "base_uri": "https://localhost:8080/"
        },
        "id": "-WZbxs56clRi",
        "outputId": "f79ce0b8-9fce-48e6-f9a4-c09f833eb921"
      },
      "source": [
        "#15\n",
        "num = int(input(\"type number: \"))\n",
        "cubenum = 0\n",
        "for i  in range(0, num + 1) :\n",
        "  cubenum = i*i*i\n",
        "print(cubenum)"
      ],
      "execution_count": 57,
      "outputs": [
        {
          "output_type": "stream",
          "name": "stdout",
          "text": [
            "type number: 12\n",
            "1728\n"
          ]
        }
      ]
    }
  ]
}