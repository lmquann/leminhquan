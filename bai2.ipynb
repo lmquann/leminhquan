{
  "nbformat": 4,
  "nbformat_minor": 0,
  "metadata": {
    "colab": {
      "name": "bai2.ipynb",
      "provenance": [],
      "authorship_tag": "ABX9TyO2QPJpbHL1luyHc4yhn59V",
      "include_colab_link": true
    },
    "kernelspec": {
      "name": "python3",
      "display_name": "Python 3"
    },
    "language_info": {
      "name": "python"
    }
  },
  "cells": [
    {
      "cell_type": "markdown",
      "metadata": {
        "id": "view-in-github",
        "colab_type": "text"
      },
      "source": [
        "<a href=\"https://colab.research.google.com/github/lmquann/leminhquan/blob/main/bai2.ipynb\" target=\"_parent\"><img src=\"https://colab.research.google.com/assets/colab-badge.svg\" alt=\"Open In Colab\"/></a>"
      ]
    },
    {
      "cell_type": "code",
      "metadata": {
        "colab": {
          "base_uri": "https://localhost:8080/"
        },
        "id": "x1icZuj2qBqZ",
        "outputId": "2f98bf9a-6fa4-407e-8d23-72f1a69c3c8d"
      },
      "source": [
        "a= float(input(\"nhap a: \"))\n",
        "b= float(input(\"nhap b: \"))\n",
        "tong= a+b\n",
        "tich= a*b\n",
        "hieu= a-b\n",
        "thuong= a/b\n",
        "print(\"tong cua hai so la: \", tong)\n",
        "print(\"hieu cua hai so la: \", hieu)\n",
        "print(\"tich cua hai so la: \", tich)\n",
        "print(\"thuong cua hai so la: \", thuong)\n"
      ],
      "execution_count": 5,
      "outputs": [
        {
          "output_type": "stream",
          "name": "stdout",
          "text": [
            "nhap a: 3.4\n",
            "nhap b: 2\n",
            "tong cua hai so la:  5.4\n",
            "hieu cua hai so la:  1.4\n",
            "tich cua hai so la:  6.8\n",
            "thuong cua hai so la:  1.7\n"
          ]
        }
      ]
    }
  ]
}