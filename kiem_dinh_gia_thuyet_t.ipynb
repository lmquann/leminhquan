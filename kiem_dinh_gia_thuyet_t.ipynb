{
  "nbformat": 4,
  "nbformat_minor": 0,
  "metadata": {
    "colab": {
      "name": "kiem-dinh-gia-thuyet-t.ipynb",
      "provenance": [],
      "authorship_tag": "ABX9TyOBY0KTItT4hiXEIV6RIXK6",
      "include_colab_link": true
    },
    "kernelspec": {
      "name": "python3",
      "display_name": "Python 3"
    },
    "language_info": {
      "name": "python"
    }
  },
  "cells": [
    {
      "cell_type": "markdown",
      "metadata": {
        "id": "view-in-github",
        "colab_type": "text"
      },
      "source": [
        "<a href=\"https://colab.research.google.com/github/lmquann/leminhquan/blob/main/kiem_dinh_gia_thuyet_t.ipynb\" target=\"_parent\"><img src=\"https://colab.research.google.com/assets/colab-badge.svg\" alt=\"Open In Colab\"/></a>"
      ]
    },
    {
      "cell_type": "code",
      "execution_count": 1,
      "metadata": {
        "colab": {
          "base_uri": "https://localhost:8080/"
        },
        "id": "_fxzd40i2w-S",
        "outputId": "51aa6ebe-1afb-48f2-9cf3-f252c692b730"
      },
      "outputs": [
        {
          "output_type": "stream",
          "name": "stderr",
          "text": [
            "/usr/local/lib/python3.7/dist-packages/statsmodels/tools/_testing.py:19: FutureWarning: pandas.util.testing is deprecated. Use the functions in the public API at pandas.testing instead.\n",
            "  import pandas.util.testing as tm\n"
          ]
        }
      ],
      "source": [
        "import numpy as np\n",
        "import pandas as pd\n",
        "import random\n",
        "from scipy import stats\n",
        "from statsmodels.stats.weightstats import ztest\n",
        "import warnings\n",
        "import matplotlib.pyplot as plt\n",
        "import seaborn as sns\n",
        "%matplotlib inline"
      ]
    },
    {
      "cell_type": "code",
      "source": [
        "#Định dạng hình ảnh\n",
        "sns.set(rc={'figure.figsize':(13, 7.5)})\n",
        "sns.set_context('talk')"
      ],
      "metadata": {
        "id": "L0BybMJt3ALt"
      },
      "execution_count": 2,
      "outputs": []
    },
    {
      "cell_type": "code",
      "execution_count": 3,
      "metadata": {
        "id": "I0Jfwt9W2gCT"
      },
      "outputs": [],
      "source": [
        "#Tắt cảnh báo\n",
        "warnings.filterwarnings('ignore')"
      ]
    },
    {
      "cell_type": "markdown",
      "source": [
        "**KIỂM ĐỊNH GIẢ THUYẾT MỘT ĐUÔI**\n",
        "\n",
        "Bài toán: Cân thử 15 con gà tây ở 1 trại chăn nuôi khi xuất chuồng ta tính được $\\overline{\\rm x} = 3.62kg$. Cho biết σ = 0.1. Giám đốc trại tuyên bố trọng lương trung bình của gà tây là 3, 5kg thì có tin được không với mức ý nghĩa α =1%.\n",
        "\n",
        "Xây dựng giả thuyết\n",
        "\n",
        "$$H_{0}: \\mu = 3.5kg$$\n",
        "Giả thuyết thay thế:\n",
        "\n",
        "$$H_{a}: \\mu \\neq 3.5kg $$\n",
        "Giải:\n",
        "\n",
        "Với:\n",
        "\n",
        "sig = 0.01\n",
        "chỉ số t tương ứng = 2.58\n",
        "Công thức:$$Z = \\frac{(\\overline{\\rm X} - \\mu)}{(\\sigma / \\sqrt{n})}$$\n",
        "\n",
        "Áp dụng với các giá trị nêu trên:\n",
        "\n",
        "$\\overline{\\rm x} = 3.62kg$\n",
        "$\\mu = 3.5$\n",
        "$\\sigma = 0.1$\n",
        "$n = 15$\n",
        "$\\alpha = 0.01$\n",
        "$$t = \\frac{(3.62 - 3.5)}{(0.1 / \\sqrt{15})} = 4.6$$\n",
        "Giá trị t = 4.6 > 2.58 nên có bằng chứng để bác bỏ giả thuyết $H_{0}$\n",
        "\n"
      ],
      "metadata": {
        "id": "hsEopWHn6Gi6"
      }
    },
    {
      "cell_type": "markdown",
      "source": [
        "Lập trình Python cho bài toán nêu trên "
      ],
      "metadata": {
        "id": "afi0XkJ-9yCR"
      }
    },
    {
      "cell_type": "code",
      "source": [
        "#Sinh ngẫu nhiên một mẫu 15 phần tử có trung bình mẫu là 3.62, độ lệch chuẩn là 0.1\n",
        "sample1 = np.random.normal(3.62, 0.1, 15)\n",
        "print(sample1)"
      ],
      "metadata": {
        "colab": {
          "base_uri": "https://localhost:8080/"
        },
        "id": "RD8TgsOx92Wn",
        "outputId": "8f710da8-68c2-42ae-83e3-bbf30a2636bf"
      },
      "execution_count": 5,
      "outputs": [
        {
          "output_type": "stream",
          "name": "stdout",
          "text": [
            "[3.50126999 3.63087087 3.50326013 3.37725923 3.70127953 3.51814494\n",
            " 3.59406269 3.53124868 3.33227092 3.42035276 3.78150191 3.70984701\n",
            " 3.65150302 3.64631632 3.58691253]\n"
          ]
        }
      ]
    },
    {
      "cell_type": "code",
      "source": [
        "#Xác định các thông số\n",
        "null_mean = 3.5\n",
        "alpha = 0.01"
      ],
      "metadata": {
        "id": "0kZYdhOV985-"
      },
      "execution_count": 6,
      "outputs": []
    },
    {
      "cell_type": "code",
      "source": [
        "#Kiểm định t\n",
        "import statsmodels\n",
        "ttest, p_value = stats.ttest_1samp(sample1, null_mean)\n",
        "print('t = ', ttest, '; p = ', p_value)\n",
        "if(p_value <  alpha):\n",
        "  print(\"Có bằng chứng để bác bỏ giả thuyết H0\")\n",
        "else:\n",
        "  print(\"Chưa có bằng chứng để bác bỏ giả thuyết H0\")"
      ],
      "metadata": {
        "colab": {
          "base_uri": "https://localhost:8080/"
        },
        "id": "-0z6R6lq-GEm",
        "outputId": "6cf04072-0d5a-446e-961d-ab28abaffca8"
      },
      "execution_count": 7,
      "outputs": [
        {
          "output_type": "stream",
          "name": "stdout",
          "text": [
            "t =  1.9963753814060436 ; p =  0.06572064817468933\n",
            "Chưa có bằng chứng để bác bỏ giả thuyết H0\n"
          ]
        }
      ]
    },
    {
      "cell_type": "markdown",
      "source": [
        "**KIỂM ĐỊNH GIẢ THUYẾT HAI ĐUÔI**\n",
        "\n",
        "Một cách tổng quát, giả sử chúng ta có 2 quần thể độc lập và tuân theo phân phối chuẩn. Lấy ra 2 mẫu ngẫu nhiên tử 2 quần thể này.\n",
        "\n",
        "Xây dựng giả thuyết:\n",
        "\n",
        "$$H_{0}: \\mu_{1} = \\mu_{2}$$\n",
        "Giả thuyết thay thế:\n",
        "\n",
        "$$H_{a}: \\mu_{1} \\neq \\mu_{2}$$\n",
        "Thực hiện kiểm định t và so sánh với giá trị $t_{\\frac{\\alpha}{2}}$ để đi đến kết luận cuối cùng.\n",
        "\n",
        "Bài Toán: Đo đường kính 20 trục máy do máy I sản xuất và 22 trục máy do máy II sản xuất ta tính được $\\overline{\\rm x_{1}} =251$, 7; $s_{1}$ = 52, 853 và $\\overline{\\rm x_{2}} =249.8$; $s_{1}$ = 56.2. Mức ý nghĩa 1%."
      ],
      "metadata": {
        "id": "4jtlqesu-LC1"
      }
    },
    {
      "cell_type": "code",
      "source": [
        "#Lập trình python minh họa\n",
        "#Sinh ngẫu nhiên sample 1 có 20 phần tử với mean = 251, std có hiệu chỉnh = 52,853\n",
        "samples_1 = np.random.normal(251, 52.853, 20)\n",
        "print(samples_1)"
      ],
      "metadata": {
        "colab": {
          "base_uri": "https://localhost:8080/"
        },
        "id": "x-8Q7pUY-Wld",
        "outputId": "5e3c3665-b457-4bcd-bd41-3c9de02c14da"
      },
      "execution_count": 8,
      "outputs": [
        {
          "output_type": "stream",
          "name": "stdout",
          "text": [
            "[251.79386841 250.25063812 235.46567626 267.36100023 160.69156722\n",
            " 283.75115554 249.25583765 261.97056581 229.18009067 224.71716566\n",
            " 266.18725039 240.09113902 164.39438735 176.97405878 200.11399156\n",
            " 288.04198748 311.35156153 249.07224904 241.56591561 307.71685726]\n"
          ]
        }
      ]
    },
    {
      "cell_type": "code",
      "source": [
        "#Sinh ngẫu nhiên sample 2 có 22 phần tử với mean = 249.2 std = 56.2\n",
        "samples_2 = np.random.normal(249.2, 56.2, 22)\n",
        "print(samples_2)"
      ],
      "metadata": {
        "colab": {
          "base_uri": "https://localhost:8080/"
        },
        "id": "zU2CM5OY-cSn",
        "outputId": "e6dc7fff-14d4-4214-a470-462b51d4dbef"
      },
      "execution_count": 9,
      "outputs": [
        {
          "output_type": "stream",
          "name": "stdout",
          "text": [
            "[211.98091613 146.73420066 323.51309293 293.00490552 276.36225152\n",
            " 229.64961051 288.24387593 310.99760384 268.25176473 127.91429321\n",
            " 262.69606822 339.58819933 230.74121092 224.1002823  242.00937898\n",
            " 188.7286487  265.11848482 176.27842742 231.70162639 240.62544533\n",
            " 333.74043521 188.95304483]\n"
          ]
        }
      ]
    },
    {
      "cell_type": "code",
      "source": [
        "#Kiểm định giả thuyết\n",
        "#T-test cho phương tiện của hai mẫu độc lập từ thống kê mô tả. Từ bài toán trên\n",
        "alpha1 = 0.01\n",
        "ttest_score, p_value = stats.ttest_ind_from_stats(mean1 = 251, mean2 = 249.2, std1 = 52.853, std2 = 56.2, nobs1 = 20, nobs2 = 22)\n",
        "print('t = ', ttest_score, '; p = ', p_value)\n",
        "if(p_value <  alpha1):\n",
        "  print(\"Có bằng chứng để bác bỏ giả thuyết H0\")\n",
        "else:\n",
        "  print(\"Chưa có bằng chứng để bác bỏ giả thuyết H0\")"
      ],
      "metadata": {
        "colab": {
          "base_uri": "https://localhost:8080/"
        },
        "id": "f7OfapWE-jXc",
        "outputId": "d8ed56ee-f34c-4bc1-a347-4c3946dcc0c6"
      },
      "execution_count": 10,
      "outputs": [
        {
          "output_type": "stream",
          "name": "stdout",
          "text": [
            "t =  0.10663439652131487 ; p =  0.9156120538802968\n",
            "Chưa có bằng chứng để bác bỏ giả thuyết H0\n"
          ]
        }
      ]
    },
    {
      "cell_type": "code",
      "source": [
        "#Kiểm định giả thuyết:\n",
        "#Tính toán kiểm tra T cho giá trị trung bình của hai mẫu điểm độc lập . \n",
        "alpha1 = 0.01\n",
        "ttest_score1, p_value1 = stats.ttest_ind(samples_1, samples_2, axis=0, equal_var=True, nan_policy='propagate')\n",
        "print('t_score = ', ttest_score1, '; p_value = ', p_value1)\n",
        "if(p_value <  alpha1):\n",
        "  print(\"Có bằng chứng để bác bỏ giả thuyết H0\")\n",
        "else:\n",
        "  print(\"Chưa có bằng chứng để bác bỏ giả thuyết H0\")"
      ],
      "metadata": {
        "id": "nq3UPNb3-1VZ",
        "outputId": "d9cce304-ff24-4b76-f240-98fad4f9d384",
        "colab": {
          "base_uri": "https://localhost:8080/"
        }
      },
      "execution_count": 11,
      "outputs": [
        {
          "output_type": "stream",
          "name": "stdout",
          "text": [
            "t_score =  -0.15843268878351044 ; p_value =  0.8749130365053599\n",
            "Chưa có bằng chứng để bác bỏ giả thuyết H0\n"
          ]
        }
      ]
    }
  ]
}