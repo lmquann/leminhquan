{
  "nbformat": 4,
  "nbformat_minor": 0,
  "metadata": {
    "colab": {
      "provenance": [],
      "authorship_tag": "ABX9TyNbsCthJFsGBVnzrjclFoJg",
      "include_colab_link": true
    },
    "kernelspec": {
      "name": "python3",
      "display_name": "Python 3"
    },
    "language_info": {
      "name": "python"
    }
  },
  "cells": [
    {
      "cell_type": "markdown",
      "metadata": {
        "id": "view-in-github",
        "colab_type": "text"
      },
      "source": [
        "<a href=\"https://colab.research.google.com/github/lmquann/leminhquan/blob/main/24_9_gradient_descent.ipynb\" target=\"_parent\"><img src=\"https://colab.research.google.com/assets/colab-badge.svg\" alt=\"Open In Colab\"/></a>"
      ]
    },
    {
      "cell_type": "code",
      "execution_count": 1,
      "metadata": {
        "id": "Uk2A8qqjDIds"
      },
      "outputs": [],
      "source": [
        "import os\n",
        "import numpy as np\n",
        "from matplotlib import pyplot as plt"
      ]
    },
    {
      "cell_type": "code",
      "source": [
        "def gradientDescent(X, y, w, alpha, n):\n",
        "    m = y.shape[0]\n",
        "    J_history = []\n",
        "    w_optimal = w.copy()\n",
        "    print('w_optimal shape: ', w_optimal.shape)\n",
        "    for i in range(n):\n",
        "        w_optimal = w_optimal - (alpha/m)*(np.dot(X, w_optimal) - y).dot(X)\n",
        "        J_history.append(computeLoss(X, y, w_optimal))\n",
        "    return w_optimal, J_history"
      ],
      "metadata": {
        "id": "7GpELOWLDQSp"
      },
      "execution_count": 2,
      "outputs": []
    }
  ]
}