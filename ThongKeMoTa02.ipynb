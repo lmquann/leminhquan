{
  "nbformat": 4,
  "nbformat_minor": 0,
  "metadata": {
    "colab": {
      "name": "ThongKeMoTa02.ipynb",
      "provenance": [],
      "authorship_tag": "ABX9TyNPuslE24q3EEkNe5MoT2Nj",
      "include_colab_link": true
    },
    "kernelspec": {
      "name": "python3",
      "display_name": "Python 3"
    },
    "language_info": {
      "name": "python"
    }
  },
  "cells": [
    {
      "cell_type": "markdown",
      "metadata": {
        "id": "view-in-github",
        "colab_type": "text"
      },
      "source": [
        "<a href=\"https://colab.research.google.com/github/lmquann/leminhquan/blob/main/ThongKeMoTa02.ipynb\" target=\"_parent\"><img src=\"https://colab.research.google.com/assets/colab-badge.svg\" alt=\"Open In Colab\"/></a>"
      ]
    },
    {
      "cell_type": "code",
      "source": [
        "import pandas as pd \n",
        "from scipy import stats\n",
        "import numpy as np\n",
        "import matplotlib.pyplot as plt\n"
      ],
      "metadata": {
        "id": "Hdar9XUBrNKs"
      },
      "execution_count": 2,
      "outputs": []
    },
    {
      "cell_type": "markdown",
      "source": [
        "Để tính giá trị trung bình và giá trị trung vị trong Python, chúng ta có thể sử dụng các hàm pandas của data frame. Giá trị trung bình được tính bằng hàm trim_mean trong scipy.stats:"
      ],
      "metadata": {
        "id": "9l1hws9MsnRK"
      }
    },
    {
      "cell_type": "code",
      "execution_count": 3,
      "metadata": {
        "colab": {
          "base_uri": "https://localhost:8080/"
        },
        "id": "IhHfXcNWpvzp",
        "outputId": "2aef3492-68ff-4b42-e16f-a353f6699c5e"
      },
      "outputs": [
        {
          "output_type": "execute_result",
          "data": {
            "text/plain": [
              "4436369.5"
            ]
          },
          "metadata": {},
          "execution_count": 3
        }
      ],
      "source": [
        "state = pd.read_csv('/state.csv')\n",
        "state['Population'].mean()   #Tính giá trị trung bình cột population \n",
        "stats.trim_mean(state['Population'], 0.1)\n",
        "state['Population'].median()   #Tính giá trị trung vị cột Population"
      ]
    },
    {
      "cell_type": "markdown",
      "source": [
        "Vẽ boxplot"
      ],
      "metadata": {
        "id": "bfNa2l2dfH8M"
      }
    },
    {
      "cell_type": "code",
      "source": [
        "ax = (state['Population']/1_000_000).plot.box()\n",
        "ax.set_ylabel('Population (millions)')"
      ],
      "metadata": {
        "colab": {
          "base_uri": "https://localhost:8080/",
          "height": 282
        },
        "id": "ETqH30KUuie0",
        "outputId": "b00f6b88-b70f-4d57-d388-52bb7a0f21fa"
      },
      "execution_count": 9,
      "outputs": [
        {
          "output_type": "execute_result",
          "data": {
            "text/plain": [
              "Text(0, 0.5, 'Population (millions)')"
            ]
          },
          "metadata": {},
          "execution_count": 9
        },
        {
          "output_type": "display_data",
          "data": {
            "text/plain": [
              "<Figure size 432x288 with 1 Axes>"
            ],
            "image/png": "[encoded data removed]"
          },
          "metadata": {
            "needs_background": "light"
          }
        }
      ]
    },
    {
      "cell_type": "markdown",
      "source": [
        "Bảng phân phối tần số"
      ],
      "metadata": {
        "id": "4R_REZBofPst"
      }
    },
    {
      "cell_type": "code",
      "source": [
        "binnedPopulation = pd.cut(state['Population'], 10)\n",
        "binnedPopulation.value_counts()"
      ],
      "metadata": {
        "colab": {
          "base_uri": "https://localhost:8080/"
        },
        "id": "rsnFyH2svMc2",
        "outputId": "de831f30-f8ca-486b-bc0b-6de1505220f6"
      },
      "execution_count": 10,
      "outputs": [
        {
          "output_type": "execute_result",
          "data": {
            "text/plain": [
              "(526935.67, 4232659.0]      24\n",
              "(4232659.0, 7901692.0]      14\n",
              "(7901692.0, 11570725.0]      6\n",
              "(11570725.0, 15239758.0]     2\n",
              "(15239758.0, 18908791.0]     1\n",
              "(18908791.0, 22577824.0]     1\n",
              "(22577824.0, 26246857.0]     1\n",
              "(33584923.0, 37253956.0]     1\n",
              "(26246857.0, 29915890.0]     0\n",
              "(29915890.0, 33584923.0]     0\n",
              "Name: Population, dtype: int64"
            ]
          },
          "metadata": {},
          "execution_count": 10
        }
      ]
    },
    {
      "cell_type": "markdown",
      "source": [
        "Vẽ histogram"
      ],
      "metadata": {
        "id": "FqA95QYCflfa"
      }
    },
    {
      "cell_type": "code",
      "source": [
        "ax = (state['Population'] / 1_000_000).plot.hist(figsize=(4, 4))\n",
        "ax.set_xlabel('Population (millions)')"
      ],
      "metadata": {
        "colab": {
          "base_uri": "https://localhost:8080/",
          "height": 299
        },
        "id": "PbvPGUu3vWO4",
        "outputId": "60c2501c-4969-4be5-85e8-41dc1ffce648"
      },
      "execution_count": 11,
      "outputs": [
        {
          "output_type": "execute_result",
          "data": {
            "text/plain": [
              "Text(0.5, 0, 'Population (millions)')"
            ]
          },
          "metadata": {},
          "execution_count": 11
        },
        {
          "output_type": "display_data",
          "data": {
            "text/plain": [
              "<Figure size 288x288 with 1 Axes>"
            ],
            "image/png": "[encoded data removed]"
          },
          "metadata": {
            "needs_background": "light"
          }
        }
      ]
    },
    {
      "cell_type": "code",
      "source": [
        "ax = state['Murder.Rate'].plot.hist(density=True, xlim=[0,12], bins=range(1,12))\n",
        "state['Murder.Rate'].plot.density(ax=ax)\n",
        "ax.set_xlabel('Murder Rate (per 100,000)')"
      ],
      "metadata": {
        "colab": {
          "base_uri": "https://localhost:8080/",
          "height": 296
        },
        "id": "G2SuWOlQfyQV",
        "outputId": "e6e99b71-5fdc-455e-e831-b0226b315c5b"
      },
      "execution_count": 12,
      "outputs": [
        {
          "output_type": "execute_result",
          "data": {
            "text/plain": [
              "Text(0.5, 0, 'Murder Rate (per 100,000)')"
            ]
          },
          "metadata": {},
          "execution_count": 12
        },
        {
          "output_type": "display_data",
          "data": {
            "text/plain": [
              "<Figure size 432x288 with 1 Axes>"
            ],
            "image/png": "[encoded data removed]"
          },
          "metadata": {
            "needs_background": "light"
          }
        }
      ]
    },
    {
      "cell_type": "code",
      "source": [
        "dfw = pd.read_csv('/dfw_airline.csv')"
      ],
      "metadata": {
        "id": "ph1FmNXKh230"
      },
      "execution_count": 14,
      "outputs": []
    },
    {
      "cell_type": "markdown",
      "source": [
        "Vẽ barplot"
      ],
      "metadata": {
        "id": "_81tkc6CiDwP"
      }
    },
    {
      "cell_type": "code",
      "source": [
        "ax = dfw.transpose().plot.bar(figsize=(4, 4), legend=False)\n",
        "ax.set_xlabel('Cause of delay')\n",
        "ax.set_ylabel('Count')"
      ],
      "metadata": {
        "colab": {
          "base_uri": "https://localhost:8080/",
          "height": 328
        },
        "id": "xHE5rRA-f0l9",
        "outputId": "e658ffc6-873c-45dc-b37e-add5238551aa"
      },
      "execution_count": 15,
      "outputs": [
        {
          "output_type": "execute_result",
          "data": {
            "text/plain": [
              "Text(0, 0.5, 'Count')"
            ]
          },
          "metadata": {},
          "execution_count": 15
        },
        {
          "output_type": "display_data",
          "data": {
            "text/plain": [
              "<Figure size 288x288 with 1 Axes>"
            ],
            "image/png": "[encoded data removed]"
          },
          "metadata": {
            "needs_background": "light"
          }
        }
      ]
    },
    {
      "cell_type": "code",
      "source": [
        "lc_loans = pd.read_csv('/lc_loans.csv')"
      ],
      "metadata": {
        "id": "5L84mG32iLy5"
      },
      "execution_count": 16,
      "outputs": []
    },
    {
      "cell_type": "markdown",
      "source": [
        "#1 : Đối số từ khóa lề sẽ thêm tổng của cột và hàng.\n",
        "\n",
        "#2 : Tạo một bản sao của bảng tổng hợp, bỏ qua các tổng của cột.\n",
        "\n",
        "#3 : chia các hàng với tổng hàng.\n",
        "\n",
        "#4 : Chia cột 'All' theo tổng của nó "
      ],
      "metadata": {
        "id": "3CoYY7CkkMbD"
      }
    },
    {
      "cell_type": "code",
      "source": [
        "crosstab = lc_loans.pivot_table(index='grade', columns='status',\n",
        "aggfunc=lambda x: len(x), margins=True)   #1\n",
        "df = crosstab.loc['A':'G',:].copy()   #2\n",
        "df.loc[:,'Charged Off':'Late'] = df.loc[:,'Charged Off':'Late'].div(df['All'],\n",
        "axis=0)   #3\n",
        "df['All'] = df['All'] / sum(df['All'])  #4\n",
        "perc_crosstab = df\n",
        "\n",
        "perc_crosstab"
      ],
      "metadata": {
        "colab": {
          "base_uri": "https://localhost:8080/",
          "height": 300
        },
        "id": "_-BUeH8rjdAO",
        "outputId": "07a3f575-cdd4-467f-8b59-5069caac5ab5"
      },
      "execution_count": 18,
      "outputs": [
        {
          "output_type": "execute_result",
          "data": {
            "text/plain": [
              "status  Charged Off   Current  Fully Paid      Late       All\n",
              "grade                                                        \n",
              "A          0.021548  0.690454    0.281528  0.006470  0.160746\n",
              "B          0.040054  0.709013    0.235401  0.015532  0.293529\n",
              "C          0.049828  0.735702    0.191495  0.022974  0.268039\n",
              "D          0.067410  0.717328    0.184189  0.031073  0.164708\n",
              "E          0.081657  0.707936    0.170929  0.039478  0.077177\n",
              "F          0.118258  0.654371    0.180409  0.046962  0.028614\n",
              "G          0.126196  0.614008    0.198396  0.061401  0.007187"
            ],
            "text/html": [
              "\n",
              "  <div id=\"df-2ced089e-b1c0-465e-ba5b-e869f58016a9\">\n",
              "    <div class=\"colab-df-container\">\n",
              "      <div>\n",
              "<style scoped>\n",
              "    .dataframe tbody tr th:only-of-type {\n",
              "        vertical-align: middle;\n",
              "    }\n",
              "\n",
              "    .dataframe tbody tr th {\n",
              "        vertical-align: top;\n",
              "    }\n",
              "\n",
              "    .dataframe thead th {\n",
              "        text-align: right;\n",
              "    }\n",
              "</style>\n",
              "<table border=\"1\" class=\"dataframe\">\n",
              "  <thead>\n",
              "    <tr style=\"text-align: right;\">\n",
              "      <th>status</th>\n",
              "      <th>Charged Off</th>\n",
              "      <th>Current</th>\n",
              "      <th>Fully Paid</th>\n",
              "      <th>Late</th>\n",
              "      <th>All</th>\n",
              "    </tr>\n",
              "    <tr>\n",
              "      <th>grade</th>\n",
              "      <th></th>\n",
              "      <th></th>\n",
              "      <th></th>\n",
              "      <th></th>\n",
              "      <th></th>\n",
              "    </tr>\n",
              "  </thead>\n",
              "  <tbody>\n",
              "    <tr>\n",
              "      <th>A</th>\n",
              "      <td>0.021548</td>\n",
              "      <td>0.690454</td>\n",
              "      <td>0.281528</td>\n",
              "      <td>0.006470</td>\n",
              "      <td>0.160746</td>\n",
              "    </tr>\n",
              "    <tr>\n",
              "      <th>B</th>\n",
              "      <td>0.040054</td>\n",
              "      <td>0.709013</td>\n",
              "      <td>0.235401</td>\n",
              "      <td>0.015532</td>\n",
              "      <td>0.293529</td>\n",
              "    </tr>\n",
              "    <tr>\n",
              "      <th>C</th>\n",
              "      <td>0.049828</td>\n",
              "      <td>0.735702</td>\n",
              "      <td>0.191495</td>\n",
              "      <td>0.022974</td>\n",
              "      <td>0.268039</td>\n",
              "    </tr>\n",
              "    <tr>\n",
              "      <th>D</th>\n",
              "      <td>0.067410</td>\n",
              "      <td>0.717328</td>\n",
              "      <td>0.184189</td>\n",
              "      <td>0.031073</td>\n",
              "      <td>0.164708</td>\n",
              "    </tr>\n",
              "    <tr>\n",
              "      <th>E</th>\n",
              "      <td>0.081657</td>\n",
              "      <td>0.707936</td>\n",
              "      <td>0.170929</td>\n",
              "      <td>0.039478</td>\n",
              "      <td>0.077177</td>\n",
              "    </tr>\n",
              "    <tr>\n",
              "      <th>F</th>\n",
              "      <td>0.118258</td>\n",
              "      <td>0.654371</td>\n",
              "      <td>0.180409</td>\n",
              "      <td>0.046962</td>\n",
              "      <td>0.028614</td>\n",
              "    </tr>\n",
              "    <tr>\n",
              "      <th>G</th>\n",
              "      <td>0.126196</td>\n",
              "      <td>0.614008</td>\n",
              "      <td>0.198396</td>\n",
              "      <td>0.061401</td>\n",
              "      <td>0.007187</td>\n",
              "    </tr>\n",
              "  </tbody>\n",
              "</table>\n",
              "</div>\n",
              "      <button class=\"colab-df-convert\" onclick=\"convertToInteractive('df-2ced089e-b1c0-465e-ba5b-e869f58016a9')\"\n",
              "              title=\"Convert this dataframe to an interactive table.\"\n",
              "              style=\"display:none;\">\n",
              "        \n",
              "  <svg xmlns=\"http://www.w3.org/2000/svg\" height=\"24px\"viewBox=\"0 0 24 24\"\n",
              "       width=\"24px\">\n",
              "    <path d=\"M0 0h24v24H0V0z\" fill=\"none\"/>\n",
              "    <path d=\"M18.56 5.44l.94 2.06.94-2.06 2.06-.94-2.06-.94-.94-2.06-.94 2.06-2.06.94zm-11 1L8.5 8.5l.94-2.06 2.06-.94-2.06-.94L8.5 2.5l-.94 2.06-2.06.94zm10 10l.94 2.06.94-2.06 2.06-.94-2.06-.94-.94-2.06-.94 2.06-2.06.94z\"/><path d=\"M17.41 7.96l-1.37-1.37c-.4-.4-.92-.59-1.43-.59-.52 0-1.04.2-1.43.59L10.3 9.45l-7.72 7.72c-.78.78-.78 2.05 0 2.83L4 21.41c.39.39.9.59 1.41.59.51 0 1.02-.2 1.41-.59l7.78-7.78 2.81-2.81c.8-.78.8-2.07 0-2.86zM5.41 20L4 18.59l7.72-7.72 1.47 1.35L5.41 20z\"/>\n",
              "  </svg>\n",
              "      </button>\n",
              "      \n",
              "  <style>\n",
              "    .colab-df-container {\n",
              "      display:flex;\n",
              "      flex-wrap:wrap;\n",
              "      gap: 12px;\n",
              "    }\n",
              "\n",
              "    .colab-df-convert {\n",
              "      background-color: #E8F0FE;\n",
              "      border: none;\n",
              "      border-radius: 50%;\n",
              "      cursor: pointer;\n",
              "      display: none;\n",
              "      fill: #1967D2;\n",
              "      height: 32px;\n",
              "      padding: 0 0 0 0;\n",
              "      width: 32px;\n",
              "    }\n",
              "\n",
              "    .colab-df-convert:hover {\n",
              "      background-color: #E2EBFA;\n",
              "      box-shadow: 0px 1px 2px rgba(60, 64, 67, 0.3), 0px 1px 3px 1px rgba(60, 64, 67, 0.15);\n",
              "      fill: #174EA6;\n",
              "    }\n",
              "\n",
              "    [theme=dark] .colab-df-convert {\n",
              "      background-color: #3B4455;\n",
              "      fill: #D2E3FC;\n",
              "    }\n",
              "\n",
              "    [theme=dark] .colab-df-convert:hover {\n",
              "      background-color: #434B5C;\n",
              "      box-shadow: 0px 1px 3px 1px rgba(0, 0, 0, 0.15);\n",
              "      filter: drop-shadow(0px 1px 2px rgba(0, 0, 0, 0.3));\n",
              "      fill: #FFFFFF;\n",
              "    }\n",
              "  </style>\n",
              "\n",
              "      <script>\n",
              "        const buttonEl =\n",
              "          document.querySelector('#df-2ced089e-b1c0-465e-ba5b-e869f58016a9 button.colab-df-convert');\n",
              "        buttonEl.style.display =\n",
              "          google.colab.kernel.accessAllowed ? 'block' : 'none';\n",
              "\n",
              "        async function convertToInteractive(key) {\n",
              "          const element = document.querySelector('#df-2ced089e-b1c0-465e-ba5b-e869f58016a9');\n",
              "          const dataTable =\n",
              "            await google.colab.kernel.invokeFunction('convertToInteractive',\n",
              "                                                     [key], {});\n",
              "          if (!dataTable) return;\n",
              "\n",
              "          const docLinkHtml = 'Like what you see? Visit the ' +\n",
              "            '<a target=\"_blank\" href=https://colab.research.google.com/notebooks/data_table.ipynb>data table notebook</a>'\n",
              "            + ' to learn more about interactive tables.';\n",
              "          element.innerHTML = '';\n",
              "          dataTable['output_type'] = 'display_data';\n",
              "          await google.colab.output.renderOutput(dataTable, element);\n",
              "          const docLink = document.createElement('div');\n",
              "          docLink.innerHTML = docLinkHtml;\n",
              "          element.appendChild(docLink);\n",
              "        }\n",
              "      </script>\n",
              "    </div>\n",
              "  </div>\n",
              "  "
            ]
          },
          "metadata": {},
          "execution_count": 18
        }
      ]
    },
    {
      "cell_type": "code",
      "source": [
        "airline_stats = pd.read_csv('/airline_stats.csv')"
      ],
      "metadata": {
        "id": "sWLjyOV1lfMC"
      },
      "execution_count": 20,
      "outputs": []
    },
    {
      "cell_type": "markdown",
      "source": [
        "Vẽ boxplot "
      ],
      "metadata": {
        "id": "mh3kRD5nlnV0"
      }
    },
    {
      "cell_type": "code",
      "source": [
        "ax = airline_stats.boxplot(by='airline', column='pct_carrier_delay')\n",
        "ax.set_xlabel('')\n",
        "ax.set_ylabel('Daily % of Delayed Flights')\n",
        "plt.suptitle('')"
      ],
      "metadata": {
        "colab": {
          "base_uri": "https://localhost:8080/",
          "height": 352
        },
        "id": "s74dKXjwlKiZ",
        "outputId": "f82434b7-d743-423f-aa1e-d2bacfd694ad"
      },
      "execution_count": 21,
      "outputs": [
        {
          "output_type": "stream",
          "name": "stderr",
          "text": [
            "/usr/local/lib/python3.7/dist-packages/matplotlib/cbook/__init__.py:1376: VisibleDeprecationWarning: Creating an ndarray from ragged nested sequences (which is a list-or-tuple of lists-or-tuples-or ndarrays with different lengths or shapes) is deprecated. If you meant to do this, you must specify 'dtype=object' when creating the ndarray.\n",
            "  X = np.atleast_1d(X.T if isinstance(X, np.ndarray) else np.asarray(X))\n"
          ]
        },
        {
          "output_type": "execute_result",
          "data": {
            "text/plain": [
              "Text(0.5, 0.98, '')"
            ]
          },
          "metadata": {},
          "execution_count": 21
        },
        {
          "output_type": "display_data",
          "data": {
            "text/plain": [
              "<Figure size 432x288 with 1 Axes>"
            ],
            "image/png": "[encoded data removed]"
          },
          "metadata": {
            "needs_background": "light"
          }
        }
      ]
    },
    {
      "cell_type": "markdown",
      "source": [
        "Dùng thư viện seaborn để vẽ violinplot "
      ],
      "metadata": {
        "id": "-E82ONgHmGMD"
      }
    },
    {
      "cell_type": "code",
      "source": [
        "import seaborn as sns"
      ],
      "metadata": {
        "id": "eZxujRC7l7KR"
      },
      "execution_count": 24,
      "outputs": []
    },
    {
      "cell_type": "code",
      "source": [
        "ax = sns.violinplot(airline_stats.airline, airline_stats.pct_carrier_delay,\n",
        "inner='quartile', color='white')\n",
        "ax.set_xlabel('')\n",
        "ax.set_ylabel('Daily % of Delayed Flights')"
      ],
      "metadata": {
        "colab": {
          "base_uri": "https://localhost:8080/",
          "height": 337
        },
        "id": "4JfWRczRlqP_",
        "outputId": "5a74e172-39fa-4467-9403-fd3120311719"
      },
      "execution_count": 25,
      "outputs": [
        {
          "output_type": "stream",
          "name": "stderr",
          "text": [
            "/usr/local/lib/python3.7/dist-packages/seaborn/_decorators.py:43: FutureWarning: Pass the following variables as keyword args: x, y. From version 0.12, the only valid positional argument will be `data`, and passing other arguments without an explicit keyword will result in an error or misinterpretation.\n",
            "  FutureWarning\n"
          ]
        },
        {
          "output_type": "execute_result",
          "data": {
            "text/plain": [
              "Text(0, 0.5, 'Daily % of Delayed Flights')"
            ]
          },
          "metadata": {},
          "execution_count": 25
        },
        {
          "output_type": "display_data",
          "data": {
            "text/plain": [
              "<Figure size 432x288 with 1 Axes>"
            ],
            "image/png": "[encoded data removed]"
          },
          "metadata": {
            "needs_background": "light"
          }
        }
      ]
    }
  ]
}