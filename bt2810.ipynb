{
  "nbformat": 4,
  "nbformat_minor": 0,
  "metadata": {
    "colab": {
      "name": "bt2810.ipynb",
      "provenance": [],
      "authorship_tag": "ABX9TyN47YGsRIcywnt89KsuI9De",
      "include_colab_link": true
    },
    "kernelspec": {
      "name": "python3",
      "display_name": "Python 3"
    },
    "language_info": {
      "name": "python"
    }
  },
  "cells": [
    {
      "cell_type": "markdown",
      "metadata": {
        "id": "view-in-github",
        "colab_type": "text"
      },
      "source": [
        "<a href=\"https://colab.research.google.com/github/lmquann/leminhquan/blob/main/bt2810.ipynb\" target=\"_parent\"><img src=\"https://colab.research.google.com/assets/colab-badge.svg\" alt=\"Open In Colab\"/></a>"
      ]
    },
    {
      "cell_type": "markdown",
      "metadata": {
        "id": "SsJ8f-b9YTV7"
      },
      "source": [
        "viết ct nhập đữ liệu cho 1 danh sách từ bàn phím "
      ]
    },
    {
      "cell_type": "code",
      "metadata": {
        "colab": {
          "base_uri": "https://localhost:8080/"
        },
        "id": "6OqOZc44W4PU",
        "outputId": "05101902-f350-4d7b-ad3d-4aea8264bcd3"
      },
      "source": [
        "x = []\n",
        "n = int(input(\"nhap so phan tu: \"))\n",
        "for i in range (0,n):\n",
        "  x.append(input())\n",
        "print(x)\n"
      ],
      "execution_count": 11,
      "outputs": [
        {
          "output_type": "stream",
          "name": "stdout",
          "text": [
            "nhap so phan tu: 2\n",
            "mot\n",
            "hai\n",
            "['mot', 'hai']\n"
          ]
        }
      ]
    },
    {
      "cell_type": "code",
      "metadata": {
        "colab": {
          "base_uri": "https://localhost:8080/"
        },
        "id": "Gqw6Pn1wap5h",
        "outputId": "aa772b86-29d6-47a4-9f89-f877ff259185"
      },
      "source": [
        "#khong xac dinh\n",
        "i = \"Y\"\n",
        "while i == \"Y\":\n",
        "  x.append(input(\"nhap du lieu: \"))\n",
        "  i = input(\"nhap Y de tiep tuc, nhap phim bat ki: \")\n",
        "  i = i.upper()\n",
        "print(x)\n"
      ],
      "execution_count": 13,
      "outputs": [
        {
          "output_type": "stream",
          "name": "stdout",
          "text": [
            "nhap du lieu: a\n",
            "nhap Y de tiep tuc, nhap phim bat ki: y\n",
            "nhap du lieu: f\n",
            "nhap Y de tiep tuc, nhap phim bat ki: l\n",
            "['mot', 'hai', 'a', 'f']\n"
          ]
        }
      ]
    },
    {
      "cell_type": "code",
      "metadata": {
        "colab": {
          "base_uri": "https://localhost:8080/"
        },
        "id": "I3AztdvLcwsv",
        "outputId": "3597d1d2-3eec-4e1f-a654-6d13287aeb99"
      },
      "source": [
        "#ham\n",
        "a = []\n",
        "def nhapds(a):\n",
        "  n = int(input(\"nhap so phan tu: \"))\n",
        "  a = [input(\"nhap du lieu: \") for i in range (0,n)]\n",
        "  return a\n",
        "print(nhapds(a))\n",
        "\n"
      ],
      "execution_count": 17,
      "outputs": [
        {
          "output_type": "stream",
          "name": "stdout",
          "text": [
            "nhap so phan tu: 3\n",
            "nhap du lieu: la\n",
            "nhap du lieu: ka\n",
            "nhap du lieu: la\n",
            "['la', 'ka', 'la']\n"
          ]
        }
      ]
    }
  ]
}