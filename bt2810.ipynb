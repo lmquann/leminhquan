{
  "nbformat": 4,
  "nbformat_minor": 0,
  "metadata": {
    "colab": {
      "name": "bt2810.ipynb",
      "provenance": [],
      "authorship_tag": "ABX9TyPApzH0WbElQNy+kgeI+ERT",
      "include_colab_link": true
    },
    "kernelspec": {
      "name": "python3",
      "display_name": "Python 3"
    },
    "language_info": {
      "name": "python"
    }
  },
  "cells": [
    {
      "cell_type": "markdown",
      "metadata": {
        "id": "view-in-github",
        "colab_type": "text"
      },
      "source": [
        "<a href=\"https://colab.research.google.com/github/lmquann/leminhquan/blob/main/bt2810.ipynb\" target=\"_parent\"><img src=\"https://colab.research.google.com/assets/colab-badge.svg\" alt=\"Open In Colab\"/></a>"
      ]
    },
    {
      "cell_type": "markdown",
      "metadata": {
        "id": "SsJ8f-b9YTV7"
      },
      "source": [
        "viết ct nhập đữ liệu cho 1 danh sách từ bàn phím "
      ]
    },
    {
      "cell_type": "code",
      "metadata": {
        "colab": {
          "base_uri": "https://localhost:8080/"
        },
        "id": "6OqOZc44W4PU",
        "outputId": "05101902-f350-4d7b-ad3d-4aea8264bcd3"
      },
      "source": [
        "x = []\n",
        "n = int(input(\"nhap so phan tu: \"))\n",
        "for i in range (0,n):\n",
        "  x.append(input())\n",
        "print(x)\n"
      ],
      "execution_count": 11,
      "outputs": [
        {
          "output_type": "stream",
          "name": "stdout",
          "text": [
            "nhap so phan tu: 2\n",
            "mot\n",
            "hai\n",
            "['mot', 'hai']\n"
          ]
        }
      ]
    },
    {
      "cell_type": "code",
      "metadata": {
        "colab": {
          "base_uri": "https://localhost:8080/"
        },
        "id": "Gqw6Pn1wap5h",
        "outputId": "aa772b86-29d6-47a4-9f89-f877ff259185"
      },
      "source": [
        "#khong xac dinh\n",
        "i = \"Y\"\n",
        "while i == \"Y\":\n",
        "  x.append(input(\"nhap du lieu: \"))\n",
        "  i = input(\"nhap Y de tiep tuc, nhap phim bat ki: \")\n",
        "  i = i.upper()\n",
        "print(x)\n"
      ],
      "execution_count": 13,
      "outputs": [
        {
          "output_type": "stream",
          "name": "stdout",
          "text": [
            "nhap du lieu: a\n",
            "nhap Y de tiep tuc, nhap phim bat ki: y\n",
            "nhap du lieu: f\n",
            "nhap Y de tiep tuc, nhap phim bat ki: l\n",
            "['mot', 'hai', 'a', 'f']\n"
          ]
        }
      ]
    },
    {
      "cell_type": "code",
      "metadata": {
        "colab": {
          "base_uri": "https://localhost:8080/"
        },
        "id": "I3AztdvLcwsv",
        "outputId": "e727eaa6-1431-4431-b022-21cc3974994a"
      },
      "source": [
        "#ham\n",
        "a = []\n",
        "def nhapds():\n",
        "  n = int(input(\"nhap so phan tu: \"))\n",
        "  a = [input(\"nhap du lieu: \") for i in range (0,n)]\n",
        "  return a\n",
        "print(nhapds())\n",
        "\n"
      ],
      "execution_count": 22,
      "outputs": [
        {
          "output_type": "stream",
          "name": "stdout",
          "text": [
            "nhap so phan tu: 2\n",
            "nhap du lieu: la\n",
            "nhap du lieu: la\n",
            "['la', 'la']\n"
          ]
        }
      ]
    },
    {
      "cell_type": "code",
      "metadata": {
        "id": "JsQD4PY8nTIX"
      },
      "source": [
        "'''Ham nhap ds() nhap du lieu cho 1 ds va tra về ds đó\n",
        "tham số đầu vào/input paramaters: không có\n",
        "tham số đầu ra/output paramaters: danh sách được nhập'''"
      ],
      "execution_count": null,
      "outputs": []
    },
    {
      "cell_type": "markdown",
      "metadata": {
        "id": "2Qm35M-qnqsf"
      },
      "source": [
        "xây dựng hàm giải pt bậc 2 "
      ]
    },
    {
      "cell_type": "code",
      "metadata": {
        "colab": {
          "base_uri": "https://localhost:8080/"
        },
        "id": "-1Dcn5WZn3Ys",
        "outputId": "39153ef7-4f0d-46be-82af-d484ccce5100"
      },
      "source": [
        "#pt bac 2\n",
        "def ptbac2(a,b,c):\n",
        "  a = float(input(\"nhap a: \"))\n",
        "  b = float(input(\"nhap b: \"))\n",
        "  c = float(input(\"nhap c: \"))\n",
        "  import math\n",
        "  if (a == 0):\n",
        "    if (b == 0) and (c == 0):\n",
        "      print(\"pt có vô số nghiệm\")\n",
        "    elif (b == 0) and (c != 0):\n",
        "      print(\"pt vô nghiệm\")\n",
        "    else: \n",
        "      print(\"nghiệm của pt là: \", -c/b)\n",
        "  else:\n",
        "    delta = b*b - 4*a*c\n",
        "    if (delta > 0):\n",
        "      x1 = ((-b - math.sqrt(delta))/(2*a))\n",
        "      x2 = ((-b - math.sqrt(delta))/(2*a))\n",
        "      print(\"nghiệm của pt là \", x1, \"và \", x2)\n",
        "    elif (delta == 0):\n",
        "      print(\"pt có nghiệm kép là: \", -b/(2*a))\n",
        "    else:\n",
        "      print(\"pt vô nghiệm \")\n",
        "ptbac2(a,b,c)"
      ],
      "execution_count": 26,
      "outputs": [
        {
          "output_type": "stream",
          "name": "stdout",
          "text": [
            "nhap a: 2\n",
            "nhap b: 1\n",
            "nhap c: -5\n",
            "nghiệm của pt là  -1.8507810593582121 và  -1.8507810593582121\n"
          ]
        }
      ]
    },
    {
      "cell_type": "code",
      "metadata": {
        "colab": {
          "base_uri": "https://localhost:8080/"
        },
        "id": "cwBUZ3zGtdgS",
        "outputId": "53aac241-3815-4df4-b355-d8f0a31b2275"
      },
      "source": [
        "#bài giảng \n",
        "def nhapheso():\n",
        "  a = float(input(\"a= \"))\n",
        "  b = float(input(\"b= \"))\n",
        "  c = float(input(\"c= \"))\n",
        "  return a,b,c \n",
        "def ptbac1(a,b):\n",
        "  if (a == 0) and (b == 0):\n",
        "    print(\"pt co vo so nghiem \")\n",
        "  elif (a == 0) and (b != 0):\n",
        "    print(\"pt vo nghiem \")\n",
        "  else: \n",
        "    print(\"pt co nghiem la: \", -b/a)\n",
        "def ptbac2():\n",
        "  a,b,c = nhapheso()\n",
        "  if a == 0:\n",
        "    ptbac1(b,c)\n",
        "  else:\n",
        "    import math\n",
        "    delta = b*b - 4*a*c\n",
        "    if (delta > 0):\n",
        "      x1 = (-b + math.sqrt(delta)) / (2 * a)\n",
        "      x2 = (-b - math.sqrt(delta)) / (2 * a)\n",
        "      print(\"pt co 2 nghiem phan biet la \", x1,\"va\", x2)\n",
        "    elif (delta == 0):\n",
        "      print(\"pt co nghiem kep la: \", -b/(2*a))\n",
        "    else:\n",
        "      print(\"pt vo nghiem\")\n",
        "print(ptbac2())"
      ],
      "execution_count": 28,
      "outputs": [
        {
          "output_type": "stream",
          "name": "stdout",
          "text": [
            "a= 0\n",
            "b= 1\n",
            "c= 2\n",
            "pt co nghiem la:  -2.0\n",
            "None\n"
          ]
        }
      ]
    }
  ]
}