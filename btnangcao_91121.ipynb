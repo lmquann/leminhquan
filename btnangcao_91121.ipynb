{
  "nbformat": 4,
  "nbformat_minor": 0,
  "metadata": {
    "colab": {
      "name": "btnangcao_91121.ipynb",
      "provenance": [],
      "authorship_tag": "ABX9TyMYxSJ1dGBt5xSHor7UhwWJ",
      "include_colab_link": true
    },
    "kernelspec": {
      "name": "python3",
      "display_name": "Python 3"
    },
    "language_info": {
      "name": "python"
    }
  },
  "cells": [
    {
      "cell_type": "markdown",
      "metadata": {
        "id": "view-in-github",
        "colab_type": "text"
      },
      "source": [
        "<a href=\"https://colab.research.google.com/github/lmquann/leminhquan/blob/main/btnangcao_91121.ipynb\" target=\"_parent\"><img src=\"https://colab.research.google.com/assets/colab-badge.svg\" alt=\"Open In Colab\"/></a>"
      ]
    },
    {
      "cell_type": "markdown",
      "metadata": {
        "id": "UITBrUDBN-6t"
      },
      "source": [
        "- Xây dựng 3 lớp Person, Student và Professor như bảng thiết kế ở trên\n",
        "- Nhập dữ liệu từ bàn phím cho danh sách 10 Person\n",
        "- Nhập dữ liệu (có thể tạo trong chương trình hoặc từ bàn phím) cho danh sách 10 Student\n",
        "- Nhập dữ liệu cho danh sách 10 Professor\n",
        "- In kết quả 3 danh sách trên ra màn hình\n",
        "- Sắp xếp danh sách Person giảm dần theo Name; sắp xếp danh sách Student giảm dần theo\n",
        "Average Mark; và sắp xếp danh sách Professor tăng dần theo Salary\n",
        "- Lưu tuần tự 3 danh sách này vào 3 tập tin khác nhau (sử dụng pickle)\n",
        "- Đọc các tập tin này và in kết quả ra màn hình."
      ]
    },
    {
      "cell_type": "code",
      "metadata": {
        "id": "PxWiD5k8NjDK"
      },
      "source": [
        "class person:\n",
        "  def __init__(self):\n",
        "    self.name:str =\"\" \n",
        "    self.phonenumber:str = \"\"\n",
        "    self.emailaddress:str = \"\"\n",
        "  def typeinfor(self):\n",
        "    self.name = input(\"type name : \")\n",
        "    self.phonenumber = input(\"type phone number: \")\n",
        "    self.emailaddress = self.name + \"@gmail.com\"\n",
        "  def exportinfor(self):\n",
        "    return self.name + \" \" + self.phonenumber + \" \" + self.emailaddress\n",
        "\n",
        "class student(person):\n",
        "  def __init__(self):\n",
        "    super().__init__()\n",
        "    self.studentnumber:str = \"\" \n",
        "    self.averagemark:float = 0.0\n",
        "  def typeinfor(self):\n",
        "    super().__init__()\n",
        "    self.studentnumber = input(\"type student number: \")\n",
        "    self.averagemark = input(\"type average mark: \")\n",
        "  def exportinfor(self):\n",
        "    super().__init__()\n",
        "    return self.studentnumber + \" \" + self.averagemark\n",
        "\n",
        "class professor(person):\n",
        "  def __init__(self):\n",
        "    super().__init__()\n",
        "    self.salary:float = 0.0 \n",
        "  def typeinfor(self):\n",
        "    super().__init__()\n",
        "    self.salary = input(\"type salary: \")\n",
        "  def exportinfor(self):\n",
        "    super().__init__()\n",
        "    return self.name + \" \" + self.phonenumber + \" \" + self.emailaddress + \" \" + self.salary\n"
      ],
      "execution_count": null,
      "outputs": []
    },
    {
      "cell_type": "markdown",
      "metadata": {
        "id": "vNFwZDD9fCCQ"
      },
      "source": [
        "Nhập dữ liệu từ bàn phím cho danh sách 10 Person\n",
        "Nhập dữ liệu (có thể tạo trong chương trình hoặc từ bàn phím) cho danh sách 10 Student\n",
        "Nhập dữ liệu cho danh sách 10 Professor\n",
        "In kết quả 3 danh sách trên ra màn hình"
      ]
    },
    {
      "cell_type": "code",
      "metadata": {
        "id": "EugdjZmjekue"
      },
      "source": [
        ""
      ],
      "execution_count": null,
      "outputs": []
    }
  ]
}