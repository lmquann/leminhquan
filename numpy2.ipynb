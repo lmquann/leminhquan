{
  "nbformat": 4,
  "nbformat_minor": 0,
  "metadata": {
    "colab": {
      "name": "numpy2.ipynb",
      "provenance": [],
      "authorship_tag": "ABX9TyNIW0etw4NMPzQJ5kh02POR",
      "include_colab_link": true
    },
    "kernelspec": {
      "name": "python3",
      "display_name": "Python 3"
    },
    "language_info": {
      "name": "python"
    }
  },
  "cells": [
    {
      "cell_type": "markdown",
      "metadata": {
        "id": "view-in-github",
        "colab_type": "text"
      },
      "source": [
        "<a href=\"https://colab.research.google.com/github/lmquann/leminhquan/blob/main/numpy2.ipynb\" target=\"_parent\"><img src=\"https://colab.research.google.com/assets/colab-badge.svg\" alt=\"Open In Colab\"/></a>"
      ]
    },
    {
      "cell_type": "code",
      "source": [
        "import numpy as np "
      ],
      "metadata": {
        "id": "IFLroC7DOvhC"
      },
      "execution_count": null,
      "outputs": []
    },
    {
      "cell_type": "markdown",
      "source": [
        "Baì 1: Trong Toán học, ma trận (matrix) là một mảng 2 chiều chứa số hoặc các đối\n",
        "tượng toán học khác. Một cách tổng quát ma trận A có m hàng và n cột chứa các số thực, ký hiệu\n",
        "là A ∈ $R^m×^n$ hay Am×n hay A = (ai,j)m×n\n",
        "\n",
        "\n",
        "Sử dụng thư viện NumPy, hãy tạo ra một ma trận A ∈ $R^7×^5$, giá trị các phần tử của ma trận được sinh ngẫu nhiên. Kết quả xuất ra màn hình.\n"
      ],
      "metadata": {
        "id": "HCqJzzNKNc-f"
      }
    },
    {
      "cell_type": "code",
      "execution_count": null,
      "metadata": {
        "colab": {
          "base_uri": "https://localhost:8080/"
        },
        "id": "_Jag9zxeNHSY",
        "outputId": "ca8e55e0-bd28-4100-9f1b-5b297e115d3c"
      },
      "outputs": [
        {
          "output_type": "stream",
          "name": "stdout",
          "text": [
            "[[9 1 6 6 8]\n",
            " [7 7 8 6 0]\n",
            " [4 1 0 0 7]\n",
            " [8 9 3 7 3]\n",
            " [8 9 5 9 1]\n",
            " [1 8 5 1 5]\n",
            " [0 4 5 6 8]]\n"
          ]
        }
      ],
      "source": [
        "A = np.random.randint(0,10,(7,5))\n",
        "print(A)"
      ]
    },
    {
      "cell_type": "markdown",
      "source": [
        "Bài 2 – Ma trận không (zero matrix): Ma trận Am×n được gọi là ma trận không khi ai,j = 0, ∀i,j.\n",
        "Sử dụng thư viện NumPy, hãy tạo một ma trận 0 - A6×7. Gợi ý: sử dụng hàm numpy.zeros((m,n)).\n",
        "Kết quả xuất ra màn hình."
      ],
      "metadata": {
        "id": "9by3UHLwcWrU"
      }
    },
    {
      "cell_type": "code",
      "source": [
        "A = np.zeros((6,7))\n",
        "print(A)"
      ],
      "metadata": {
        "id": "ao30uMMTce7z",
        "colab": {
          "base_uri": "https://localhost:8080/"
        },
        "outputId": "ca25f135-2eef-46f8-c2f3-11759ca4d4c7"
      },
      "execution_count": null,
      "outputs": [
        {
          "output_type": "stream",
          "name": "stdout",
          "text": [
            "[[0. 0. 0. 0. 0. 0. 0.]\n",
            " [0. 0. 0. 0. 0. 0. 0.]\n",
            " [0. 0. 0. 0. 0. 0. 0.]\n",
            " [0. 0. 0. 0. 0. 0. 0.]\n",
            " [0. 0. 0. 0. 0. 0. 0.]\n",
            " [0. 0. 0. 0. 0. 0. 0.]]\n"
          ]
        }
      ]
    },
    {
      "cell_type": "markdown",
      "source": [
        "Bài 3 – Ma trận vuông: Là ma trận có số hàng và số cột bằng nhau. Sử dụng thư viện NumPy,\n",
        "hãy tạo ra một ma trận A ∈ $R^7×^7$ , giá trị các phần tử của ma trận được sinh ngẫu nhiên. Kết quả xuất ra màn hình."
      ],
      "metadata": {
        "id": "pX1CB12WrdwB"
      }
    },
    {
      "cell_type": "code",
      "source": [
        "A = np.random.randn(7,7)\n",
        "print(A)"
      ],
      "metadata": {
        "colab": {
          "base_uri": "https://localhost:8080/"
        },
        "id": "aPlnrsv6rtzV",
        "outputId": "adbb09e7-eb3b-489a-bbf6-cee7edcd3f56"
      },
      "execution_count": null,
      "outputs": [
        {
          "output_type": "stream",
          "name": "stdout",
          "text": [
            "[[ 0.03048632 -0.64923219 -0.81191171 -1.20304962  1.65543351 -0.50449556\n",
            "  -0.78976631]\n",
            " [ 0.19936375 -1.15043244 -0.34210594  0.34630305 -0.73752957  0.85592165\n",
            "   0.00252605]\n",
            " [-1.50989238  0.47778961  0.65302719  0.97578465 -0.10134803  0.08826062\n",
            "  -0.54371375]\n",
            " [ 0.62080542 -0.13549054 -0.685972   -1.32780513  0.61807188 -1.77764501\n",
            "   0.89742543]\n",
            " [-1.36952604 -1.10390944 -1.15391233  0.76824067 -0.48679593  0.71345843\n",
            "  -0.38036602]\n",
            " [ 0.57039785 -0.08445098 -0.47380036 -0.34181564  0.58193985  1.64790324\n",
            "  -0.32777706]\n",
            " [ 0.38240157 -1.38684188 -0.11823852  1.14851975  0.04834173 -1.91317436\n",
            "   0.60107633]]\n"
          ]
        }
      ]
    },
    {
      "cell_type": "markdown",
      "source": [
        "Bài 4 – Ma trận chéo (diagonal matrix): Ma trận vuông có các phần tử trên đường chéo ai,i ≠ 0\n",
        "trong khi các phần tử còn lại ai,j = 0, ∀i ≠ j.\n",
        "Sử dụng thư viện NumPy, hãy tạo một ma trận chéo A6×6 với phần tử nằm trên đường chéo có giá\n",
        "trị là 15. Gợi ý: sử dụng kết hợp hàm numpy.zeros() và numpy.fill_diagonal(). Kết quả xuất ra\n",
        "màn hình."
      ],
      "metadata": {
        "id": "MYk-Wdr1s15A"
      }
    },
    {
      "cell_type": "code",
      "source": [
        "A = np.zeros([6,6], dtype = int)\n",
        "np.fill_diagonal(A, 15)\n",
        "print(A)"
      ],
      "metadata": {
        "colab": {
          "base_uri": "https://localhost:8080/"
        },
        "id": "CshJm748tBdY",
        "outputId": "47eb8fc5-7c1b-4b3d-b727-d7e251f1626a"
      },
      "execution_count": null,
      "outputs": [
        {
          "output_type": "stream",
          "name": "stdout",
          "text": [
            "[[15  0  0  0  0  0]\n",
            " [ 0 15  0  0  0  0]\n",
            " [ 0  0 15  0  0  0]\n",
            " [ 0  0  0 15  0  0]\n",
            " [ 0  0  0  0 15  0]\n",
            " [ 0  0  0  0  0 15]]\n"
          ]
        }
      ]
    },
    {
      "cell_type": "markdown",
      "source": [
        "Bài 5 – Ma trận tam giác trên (upper triangular matrix): Ma trận vuông An×n được gọi là ma\n",
        "trận tam giác trên nếu các phần tử nằm trên đường chéo đều khác 0 và các phần tử nằm dưới đường\n",
        "chéo đều bằng 0.\n",
        "Sử dụng thư viện NumPy, hãy tạo một ma trận tam giác trên A8×8. Gợi ý: sử dụng hàm\n",
        "numpy.triu(). Kết quả xuất ra màn hình."
      ],
      "metadata": {
        "id": "PjvPfXo3tvfu"
      }
    },
    {
      "cell_type": "code",
      "source": [
        "A = np.triu(np.random.randint(1,10,[8,8]), k = 0)\n",
        "print(A)"
      ],
      "metadata": {
        "colab": {
          "base_uri": "https://localhost:8080/"
        },
        "id": "E04j4sjmt0s4",
        "outputId": "0dd74454-8649-44e0-a965-0256cce4896a"
      },
      "execution_count": null,
      "outputs": [
        {
          "output_type": "stream",
          "name": "stdout",
          "text": [
            "[[9 4 8 8 7 3 8 7]\n",
            " [0 9 4 6 4 2 1 6]\n",
            " [0 0 1 9 9 7 8 4]\n",
            " [0 0 0 8 5 8 9 2]\n",
            " [0 0 0 0 4 6 3 9]\n",
            " [0 0 0 0 0 9 8 9]\n",
            " [0 0 0 0 0 0 9 6]\n",
            " [0 0 0 0 0 0 0 1]]\n"
          ]
        }
      ]
    },
    {
      "cell_type": "markdown",
      "source": [
        "Bài 6 – Ma trận tam giác dưới (lower triangular matrix): Tương tự bài 5, bạn hãy xây dựng\n",
        "ma trận tam giác dưới. Kết quả xuất ra màn hình."
      ],
      "metadata": {
        "id": "XSCCovTTuWiF"
      }
    },
    {
      "cell_type": "code",
      "source": [
        "A = np.tril(np.random.randint(1,10,[8,8]), k = 0)\n",
        "print(A)"
      ],
      "metadata": {
        "colab": {
          "base_uri": "https://localhost:8080/"
        },
        "id": "ZbkehMPtuamI",
        "outputId": "f451eeac-a432-475c-dcb3-18a600d3d300"
      },
      "execution_count": null,
      "outputs": [
        {
          "output_type": "stream",
          "name": "stdout",
          "text": [
            "[[2 0 0 0 0 0 0 0]\n",
            " [8 7 0 0 0 0 0 0]\n",
            " [4 8 7 0 0 0 0 0]\n",
            " [1 1 1 2 0 0 0 0]\n",
            " [5 2 5 3 8 0 0 0]\n",
            " [8 1 6 1 1 9 0 0]\n",
            " [4 7 6 4 2 5 9 0]\n",
            " [7 7 5 8 1 3 9 8]]\n"
          ]
        }
      ]
    },
    {
      "cell_type": "markdown",
      "source": [
        "Bài 7 – Ma trận đơn vị (identity matrix): Ma trận đơn vị In có số chiều n là một ma trận vuông\n",
        "mà mọi phần tử trên đường chéo chính bằng 1. Sử dụng thư viện NumPy, hãy tạo ra một ma trận\n",
        "I9\n",
        ". Kết quả xuất ra màn hình. Gợi ý: sử dụng hàm numpy.identity()"
      ],
      "metadata": {
        "id": "-T3Ka5iRuv2I"
      }
    },
    {
      "cell_type": "code",
      "source": [
        "A = np.identity(9, dtype = int)\n",
        "print(A)"
      ],
      "metadata": {
        "colab": {
          "base_uri": "https://localhost:8080/"
        },
        "id": "CRi813x9u0r9",
        "outputId": "4b3872c8-035c-4001-e149-43ea031ee087"
      },
      "execution_count": null,
      "outputs": [
        {
          "output_type": "stream",
          "name": "stdout",
          "text": [
            "[[1 0 0 0 0 0 0 0 0]\n",
            " [0 1 0 0 0 0 0 0 0]\n",
            " [0 0 1 0 0 0 0 0 0]\n",
            " [0 0 0 1 0 0 0 0 0]\n",
            " [0 0 0 0 1 0 0 0 0]\n",
            " [0 0 0 0 0 1 0 0 0]\n",
            " [0 0 0 0 0 0 1 0 0]\n",
            " [0 0 0 0 0 0 0 1 0]\n",
            " [0 0 0 0 0 0 0 0 1]]\n"
          ]
        }
      ]
    },
    {
      "cell_type": "markdown",
      "source": [
        "Bài 8 – Phép toán trên ma trận: sử dụng thư viện NumPy để thực hiện các yêu cầu sau:\n",
        "\n",
        " Phép cộng ma trận: Am×n + Bm×n = Cm×n. Hãy sinh ngẫu nhiên 2 ma trận có kích thước 6x7. Thực hiện phép cộng 2 ma trận trên. Xuất giá trị các ma trận ra màn hình.\n",
        "\n",
        " Phép nhân vô hướng một số với ma trận: Hãy sinh ngẫu nhiên 1 ma trận có kích thước 5x8. Thực hiện nhân vô hướng 1 số được nhập từ bàn phím với ma trận này. Kết quả xuất ra màn hình.\n",
        "\n",
        " Phép chuyển vị ma trận: Sinh ngẫu nhiên một ma trận có kích thước 3x7. Thực hiện phép chuyển vị đối với ma trận này. Xuất các ma trận này ra màn hình.\n",
        "\n",
        " Phép nhân 2 ma trận: Am×n ∙ Bn×p = Cm×p. Hãy sinh ngẫu nhiên 2 ma trận A5×7 và B7×3, tiến hành nhân 2 ma trận này để thu được ma trận C5×3. Xuất các ma trận trên ra màn hình.\n",
        "Gợi ý: sử dụng hàm numpy.dot()\n",
        "\n",
        " Ma trận khả nghịch: ma trận vuông An×n gọi là khả nghịch (hay không suy biến) nếu tồn tại một ma trận vuông Bn×n sao cho A ∙ B = In . Khi này, B được gọi là ma trận nghịch đảo của A và ký hiệu là $A^−1$\n",
        ". Cho ma trận A5×7, hãy tính ma trận khả nghịch của A. Gợi\n",
        "\n",
        "ý: sử dụng hàm numpy.linalg.inv()"
      ],
      "metadata": {
        "id": "mzGujJB_vD3O"
      }
    },
    {
      "cell_type": "code",
      "source": [
        "A = np.random.randint(0,10,[6,7])\n",
        "print(\"Ma trận ngẫu nhiên A: \\n\", A)\n",
        "B = np.random.randint(0,10,[6,7])\n",
        "print(\"Ma trận ngẫu nhiên B: \\n\", B)\n",
        "C = A+B\n",
        "print(\"Cộng hai ma trận A và B: \\n\", C)"
      ],
      "metadata": {
        "colab": {
          "base_uri": "https://localhost:8080/"
        },
        "id": "wSwYy-euwwxd",
        "outputId": "ee25f354-8bf3-42b6-8004-49273cc5c901"
      },
      "execution_count": null,
      "outputs": [
        {
          "output_type": "stream",
          "name": "stdout",
          "text": [
            "Ma trận ngẫu nhiên A: \n",
            " [[6 8 0 2 3 7 1]\n",
            " [5 2 2 8 2 9 2]\n",
            " [9 8 9 0 6 1 2]\n",
            " [2 9 9 4 0 5 4]\n",
            " [5 0 1 6 5 8 7]\n",
            " [9 5 1 0 3 7 6]]\n",
            "Ma trận ngẫu nhiên B: \n",
            " [[3 7 7 4 0 6 9]\n",
            " [0 6 6 0 9 4 5]\n",
            " [0 4 3 3 9 3 3]\n",
            " [5 3 7 7 5 6 1]\n",
            " [1 3 6 8 4 3 2]\n",
            " [0 7 3 8 5 5 9]]\n",
            "Cộng hai ma trận A và B: \n",
            " [[ 9 15  7  6  3 13 10]\n",
            " [ 5  8  8  8 11 13  7]\n",
            " [ 9 12 12  3 15  4  5]\n",
            " [ 7 12 16 11  5 11  5]\n",
            " [ 6  3  7 14  9 11  9]\n",
            " [ 9 12  4  8  8 12 15]]\n"
          ]
        }
      ]
    },
    {
      "cell_type": "code",
      "source": [
        "n = int(input(\"nhập số: \"))\n",
        "A = np.random.randint(0,10, [5,8])\n",
        "print(\"sinh ngẫu nhiên ma trận: \\n\", A)\n",
        "print(\"Phép nhân vô hướng với 1 số: \\n\", A*n)\n"
      ],
      "metadata": {
        "colab": {
          "base_uri": "https://localhost:8080/"
        },
        "id": "nRFSiljpyAan",
        "outputId": "a4db3f0e-205d-420c-fb91-373a178b03f9"
      },
      "execution_count": null,
      "outputs": [
        {
          "output_type": "stream",
          "name": "stdout",
          "text": [
            "nhập số: 4\n",
            "sinh ngẫu nhiên ma trận: \n",
            " [[8 5 9 9 4 8 1 1]\n",
            " [7 9 0 0 1 7 0 9]\n",
            " [1 4 4 4 3 7 9 7]\n",
            " [0 0 0 5 5 9 2 4]\n",
            " [5 3 4 7 0 8 3 7]]\n",
            "Phép nhân vô hướng với 1 số: \n",
            " [[32 20 36 36 16 32  4  4]\n",
            " [28 36  0  0  4 28  0 36]\n",
            " [ 4 16 16 16 12 28 36 28]\n",
            " [ 0  0  0 20 20 36  8 16]\n",
            " [20 12 16 28  0 32 12 28]]\n"
          ]
        }
      ]
    },
    {
      "cell_type": "code",
      "source": [
        "A = np.random.randint(0,10,[3,7])\n",
        "print(\"sinh ngẫu nhiên ma trận: \\n\", A)\n",
        "print(\"Chuyển vị ma trận: \\n\", A.T)"
      ],
      "metadata": {
        "colab": {
          "base_uri": "https://localhost:8080/"
        },
        "id": "n7D1S3qlyqQn",
        "outputId": "79a5c4eb-078e-4bc2-d947-003e70742288"
      },
      "execution_count": null,
      "outputs": [
        {
          "output_type": "stream",
          "name": "stdout",
          "text": [
            "sinh ngẫu nhiên ma trận: \n",
            " [[9 4 9 8 6 9 4]\n",
            " [9 4 7 6 9 8 8]\n",
            " [2 3 9 2 5 7 5]]\n",
            "Chuyển vị ma trận: \n",
            " [[9 9 2]\n",
            " [4 4 3]\n",
            " [9 7 9]\n",
            " [8 6 2]\n",
            " [6 9 5]\n",
            " [9 8 7]\n",
            " [4 8 5]]\n"
          ]
        }
      ]
    },
    {
      "cell_type": "code",
      "source": [
        "A = np.random.randint(0,10,[5,7])\n",
        "print(\"Ma trận A: \\n\", A)\n",
        "B =  np.random.randint(0,10,[7,3])\n",
        "print(\"Ma trận B: \\n\", B)\n",
        "C = np.dot(A,B)\n",
        "print(\"Nhân hai ma trận : \\n\", C)\n"
      ],
      "metadata": {
        "colab": {
          "base_uri": "https://localhost:8080/"
        },
        "id": "WviICz4ezKZn",
        "outputId": "c316f0c3-3c50-499e-9413-c9dc1bb5b8d3"
      },
      "execution_count": null,
      "outputs": [
        {
          "output_type": "stream",
          "name": "stdout",
          "text": [
            "Ma trận A: \n",
            " [[4 7 0 4 9 5 6]\n",
            " [2 6 0 2 4 7 2]\n",
            " [7 0 9 3 5 7 2]\n",
            " [0 1 1 9 9 5 3]\n",
            " [6 7 9 7 4 6 0]]\n",
            "Ma trận B: \n",
            " [[1 6 7]\n",
            " [5 2 4]\n",
            " [0 8 7]\n",
            " [7 1 1]\n",
            " [7 2 8]\n",
            " [4 4 5]\n",
            " [5 9 8]]\n",
            "Nhân hai ma trận : \n",
            " [[180 134 205]\n",
            " [112  80 123]\n",
            " [101 173 206]\n",
            " [166  84 141]\n",
            " [142 161 202]]\n"
          ]
        }
      ]
    },
    {
      "cell_type": "code",
      "source": [
        "A = np.random.randint(0,10,[7,7])\n",
        "print(\"Ma trận A: \\n\", A)\n",
        "I = np.linalg.inv(A)\n",
        "print(\" Ma trận khả nghịch của A: \\n\", I)\n"
      ],
      "metadata": {
        "colab": {
          "base_uri": "https://localhost:8080/"
        },
        "id": "gyTOcD3yzyBy",
        "outputId": "89067f09-1f66-47d3-c166-8bd875822a8e"
      },
      "execution_count": null,
      "outputs": [
        {
          "output_type": "stream",
          "name": "stdout",
          "text": [
            "Ma trận A: \n",
            " [[6 3 8 3 3 6 4]\n",
            " [2 9 8 9 0 2 1]\n",
            " [1 8 0 6 9 2 9]\n",
            " [0 5 9 6 0 4 8]\n",
            " [4 3 7 4 6 8 7]\n",
            " [8 1 9 4 7 3 1]\n",
            " [1 0 2 0 1 5 0]]\n",
            " Ma trận khả nghịch của A: \n",
            " [[ 0.147343    0.17149758 -0.21980676 -0.39130435  0.65458937 -0.23429952\n",
            "  -0.75120773]\n",
            " [ 0.35771512 -0.18451954  0.36799876  0.32479552 -1.04406419  0.15175539\n",
            "   0.81696322]\n",
            " [ 0.09574544 -0.22876309  0.23421581  0.44317693 -0.8723992   0.29921797\n",
            "   0.74469077]\n",
            " [-0.46841967  0.44115607 -0.49793131 -0.59255273  1.56831444 -0.32387478\n",
            "  -1.25612235]\n",
            " [-0.05770794 -0.16585354  0.23362988  0.24106759 -0.55648826  0.26089348\n",
            "   0.58313005]\n",
            " [-0.05622519  0.09037643 -0.09645095 -0.14722342  0.32933946 -0.12500598\n",
            "  -0.06426077]\n",
            " [ 0.04814177 -0.00337208 -0.07181805 -0.05854498  0.29308366 -0.12605826\n",
            "  -0.37415698]]\n"
          ]
        }
      ]
    },
    {
      "cell_type": "markdown",
      "source": [
        "Bài 9 – Vector là dạng ma trận đặc biệt: Sử dụng numpy để thực hiện các yêu cầu sau\n",
        "\n",
        " Vector hàng (row vector) thực chất là ma trận có kích thước 1 × n. Hãy tạo ngẫu nhiên 1 vector hàng - x có kích thước 1 × 8. Kết quả xuất ra màn hình.\n",
        "\n",
        " Vector cột (column vector) thực chất là ma trận có kích thước m × 1. Hãy tạo ngẫu nhiên 1 vector cột – x có kích thước 8 × 1. Kết quả xuất ra màn hình."
      ],
      "metadata": {
        "id": "7K9Xzs5z0wI-"
      }
    },
    {
      "cell_type": "code",
      "source": [
        "rvector = np.random.randint(0,10,[1,8])\n",
        "print(\" Vector hàng: \\n\", rvector)\n",
        "cvector = np.random.randint(0,10,[8,1])\n",
        "print(\"Vector cột: \\n\", cvector)"
      ],
      "metadata": {
        "colab": {
          "base_uri": "https://localhost:8080/"
        },
        "id": "zLjYRoG7z5b8",
        "outputId": "c48c8880-86b6-4cfd-a646-f606041231ee"
      },
      "execution_count": null,
      "outputs": [
        {
          "output_type": "stream",
          "name": "stdout",
          "text": [
            " Vector hàng: \n",
            " [[8 3 8 8 0 4 6 4]]\n",
            "Vector cột: \n",
            " [[2]\n",
            " [6]\n",
            " [9]\n",
            " [7]\n",
            " [2]\n",
            " [1]\n",
            " [9]\n",
            " [0]]\n"
          ]
        }
      ]
    }
  ]
}