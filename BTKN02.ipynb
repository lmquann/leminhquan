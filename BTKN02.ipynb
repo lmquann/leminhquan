{
  "nbformat": 4,
  "nbformat_minor": 0,
  "metadata": {
    "colab": {
      "provenance": [],
      "authorship_tag": "ABX9TyMyLwQmRbpci1XJELHU7EOP",
      "include_colab_link": true
    },
    "kernelspec": {
      "name": "python3",
      "display_name": "Python 3"
    },
    "language_info": {
      "name": "python"
    }
  },
  "cells": [
    {
      "cell_type": "markdown",
      "metadata": {
        "id": "view-in-github",
        "colab_type": "text"
      },
      "source": [
        "<a href=\"https://colab.research.google.com/github/lmquann/leminhquan/blob/main/BTKN02.ipynb\" target=\"_parent\"><img src=\"https://colab.research.google.com/assets/colab-badge.svg\" alt=\"Open In Colab\"/></a>"
      ]
    },
    {
      "cell_type": "code",
      "execution_count": 3,
      "metadata": {
        "colab": {
          "base_uri": "https://localhost:8080/"
        },
        "id": "taS_8JK2yETG",
        "outputId": "e53cef64-a56f-4190-c85a-c62faa51b6bf"
      },
      "outputs": [
        {
          "output_type": "stream",
          "name": "stdout",
          "text": [
            "Mounted at /content/drive\n"
          ]
        }
      ],
      "source": [
        "import os\n",
        "import numpy as np\n",
        "from google.colab import drive\n",
        "drive.mount('/content/drive')\n",
        "from sklearn.model_selection import train_test_split\n",
        "from sklearn.metrics import mean_squared_error\n"
      ]
    },
    {
      "cell_type": "code",
      "source": [
        "def read_scale_data(folder, filename):\n",
        "    D = np.loadtxt(os.path.join(folder, filename), delimiter=',')\n",
        "    X, y = D[:,:-1], D[:,-1]\n",
        "    X, y = scaleData(X, y)\n",
        "    x0 = np.ones((X.shape[0], 1))\n",
        "    X = np.column_stack([x0, X])\n",
        "    X_train, X_test, y_train, y_test = train_test_split(X, y,\n",
        "                                                        test_size=0.30, random_state=15)\n",
        "    y_train = np.reshape(y_train, (y_train.shape[0], 1))\n",
        "    y_test = np.reshape(y_test, (y_test.shape[0], 1))\n",
        "    return X_train, X_test, y_train, y_test\n",
        "\n",
        "def featureVectorScaling(data):\n",
        "    avg = np.mean(data)\n",
        "    sln = data.max()\n",
        "    snn = data.min()\n",
        "    data_scl = (data - avg)/(sln - snn)\n",
        "    return data_scl\n",
        "\n",
        "def scaleData(X, y):\n",
        "    X_scl = X[:, 0]\n",
        "    for i in range(1, X.shape[1]):\n",
        "        scl = featureVectorScaling(X[:, i])\n",
        "        X_scl = np.column_stack([X_scl, scl])\n",
        "    y_scl = featureVectorScaling(y)\n",
        "    return X_scl, y_scl\n",
        "\n",
        "def computeLoss(X, y, w):\n",
        "    m = y.shape[0]\n",
        "    J = 0\n",
        "    h = np.dot(X, w)\n",
        "    J = (1/(2*m))*np.sum(np.square(h - y))\n",
        "    return J\n",
        "\n",
        "def gradientDescent(X, y, w, alpha, n):\n",
        "    m = y.shape[0]\n",
        "    J_history = []\n",
        "    w_optimal = w.copy()\n",
        "    for i in range(n):\n",
        "        h = np.dot(X, w_optimal)\n",
        "        error = h - y\n",
        "        w_optimal = w_optimal - (alpha/m)*np.dot(X.T, error)\n",
        "        J_history.append(computeLoss(X, y, w_optimal))\n",
        "    return w_optimal, J_history\n",
        "\n",
        "def mse(y, y_hat):\n",
        "    m = y.shape[0]\n",
        "    result = (1/m)*np.sum(np.square(y - y_hat))\n",
        "    return result\n",
        "\n",
        "def main():\n",
        "    n = 1500\n",
        "    alpha = 0.01\n",
        "    X_train, X_test, y_train, y_test = read_scale_data('/content/drive/MyDrive/học máy 1', 'ex1data1.txt')\n",
        "    X_train, y_train = scaleData(X_train, y_train)\n",
        "    X_test, y_test = scaleData(X_test, y_test)\n",
        "    print('Huấn luyện mô hình trên tập dữ liệu train')\n",
        "    w = np.zeros((X_train.shape[1], 1))\n",
        "    w, J_history = gradientDescent(X_train, y_train, w, alpha, n)\n",
        "    print(\"\\t\\tOptimal weights are: \", w)\n",
        "    print(\"\\t\\tLoss function: \", J_history[-1])\n",
        "    print('Đánh giá mô hình trên tập dữ liệu test')\n",
        "    y_hat = np.dot(X_test, w)\n",
        "    print(\"\\t\\tMSE: \", mse(y_test, y_hat))\n",
        "    print('\\t\\tSử dụng sklearn MSE: ', mean_squared_error(y_test, y_hat))\n",
        "if __name__ == '__main__':\n",
        "    main()"
      ],
      "metadata": {
        "colab": {
          "base_uri": "https://localhost:8080/"
        },
        "id": "KGcLT19fyPPV",
        "outputId": "52363d84-ad65-417e-946e-9288d498fcc0"
      },
      "execution_count": 4,
      "outputs": [
        {
          "output_type": "stream",
          "name": "stdout",
          "text": [
            "Huấn luyện mô hình trên tập dữ liệu train\n",
            "\t\tOptimal weights are:  [[3.26852973e-18]\n",
            " [2.92904282e-01]]\n",
            "\t\tLoss function:  0.009790029585964002\n",
            "Đánh giá mô hình trên tập dữ liệu test\n",
            "\t\tMSE:  0.039984628925097424\n",
            "\t\tSử dụng sklearn MSE:  0.039984628925097424\n"
          ]
        }
      ]
    }
  ]
}