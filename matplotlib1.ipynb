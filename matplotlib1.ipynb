{
  "nbformat": 4,
  "nbformat_minor": 0,
  "metadata": {
    "colab": {
      "name": "matplotlib1.ipynb",
      "provenance": [],
      "authorship_tag": "ABX9TyOaTScdfZKECBltXdz8Q0KM",
      "include_colab_link": true
    },
    "kernelspec": {
      "name": "python3",
      "display_name": "Python 3"
    },
    "language_info": {
      "name": "python"
    }
  },
  "cells": [
    {
      "cell_type": "markdown",
      "metadata": {
        "id": "view-in-github",
        "colab_type": "text"
      },
      "source": [
        "<a href=\"https://colab.research.google.com/github/lmquann/leminhquan/blob/main/matplotlib1.ipynb\" target=\"_parent\"><img src=\"https://colab.research.google.com/assets/colab-badge.svg\" alt=\"Open In Colab\"/></a>"
      ]
    },
    {
      "cell_type": "markdown",
      "source": [
        "Câu 1: Xét hàm số y(x) = $x^3$ + 3x + 7 với x ∈ [−6, 5]. Hãy:"
      ],
      "metadata": {
        "id": "qmRzJW9_5HNw"
      }
    },
    {
      "cell_type": "markdown",
      "source": [
        "- Xác định đạo hàm bậc nhất và bậc hai của hàm số trên;\n",
        "- Tạo ra 1 vector x có 1500 phần tử với giá trị khởi đầu là -6 và kết thúc là 5 bằng hàm\n",
        "linspace();"
      ],
      "metadata": {
        "id": "y0nTDofy5dtg"
      }
    },
    {
      "cell_type": "code",
      "execution_count": 9,
      "metadata": {
        "id": "58Brebyf5B0T"
      },
      "outputs": [],
      "source": [
        "y = x**3 + 3*x + 7\n",
        "y1 = 3*(x**2) + 3\n",
        "y2 = 6*x"
      ]
    },
    {
      "cell_type": "code",
      "source": [
        "import numpy as np\n",
        "#Tạo vector X:\n",
        "x = np.linspace(-6,5, 1500)\n"
      ],
      "metadata": {
        "id": "tsT7VT0f57zd"
      },
      "execution_count": 7,
      "outputs": []
    },
    {
      "cell_type": "markdown",
      "source": [
        "- Xây dựng vector y, y1 và y2 tương ứng hàm số y(x), y(x)\n",
        "′\n",
        ", y(x)\n",
        "′′ với giá trị các phần tử\n",
        "\n",
        "tương ứng được sinh ra từ việc sử dụng vector x ở trên làm tham số đầu vào;"
      ],
      "metadata": {
        "id": "OuEn8U2W6NR7"
      }
    },
    {
      "cell_type": "code",
      "source": [
        "y = np.array(y)\n",
        "y1 = np.array(y1)\n",
        "y2 = np.array(y2)"
      ],
      "metadata": {
        "id": "XXUEFSce6RDD"
      },
      "execution_count": 10,
      "outputs": []
    },
    {
      "cell_type": "markdown",
      "source": [
        "- Hãy tạo đối tượng fig (là đối tượng của lớp Figure) và đối tượng ax (là đối tượng của\n",
        "Axes) từ hàm subplot() để phục vụ việc vẽ hình đồ thị của các hàm số trên;\n",
        "- Sử dụng đối tượng ax để vẽ đồ thị cho hàm số y(x) tương ứng với tham số đầu vào là x và y và đặt tên cho đồ thị này là y(x);\n",
        "\n",
        "- Sử dụng đối tượng ax để vẽ đồ thị cho hàm số y\n",
        "′\n",
        "(x) tương ứng với tham số đầu vào là x\n",
        " và y1 và đặt tên cho đồ thị này là y\n",
        "′\n",
        "(x);\n",
        "- Sử dụng đối tượng ax để vẽ đồ thị cho hàm số y\n",
        "′′(x) tương ứng với tham số đầu vào là x\n",
        "và y2 và đặt tên cho đồ thị này là y\n",
        "′′(x);\n",
        "\n",
        "- Thiết lập tên cho các trục tọa độ: tung độ là y và hoành độ là x;\n",
        "- Hiển thị các tên của từng đồ thị lên hình vẽ (gợi ý: hàm legend())."
      ],
      "metadata": {
        "id": "9dx9vjU97lr0"
      }
    },
    {
      "cell_type": "code",
      "source": [
        "import matplotlib.pyplot as plt\n",
        "fig = plt.figure()\n",
        "ax = fig.add_subplot()\n",
        "#Vẽ\n",
        "ax.plot(x ,y , label = \"y(x)\", color = \"blue\")\n",
        "ax.plot(x ,y1 , label = \"y'(x)\", color = \"yellow\")\n",
        "ax.plot(x ,y2 , label = \"y''(x)\", color = \"red\")\n",
        "#Thiết lập tên:\n",
        "ax.set_xlabel(\"x\")\n",
        "ax.set_ylabel(\"y\")\n",
        "ax.legend(loc = 0)\n",
        "#Hiển thị ảnh:\n",
        "fig.savefig('image.svg', format = 'svg', dpi =1200)\n"
      ],
      "metadata": {
        "colab": {
          "base_uri": "https://localhost:8080/",
          "height": 279
        },
        "id": "dc5j9Hrp7lXj",
        "outputId": "cd067dd3-d936-4653-d173-93c3f3ebe4f5"
      },
      "execution_count": 11,
      "outputs": [
        {
          "output_type": "display_data",
          "data": {
            "text/plain": [
              "<Figure size 432x288 with 1 Axes>"
            ],
            "image/png": "[encoded data removed]"
          },
          "metadata": {
            "needs_background": "light"
          }
        }
      ]
    }
  ]
}