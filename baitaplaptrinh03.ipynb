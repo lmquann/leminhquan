{
  "nbformat": 4,
  "nbformat_minor": 0,
  "metadata": {
    "colab": {
      "name": "baitaplaptrinh03.ipynb",
      "provenance": [],
      "authorship_tag": "ABX9TyOie7wSOPrjIPow3/R3BD9R",
      "include_colab_link": true
    },
    "kernelspec": {
      "name": "python3",
      "display_name": "Python 3"
    },
    "language_info": {
      "name": "python"
    }
  },
  "cells": [
    {
      "cell_type": "markdown",
      "metadata": {
        "id": "view-in-github",
        "colab_type": "text"
      },
      "source": [
        "<a href=\"https://colab.research.google.com/github/lmquann/leminhquan/blob/main/baitaplaptrinh03.ipynb\" target=\"_parent\"><img src=\"https://colab.research.google.com/assets/colab-badge.svg\" alt=\"Open In Colab\"/></a>"
      ]
    },
    {
      "cell_type": "markdown",
      "metadata": {
        "id": "HRiFCJL0OV6u"
      },
      "source": [
        "Bài 1: Viết chương trình thực hiện các yêu cầu sau:\n",
        "- Nhập một chuỗi kí tự từ bàn phím\n",
        "- Nhập tên tập tin từ bàn phím\n",
        "- Lưu chuỗi ký tự ở trên vào tập tin.\n",
        "\n"
      ]
    },
    {
      "cell_type": "code",
      "metadata": {
        "colab": {
          "base_uri": "https://localhost:8080/"
        },
        "id": "ugHbNm_yN7D9",
        "outputId": "b1a806cb-32da-4a38-834b-696557202eec"
      },
      "source": [
        "c = input(\"nhập chuỗi: \")\n",
        "n = input(\"nhập tên: \")\n",
        "f = open(n + \".txt\",\"w\")\n",
        "f.writelines(c)\n",
        "f.close()\n"
      ],
      "execution_count": null,
      "outputs": [
        {
          "name": "stdout",
          "output_type": "stream",
          "text": [
            "nhập chuỗi: 1234\n",
            "nhập tên: python\n"
          ]
        }
      ]
    },
    {
      "cell_type": "markdown",
      "metadata": {
        "id": "xn8Ogr4_RTrO"
      },
      "source": [
        "Bài 2: Viết chương trình thực hiện các yêu cầu sau:\n",
        "- Nhập tên tập tin từ bàn phím\n",
        "- Đọc nội dung tập tin và in ra màn hình"
      ]
    },
    {
      "cell_type": "code",
      "metadata": {
        "colab": {
          "base_uri": "https://localhost:8080/"
        },
        "id": "ek3KJlY6RVDU",
        "outputId": "ed417007-9519-4480-8c49-cd8d5039c578"
      },
      "source": [
        "f1 = open(\"python.txt\",\"r\")\n",
        "a = f1.read()\n",
        "f1.close\n",
        "print(a)"
      ],
      "execution_count": null,
      "outputs": [
        {
          "output_type": "stream",
          "name": "stdout",
          "text": [
            "1234\n"
          ]
        }
      ]
    },
    {
      "cell_type": "markdown",
      "metadata": {
        "id": "g0ZdHF7-Ty5m"
      },
      "source": [
        "Bài 3: Viết chương trình thực hiện các yêu cầu sau:\n",
        "- Nhập tên tập tin từ bàn phím\n",
        "- Nhập một chuỗi kí tự vào từ bàn phím\n",
        "- Ghi chuỗi kí tự này vào cuối tập tin ở trên\n",
        "\n"
      ]
    },
    {
      "cell_type": "code",
      "metadata": {
        "colab": {
          "base_uri": "https://localhost:8080/"
        },
        "id": "Pg_UDctOT58f",
        "outputId": "c3d79338-8390-4bc6-e1fe-1ebdbdbf7889"
      },
      "source": [
        "f1 = open(\"python.txt\", \"a+\")\n",
        "st = input(\"nhập chuỗi: \")\n",
        "f1.writelines(st)\n",
        "f1.close()"
      ],
      "execution_count": null,
      "outputs": [
        {
          "name": "stdout",
          "output_type": "stream",
          "text": [
            "nhập chuỗi: 46\n"
          ]
        }
      ]
    },
    {
      "cell_type": "markdown",
      "metadata": {
        "id": "1Y5umiijZ-Wk"
      },
      "source": [
        "Bài 4: Viết chương trình thực hiện các yêu cầu sau:\n",
        "- Đọc tập tin ở bài 3 và ghi kết quả ra màn hình"
      ]
    },
    {
      "cell_type": "code",
      "metadata": {
        "id": "lBlKZcdZaEjL",
        "colab": {
          "base_uri": "https://localhost:8080/"
        },
        "outputId": "4f78c788-2012-45dd-ccd8-d981e2631d71"
      },
      "source": [
        "f1 = open(\"python.txt\",\"r\")\n",
        "a = f1.read()\n",
        "f1.close\n",
        "print(a)"
      ],
      "execution_count": null,
      "outputs": [
        {
          "output_type": "stream",
          "name": "stdout",
          "text": [
            "123446\n"
          ]
        }
      ]
    },
    {
      "cell_type": "markdown",
      "metadata": {
        "id": "7heorsH3cyv_"
      },
      "source": [
        "Bài 5: Viết chương trình thực các yêu cầu sau:\n",
        "- Sinh ngẫu nhiên 1 danh sách gồm 1000 số nguyên trong khoảng từ [-1000, 1000]\n",
        "- Nhập tên tập tin từ bàn phím\n",
        "- Ghi danh sách trên vào tập tin theo quy tắc:\n",
        "o 10 số trên một hàng\n",
        "o Các số phân tách nhau bởi dấu phẩy (,)\n",
        "- Đọc nội dung tập tin ở trên và in ra màn hình theo quy tắc:\n",
        "o 10 số trên một hàng\n",
        "o Các số phan tách nhau bởi dấu tab."
      ]
    },
    {
      "cell_type": "code",
      "metadata": {
        "id": "YDI-KZlOc4PI"
      },
      "source": [
        "import random \n",
        "x = []\n",
        "for k in range(1,1001):\n",
        "  ham = random.randint(-1000,1000)\n",
        "  x.append(ham)\n",
        "f1 = open(\"python.txt\", \"a+\")\n",
        "for i in range(100):\n",
        "  for j in range(1,11):\n",
        "    f1.write(str(x[i*10 + j - 1]) + \",\")\n",
        "  f1.write(\"\\n\")\n",
        "f1.close()\n",
        "\n",
        "\n"
      ],
      "execution_count": 29,
      "outputs": []
    },
    {
      "cell_type": "code",
      "metadata": {
        "id": "aR8Bv1-sCKHy",
        "outputId": "09b9c031-da0b-4a57-a109-443674cd99c4",
        "colab": {
          "base_uri": "https://localhost:8080/"
        }
      },
      "source": [
        "f2 = open(\"python.txt\", \"r\")\n",
        "a = f2.read()\n",
        "f2.close()\n",
        "print(a)\n"
      ],
      "execution_count": 33,
      "outputs": [
        {
          "output_type": "stream",
          "name": "stdout",
          "text": [
            "\n"
          ]
        }
      ]
    }
  ]
}