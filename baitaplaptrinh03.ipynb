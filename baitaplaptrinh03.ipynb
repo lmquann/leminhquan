{
  "nbformat": 4,
  "nbformat_minor": 0,
  "metadata": {
    "colab": {
      "name": "baitaplaptrinh03.ipynb",
      "provenance": [],
      "authorship_tag": "ABX9TyN1FrJZUMGxLATOV1XoSn2R",
      "include_colab_link": true
    },
    "kernelspec": {
      "name": "python3",
      "display_name": "Python 3"
    },
    "language_info": {
      "name": "python"
    }
  },
  "cells": [
    {
      "cell_type": "markdown",
      "metadata": {
        "id": "view-in-github",
        "colab_type": "text"
      },
      "source": [
        "<a href=\"https://colab.research.google.com/github/lmquann/leminhquan/blob/main/baitaplaptrinh03.ipynb\" target=\"_parent\"><img src=\"https://colab.research.google.com/assets/colab-badge.svg\" alt=\"Open In Colab\"/></a>"
      ]
    },
    {
      "cell_type": "markdown",
      "metadata": {
        "id": "HRiFCJL0OV6u"
      },
      "source": [
        "Bài 1: Viết chương trình thực hiện các yêu cầu sau:\n",
        "- Nhập một chuỗi kí tự từ bàn phím\n",
        "- Nhập tên tập tin từ bàn phím\n",
        "- Lưu chuỗi ký tự ở trên vào tập tin.\n",
        "\n"
      ]
    },
    {
      "cell_type": "code",
      "metadata": {
        "colab": {
          "base_uri": "https://localhost:8080/"
        },
        "id": "ugHbNm_yN7D9",
        "outputId": "d13c8295-e4ca-4fca-b79d-50ab7055d6c7"
      },
      "source": [
        "c = input(\"nhập chuỗi: \")\n",
        "n = input(\"nhập tên: \")\n",
        "f = open(n + \".txt\",\"w\")\n",
        "f.writelines(c)\n",
        "f.close()\n"
      ],
      "execution_count": 31,
      "outputs": [
        {
          "name": "stdout",
          "output_type": "stream",
          "text": [
            "nhập chuỗi: mothaiba\n",
            "nhập tên: python\n"
          ]
        }
      ]
    },
    {
      "cell_type": "markdown",
      "metadata": {
        "id": "xn8Ogr4_RTrO"
      },
      "source": [
        "Bài 2: Viết chương trình thực hiện các yêu cầu sau:\n",
        "- Nhập tên tập tin từ bàn phím\n",
        "- Đọc nội dung tập tin và in ra màn hình"
      ]
    },
    {
      "cell_type": "code",
      "metadata": {
        "colab": {
          "base_uri": "https://localhost:8080/"
        },
        "id": "ek3KJlY6RVDU",
        "outputId": "13818d69-6bad-4e0c-bbdf-268c5833b043"
      },
      "source": [
        "f1 = open(\"python.txt\",\"r\")\n",
        "a = f1.read()\n",
        "f1.close\n",
        "print(a)"
      ],
      "execution_count": 32,
      "outputs": [
        {
          "output_type": "stream",
          "name": "stdout",
          "text": [
            "mothaiba\n"
          ]
        }
      ]
    },
    {
      "cell_type": "markdown",
      "metadata": {
        "id": "g0ZdHF7-Ty5m"
      },
      "source": [
        "Bài 3: Viết chương trình thực hiện các yêu cầu sau:\n",
        "- Nhập tên tập tin từ bàn phím\n",
        "- Nhập một chuỗi kí tự vào từ bàn phím\n",
        "- Ghi chuỗi kí tự này vào cuối tập tin ở trên\n",
        "\n"
      ]
    },
    {
      "cell_type": "code",
      "metadata": {
        "colab": {
          "base_uri": "https://localhost:8080/"
        },
        "id": "Pg_UDctOT58f",
        "outputId": "ec765d21-b8ba-4ab0-acab-f864e2df050d"
      },
      "source": [
        "f1 = open(\"python.txt\", \"a+\")\n",
        "st = input(\"nhập chuỗi: \")\n",
        "f1.writelines(st)\n",
        "f1.close()\n",
        "print(f1)"
      ],
      "execution_count": 36,
      "outputs": [
        {
          "output_type": "stream",
          "name": "stdout",
          "text": [
            "nhập chuỗi: haiba\n",
            "<_io.TextIOWrapper name='python.txt' mode='a+' encoding='UTF-8'>\n"
          ]
        }
      ]
    },
    {
      "cell_type": "markdown",
      "metadata": {
        "id": "1Y5umiijZ-Wk"
      },
      "source": [
        "Bài 4: Viết chương trình thực hiện các yêu cầu sau:\n",
        "- Đọc tập tin ở bài 3 và ghi kết quả ra màn hình"
      ]
    },
    {
      "cell_type": "code",
      "metadata": {
        "id": "lBlKZcdZaEjL"
      },
      "source": [
        "f1.read()"
      ],
      "execution_count": null,
      "outputs": []
    },
    {
      "cell_type": "code",
      "metadata": {
        "id": "inqSdpiOfcLw"
      },
      "source": [
        ""
      ],
      "execution_count": null,
      "outputs": []
    },
    {
      "cell_type": "markdown",
      "metadata": {
        "id": "7heorsH3cyv_"
      },
      "source": [
        "Bài 5: Viết chương trình thực các yêu cầu sau:\n",
        "- Sinh ngẫu nhiên 1 danh sách gồm 1000 số nguyên trong khoảng từ [-1000, 1000]\n",
        "- Nhập tên tập tin từ bàn phím\n",
        "- Ghi danh sách trên vào tập tin theo quy tắc:\n",
        "o 10 số trên một hàng\n",
        "o Các số phân tách nhau bởi dấu phẩy (,)\n",
        "- Đọc nội dung tập tin ở trên và in ra màn hình theo quy tắc:\n",
        "o 10 số trên một hàng\n",
        "o Các số phan tách nhau bởi dấu tab."
      ]
    },
    {
      "cell_type": "code",
      "metadata": {
        "id": "YDI-KZlOc4PI"
      },
      "source": [
        ""
      ],
      "execution_count": null,
      "outputs": []
    }
  ]
}