{
  "nbformat": 4,
  "nbformat_minor": 0,
  "metadata": {
    "colab": {
      "provenance": [],
      "authorship_tag": "ABX9TyPNsTXlY+8ltZkwt1gggaa0",
      "include_colab_link": true
    },
    "kernelspec": {
      "name": "python3",
      "display_name": "Python 3"
    },
    "language_info": {
      "name": "python"
    }
  },
  "cells": [
    {
      "cell_type": "markdown",
      "metadata": {
        "id": "view-in-github",
        "colab_type": "text"
      },
      "source": [
        "<a href=\"https://colab.research.google.com/github/lmquann/leminhquan/blob/main/BTKN01.ipynb\" target=\"_parent\"><img src=\"https://colab.research.google.com/assets/colab-badge.svg\" alt=\"Open In Colab\"/></a>"
      ]
    },
    {
      "cell_type": "code",
      "execution_count": 1,
      "metadata": {
        "colab": {
          "base_uri": "https://localhost:8080/"
        },
        "id": "kAzVsJecei_i",
        "outputId": "48c2ac92-28a4-4d95-92ef-60a616b07dab"
      },
      "outputs": [
        {
          "output_type": "stream",
          "name": "stdout",
          "text": [
            "Mounted at /content/drive\n"
          ]
        }
      ],
      "source": [
        "import os\n",
        "import numpy as np\n",
        "from sklearn.model_selection import train_test_split\n",
        "from google.colab import drive\n",
        "drive.mount('/content/drive')"
      ]
    },
    {
      "cell_type": "code",
      "source": [
        "def readData(folder, filename):\n",
        "    D = np.loadtxt(os.path.join(folder, filename), delimiter=',')\n",
        "    X, y = D[:,:-1], D[:,-1]\n",
        "\n",
        "    return X, y\n",
        "def tt_split(X, y, t_s, r_s = None):\n",
        "    X_train, X_test, y_train, y_test = train_test_split(X, y, test_size = t_s, random_state = r_s)\n",
        "    return X_train, X_test, y_train, y_test\n"
      ],
      "metadata": {
        "id": "ZqkAQaTwfmMN"
      },
      "execution_count": 8,
      "outputs": []
    },
    {
      "cell_type": "code",
      "source": [
        "def main():\n",
        "    X, y = readData(\"/content/drive/MyDrive/học máy 1\", \"ex1data1.txt\")\n",
        "    X_train, X_test, y_train, y_test =  tt_split(X, y, t_s = 0.3, r_s=4)\n",
        "    print(X_train, X_test, y_train, y_test)\n",
        "if __name__ == '__main__':\n",
        "    main()\n"
      ],
      "metadata": {
        "colab": {
          "base_uri": "https://localhost:8080/"
        },
        "id": "He3XB7AEfpUZ",
        "outputId": "7d25cb0d-03f8-4163-c787-3504e9fef446"
      },
      "execution_count": 11,
      "outputs": [
        {
          "output_type": "stream",
          "name": "stdout",
          "text": [
            "[[ 5.8598]\n",
            " [ 5.7292]\n",
            " [ 5.1793]\n",
            " [ 6.5479]\n",
            " [ 6.4296]\n",
            " [ 8.5172]\n",
            " [ 8.5781]\n",
            " [ 7.4764]\n",
            " [ 5.7737]\n",
            " [14.164 ]\n",
            " [ 5.0365]\n",
            " [ 5.4901]\n",
            " [ 8.2934]\n",
            " [ 6.3261]\n",
            " [ 5.734 ]\n",
            " [ 5.0594]\n",
            " [18.945 ]\n",
            " [10.236 ]\n",
            " [11.7   ]\n",
            " [ 5.1301]\n",
            " [ 6.5894]\n",
            " [ 8.2111]\n",
            " [ 5.3794]\n",
            " [21.279 ]\n",
            " [ 9.7687]\n",
            " [ 5.1077]\n",
            " [13.176 ]\n",
            " [ 8.8254]\n",
            " [18.959 ]\n",
            " [ 5.8918]\n",
            " [ 7.0931]\n",
            " [11.708 ]\n",
            " [ 5.3077]\n",
            " [ 5.4069]\n",
            " [ 9.2482]\n",
            " [ 5.5204]\n",
            " [ 7.3345]\n",
            " [ 5.5416]\n",
            " [ 6.4862]\n",
            " [ 5.2524]\n",
            " [ 5.4369]\n",
            " [ 8.2951]\n",
            " [ 6.2742]\n",
            " [ 5.1884]\n",
            " [ 7.2259]\n",
            " [ 7.5386]\n",
            " [20.27  ]\n",
            " [ 9.1802]\n",
            " [ 6.1101]\n",
            " [ 7.0032]\n",
            " [ 7.4239]\n",
            " [12.836 ]\n",
            " [ 7.8247]\n",
            " [ 5.7077]\n",
            " [ 8.0959]\n",
            " [ 5.6397]\n",
            " [ 5.8707]\n",
            " [13.394 ]\n",
            " [ 9.3102]\n",
            " [ 5.0546]\n",
            " [ 7.5402]\n",
            " [ 6.0062]\n",
            " [ 6.002 ]\n",
            " [ 5.5277]\n",
            " [20.341 ]\n",
            " [ 6.3589]\n",
            " [ 5.0702]] [[ 6.3557]\n",
            " [ 5.6407]\n",
            " [ 8.4084]\n",
            " [ 7.6031]\n",
            " [ 9.4536]\n",
            " [ 6.1891]\n",
            " [ 5.6063]\n",
            " [ 5.7107]\n",
            " [14.908 ]\n",
            " [ 8.5186]\n",
            " [ 6.3654]\n",
            " [ 5.5649]\n",
            " [ 7.9334]\n",
            " [ 5.3054]\n",
            " [ 5.8014]\n",
            " [ 6.3328]\n",
            " [12.828 ]\n",
            " [ 5.0269]\n",
            " [ 7.6366]\n",
            " [ 7.2182]\n",
            " [10.274 ]\n",
            " [ 6.5159]\n",
            " [ 6.8825]\n",
            " [10.136 ]\n",
            " [ 8.3829]\n",
            " [ 5.4994]\n",
            " [ 7.0708]\n",
            " [ 6.3534]\n",
            " [22.203 ]\n",
            " [10.957 ]] [ 6.8233   0.47953 -0.74279  0.29678  3.6518   4.2415  12.       4.3483\n",
            "  2.4406  15.505    5.7014   4.263    0.14454  5.1875   3.1551   2.8214\n",
            " 22.638    7.7754   8.0043   0.56077  5.9966   6.5426   3.5129  17.929\n",
            "  7.5435   2.0576  14.692    5.1694  17.054    1.8495   1.0463   5.3854\n",
            "  1.8396   0.55657 12.134    0.152    4.0259   1.0179   6.5987  -1.22\n",
            "  0.61705  5.7442   2.4756   0.20421  3.3411   3.8845  21.767    6.7981\n",
            " 17.592   11.854    4.2885  10.117    6.7318   1.8451   4.1164   4.6042\n",
            "  7.2029   9.0551   3.9624   3.8166   6.7504   1.2784   0.92695  9.1302\n",
            " 20.992   -1.4211   5.1337 ] [ 0.67861  0.71618  7.2258   4.9981   5.4141   3.1386   3.3928   3.2522\n",
            " 12.054   13.662    5.3048   3.0825   4.5623   1.9869   1.844    1.4233\n",
            " 13.501   -2.6807   4.2959   4.8852   6.7526   5.3436   3.9115   6.6799\n",
            " 11.886    1.0173   5.3893   5.4974  24.147    7.0467 ]\n"
          ]
        }
      ]
    }
  ]
}