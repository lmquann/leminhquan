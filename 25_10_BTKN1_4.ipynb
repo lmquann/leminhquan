{
  "nbformat": 4,
  "nbformat_minor": 0,
  "metadata": {
    "colab": {
      "provenance": [],
      "authorship_tag": "ABX9TyPztoakf3+wFQwEyy7spaWY",
      "include_colab_link": true
    },
    "kernelspec": {
      "name": "python3",
      "display_name": "Python 3"
    },
    "language_info": {
      "name": "python"
    }
  },
  "cells": [
    {
      "cell_type": "markdown",
      "metadata": {
        "id": "view-in-github",
        "colab_type": "text"
      },
      "source": [
        "<a href=\"https://colab.research.google.com/github/lmquann/leminhquan/blob/main/25_10_BTKN1_4.ipynb\" target=\"_parent\"><img src=\"https://colab.research.google.com/assets/colab-badge.svg\" alt=\"Open In Colab\"/></a>"
      ]
    },
    {
      "cell_type": "code",
      "execution_count": 2,
      "metadata": {
        "colab": {
          "base_uri": "https://localhost:8080/"
        },
        "id": "cV6vUR6hliSg",
        "outputId": "836a004a-d59c-4105-91e7-caa00c2aba47"
      },
      "outputs": [
        {
          "output_type": "stream",
          "name": "stdout",
          "text": [
            "Mounted at /content/drive\n"
          ]
        }
      ],
      "source": [
        "import os\n",
        "import numpy as np\n",
        "from google.colab import drive\n",
        "drive.mount('/content/drive')\n",
        "from sklearn.model_selection import train_test_split\n",
        "from sklearn.metrics import mean_squared_error"
      ]
    },
    {
      "cell_type": "code",
      "source": [
        "def readData(folder, filename):\n",
        "    data = np.loadtxt(os.path.join(folder, filename), delimiter=',')\n",
        "    X = data[:, :-1]\n",
        "    y = data[:, -1].reshape(-1, 1)\n",
        "    one = np.ones((X.shape[0], 1))\n",
        "    X = np.concatenate((one, X), axis=1)\n",
        "    return X, y\n",
        "\n",
        "def normScaling(X, y):\n",
        "    for col in range(1, X.shape[1]):\n",
        "        temp = X[:, col]\n",
        "        X[:, col] = (temp - np.min(temp)) / (np.max(temp) - np.min(temp))\n",
        "    temp = y[:, 0]\n",
        "    y[:, 0] = (temp - np.min(temp)) / (np.max(temp) - np.min(temp))\n",
        "\n",
        "def standardScaling(X, y):\n",
        "    for col in range(1, X.shape[1]):\n",
        "        temp = X[:, col]\n",
        "        X[:, col] = (temp - np.mean(temp)) / (np.std(temp))\n",
        "    temp = y[:, 0]\n",
        "    y[:, 0] = (temp - np.mean(temp)) / (np.std(temp))\n",
        "\n",
        "def predict(X, w):\n",
        "    return np.dot(X, w)\n",
        "\n",
        "def calculateLoss(X, y, w):\n",
        "    h = np.dot(X, w)\n",
        "    m = X.shape[0]\n",
        "    J = (1 / (2 * m)) * np.sum(np.square(h - y))\n",
        "    return J\n",
        "\n",
        "def gradient(X, y, w):\n",
        "    m = X.shape[0]\n",
        "    h = np.dot(X, w)\n",
        "    return (1 / m) * np.dot(X.T, h - y)\n",
        "\n",
        "def gradientDescent(X, y, w_init, alpha, n=1500):\n",
        "    w_optimal = w_init.reshape(-1, 1)\n",
        "    loss_values = []\n",
        "    for i in range(n):\n",
        "        w_optimal = w_optimal - alpha * gradient(X, y, w_optimal)\n",
        "        j = calculateLoss(X, y, w_optimal)\n",
        "        loss_values.append(j)\n",
        "    return w_optimal, loss_values\n"
      ],
      "metadata": {
        "id": "4y8LOXHvmFrd"
      },
      "execution_count": 5,
      "outputs": []
    },
    {
      "cell_type": "markdown",
      "source": [
        "Sử dụng phương pháp chia train-test ở bài 1 để thực hiện huấn\n",
        "luyện và kiểm thử mô hình Hồi quy tuyến tính mà bạn đã lập trình\n",
        "ở Bài học trước.\n",
        "Lưu ý:\n",
        "- Sử dụng tập dữ liệu ex1data1.txt và ex1data2.txt;\n",
        "- Cần thêm vector cột có giá trị 1 vào tập X_train và X_test;\n",
        "- Cần chuyển y_train và y_test thành vector cột dạng ma trận\n",
        "R\n",
        "m×1\n",
        "cho phù hợp với mô tả toán học của bài học trước;\n",
        "- Thực hiện chuẩn hóa dữ liệu với X_train và X_test,\n",
        "y_train và y_test;\n",
        "- Đánh giá hiệu năng của mô hình hồi quy tuyến tính bằng\n",
        "các chỉ số:\n",
        "\n",
        "\n",
        "o MSE =\n",
        "1\n",
        "m\n",
        "∑(y − ydự đoán)\n",
        "2"
      ],
      "metadata": {
        "id": "bmfmhAonmSsB"
      }
    },
    {
      "cell_type": "code",
      "source": [
        "def main():\n",
        "    # Đọc dữ liệu\n",
        "    X, y = readData('/content/drive/MyDrive/học máy 1', 'ex1data1.txt')\n",
        "    # Chia tập dữ liệu thành training set và test set\n",
        "    X_train, X_test, y_train, y_test = train_test_split(X, y, test_size=0.3, random_state=5)\n",
        "    # Chuẩn hóa dữ liệu\n",
        "    standardScaling(X_train, y_train)\n",
        "    standardScaling(X_test, y_test)\n",
        "\n",
        "    # Huấn luyện mô hình bằng gradient descent\n",
        "    w_init = np.zeros((X_train.shape[1], 1))\n",
        "    w_opt, loss = gradientDescent(X=X_train, y=y_train, w_init=w_init, alpha=0.01, n=1500)\n",
        "    # Dự đoán\n",
        "    y_pred = predict(X_test, w_opt)\n",
        "\n",
        "    # Đánh giá hiệu năng của mô hình\n",
        "    print(\"Đánh giá hiệu năng mô hình\")\n",
        "    print(\"\\tMSE: \", mean_squared_error(y_test, y_pred))\n",
        "    print(\"\\tRMSE: \", mean_squared_error(y_test, y_pred) ** (1 / 2))\n",
        "\n",
        "\n",
        "if __name__ == \"__main__\":\n",
        "    main()\n"
      ],
      "metadata": {
        "colab": {
          "base_uri": "https://localhost:8080/"
        },
        "id": "4QaquQozmXgS",
        "outputId": "dc58424e-ca50-464c-a9a5-d85876592a98"
      },
      "execution_count": 6,
      "outputs": [
        {
          "output_type": "stream",
          "name": "stdout",
          "text": [
            "Đánh giá hiệu năng mô hình\n",
            "\tMSE:  0.20240031246370851\n",
            "\tRMSE:  0.4498892224355997\n"
          ]
        }
      ]
    },
    {
      "cell_type": "markdown",
      "source": [
        "Giải lại bài 2 với yêu cầu sau:\n",
        "- Thay thuật toán tối ưu Gradient Descent bằng 2 – 3 thuật\n",
        "toán tối ưu khác;\n",
        "- So sánh hiệu năng của mô hình hồi quy tuyến tính được\n",
        "huấn luyện bởi các thuật toán tối ưu khác nhau này."
      ],
      "metadata": {
        "id": "w7YQpJbtm8OR"
      }
    },
    {
      "cell_type": "code",
      "source": [],
      "metadata": {
        "id": "VGsi0O8BnBaG"
      },
      "execution_count": null,
      "outputs": []
    },
    {
      "cell_type": "markdown",
      "source": [
        "Thư viện scikit-learn cung cấp mô hình LinearRegression để\n",
        "phục vụ xây dựng các mô hình hồi quy tuyến tính. Hãy sử dụng\n",
        "mô hình LinearRegression để giải bài tập 2.\n",
        "Lưu ý:\n",
        "- Xét trường hợp có thêm vector cột giá trị 1 vào X\n",
        "- Xét trường hợp không thêm vector cột giá trị 1 vào X\n",
        "- Đánh giá hiệu năng của mô hình bằng MSE và/hoặc RMSE"
      ],
      "metadata": {
        "id": "Q1ZRhPtWnIeG"
      }
    },
    {
      "cell_type": "code",
      "source": [
        "from sklearn.linear_model import LinearRegression\n",
        "def main():\n",
        "  # Đọc dữ liệu\n",
        "  X, y = readData('/content/drive/MyDrive/học máy 1', 'ex1data1.txt')\n",
        "  # Chia tập dữ liệu thành training set và test set\n",
        "  X_train, X_test, y_train, y_test = train_test_split(X, y, test_size=0.3, random_state=5)\n",
        "\t# Chuẩn hóa dữ liệu\n",
        "  standardScaling(X_train, y_train)\n",
        "  standardScaling(X_test, y_test)\n",
        "\t# Huấn luyện mô hình bằng gradient descent\n",
        "  regressor = LinearRegression()\n",
        "  regressor.fit(X_train, y_train)\n",
        "  # Dự đoán\n",
        "  y_pred = regressor.predict(X_test)\n",
        "\t# Đánh giá hiệu năng của mô hình\n",
        "  print(\"Đánh giá hiệu năng mô hình\")\n",
        "  print(\"\\tMSE: \", mean_squared_error(y_test, y_pred))\n",
        "  print(\"\\tRMSE: \", mean_squared_error(y_test, y_pred) ** (1 / 2))\n",
        "\t\n",
        "if __name__ == \"__main__\":\n",
        "\t    main()\n",
        "\n"
      ],
      "metadata": {
        "colab": {
          "base_uri": "https://localhost:8080/"
        },
        "id": "axcQIMIMnT2o",
        "outputId": "c3452ec2-6260-4886-de8b-ce4bdedfe2a7"
      },
      "execution_count": 7,
      "outputs": [
        {
          "output_type": "stream",
          "name": "stdout",
          "text": [
            "Đánh giá hiệu năng mô hình\n",
            "\tMSE:  0.20240027667824997\n",
            "\tRMSE:  0.4498891826641867\n"
          ]
        }
      ]
    },
    {
      "cell_type": "markdown",
      "source": [
        "Thư viện scikit-learn cung cấp rất nhiều phương thức tiền xử lý\n",
        "dữ liệu (preprocessing data), hãy giải lại bài 4 với yêu cầu bổ\n",
        "sung là:\n",
        "- Thực hiện chuẩn hóa dữ liệu bằng StandardScaler;\n",
        "- Thực hiện chuẩn hóa dữ liệu bằng MinMaxScaler."
      ],
      "metadata": {
        "id": "BLIxO5ozn9dF"
      }
    },
    {
      "cell_type": "code",
      "source": [
        "from sklearn.preprocessing import StandardScaler, MinMaxScaler\n",
        "def featureScaling(X_train, X_test, y_train, y_test):\n",
        "    sc_X = StandardScaler()\n",
        "    sc_y = StandardScaler()\n",
        "    X_train[:, 1:] = sc_X.fit_transform(X_train[:, 1:])\n",
        "    X_test[:, 1:] = sc_X.transform(X_test[:, 1:])\n",
        "    y_train = sc_y.fit_transform(y_train)\n",
        "    y_test = sc_y.transform(y_test)\n",
        "    return X_train, X_test, y_train, y_test\n",
        "def main():\n",
        "    # Đọc dữ liệu\n",
        "    X, y = readData('/content/drive/MyDrive/học máy 1', 'ex1data1.txt')\n",
        "    # Chia tập dữ liệu thành training set và test set\n",
        "    X_train, X_test, y_train, y_test = train_test_split(X, y, test_size=0.3, random_state=5)\n",
        "    # Chuẩn hóa dữ liệu\n",
        "    X_train, X_test, y_train, y_test = featureScaling(X_train, X_test, y_train, y_test)\n",
        "    # Huấn luyện mô hình bằng gradient descent\n",
        "    regressor = LinearRegression()\n",
        "    regressor.fit(X_train, y_train)\n",
        "    # Dự đoán\n",
        "    y_pred = regressor.predict(X_test)\n",
        "    # Đánh giá hiệu năng của mô hình\n",
        "    print(\"Đánh giá hiệu năng mô hình\")\n",
        "    print(\"\\tMSE: \", mean_squared_error(y_test, y_pred))\n",
        "    print(\"\\tRMSE: \", mean_squared_error(y_test, y_pred) ** (1 / 2))\n",
        "\n",
        "if __name__ == \"__main__\":\n",
        "    main()\n"
      ],
      "metadata": {
        "colab": {
          "base_uri": "https://localhost:8080/"
        },
        "id": "6ZJGulSRn-EY",
        "outputId": "3921abfd-1555-41ce-e6c0-6b8090ab5b2c"
      },
      "execution_count": 9,
      "outputs": [
        {
          "output_type": "stream",
          "name": "stdout",
          "text": [
            "Đánh giá hiệu năng mô hình\n",
            "\tMSE:  0.13531645212681556\n",
            "\tRMSE:  0.36785384614927646\n"
          ]
        }
      ]
    },
    {
      "cell_type": "markdown",
      "source": [
        "Thư viện scikit-learn cung cấp cách thức thực hiện cross-\n",
        "validation. Hãy giải lại bài tập 5 với yêu cầu bổ sung là thực hiện\n",
        "\n",
        "10-fold cross-validation cho quá trình huấn luyện mô hình.\n",
        "Gợi ý:\n",
        "- Sử dụng StandardScaler/MinMaxScaler và mô hình\n",
        "LinearRegression;\n",
        "- Tạo 10-fold cross validation;\n",
        "- Thực hiện huấn luyện mô hình với cross_validate;\n",
        "- Hoặc thực hiện huấn luyenj mô hình với cross_val_score;\n",
        "- Sử dụng cross_val_predict để dự đoán."
      ],
      "metadata": {
        "id": "jiEvk9TeoYtX"
      }
    }
  ]
}