{
  "nbformat": 4,
  "nbformat_minor": 0,
  "metadata": {
    "colab": {
      "provenance": [],
      "authorship_tag": "ABX9TyPYQx9edtiLNSI2mb+oE0zz",
      "include_colab_link": true
    },
    "kernelspec": {
      "name": "python3",
      "display_name": "Python 3"
    },
    "language_info": {
      "name": "python"
    }
  },
  "cells": [
    {
      "cell_type": "markdown",
      "metadata": {
        "id": "view-in-github",
        "colab_type": "text"
      },
      "source": [
        "<a href=\"https://colab.research.google.com/github/lmquann/leminhquan/blob/main/%C4%91a_bi%E1%BA%BFn_b%C3%A0i_t%E1%BA%ADp_1.ipynb\" target=\"_parent\"><img src=\"https://colab.research.google.com/assets/colab-badge.svg\" alt=\"Open In Colab\"/></a>"
      ]
    },
    {
      "cell_type": "code",
      "execution_count": 1,
      "metadata": {
        "id": "_TSmVkxvGWqV"
      },
      "outputs": [],
      "source": [
        "import numpy as np"
      ]
    },
    {
      "cell_type": "markdown",
      "source": [
        "Cho v là 1 vector hàng\n",
        "v = [1, 2, 3, 4, 5]"
      ],
      "metadata": {
        "id": "A3WuFZCoIFIh"
      }
    },
    {
      "cell_type": "code",
      "source": [
        "v = np.array([1,2,3,4,5])\n",
        "print(v)"
      ],
      "metadata": {
        "colab": {
          "base_uri": "https://localhost:8080/"
        },
        "id": "JQuSKqRwHWTd",
        "outputId": "b7be51c2-bf68-416e-9f0a-8389276d60ed"
      },
      "execution_count": 3,
      "outputs": [
        {
          "output_type": "stream",
          "name": "stdout",
          "text": [
            "[1 2 3 4 5]\n"
          ]
        }
      ]
    },
    {
      "cell_type": "markdown",
      "source": [
        "Cho w là 1 vcetor cột\n",
        "w = [1; 2; 3; 4; 5]"
      ],
      "metadata": {
        "id": "wB5lKUe1IK4W"
      }
    },
    {
      "cell_type": "code",
      "source": [
        "w = np.array([[1],\n",
        "              [2],\n",
        "              [3],\n",
        "              [4],\n",
        "              [5]])\n",
        "print(w)"
      ],
      "metadata": {
        "colab": {
          "base_uri": "https://localhost:8080/"
        },
        "id": "LJdb18adINvc",
        "outputId": "1dbf990b-c97b-435b-fcd1-5a23165afc6a"
      },
      "execution_count": 4,
      "outputs": [
        {
          "output_type": "stream",
          "name": "stdout",
          "text": [
            "[[1]\n",
            " [2]\n",
            " [3]\n",
            " [4]\n",
            " [5]]\n"
          ]
        }
      ]
    },
    {
      "cell_type": "markdown",
      "source": [
        "(Hãy xác định số chiều (ndim), kích thước\n",
        "(shape) của 2 vector v và w; In 2 vector v và w\n",
        "ra màn hình; Nhận xét điểm khác biệt của kết\n",
        "quả)"
      ],
      "metadata": {
        "id": "IvaocDgWJJ-p"
      }
    },
    {
      "cell_type": "code",
      "source": [
        "print(\"số chiều vector v: \", v.ndim)\n",
        "print(\"kích thước vector v: \", v.shape)\n",
        "print(\"số chiều vector w: \", w.ndim)\n",
        "print(\"kích thước vector w: \", w.shape)\n",
        "print(\"vector v: \", v)\n",
        "print(\"vector w: \\n\", w)\n"
      ],
      "metadata": {
        "colab": {
          "base_uri": "https://localhost:8080/"
        },
        "id": "wnrHK9WUJN2T",
        "outputId": "4c2d82e1-396b-43ce-f36d-de817d46ccff"
      },
      "execution_count": 6,
      "outputs": [
        {
          "output_type": "stream",
          "name": "stdout",
          "text": [
            "số chiều vector v:  1\n",
            "kích thước vector v:  (5,)\n",
            "số chiều vector w:  2\n",
            "kích thước vector w:  (5, 1)\n",
            "vector v:  [1 2 3 4 5]\n",
            "vector w: \n",
            " [[1]\n",
            " [2]\n",
            " [3]\n",
            " [4]\n",
            " [5]]\n"
          ]
        }
      ]
    },
    {
      "cell_type": "markdown",
      "source": [
        "Cho u và w là 2 vector cột có kích thước\n",
        "(m, 1). Hãy tạo ma trận X bằng cách\n",
        "ghép 2 vector cột u và w lại với nhau\n",
        "X = [u, w]"
      ],
      "metadata": {
        "id": "vtBuFnWAJteQ"
      }
    },
    {
      "cell_type": "code",
      "source": [
        "u = np.array([[7],\n",
        "              [8],\n",
        "              [9],\n",
        "              [10],\n",
        "              [6]])\n",
        "X = np.hstack((u,w))\n",
        "print(\"số chiều X: \", X.ndim)\n",
        "print(\"kích thước X: \", X.shape)\n",
        "print(X)"
      ],
      "metadata": {
        "colab": {
          "base_uri": "https://localhost:8080/"
        },
        "id": "JVLUQoD9KEOP",
        "outputId": "1abff415-b670-4e4b-f5df-3b17e9a3b325"
      },
      "execution_count": 10,
      "outputs": [
        {
          "output_type": "stream",
          "name": "stdout",
          "text": [
            "số chiều X:  2\n",
            "kích thước X:  (5, 2)\n",
            "[[ 7  1]\n",
            " [ 8  2]\n",
            " [ 9  3]\n",
            " [10  4]\n",
            " [ 6  5]]\n"
          ]
        }
      ]
    },
    {
      "cell_type": "markdown",
      "source": [
        "Hãy tạo ma trận X"
      ],
      "metadata": {
        "id": "uYSoT-XsK8OG"
      }
    },
    {
      "cell_type": "code",
      "source": [
        "X = np.array([[1,2,3,4,5],\n",
        "             [6,7,8,9,2],\n",
        "             [4,5,7,2,1]])\n",
        "Y = np.reshape(X , (3,5))\n",
        "print(X)\n",
        "print(Y)\n",
        "print(\"Số chiều: \", X.ndim)\n",
        "print(\"Kích thước: \", X.shape)"
      ],
      "metadata": {
        "colab": {
          "base_uri": "https://localhost:8080/"
        },
        "id": "ZGXD2cBnLxJS",
        "outputId": "1a9d0adb-7d01-448e-e0d0-ea8e13ef81f0"
      },
      "execution_count": 15,
      "outputs": [
        {
          "output_type": "stream",
          "name": "stdout",
          "text": [
            "[[1 2 3 4 5]\n",
            " [6 7 8 9 2]\n",
            " [4 5 7 2 1]]\n",
            "[[1 2 3 4 5]\n",
            " [6 7 8 9 2]\n",
            " [4 5 7 2 1]]\n",
            "Số chiều:  2\n",
            "Kích thước:  (3, 5)\n"
          ]
        }
      ]
    },
    {
      "cell_type": "markdown",
      "source": [
        "Hãy nhân ma trận X với vector v"
      ],
      "metadata": {
        "id": "cCLftBUiNCfl"
      }
    },
    {
      "cell_type": "code",
      "source": [
        "Xv = np.dot(X, v)\n",
        "print(\"Chiều: \", Xv.ndim)\n",
        "print(\"Kích thước: \", Xv.shape)\n",
        "print(Xv)"
      ],
      "metadata": {
        "colab": {
          "base_uri": "https://localhost:8080/"
        },
        "id": "dm21YpTeNFk7",
        "outputId": "1b991a29-da80-4244-fdf3-e10668d5b405"
      },
      "execution_count": 20,
      "outputs": [
        {
          "output_type": "stream",
          "name": "stdout",
          "text": [
            "Chiều:  1\n",
            "Kích thước:  (3,)\n",
            "[55 90 48]\n"
          ]
        }
      ]
    },
    {
      "cell_type": "markdown",
      "source": [
        "Hãy nhân ma trận X với vector w"
      ],
      "metadata": {
        "id": "v3S8vUnUNuVP"
      }
    },
    {
      "cell_type": "code",
      "source": [
        "Xw = np.dot(X, w)\n",
        "print(\"Chiều: \", Xw.ndim)\n",
        "print(\"Kích thước: \", Xw.shape)\n",
        "print(Xw)"
      ],
      "metadata": {
        "colab": {
          "base_uri": "https://localhost:8080/"
        },
        "id": "WEkdfGknNyWA",
        "outputId": "5ea2a263-3c3c-4adf-e090-8c0c3e70b883"
      },
      "execution_count": 21,
      "outputs": [
        {
          "output_type": "stream",
          "name": "stdout",
          "text": [
            "Chiều:  2\n",
            "Kích thước:  (3, 1)\n",
            "[[55]\n",
            " [90]\n",
            " [48]]\n"
          ]
        }
      ]
    },
    {
      "cell_type": "markdown",
      "source": [
        "Xét ma trận X ở câu 5, hãy tìm ma trận\n",
        "chuyển vị của X, ký hiệu là X\n",
        "T"
      ],
      "metadata": {
        "id": "QAoirXU9Ogi7"
      }
    },
    {
      "cell_type": "code",
      "source": [
        "print(\"Ma trận chuyển vị: \\n\", X.T)"
      ],
      "metadata": {
        "colab": {
          "base_uri": "https://localhost:8080/"
        },
        "id": "ZXKPI6mHOkNH",
        "outputId": "56adcea0-4df1-4ca4-bd07-eeee2517d2f9"
      },
      "execution_count": 23,
      "outputs": [
        {
          "output_type": "stream",
          "name": "stdout",
          "text": [
            "Ma trận chuyển vị: \n",
            " [[1 6 4]\n",
            " [2 7 5]\n",
            " [3 8 7]\n",
            " [4 9 2]\n",
            " [5 2 1]]\n"
          ]
        }
      ]
    }
  ]
}