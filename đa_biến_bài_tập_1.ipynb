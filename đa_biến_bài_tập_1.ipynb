{
  "nbformat": 4,
  "nbformat_minor": 0,
  "metadata": {
    "colab": {
      "provenance": [],
      "authorship_tag": "ABX9TyMsuk9tyRYIyR39P/DXrbBx",
      "include_colab_link": true
    },
    "kernelspec": {
      "name": "python3",
      "display_name": "Python 3"
    },
    "language_info": {
      "name": "python"
    }
  },
  "cells": [
    {
      "cell_type": "markdown",
      "metadata": {
        "id": "view-in-github",
        "colab_type": "text"
      },
      "source": [
        "<a href=\"https://colab.research.google.com/github/lmquann/leminhquan/blob/main/%C4%91a_bi%E1%BA%BFn_b%C3%A0i_t%E1%BA%ADp_1.ipynb\" target=\"_parent\"><img src=\"https://colab.research.google.com/assets/colab-badge.svg\" alt=\"Open In Colab\"/></a>"
      ]
    },
    {
      "cell_type": "code",
      "execution_count": 1,
      "metadata": {
        "id": "_TSmVkxvGWqV"
      },
      "outputs": [],
      "source": [
        "import numpy as np"
      ]
    },
    {
      "cell_type": "markdown",
      "source": [
        "Cho v là 1 vector hàng\n",
        "v = [1, 2, 3, 4, 5]"
      ],
      "metadata": {
        "id": "A3WuFZCoIFIh"
      }
    },
    {
      "cell_type": "code",
      "source": [
        "v = np.array([1,2,3,4,5])\n",
        "print(v)"
      ],
      "metadata": {
        "colab": {
          "base_uri": "https://localhost:8080/"
        },
        "id": "JQuSKqRwHWTd",
        "outputId": "b7be51c2-bf68-416e-9f0a-8389276d60ed"
      },
      "execution_count": 3,
      "outputs": [
        {
          "output_type": "stream",
          "name": "stdout",
          "text": [
            "[1 2 3 4 5]\n"
          ]
        }
      ]
    },
    {
      "cell_type": "markdown",
      "source": [
        "Cho w là 1 vcetor cột\n",
        "w = [1; 2; 3; 4; 5]"
      ],
      "metadata": {
        "id": "wB5lKUe1IK4W"
      }
    },
    {
      "cell_type": "code",
      "source": [
        "w = np.array([[1],\n",
        "              [2],\n",
        "              [3],\n",
        "              [4],\n",
        "              [5]])\n",
        "print(w)"
      ],
      "metadata": {
        "colab": {
          "base_uri": "https://localhost:8080/"
        },
        "id": "LJdb18adINvc",
        "outputId": "1dbf990b-c97b-435b-fcd1-5a23165afc6a"
      },
      "execution_count": 4,
      "outputs": [
        {
          "output_type": "stream",
          "name": "stdout",
          "text": [
            "[[1]\n",
            " [2]\n",
            " [3]\n",
            " [4]\n",
            " [5]]\n"
          ]
        }
      ]
    },
    {
      "cell_type": "markdown",
      "source": [
        "(Hãy xác định số chiều (ndim), kích thước\n",
        "(shape) của 2 vector v và w; In 2 vector v và w\n",
        "ra màn hình; Nhận xét điểm khác biệt của kết\n",
        "quả)"
      ],
      "metadata": {
        "id": "IvaocDgWJJ-p"
      }
    },
    {
      "cell_type": "code",
      "source": [
        "print(\"số chiều vector v: \", v.ndim)\n",
        "print(\"kích thước vector v: \", v.shape)\n",
        "print(\"số chiều vector w: \", w.ndim)\n",
        "print(\"kích thước vector w: \", w.shape)\n",
        "print(\"vector v: \", v)\n",
        "print(\"vector w: \\n\", w)\n"
      ],
      "metadata": {
        "colab": {
          "base_uri": "https://localhost:8080/"
        },
        "id": "wnrHK9WUJN2T",
        "outputId": "4c2d82e1-396b-43ce-f36d-de817d46ccff"
      },
      "execution_count": 6,
      "outputs": [
        {
          "output_type": "stream",
          "name": "stdout",
          "text": [
            "số chiều vector v:  1\n",
            "kích thước vector v:  (5,)\n",
            "số chiều vector w:  2\n",
            "kích thước vector w:  (5, 1)\n",
            "vector v:  [1 2 3 4 5]\n",
            "vector w: \n",
            " [[1]\n",
            " [2]\n",
            " [3]\n",
            " [4]\n",
            " [5]]\n"
          ]
        }
      ]
    },
    {
      "cell_type": "markdown",
      "source": [
        "Cho u và w là 2 vector cột có kích thước\n",
        "(m, 1). Hãy tạo ma trận X bằng cách\n",
        "ghép 2 vector cột u và w lại với nhau\n",
        "X = [u, w]"
      ],
      "metadata": {
        "id": "vtBuFnWAJteQ"
      }
    },
    {
      "cell_type": "code",
      "source": [
        "u = np.array([[7],\n",
        "              [8],\n",
        "              [9],\n",
        "              [10],\n",
        "              [6]])\n",
        "X = np.hstack((u,w))\n",
        "print(\"số chiều X: \", X.ndim)\n",
        "print(\"kích thước X: \", X.shape)\n",
        "print(X)"
      ],
      "metadata": {
        "colab": {
          "base_uri": "https://localhost:8080/"
        },
        "id": "JVLUQoD9KEOP",
        "outputId": "1abff415-b670-4e4b-f5df-3b17e9a3b325"
      },
      "execution_count": 10,
      "outputs": [
        {
          "output_type": "stream",
          "name": "stdout",
          "text": [
            "số chiều X:  2\n",
            "kích thước X:  (5, 2)\n",
            "[[ 7  1]\n",
            " [ 8  2]\n",
            " [ 9  3]\n",
            " [10  4]\n",
            " [ 6  5]]\n"
          ]
        }
      ]
    },
    {
      "cell_type": "markdown",
      "source": [
        "Hãy tạo ma trận X\n",
        "\n",
        "![image.png](data:image/png;base64,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)"
      ],
      "metadata": {
        "id": "uYSoT-XsK8OG"
      }
    },
    {
      "cell_type": "code",
      "source": [
        "X = np.array([[1,2,3,4,5],\n",
        "             [6,7,8,9,2],\n",
        "             [4,5,7,2,1]])\n",
        "Y = np.reshape(X , (3,5))\n",
        "print(X)\n",
        "print(Y)\n",
        "print(\"Số chiều: \", X.ndim)\n",
        "print(\"Kích thước: \", X.shape)"
      ],
      "metadata": {
        "colab": {
          "base_uri": "https://localhost:8080/"
        },
        "id": "ZGXD2cBnLxJS",
        "outputId": "ee71a34e-3435-401a-b94f-3cc2bcb533ca"
      },
      "execution_count": 24,
      "outputs": [
        {
          "output_type": "stream",
          "name": "stdout",
          "text": [
            "[[1 2 3 4 5]\n",
            " [6 7 8 9 2]\n",
            " [4 5 7 2 1]]\n",
            "[[1 2 3 4 5]\n",
            " [6 7 8 9 2]\n",
            " [4 5 7 2 1]]\n",
            "Số chiều:  2\n",
            "Kích thước:  (3, 5)\n"
          ]
        }
      ]
    },
    {
      "cell_type": "markdown",
      "source": [
        "Hãy nhân ma trận X với vector v"
      ],
      "metadata": {
        "id": "cCLftBUiNCfl"
      }
    },
    {
      "cell_type": "code",
      "source": [
        "Xv = np.dot(X, v)\n",
        "print(\"Chiều: \", Xv.ndim)\n",
        "print(\"Kích thước: \", Xv.shape)\n",
        "print(Xv)"
      ],
      "metadata": {
        "colab": {
          "base_uri": "https://localhost:8080/"
        },
        "id": "dm21YpTeNFk7",
        "outputId": "1b991a29-da80-4244-fdf3-e10668d5b405"
      },
      "execution_count": 20,
      "outputs": [
        {
          "output_type": "stream",
          "name": "stdout",
          "text": [
            "Chiều:  1\n",
            "Kích thước:  (3,)\n",
            "[55 90 48]\n"
          ]
        }
      ]
    },
    {
      "cell_type": "markdown",
      "source": [
        "Hãy nhân ma trận X với vector w"
      ],
      "metadata": {
        "id": "v3S8vUnUNuVP"
      }
    },
    {
      "cell_type": "code",
      "source": [
        "Xw = np.dot(X, w)\n",
        "print(\"Chiều: \", Xw.ndim)\n",
        "print(\"Kích thước: \", Xw.shape)\n",
        "print(Xw)"
      ],
      "metadata": {
        "colab": {
          "base_uri": "https://localhost:8080/"
        },
        "id": "WEkdfGknNyWA",
        "outputId": "5ea2a263-3c3c-4adf-e090-8c0c3e70b883"
      },
      "execution_count": 21,
      "outputs": [
        {
          "output_type": "stream",
          "name": "stdout",
          "text": [
            "Chiều:  2\n",
            "Kích thước:  (3, 1)\n",
            "[[55]\n",
            " [90]\n",
            " [48]]\n"
          ]
        }
      ]
    },
    {
      "cell_type": "markdown",
      "source": [
        "Xét ma trận X ở câu 5, hãy tìm ma trận\n",
        "chuyển vị của X, ký hiệu là X\n",
        "T"
      ],
      "metadata": {
        "id": "QAoirXU9Ogi7"
      }
    },
    {
      "cell_type": "code",
      "source": [
        "print(\"Ma trận chuyển vị: \\n\", X.T)"
      ],
      "metadata": {
        "colab": {
          "base_uri": "https://localhost:8080/"
        },
        "id": "ZXKPI6mHOkNH",
        "outputId": "56adcea0-4df1-4ca4-bd07-eeee2517d2f9"
      },
      "execution_count": 23,
      "outputs": [
        {
          "output_type": "stream",
          "name": "stdout",
          "text": [
            "Ma trận chuyển vị: \n",
            " [[1 6 4]\n",
            " [2 7 5]\n",
            " [3 8 7]\n",
            " [4 9 2]\n",
            " [5 2 1]]\n"
          ]
        }
      ]
    }
  ]
}