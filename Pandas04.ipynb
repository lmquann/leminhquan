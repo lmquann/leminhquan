{
  "nbformat": 4,
  "nbformat_minor": 0,
  "metadata": {
    "colab": {
      "name": "Pandas04.ipynb",
      "provenance": [],
      "authorship_tag": "ABX9TyMaKpLlCf+6genuH/Z6wSxp",
      "include_colab_link": true
    },
    "kernelspec": {
      "name": "python3",
      "display_name": "Python 3"
    },
    "language_info": {
      "name": "python"
    }
  },
  "cells": [
    {
      "cell_type": "markdown",
      "metadata": {
        "id": "view-in-github",
        "colab_type": "text"
      },
      "source": [
        "<a href=\"https://colab.research.google.com/github/lmquann/leminhquan/blob/main/Pandas04.ipynb\" target=\"_parent\"><img src=\"https://colab.research.google.com/assets/colab-badge.svg\" alt=\"Open In Colab\"/></a>"
      ]
    },
    {
      "cell_type": "markdown",
      "source": [
        "Câu 1: Xác định các thư viện cần dùng cho quá trình phân tích thống kê mô tả và đưa vào mã lệnh\n",
        "(sử dụng Google Colab)"
      ],
      "metadata": {
        "id": "4Prnb7UGwXLg"
      }
    },
    {
      "cell_type": "markdown",
      "source": [
        "Các thư viện cần dùng: numpy, scipy, pandas, matplotlib"
      ],
      "metadata": {
        "id": "WnNZc6srwld_"
      }
    },
    {
      "cell_type": "code",
      "execution_count": 14,
      "metadata": {
        "id": "3Gv3Qe9CwNL5"
      },
      "outputs": [],
      "source": [
        "import numpy as np\n",
        "import scipy \n",
        "import pandas as pd\n",
        "import matplotlib.pyplot as plt\n",
        "import scipy.stats as st\n",
        "import seaborn as sns\n",
        "from matplotlib.ticker import PercentFormatter\n"
      ]
    },
    {
      "cell_type": "markdown",
      "source": [
        "Câu 2: Sử dụng tập dữ liệu Aircraft Wildlife Strikes, 1990-2015 để tiến hành phân tích thống kê\n",
        "mô tả."
      ],
      "metadata": {
        "id": "A-EnCN2ixTQP"
      }
    },
    {
      "cell_type": "markdown",
      "source": [
        "Đọc dữ liệu"
      ],
      "metadata": {
        "id": "uwVaKx_L6uHK"
      }
    },
    {
      "cell_type": "code",
      "source": [
        "data = pd.read_csv('/content/database.csv')"
      ],
      "metadata": {
        "colab": {
          "base_uri": "https://localhost:8080/"
        },
        "id": "MDho-MCaxde_",
        "outputId": "add8b49f-d036-4100-b529-74a9bcb41b99"
      },
      "execution_count": 3,
      "outputs": [
        {
          "output_type": "stream",
          "name": "stderr",
          "text": [
            "/usr/local/lib/python3.7/dist-packages/IPython/core/interactiveshell.py:2882: DtypeWarning: Columns (9,12,15,17) have mixed types.Specify dtype option on import or set low_memory=False.\n",
            "  exec(code_obj, self.user_global_ns, self.user_ns)\n"
          ]
        }
      ]
    },
    {
      "cell_type": "markdown",
      "source": [
        "Câu 3: Đối với các cột dữ liệu định lượng, hãy áp dụng các phép tính hướng tâm, phép tính phương\n",
        "sai – độ lệch chuẩn, các phép tính phân vị, cực đại – cực tiểu để tính các thông số cơ bản của các\n",
        "cột dữ liệu định lượng này."
      ],
      "metadata": {
        "id": "ykHNfc46yntI"
      }
    },
    {
      "cell_type": "code",
      "source": [
        "data"
      ],
      "metadata": {
        "colab": {
          "base_uri": "https://localhost:8080/",
          "height": 589
        },
        "id": "nEOu9MW_2-x7",
        "outputId": "bf3ee99e-9672-426f-c894-3a3d78329a81"
      },
      "execution_count": null,
      "outputs": [
        {
          "output_type": "execute_result",
          "data": {
            "text/plain": [
              "        Record ID  Incident Year  Incident Month  Incident Day Operator ID  \\\n",
              "0          127128           1990               1             1         DAL   \n",
              "1          129779           1990               1             1         HAL   \n",
              "2          129780           1990               1             2         UNK   \n",
              "3            2258           1990               1             3         MIL   \n",
              "4            2257           1990               1             3         MIL   \n",
              "...           ...            ...             ...           ...         ...   \n",
              "174099     366091           2015               9            30         SWA   \n",
              "174100     365902           2015               9            30         SWA   \n",
              "174101     365903           2015               9            30         BUS   \n",
              "174102     366046           2015               9            30         QXE   \n",
              "174103     365823           2015               9            30         AWI   \n",
              "\n",
              "                      Operator     Aircraft Aircraft Type Aircraft Make  \\\n",
              "0              DELTA AIR LINES    B-757-200             A           148   \n",
              "1                 HAWAIIAN AIR         DC-9             A           583   \n",
              "2                      UNKNOWN      UNKNOWN           NaN           NaN   \n",
              "3                     MILITARY        A-10A             A           345   \n",
              "4                     MILITARY         F-16             A           561   \n",
              "...                        ...          ...           ...           ...   \n",
              "174099      SOUTHWEST AIRLINES    B-737-700             A           148   \n",
              "174100      SOUTHWEST AIRLINES    B-737-700             A           148   \n",
              "174101                BUSINESS  CITATIONJET             A           226   \n",
              "174102             HORIZON AIR  DHC8 DASH 8             A           303   \n",
              "174103  AIR WISCONSIN AIRLINES   CRJ100/200             A           188   \n",
              "\n",
              "       Aircraft Model  ...  Fuselage Strike  Fuselage Damage  \\\n",
              "0                  26  ...                0                0   \n",
              "1                  90  ...                0                0   \n",
              "2                 NaN  ...                0                0   \n",
              "3                 NaN  ...                0                0   \n",
              "4                 NaN  ...                0                0   \n",
              "...               ...  ...              ...              ...   \n",
              "174099           42.0  ...                0                0   \n",
              "174100           42.0  ...                0                0   \n",
              "174101           49.0  ...                1                1   \n",
              "174102           10.0  ...                1                0   \n",
              "174103           10.0  ...                0                0   \n",
              "\n",
              "       Landing Gear Strike  Landing Gear Damage Tail Strike Tail Damage  \\\n",
              "0                        0                    0           1           1   \n",
              "1                        0                    0           0           0   \n",
              "2                        0                    0           0           0   \n",
              "3                        0                    0           0           0   \n",
              "4                        0                    0           0           0   \n",
              "...                    ...                  ...         ...         ...   \n",
              "174099                   0                    0           0           0   \n",
              "174100                   0                    0           0           0   \n",
              "174101                   0                    0           0           0   \n",
              "174102                   0                    0           0           0   \n",
              "174103                   0                    0           0           0   \n",
              "\n",
              "        Lights Strike Lights Damage  Other Strike Other Damage  \n",
              "0                   0             0             0            0  \n",
              "1                   0             0             1            0  \n",
              "2                   0             0             0            0  \n",
              "3                   0             0             0            0  \n",
              "4                   0             0             0            0  \n",
              "...               ...           ...           ...          ...  \n",
              "174099              0             0             0            0  \n",
              "174100              0             0             0            0  \n",
              "174101              0             0             0            0  \n",
              "174102              0             0             0            0  \n",
              "174103              0             0             1            0  \n",
              "\n",
              "[174104 rows x 66 columns]"
            ],
            "text/html": [
              "\n",
              "  <div id=\"df-6c737862-aae6-45b7-9b74-0268828089a2\">\n",
              "    <div class=\"colab-df-container\">\n",
              "      <div>\n",
              "<style scoped>\n",
              "    .dataframe tbody tr th:only-of-type {\n",
              "        vertical-align: middle;\n",
              "    }\n",
              "\n",
              "    .dataframe tbody tr th {\n",
              "        vertical-align: top;\n",
              "    }\n",
              "\n",
              "    .dataframe thead th {\n",
              "        text-align: right;\n",
              "    }\n",
              "</style>\n",
              "<table border=\"1\" class=\"dataframe\">\n",
              "  <thead>\n",
              "    <tr style=\"text-align: right;\">\n",
              "      <th></th>\n",
              "      <th>Record ID</th>\n",
              "      <th>Incident Year</th>\n",
              "      <th>Incident Month</th>\n",
              "      <th>Incident Day</th>\n",
              "      <th>Operator ID</th>\n",
              "      <th>Operator</th>\n",
              "      <th>Aircraft</th>\n",
              "      <th>Aircraft Type</th>\n",
              "      <th>Aircraft Make</th>\n",
              "      <th>Aircraft Model</th>\n",
              "      <th>...</th>\n",
              "      <th>Fuselage Strike</th>\n",
              "      <th>Fuselage Damage</th>\n",
              "      <th>Landing Gear Strike</th>\n",
              "      <th>Landing Gear Damage</th>\n",
              "      <th>Tail Strike</th>\n",
              "      <th>Tail Damage</th>\n",
              "      <th>Lights Strike</th>\n",
              "      <th>Lights Damage</th>\n",
              "      <th>Other Strike</th>\n",
              "      <th>Other Damage</th>\n",
              "    </tr>\n",
              "  </thead>\n",
              "  <tbody>\n",
              "    <tr>\n",
              "      <th>0</th>\n",
              "      <td>127128</td>\n",
              "      <td>1990</td>\n",
              "      <td>1</td>\n",
              "      <td>1</td>\n",
              "      <td>DAL</td>\n",
              "      <td>DELTA AIR LINES</td>\n",
              "      <td>B-757-200</td>\n",
              "      <td>A</td>\n",
              "      <td>148</td>\n",
              "      <td>26</td>\n",
              "      <td>...</td>\n",
              "      <td>0</td>\n",
              "      <td>0</td>\n",
              "      <td>0</td>\n",
              "      <td>0</td>\n",
              "      <td>1</td>\n",
              "      <td>1</td>\n",
              "      <td>0</td>\n",
              "      <td>0</td>\n",
              "      <td>0</td>\n",
              "      <td>0</td>\n",
              "    </tr>\n",
              "    <tr>\n",
              "      <th>1</th>\n",
              "      <td>129779</td>\n",
              "      <td>1990</td>\n",
              "      <td>1</td>\n",
              "      <td>1</td>\n",
              "      <td>HAL</td>\n",
              "      <td>HAWAIIAN AIR</td>\n",
              "      <td>DC-9</td>\n",
              "      <td>A</td>\n",
              "      <td>583</td>\n",
              "      <td>90</td>\n",
              "      <td>...</td>\n",
              "      <td>0</td>\n",
              "      <td>0</td>\n",
              "      <td>0</td>\n",
              "      <td>0</td>\n",
              "      <td>0</td>\n",
              "      <td>0</td>\n",
              "      <td>0</td>\n",
              "      <td>0</td>\n",
              "      <td>1</td>\n",
              "      <td>0</td>\n",
              "    </tr>\n",
              "    <tr>\n",
              "      <th>2</th>\n",
              "      <td>129780</td>\n",
              "      <td>1990</td>\n",
              "      <td>1</td>\n",
              "      <td>2</td>\n",
              "      <td>UNK</td>\n",
              "      <td>UNKNOWN</td>\n",
              "      <td>UNKNOWN</td>\n",
              "      <td>NaN</td>\n",
              "      <td>NaN</td>\n",
              "      <td>NaN</td>\n",
              "      <td>...</td>\n",
              "      <td>0</td>\n",
              "      <td>0</td>\n",
              "      <td>0</td>\n",
              "      <td>0</td>\n",
              "      <td>0</td>\n",
              "      <td>0</td>\n",
              "      <td>0</td>\n",
              "      <td>0</td>\n",
              "      <td>0</td>\n",
              "      <td>0</td>\n",
              "    </tr>\n",
              "    <tr>\n",
              "      <th>3</th>\n",
              "      <td>2258</td>\n",
              "      <td>1990</td>\n",
              "      <td>1</td>\n",
              "      <td>3</td>\n",
              "      <td>MIL</td>\n",
              "      <td>MILITARY</td>\n",
              "      <td>A-10A</td>\n",
              "      <td>A</td>\n",
              "      <td>345</td>\n",
              "      <td>NaN</td>\n",
              "      <td>...</td>\n",
              "      <td>0</td>\n",
              "      <td>0</td>\n",
              "      <td>0</td>\n",
              "      <td>0</td>\n",
              "      <td>0</td>\n",
              "      <td>0</td>\n",
              "      <td>0</td>\n",
              "      <td>0</td>\n",
              "      <td>0</td>\n",
              "      <td>0</td>\n",
              "    </tr>\n",
              "    <tr>\n",
              "      <th>4</th>\n",
              "      <td>2257</td>\n",
              "      <td>1990</td>\n",
              "      <td>1</td>\n",
              "      <td>3</td>\n",
              "      <td>MIL</td>\n",
              "      <td>MILITARY</td>\n",
              "      <td>F-16</td>\n",
              "      <td>A</td>\n",
              "      <td>561</td>\n",
              "      <td>NaN</td>\n",
              "      <td>...</td>\n",
              "      <td>0</td>\n",
              "      <td>0</td>\n",
              "      <td>0</td>\n",
              "      <td>0</td>\n",
              "      <td>0</td>\n",
              "      <td>0</td>\n",
              "      <td>0</td>\n",
              "      <td>0</td>\n",
              "      <td>0</td>\n",
              "      <td>0</td>\n",
              "    </tr>\n",
              "    <tr>\n",
              "      <th>...</th>\n",
              "      <td>...</td>\n",
              "      <td>...</td>\n",
              "      <td>...</td>\n",
              "      <td>...</td>\n",
              "      <td>...</td>\n",
              "      <td>...</td>\n",
              "      <td>...</td>\n",
              "      <td>...</td>\n",
              "      <td>...</td>\n",
              "      <td>...</td>\n",
              "      <td>...</td>\n",
              "      <td>...</td>\n",
              "      <td>...</td>\n",
              "      <td>...</td>\n",
              "      <td>...</td>\n",
              "      <td>...</td>\n",
              "      <td>...</td>\n",
              "      <td>...</td>\n",
              "      <td>...</td>\n",
              "      <td>...</td>\n",
              "      <td>...</td>\n",
              "    </tr>\n",
              "    <tr>\n",
              "      <th>174099</th>\n",
              "      <td>366091</td>\n",
              "      <td>2015</td>\n",
              "      <td>9</td>\n",
              "      <td>30</td>\n",
              "      <td>SWA</td>\n",
              "      <td>SOUTHWEST AIRLINES</td>\n",
              "      <td>B-737-700</td>\n",
              "      <td>A</td>\n",
              "      <td>148</td>\n",
              "      <td>42.0</td>\n",
              "      <td>...</td>\n",
              "      <td>0</td>\n",
              "      <td>0</td>\n",
              "      <td>0</td>\n",
              "      <td>0</td>\n",
              "      <td>0</td>\n",
              "      <td>0</td>\n",
              "      <td>0</td>\n",
              "      <td>0</td>\n",
              "      <td>0</td>\n",
              "      <td>0</td>\n",
              "    </tr>\n",
              "    <tr>\n",
              "      <th>174100</th>\n",
              "      <td>365902</td>\n",
              "      <td>2015</td>\n",
              "      <td>9</td>\n",
              "      <td>30</td>\n",
              "      <td>SWA</td>\n",
              "      <td>SOUTHWEST AIRLINES</td>\n",
              "      <td>B-737-700</td>\n",
              "      <td>A</td>\n",
              "      <td>148</td>\n",
              "      <td>42.0</td>\n",
              "      <td>...</td>\n",
              "      <td>0</td>\n",
              "      <td>0</td>\n",
              "      <td>0</td>\n",
              "      <td>0</td>\n",
              "      <td>0</td>\n",
              "      <td>0</td>\n",
              "      <td>0</td>\n",
              "      <td>0</td>\n",
              "      <td>0</td>\n",
              "      <td>0</td>\n",
              "    </tr>\n",
              "    <tr>\n",
              "      <th>174101</th>\n",
              "      <td>365903</td>\n",
              "      <td>2015</td>\n",
              "      <td>9</td>\n",
              "      <td>30</td>\n",
              "      <td>BUS</td>\n",
              "      <td>BUSINESS</td>\n",
              "      <td>CITATIONJET</td>\n",
              "      <td>A</td>\n",
              "      <td>226</td>\n",
              "      <td>49.0</td>\n",
              "      <td>...</td>\n",
              "      <td>1</td>\n",
              "      <td>1</td>\n",
              "      <td>0</td>\n",
              "      <td>0</td>\n",
              "      <td>0</td>\n",
              "      <td>0</td>\n",
              "      <td>0</td>\n",
              "      <td>0</td>\n",
              "      <td>0</td>\n",
              "      <td>0</td>\n",
              "    </tr>\n",
              "    <tr>\n",
              "      <th>174102</th>\n",
              "      <td>366046</td>\n",
              "      <td>2015</td>\n",
              "      <td>9</td>\n",
              "      <td>30</td>\n",
              "      <td>QXE</td>\n",
              "      <td>HORIZON AIR</td>\n",
              "      <td>DHC8 DASH 8</td>\n",
              "      <td>A</td>\n",
              "      <td>303</td>\n",
              "      <td>10.0</td>\n",
              "      <td>...</td>\n",
              "      <td>1</td>\n",
              "      <td>0</td>\n",
              "      <td>0</td>\n",
              "      <td>0</td>\n",
              "      <td>0</td>\n",
              "      <td>0</td>\n",
              "      <td>0</td>\n",
              "      <td>0</td>\n",
              "      <td>0</td>\n",
              "      <td>0</td>\n",
              "    </tr>\n",
              "    <tr>\n",
              "      <th>174103</th>\n",
              "      <td>365823</td>\n",
              "      <td>2015</td>\n",
              "      <td>9</td>\n",
              "      <td>30</td>\n",
              "      <td>AWI</td>\n",
              "      <td>AIR WISCONSIN AIRLINES</td>\n",
              "      <td>CRJ100/200</td>\n",
              "      <td>A</td>\n",
              "      <td>188</td>\n",
              "      <td>10.0</td>\n",
              "      <td>...</td>\n",
              "      <td>0</td>\n",
              "      <td>0</td>\n",
              "      <td>0</td>\n",
              "      <td>0</td>\n",
              "      <td>0</td>\n",
              "      <td>0</td>\n",
              "      <td>0</td>\n",
              "      <td>0</td>\n",
              "      <td>1</td>\n",
              "      <td>0</td>\n",
              "    </tr>\n",
              "  </tbody>\n",
              "</table>\n",
              "<p>174104 rows × 66 columns</p>\n",
              "</div>\n",
              "      <button class=\"colab-df-convert\" onclick=\"convertToInteractive('df-6c737862-aae6-45b7-9b74-0268828089a2')\"\n",
              "              title=\"Convert this dataframe to an interactive table.\"\n",
              "              style=\"display:none;\">\n",
              "        \n",
              "  <svg xmlns=\"http://www.w3.org/2000/svg\" height=\"24px\"viewBox=\"0 0 24 24\"\n",
              "       width=\"24px\">\n",
              "    <path d=\"M0 0h24v24H0V0z\" fill=\"none\"/>\n",
              "    <path d=\"M18.56 5.44l.94 2.06.94-2.06 2.06-.94-2.06-.94-.94-2.06-.94 2.06-2.06.94zm-11 1L8.5 8.5l.94-2.06 2.06-.94-2.06-.94L8.5 2.5l-.94 2.06-2.06.94zm10 10l.94 2.06.94-2.06 2.06-.94-2.06-.94-.94-2.06-.94 2.06-2.06.94z\"/><path d=\"M17.41 7.96l-1.37-1.37c-.4-.4-.92-.59-1.43-.59-.52 0-1.04.2-1.43.59L10.3 9.45l-7.72 7.72c-.78.78-.78 2.05 0 2.83L4 21.41c.39.39.9.59 1.41.59.51 0 1.02-.2 1.41-.59l7.78-7.78 2.81-2.81c.8-.78.8-2.07 0-2.86zM5.41 20L4 18.59l7.72-7.72 1.47 1.35L5.41 20z\"/>\n",
              "  </svg>\n",
              "      </button>\n",
              "      \n",
              "  <style>\n",
              "    .colab-df-container {\n",
              "      display:flex;\n",
              "      flex-wrap:wrap;\n",
              "      gap: 12px;\n",
              "    }\n",
              "\n",
              "    .colab-df-convert {\n",
              "      background-color: #E8F0FE;\n",
              "      border: none;\n",
              "      border-radius: 50%;\n",
              "      cursor: pointer;\n",
              "      display: none;\n",
              "      fill: #1967D2;\n",
              "      height: 32px;\n",
              "      padding: 0 0 0 0;\n",
              "      width: 32px;\n",
              "    }\n",
              "\n",
              "    .colab-df-convert:hover {\n",
              "      background-color: #E2EBFA;\n",
              "      box-shadow: 0px 1px 2px rgba(60, 64, 67, 0.3), 0px 1px 3px 1px rgba(60, 64, 67, 0.15);\n",
              "      fill: #174EA6;\n",
              "    }\n",
              "\n",
              "    [theme=dark] .colab-df-convert {\n",
              "      background-color: #3B4455;\n",
              "      fill: #D2E3FC;\n",
              "    }\n",
              "\n",
              "    [theme=dark] .colab-df-convert:hover {\n",
              "      background-color: #434B5C;\n",
              "      box-shadow: 0px 1px 3px 1px rgba(0, 0, 0, 0.15);\n",
              "      filter: drop-shadow(0px 1px 2px rgba(0, 0, 0, 0.3));\n",
              "      fill: #FFFFFF;\n",
              "    }\n",
              "  </style>\n",
              "\n",
              "      <script>\n",
              "        const buttonEl =\n",
              "          document.querySelector('#df-6c737862-aae6-45b7-9b74-0268828089a2 button.colab-df-convert');\n",
              "        buttonEl.style.display =\n",
              "          google.colab.kernel.accessAllowed ? 'block' : 'none';\n",
              "\n",
              "        async function convertToInteractive(key) {\n",
              "          const element = document.querySelector('#df-6c737862-aae6-45b7-9b74-0268828089a2');\n",
              "          const dataTable =\n",
              "            await google.colab.kernel.invokeFunction('convertToInteractive',\n",
              "                                                     [key], {});\n",
              "          if (!dataTable) return;\n",
              "\n",
              "          const docLinkHtml = 'Like what you see? Visit the ' +\n",
              "            '<a target=\"_blank\" href=https://colab.research.google.com/notebooks/data_table.ipynb>data table notebook</a>'\n",
              "            + ' to learn more about interactive tables.';\n",
              "          element.innerHTML = '';\n",
              "          dataTable['output_type'] = 'display_data';\n",
              "          await google.colab.output.renderOutput(dataTable, element);\n",
              "          const docLink = document.createElement('div');\n",
              "          docLink.innerHTML = docLinkHtml;\n",
              "          element.appendChild(docLink);\n",
              "        }\n",
              "      </script>\n",
              "    </div>\n",
              "  </div>\n",
              "  "
            ]
          },
          "metadata": {},
          "execution_count": 12
        }
      ]
    },
    {
      "cell_type": "markdown",
      "source": [
        "Câu 4: Hãy vẽ biểu đồ boxplot cho từng cột dữ liệu định lượng và xác định xem có xuất hienj các\n",
        "ngoại lệ không?nếu có thì ở cột nào?"
      ],
      "metadata": {
        "id": "54I0oKcg7EiC"
      }
    },
    {
      "cell_type": "code",
      "source": [
        "Year = data['Incident Year']\n",
        "Year\n",
        "plt.boxplot(Year)\n",
        "plt.show"
      ],
      "metadata": {
        "colab": {
          "base_uri": "https://localhost:8080/",
          "height": 282
        },
        "id": "dWWRpbvq6_sp",
        "outputId": "61737c9f-bb70-4582-e694-8109d936a965"
      },
      "execution_count": null,
      "outputs": [
        {
          "output_type": "execute_result",
          "data": {
            "text/plain": [
              "<function matplotlib.pyplot.show>"
            ]
          },
          "metadata": {},
          "execution_count": 23
        },
        {
          "output_type": "display_data",
          "data": {
            "text/plain": [
              "<Figure size 432x288 with 1 Axes>"
            ],
            "image/png": "[encoded data removed]"
          },
          "metadata": {
            "needs_background": "light"
          }
        }
      ]
    },
    {
      "cell_type": "code",
      "source": [
        "Month = data['Incident Month']\n",
        "plt.boxplot(Month)\n",
        "plt.show"
      ],
      "metadata": {
        "colab": {
          "base_uri": "https://localhost:8080/",
          "height": 282
        },
        "id": "oTj0TIDs-61C",
        "outputId": "4061762e-19bf-4bd5-98e1-123eb8f08c28"
      },
      "execution_count": null,
      "outputs": [
        {
          "output_type": "execute_result",
          "data": {
            "text/plain": [
              "<function matplotlib.pyplot.show>"
            ]
          },
          "metadata": {},
          "execution_count": 24
        },
        {
          "output_type": "display_data",
          "data": {
            "text/plain": [
              "<Figure size 432x288 with 1 Axes>"
            ],
            "image/png": "[encoded data removed]"
          },
          "metadata": {
            "needs_background": "light"
          }
        }
      ]
    },
    {
      "cell_type": "code",
      "source": [
        "Day = data['Incident Day']\n",
        "plt.boxplot(Day)\n",
        "plt.show"
      ],
      "metadata": {
        "colab": {
          "base_uri": "https://localhost:8080/",
          "height": 282
        },
        "id": "QaQFdrjAAyaz",
        "outputId": "2fe9747b-4df3-4c8a-99a8-ce4620e83a14"
      },
      "execution_count": null,
      "outputs": [
        {
          "output_type": "execute_result",
          "data": {
            "text/plain": [
              "<function matplotlib.pyplot.show>"
            ]
          },
          "metadata": {},
          "execution_count": 38
        },
        {
          "output_type": "display_data",
          "data": {
            "text/plain": [
              "<Figure size 432x288 with 1 Axes>"
            ],
            "image/png": "[encoded data removed]"
          },
          "metadata": {
            "needs_background": "light"
          }
        }
      ]
    },
    {
      "cell_type": "code",
      "source": [
        "Make = data['Aircraft Make']\n",
        "#Loại bỏ các phần tử ngoại lệ:\n",
        "Make.dropna()\n",
        "Make\n"
      ],
      "metadata": {
        "colab": {
          "base_uri": "https://localhost:8080/"
        },
        "id": "RvCn7miHBO-p",
        "outputId": "d005c4c7-9b53-4297-fc5f-f151b966a1df"
      },
      "execution_count": null,
      "outputs": [
        {
          "output_type": "execute_result",
          "data": {
            "text/plain": [
              "0         148\n",
              "1         583\n",
              "3         345\n",
              "4         561\n",
              "5         583\n",
              "         ... \n",
              "174099    148\n",
              "174100    148\n",
              "174101    226\n",
              "174102    303\n",
              "174103    188\n",
              "Name: Aircraft Make, Length: 131051, dtype: object"
            ]
          },
          "metadata": {},
          "execution_count": 36
        }
      ]
    },
    {
      "cell_type": "code",
      "source": [
        "Make = Make.head(20)\n",
        "Make"
      ],
      "metadata": {
        "colab": {
          "base_uri": "https://localhost:8080/"
        },
        "id": "HiETetppFgvL",
        "outputId": "8a134be9-d8ff-4197-b320-183c0ceef775"
      },
      "execution_count": null,
      "outputs": [
        {
          "output_type": "execute_result",
          "data": {
            "text/plain": [
              "0     148\n",
              "1     583\n",
              "3     345\n",
              "4     561\n",
              "5     583\n",
              "9     303\n",
              "10    148\n",
              "12    443\n",
              "13    561\n",
              "14    148\n",
              "15    583\n",
              "16    148\n",
              "17    561\n",
              "18    561\n",
              "19    729\n",
              "20    729\n",
              "23    583\n",
              "24    561\n",
              "25    148\n",
              "26    395\n",
              "Name: Aircraft Make, dtype: object"
            ]
          },
          "metadata": {},
          "execution_count": 40
        }
      ]
    },
    {
      "cell_type": "markdown",
      "source": [
        "Câu 5: Người ta thường sử dụng chỉ số z (hay z-score) để xác định giá trị ngoại lệ (outlier). Bạn\n",
        "hãy loại bỏ các hàng có chứa giá trị ngoại lệ ra khỏi dataframe.\n",
        "Gợi ý: sử dụng chỉ số z hoặc hàm tính phân vị (quantile)"
      ],
      "metadata": {
        "id": "cGoTAuwDHNdW"
      }
    },
    {
      "cell_type": "code",
      "source": [
        "for i in [\"Engines\",\"Height\", \"Speed\", \"Distance\", \"Fatalities\", \"Injuries\"]:\n",
        "  mean = data[i].mean()\n",
        "  data[i] = data[i].fillna(mean)"
      ],
      "metadata": {
        "id": "kaiPxaE1HT3G"
      },
      "execution_count": 5,
      "outputs": []
    },
    {
      "cell_type": "code",
      "source": [
        "data[[\"Engines\",\"Height\", \"Speed\", \"Distance\", \"Fatalities\", \"Injuries\"]]"
      ],
      "metadata": {
        "colab": {
          "base_uri": "https://localhost:8080/",
          "height": 424
        },
        "id": "v11gasosH7lW",
        "outputId": "c87cecdc-cf43-4148-e77c-cb614d695c29"
      },
      "execution_count": 6,
      "outputs": [
        {
          "output_type": "execute_result",
          "data": {
            "text/plain": [
              "        Engines     Height       Speed  Distance  Fatalities  Injuries\n",
              "0      2.000000  771.76298  138.819189  0.394178    1.142857  1.238462\n",
              "1      2.000000    0.00000  138.819189  0.000000    1.142857  1.238462\n",
              "2      2.107551  771.76298  138.819189  0.000000    1.142857  1.238462\n",
              "3      2.000000  200.00000  138.000000  0.394178    1.142857  1.238462\n",
              "4      2.107551  100.00000  200.000000  0.394178    1.142857  1.238462\n",
              "...         ...        ...         ...       ...         ...       ...\n",
              "53985  2.000000  771.76298  138.819189  0.394178    1.142857  1.238462\n",
              "53986  2.000000    0.00000  120.000000  0.000000    1.142857  1.238462\n",
              "53987  2.000000    0.00000  140.000000  0.000000    1.142857  1.238462\n",
              "53988  2.107551  771.76298  138.819189  0.000000    1.142857  1.238462\n",
              "53989  2.107551  771.76298  138.819189  0.394178    1.142857  1.238462\n",
              "\n",
              "[53990 rows x 6 columns]"
            ],
            "text/html": [
              "\n",
              "  <div id=\"df-b95f8d01-9ae4-4daf-bd7e-8a6ac44ef8af\">\n",
              "    <div class=\"colab-df-container\">\n",
              "      <div>\n",
              "<style scoped>\n",
              "    .dataframe tbody tr th:only-of-type {\n",
              "        vertical-align: middle;\n",
              "    }\n",
              "\n",
              "    .dataframe tbody tr th {\n",
              "        vertical-align: top;\n",
              "    }\n",
              "\n",
              "    .dataframe thead th {\n",
              "        text-align: right;\n",
              "    }\n",
              "</style>\n",
              "<table border=\"1\" class=\"dataframe\">\n",
              "  <thead>\n",
              "    <tr style=\"text-align: right;\">\n",
              "      <th></th>\n",
              "      <th>Engines</th>\n",
              "      <th>Height</th>\n",
              "      <th>Speed</th>\n",
              "      <th>Distance</th>\n",
              "      <th>Fatalities</th>\n",
              "      <th>Injuries</th>\n",
              "    </tr>\n",
              "  </thead>\n",
              "  <tbody>\n",
              "    <tr>\n",
              "      <th>0</th>\n",
              "      <td>2.000000</td>\n",
              "      <td>771.76298</td>\n",
              "      <td>138.819189</td>\n",
              "      <td>0.394178</td>\n",
              "      <td>1.142857</td>\n",
              "      <td>1.238462</td>\n",
              "    </tr>\n",
              "    <tr>\n",
              "      <th>1</th>\n",
              "      <td>2.000000</td>\n",
              "      <td>0.00000</td>\n",
              "      <td>138.819189</td>\n",
              "      <td>0.000000</td>\n",
              "      <td>1.142857</td>\n",
              "      <td>1.238462</td>\n",
              "    </tr>\n",
              "    <tr>\n",
              "      <th>2</th>\n",
              "      <td>2.107551</td>\n",
              "      <td>771.76298</td>\n",
              "      <td>138.819189</td>\n",
              "      <td>0.000000</td>\n",
              "      <td>1.142857</td>\n",
              "      <td>1.238462</td>\n",
              "    </tr>\n",
              "    <tr>\n",
              "      <th>3</th>\n",
              "      <td>2.000000</td>\n",
              "      <td>200.00000</td>\n",
              "      <td>138.000000</td>\n",
              "      <td>0.394178</td>\n",
              "      <td>1.142857</td>\n",
              "      <td>1.238462</td>\n",
              "    </tr>\n",
              "    <tr>\n",
              "      <th>4</th>\n",
              "      <td>2.107551</td>\n",
              "      <td>100.00000</td>\n",
              "      <td>200.000000</td>\n",
              "      <td>0.394178</td>\n",
              "      <td>1.142857</td>\n",
              "      <td>1.238462</td>\n",
              "    </tr>\n",
              "    <tr>\n",
              "      <th>...</th>\n",
              "      <td>...</td>\n",
              "      <td>...</td>\n",
              "      <td>...</td>\n",
              "      <td>...</td>\n",
              "      <td>...</td>\n",
              "      <td>...</td>\n",
              "    </tr>\n",
              "    <tr>\n",
              "      <th>53985</th>\n",
              "      <td>2.000000</td>\n",
              "      <td>771.76298</td>\n",
              "      <td>138.819189</td>\n",
              "      <td>0.394178</td>\n",
              "      <td>1.142857</td>\n",
              "      <td>1.238462</td>\n",
              "    </tr>\n",
              "    <tr>\n",
              "      <th>53986</th>\n",
              "      <td>2.000000</td>\n",
              "      <td>0.00000</td>\n",
              "      <td>120.000000</td>\n",
              "      <td>0.000000</td>\n",
              "      <td>1.142857</td>\n",
              "      <td>1.238462</td>\n",
              "    </tr>\n",
              "    <tr>\n",
              "      <th>53987</th>\n",
              "      <td>2.000000</td>\n",
              "      <td>0.00000</td>\n",
              "      <td>140.000000</td>\n",
              "      <td>0.000000</td>\n",
              "      <td>1.142857</td>\n",
              "      <td>1.238462</td>\n",
              "    </tr>\n",
              "    <tr>\n",
              "      <th>53988</th>\n",
              "      <td>2.107551</td>\n",
              "      <td>771.76298</td>\n",
              "      <td>138.819189</td>\n",
              "      <td>0.000000</td>\n",
              "      <td>1.142857</td>\n",
              "      <td>1.238462</td>\n",
              "    </tr>\n",
              "    <tr>\n",
              "      <th>53989</th>\n",
              "      <td>2.107551</td>\n",
              "      <td>771.76298</td>\n",
              "      <td>138.819189</td>\n",
              "      <td>0.394178</td>\n",
              "      <td>1.142857</td>\n",
              "      <td>1.238462</td>\n",
              "    </tr>\n",
              "  </tbody>\n",
              "</table>\n",
              "<p>53990 rows × 6 columns</p>\n",
              "</div>\n",
              "      <button class=\"colab-df-convert\" onclick=\"convertToInteractive('df-b95f8d01-9ae4-4daf-bd7e-8a6ac44ef8af')\"\n",
              "              title=\"Convert this dataframe to an interactive table.\"\n",
              "              style=\"display:none;\">\n",
              "        \n",
              "  <svg xmlns=\"http://www.w3.org/2000/svg\" height=\"24px\"viewBox=\"0 0 24 24\"\n",
              "       width=\"24px\">\n",
              "    <path d=\"M0 0h24v24H0V0z\" fill=\"none\"/>\n",
              "    <path d=\"M18.56 5.44l.94 2.06.94-2.06 2.06-.94-2.06-.94-.94-2.06-.94 2.06-2.06.94zm-11 1L8.5 8.5l.94-2.06 2.06-.94-2.06-.94L8.5 2.5l-.94 2.06-2.06.94zm10 10l.94 2.06.94-2.06 2.06-.94-2.06-.94-.94-2.06-.94 2.06-2.06.94z\"/><path d=\"M17.41 7.96l-1.37-1.37c-.4-.4-.92-.59-1.43-.59-.52 0-1.04.2-1.43.59L10.3 9.45l-7.72 7.72c-.78.78-.78 2.05 0 2.83L4 21.41c.39.39.9.59 1.41.59.51 0 1.02-.2 1.41-.59l7.78-7.78 2.81-2.81c.8-.78.8-2.07 0-2.86zM5.41 20L4 18.59l7.72-7.72 1.47 1.35L5.41 20z\"/>\n",
              "  </svg>\n",
              "      </button>\n",
              "      \n",
              "  <style>\n",
              "    .colab-df-container {\n",
              "      display:flex;\n",
              "      flex-wrap:wrap;\n",
              "      gap: 12px;\n",
              "    }\n",
              "\n",
              "    .colab-df-convert {\n",
              "      background-color: #E8F0FE;\n",
              "      border: none;\n",
              "      border-radius: 50%;\n",
              "      cursor: pointer;\n",
              "      display: none;\n",
              "      fill: #1967D2;\n",
              "      height: 32px;\n",
              "      padding: 0 0 0 0;\n",
              "      width: 32px;\n",
              "    }\n",
              "\n",
              "    .colab-df-convert:hover {\n",
              "      background-color: #E2EBFA;\n",
              "      box-shadow: 0px 1px 2px rgba(60, 64, 67, 0.3), 0px 1px 3px 1px rgba(60, 64, 67, 0.15);\n",
              "      fill: #174EA6;\n",
              "    }\n",
              "\n",
              "    [theme=dark] .colab-df-convert {\n",
              "      background-color: #3B4455;\n",
              "      fill: #D2E3FC;\n",
              "    }\n",
              "\n",
              "    [theme=dark] .colab-df-convert:hover {\n",
              "      background-color: #434B5C;\n",
              "      box-shadow: 0px 1px 3px 1px rgba(0, 0, 0, 0.15);\n",
              "      filter: drop-shadow(0px 1px 2px rgba(0, 0, 0, 0.3));\n",
              "      fill: #FFFFFF;\n",
              "    }\n",
              "  </style>\n",
              "\n",
              "      <script>\n",
              "        const buttonEl =\n",
              "          document.querySelector('#df-b95f8d01-9ae4-4daf-bd7e-8a6ac44ef8af button.colab-df-convert');\n",
              "        buttonEl.style.display =\n",
              "          google.colab.kernel.accessAllowed ? 'block' : 'none';\n",
              "\n",
              "        async function convertToInteractive(key) {\n",
              "          const element = document.querySelector('#df-b95f8d01-9ae4-4daf-bd7e-8a6ac44ef8af');\n",
              "          const dataTable =\n",
              "            await google.colab.kernel.invokeFunction('convertToInteractive',\n",
              "                                                     [key], {});\n",
              "          if (!dataTable) return;\n",
              "\n",
              "          const docLinkHtml = 'Like what you see? Visit the ' +\n",
              "            '<a target=\"_blank\" href=https://colab.research.google.com/notebooks/data_table.ipynb>data table notebook</a>'\n",
              "            + ' to learn more about interactive tables.';\n",
              "          element.innerHTML = '';\n",
              "          dataTable['output_type'] = 'display_data';\n",
              "          await google.colab.output.renderOutput(dataTable, element);\n",
              "          const docLink = document.createElement('div');\n",
              "          docLink.innerHTML = docLinkHtml;\n",
              "          element.appendChild(docLink);\n",
              "        }\n",
              "      </script>\n",
              "    </div>\n",
              "  </div>\n",
              "  "
            ]
          },
          "metadata": {},
          "execution_count": 6
        }
      ]
    },
    {
      "cell_type": "code",
      "source": [
        "data_2 = data[[\"Engines\",\"Height\", \"Speed\", \"Distance\", \"Fatalities\", \"Injuries\"]]\n",
        "abs_z_scores = np.abs(st.zscore(data_2))\n",
        "data_2 = data_2[(abs_z_scores < 3).all(axis=1)]"
      ],
      "metadata": {
        "id": "R0fLjbusIEMv"
      },
      "execution_count": 8,
      "outputs": []
    },
    {
      "cell_type": "markdown",
      "source": [
        "Câu 6: Thực hiện lại câu 3 – 4 với tập dữ liệu sau khi đã loại bỏ ngoại lệ."
      ],
      "metadata": {
        "id": "WkIYGVYvIUUl"
      }
    },
    {
      "cell_type": "code",
      "source": [
        "data_2.describe()"
      ],
      "metadata": {
        "colab": {
          "base_uri": "https://localhost:8080/",
          "height": 300
        },
        "id": "IymM6DzJIXwt",
        "outputId": "5d3a5c77-b756-4afa-aadc-0030e194d2ef"
      },
      "execution_count": 9,
      "outputs": [
        {
          "output_type": "execute_result",
          "data": {
            "text/plain": [
              "            Engines        Height         Speed      Distance    Fatalities  \\\n",
              "count  49817.000000  49817.000000  49817.000000  49817.000000  4.981700e+04   \n",
              "mean       2.051754    546.294455    135.764261      0.240248  1.142857e+00   \n",
              "std        0.375492    744.325488     24.542745      0.332141  4.836180e-13   \n",
              "min        1.000000      0.000000     45.000000      0.000000  1.142857e+00   \n",
              "25%        2.000000      0.000000    134.000000      0.000000  1.142857e+00   \n",
              "50%        2.000000    300.000000    138.819189      0.394178  1.142857e+00   \n",
              "75%        2.107551    771.762980    138.819189      0.394178  1.142857e+00   \n",
              "max        3.000000   5200.000000    235.000000      6.000000  1.142857e+00   \n",
              "\n",
              "           Injuries  \n",
              "count  4.981700e+04  \n",
              "mean   1.238462e+00  \n",
              "std    1.544114e-12  \n",
              "min    1.238462e+00  \n",
              "25%    1.238462e+00  \n",
              "50%    1.238462e+00  \n",
              "75%    1.238462e+00  \n",
              "max    1.238462e+00  "
            ],
            "text/html": [
              "\n",
              "  <div id=\"df-5999a3b9-30ae-4b8b-bd32-2086ec9cc08a\">\n",
              "    <div class=\"colab-df-container\">\n",
              "      <div>\n",
              "<style scoped>\n",
              "    .dataframe tbody tr th:only-of-type {\n",
              "        vertical-align: middle;\n",
              "    }\n",
              "\n",
              "    .dataframe tbody tr th {\n",
              "        vertical-align: top;\n",
              "    }\n",
              "\n",
              "    .dataframe thead th {\n",
              "        text-align: right;\n",
              "    }\n",
              "</style>\n",
              "<table border=\"1\" class=\"dataframe\">\n",
              "  <thead>\n",
              "    <tr style=\"text-align: right;\">\n",
              "      <th></th>\n",
              "      <th>Engines</th>\n",
              "      <th>Height</th>\n",
              "      <th>Speed</th>\n",
              "      <th>Distance</th>\n",
              "      <th>Fatalities</th>\n",
              "      <th>Injuries</th>\n",
              "    </tr>\n",
              "  </thead>\n",
              "  <tbody>\n",
              "    <tr>\n",
              "      <th>count</th>\n",
              "      <td>49817.000000</td>\n",
              "      <td>49817.000000</td>\n",
              "      <td>49817.000000</td>\n",
              "      <td>49817.000000</td>\n",
              "      <td>4.981700e+04</td>\n",
              "      <td>4.981700e+04</td>\n",
              "    </tr>\n",
              "    <tr>\n",
              "      <th>mean</th>\n",
              "      <td>2.051754</td>\n",
              "      <td>546.294455</td>\n",
              "      <td>135.764261</td>\n",
              "      <td>0.240248</td>\n",
              "      <td>1.142857e+00</td>\n",
              "      <td>1.238462e+00</td>\n",
              "    </tr>\n",
              "    <tr>\n",
              "      <th>std</th>\n",
              "      <td>0.375492</td>\n",
              "      <td>744.325488</td>\n",
              "      <td>24.542745</td>\n",
              "      <td>0.332141</td>\n",
              "      <td>4.836180e-13</td>\n",
              "      <td>1.544114e-12</td>\n",
              "    </tr>\n",
              "    <tr>\n",
              "      <th>min</th>\n",
              "      <td>1.000000</td>\n",
              "      <td>0.000000</td>\n",
              "      <td>45.000000</td>\n",
              "      <td>0.000000</td>\n",
              "      <td>1.142857e+00</td>\n",
              "      <td>1.238462e+00</td>\n",
              "    </tr>\n",
              "    <tr>\n",
              "      <th>25%</th>\n",
              "      <td>2.000000</td>\n",
              "      <td>0.000000</td>\n",
              "      <td>134.000000</td>\n",
              "      <td>0.000000</td>\n",
              "      <td>1.142857e+00</td>\n",
              "      <td>1.238462e+00</td>\n",
              "    </tr>\n",
              "    <tr>\n",
              "      <th>50%</th>\n",
              "      <td>2.000000</td>\n",
              "      <td>300.000000</td>\n",
              "      <td>138.819189</td>\n",
              "      <td>0.394178</td>\n",
              "      <td>1.142857e+00</td>\n",
              "      <td>1.238462e+00</td>\n",
              "    </tr>\n",
              "    <tr>\n",
              "      <th>75%</th>\n",
              "      <td>2.107551</td>\n",
              "      <td>771.762980</td>\n",
              "      <td>138.819189</td>\n",
              "      <td>0.394178</td>\n",
              "      <td>1.142857e+00</td>\n",
              "      <td>1.238462e+00</td>\n",
              "    </tr>\n",
              "    <tr>\n",
              "      <th>max</th>\n",
              "      <td>3.000000</td>\n",
              "      <td>5200.000000</td>\n",
              "      <td>235.000000</td>\n",
              "      <td>6.000000</td>\n",
              "      <td>1.142857e+00</td>\n",
              "      <td>1.238462e+00</td>\n",
              "    </tr>\n",
              "  </tbody>\n",
              "</table>\n",
              "</div>\n",
              "      <button class=\"colab-df-convert\" onclick=\"convertToInteractive('df-5999a3b9-30ae-4b8b-bd32-2086ec9cc08a')\"\n",
              "              title=\"Convert this dataframe to an interactive table.\"\n",
              "              style=\"display:none;\">\n",
              "        \n",
              "  <svg xmlns=\"http://www.w3.org/2000/svg\" height=\"24px\"viewBox=\"0 0 24 24\"\n",
              "       width=\"24px\">\n",
              "    <path d=\"M0 0h24v24H0V0z\" fill=\"none\"/>\n",
              "    <path d=\"M18.56 5.44l.94 2.06.94-2.06 2.06-.94-2.06-.94-.94-2.06-.94 2.06-2.06.94zm-11 1L8.5 8.5l.94-2.06 2.06-.94-2.06-.94L8.5 2.5l-.94 2.06-2.06.94zm10 10l.94 2.06.94-2.06 2.06-.94-2.06-.94-.94-2.06-.94 2.06-2.06.94z\"/><path d=\"M17.41 7.96l-1.37-1.37c-.4-.4-.92-.59-1.43-.59-.52 0-1.04.2-1.43.59L10.3 9.45l-7.72 7.72c-.78.78-.78 2.05 0 2.83L4 21.41c.39.39.9.59 1.41.59.51 0 1.02-.2 1.41-.59l7.78-7.78 2.81-2.81c.8-.78.8-2.07 0-2.86zM5.41 20L4 18.59l7.72-7.72 1.47 1.35L5.41 20z\"/>\n",
              "  </svg>\n",
              "      </button>\n",
              "      \n",
              "  <style>\n",
              "    .colab-df-container {\n",
              "      display:flex;\n",
              "      flex-wrap:wrap;\n",
              "      gap: 12px;\n",
              "    }\n",
              "\n",
              "    .colab-df-convert {\n",
              "      background-color: #E8F0FE;\n",
              "      border: none;\n",
              "      border-radius: 50%;\n",
              "      cursor: pointer;\n",
              "      display: none;\n",
              "      fill: #1967D2;\n",
              "      height: 32px;\n",
              "      padding: 0 0 0 0;\n",
              "      width: 32px;\n",
              "    }\n",
              "\n",
              "    .colab-df-convert:hover {\n",
              "      background-color: #E2EBFA;\n",
              "      box-shadow: 0px 1px 2px rgba(60, 64, 67, 0.3), 0px 1px 3px 1px rgba(60, 64, 67, 0.15);\n",
              "      fill: #174EA6;\n",
              "    }\n",
              "\n",
              "    [theme=dark] .colab-df-convert {\n",
              "      background-color: #3B4455;\n",
              "      fill: #D2E3FC;\n",
              "    }\n",
              "\n",
              "    [theme=dark] .colab-df-convert:hover {\n",
              "      background-color: #434B5C;\n",
              "      box-shadow: 0px 1px 3px 1px rgba(0, 0, 0, 0.15);\n",
              "      filter: drop-shadow(0px 1px 2px rgba(0, 0, 0, 0.3));\n",
              "      fill: #FFFFFF;\n",
              "    }\n",
              "  </style>\n",
              "\n",
              "      <script>\n",
              "        const buttonEl =\n",
              "          document.querySelector('#df-5999a3b9-30ae-4b8b-bd32-2086ec9cc08a button.colab-df-convert');\n",
              "        buttonEl.style.display =\n",
              "          google.colab.kernel.accessAllowed ? 'block' : 'none';\n",
              "\n",
              "        async function convertToInteractive(key) {\n",
              "          const element = document.querySelector('#df-5999a3b9-30ae-4b8b-bd32-2086ec9cc08a');\n",
              "          const dataTable =\n",
              "            await google.colab.kernel.invokeFunction('convertToInteractive',\n",
              "                                                     [key], {});\n",
              "          if (!dataTable) return;\n",
              "\n",
              "          const docLinkHtml = 'Like what you see? Visit the ' +\n",
              "            '<a target=\"_blank\" href=https://colab.research.google.com/notebooks/data_table.ipynb>data table notebook</a>'\n",
              "            + ' to learn more about interactive tables.';\n",
              "          element.innerHTML = '';\n",
              "          dataTable['output_type'] = 'display_data';\n",
              "          await google.colab.output.renderOutput(dataTable, element);\n",
              "          const docLink = document.createElement('div');\n",
              "          docLink.innerHTML = docLinkHtml;\n",
              "          element.appendChild(docLink);\n",
              "        }\n",
              "      </script>\n",
              "    </div>\n",
              "  </div>\n",
              "  "
            ]
          },
          "metadata": {},
          "execution_count": 9
        }
      ]
    },
    {
      "cell_type": "markdown",
      "source": [
        "Vẽ boxplot"
      ],
      "metadata": {
        "id": "rUqX89X1Ifk_"
      }
    },
    {
      "cell_type": "code",
      "source": [
        "plt.boxplot(data_2[\"Engines\"])"
      ],
      "metadata": {
        "colab": {
          "base_uri": "https://localhost:8080/",
          "height": 265
        },
        "id": "ugf0EUU4Ig9e",
        "outputId": "409d16ee-7f52-4aac-cebd-df594badeefc"
      },
      "execution_count": 10,
      "outputs": [
        {
          "output_type": "display_data",
          "data": {
            "text/plain": [
              "<Figure size 432x288 with 1 Axes>"
            ],
            "image/png": "[encoded data removed]"
          },
          "metadata": {
            "needs_background": "light"
          }
        }
      ]
    },
    {
      "cell_type": "code",
      "source": [
        "plt.boxplot(data_2[\"Injuries\"])"
      ],
      "metadata": {
        "colab": {
          "base_uri": "https://localhost:8080/",
          "height": 404
        },
        "id": "8rN_eOylIrd4",
        "outputId": "5d00dff2-ade4-43a9-ca3e-49fcc8923915"
      },
      "execution_count": 12,
      "outputs": [
        {
          "output_type": "execute_result",
          "data": {
            "text/plain": [
              "{'boxes': [<matplotlib.lines.Line2D at 0x7fc677136d50>],\n",
              " 'caps': [<matplotlib.lines.Line2D at 0x7fc67713ddd0>,\n",
              "  <matplotlib.lines.Line2D at 0x7fc677143350>],\n",
              " 'fliers': [<matplotlib.lines.Line2D at 0x7fc677143e10>],\n",
              " 'means': [],\n",
              " 'medians': [<matplotlib.lines.Line2D at 0x7fc6771438d0>],\n",
              " 'whiskers': [<matplotlib.lines.Line2D at 0x7fc67713d350>,\n",
              "  <matplotlib.lines.Line2D at 0x7fc67713d890>]}"
            ]
          },
          "metadata": {},
          "execution_count": 12
        },
        {
          "output_type": "display_data",
          "data": {
            "text/plain": [
              "<Figure size 432x288 with 1 Axes>"
            ],
            "image/png": "[encoded data removed]"
          },
          "metadata": {
            "needs_background": "light"
          }
        }
      ]
    },
    {
      "cell_type": "markdown",
      "source": [
        "Câu 7: Hãy tính độ tương quan (correlation) giữa các cột định lượng. (Hay xây dựng correlation\n",
        "matrix)"
      ],
      "metadata": {
        "id": "7bAEiwWhIxD8"
      }
    },
    {
      "cell_type": "code",
      "source": [
        "cor = data_2.corr(method='pearson')\n",
        "cor"
      ],
      "metadata": {
        "colab": {
          "base_uri": "https://localhost:8080/",
          "height": 238
        },
        "id": "FbP4UDyrIu-j",
        "outputId": "0acc973d-418d-40d9-bb5e-dde657e2acd1"
      },
      "execution_count": 13,
      "outputs": [
        {
          "output_type": "execute_result",
          "data": {
            "text/plain": [
              "             Engines    Height     Speed  Distance  Fatalities  Injuries\n",
              "Engines     1.000000  0.027567  0.261688 -0.022289         NaN       NaN\n",
              "Height      0.027567  1.000000  0.485824  0.298183         NaN       NaN\n",
              "Speed       0.261688  0.485824  1.000000  0.170873         NaN       NaN\n",
              "Distance   -0.022289  0.298183  0.170873  1.000000         NaN       NaN\n",
              "Fatalities       NaN       NaN       NaN       NaN         NaN       NaN\n",
              "Injuries         NaN       NaN       NaN       NaN         NaN       NaN"
            ],
            "text/html": [
              "\n",
              "  <div id=\"df-37b9130a-a234-45ac-8330-6fd01cd3c82c\">\n",
              "    <div class=\"colab-df-container\">\n",
              "      <div>\n",
              "<style scoped>\n",
              "    .dataframe tbody tr th:only-of-type {\n",
              "        vertical-align: middle;\n",
              "    }\n",
              "\n",
              "    .dataframe tbody tr th {\n",
              "        vertical-align: top;\n",
              "    }\n",
              "\n",
              "    .dataframe thead th {\n",
              "        text-align: right;\n",
              "    }\n",
              "</style>\n",
              "<table border=\"1\" class=\"dataframe\">\n",
              "  <thead>\n",
              "    <tr style=\"text-align: right;\">\n",
              "      <th></th>\n",
              "      <th>Engines</th>\n",
              "      <th>Height</th>\n",
              "      <th>Speed</th>\n",
              "      <th>Distance</th>\n",
              "      <th>Fatalities</th>\n",
              "      <th>Injuries</th>\n",
              "    </tr>\n",
              "  </thead>\n",
              "  <tbody>\n",
              "    <tr>\n",
              "      <th>Engines</th>\n",
              "      <td>1.000000</td>\n",
              "      <td>0.027567</td>\n",
              "      <td>0.261688</td>\n",
              "      <td>-0.022289</td>\n",
              "      <td>NaN</td>\n",
              "      <td>NaN</td>\n",
              "    </tr>\n",
              "    <tr>\n",
              "      <th>Height</th>\n",
              "      <td>0.027567</td>\n",
              "      <td>1.000000</td>\n",
              "      <td>0.485824</td>\n",
              "      <td>0.298183</td>\n",
              "      <td>NaN</td>\n",
              "      <td>NaN</td>\n",
              "    </tr>\n",
              "    <tr>\n",
              "      <th>Speed</th>\n",
              "      <td>0.261688</td>\n",
              "      <td>0.485824</td>\n",
              "      <td>1.000000</td>\n",
              "      <td>0.170873</td>\n",
              "      <td>NaN</td>\n",
              "      <td>NaN</td>\n",
              "    </tr>\n",
              "    <tr>\n",
              "      <th>Distance</th>\n",
              "      <td>-0.022289</td>\n",
              "      <td>0.298183</td>\n",
              "      <td>0.170873</td>\n",
              "      <td>1.000000</td>\n",
              "      <td>NaN</td>\n",
              "      <td>NaN</td>\n",
              "    </tr>\n",
              "    <tr>\n",
              "      <th>Fatalities</th>\n",
              "      <td>NaN</td>\n",
              "      <td>NaN</td>\n",
              "      <td>NaN</td>\n",
              "      <td>NaN</td>\n",
              "      <td>NaN</td>\n",
              "      <td>NaN</td>\n",
              "    </tr>\n",
              "    <tr>\n",
              "      <th>Injuries</th>\n",
              "      <td>NaN</td>\n",
              "      <td>NaN</td>\n",
              "      <td>NaN</td>\n",
              "      <td>NaN</td>\n",
              "      <td>NaN</td>\n",
              "      <td>NaN</td>\n",
              "    </tr>\n",
              "  </tbody>\n",
              "</table>\n",
              "</div>\n",
              "      <button class=\"colab-df-convert\" onclick=\"convertToInteractive('df-37b9130a-a234-45ac-8330-6fd01cd3c82c')\"\n",
              "              title=\"Convert this dataframe to an interactive table.\"\n",
              "              style=\"display:none;\">\n",
              "        \n",
              "  <svg xmlns=\"http://www.w3.org/2000/svg\" height=\"24px\"viewBox=\"0 0 24 24\"\n",
              "       width=\"24px\">\n",
              "    <path d=\"M0 0h24v24H0V0z\" fill=\"none\"/>\n",
              "    <path d=\"M18.56 5.44l.94 2.06.94-2.06 2.06-.94-2.06-.94-.94-2.06-.94 2.06-2.06.94zm-11 1L8.5 8.5l.94-2.06 2.06-.94-2.06-.94L8.5 2.5l-.94 2.06-2.06.94zm10 10l.94 2.06.94-2.06 2.06-.94-2.06-.94-.94-2.06-.94 2.06-2.06.94z\"/><path d=\"M17.41 7.96l-1.37-1.37c-.4-.4-.92-.59-1.43-.59-.52 0-1.04.2-1.43.59L10.3 9.45l-7.72 7.72c-.78.78-.78 2.05 0 2.83L4 21.41c.39.39.9.59 1.41.59.51 0 1.02-.2 1.41-.59l7.78-7.78 2.81-2.81c.8-.78.8-2.07 0-2.86zM5.41 20L4 18.59l7.72-7.72 1.47 1.35L5.41 20z\"/>\n",
              "  </svg>\n",
              "      </button>\n",
              "      \n",
              "  <style>\n",
              "    .colab-df-container {\n",
              "      display:flex;\n",
              "      flex-wrap:wrap;\n",
              "      gap: 12px;\n",
              "    }\n",
              "\n",
              "    .colab-df-convert {\n",
              "      background-color: #E8F0FE;\n",
              "      border: none;\n",
              "      border-radius: 50%;\n",
              "      cursor: pointer;\n",
              "      display: none;\n",
              "      fill: #1967D2;\n",
              "      height: 32px;\n",
              "      padding: 0 0 0 0;\n",
              "      width: 32px;\n",
              "    }\n",
              "\n",
              "    .colab-df-convert:hover {\n",
              "      background-color: #E2EBFA;\n",
              "      box-shadow: 0px 1px 2px rgba(60, 64, 67, 0.3), 0px 1px 3px 1px rgba(60, 64, 67, 0.15);\n",
              "      fill: #174EA6;\n",
              "    }\n",
              "\n",
              "    [theme=dark] .colab-df-convert {\n",
              "      background-color: #3B4455;\n",
              "      fill: #D2E3FC;\n",
              "    }\n",
              "\n",
              "    [theme=dark] .colab-df-convert:hover {\n",
              "      background-color: #434B5C;\n",
              "      box-shadow: 0px 1px 3px 1px rgba(0, 0, 0, 0.15);\n",
              "      filter: drop-shadow(0px 1px 2px rgba(0, 0, 0, 0.3));\n",
              "      fill: #FFFFFF;\n",
              "    }\n",
              "  </style>\n",
              "\n",
              "      <script>\n",
              "        const buttonEl =\n",
              "          document.querySelector('#df-37b9130a-a234-45ac-8330-6fd01cd3c82c button.colab-df-convert');\n",
              "        buttonEl.style.display =\n",
              "          google.colab.kernel.accessAllowed ? 'block' : 'none';\n",
              "\n",
              "        async function convertToInteractive(key) {\n",
              "          const element = document.querySelector('#df-37b9130a-a234-45ac-8330-6fd01cd3c82c');\n",
              "          const dataTable =\n",
              "            await google.colab.kernel.invokeFunction('convertToInteractive',\n",
              "                                                     [key], {});\n",
              "          if (!dataTable) return;\n",
              "\n",
              "          const docLinkHtml = 'Like what you see? Visit the ' +\n",
              "            '<a target=\"_blank\" href=https://colab.research.google.com/notebooks/data_table.ipynb>data table notebook</a>'\n",
              "            + ' to learn more about interactive tables.';\n",
              "          element.innerHTML = '';\n",
              "          dataTable['output_type'] = 'display_data';\n",
              "          await google.colab.output.renderOutput(dataTable, element);\n",
              "          const docLink = document.createElement('div');\n",
              "          docLink.innerHTML = docLinkHtml;\n",
              "          element.appendChild(docLink);\n",
              "        }\n",
              "      </script>\n",
              "    </div>\n",
              "  </div>\n",
              "  "
            ]
          },
          "metadata": {},
          "execution_count": 13
        }
      ]
    },
    {
      "cell_type": "markdown",
      "source": [
        "Câu 8: Từ correlation matrix, Hãy vẽ:\n",
        "- Heat map (biểu đồ nhiệt)\n",
        "- Pair plot (biểu đồ cặp)"
      ],
      "metadata": {
        "id": "Z30DCebbJF1f"
      }
    },
    {
      "cell_type": "markdown",
      "source": [
        "Heat map:"
      ],
      "metadata": {
        "id": "leI6zXauJGf3"
      }
    },
    {
      "cell_type": "code",
      "source": [
        "sns.heatmap(cor, vmin=-1, vmax=1, cmap=sns.diverging_palette(20, 220, as_cmap=True))"
      ],
      "metadata": {
        "colab": {
          "base_uri": "https://localhost:8080/",
          "height": 269
        },
        "id": "J1eiGRfeJIGZ",
        "outputId": "28423659-64e2-47ff-9267-f78524da8e17"
      },
      "execution_count": 15,
      "outputs": [
        {
          "output_type": "display_data",
          "data": {
            "text/plain": [
              "<Figure size 432x288 with 2 Axes>"
            ],
            "image/png": "[encoded data removed]"
          },
          "metadata": {
            "needs_background": "light"
          }
        }
      ]
    },
    {
      "cell_type": "markdown",
      "source": [
        "Pair plot:"
      ],
      "metadata": {
        "id": "RpsDjVTkJV_Q"
      }
    },
    {
      "cell_type": "code",
      "source": [
        "sns.pairplot(data_2)"
      ],
      "metadata": {
        "colab": {
          "base_uri": "https://localhost:8080/",
          "height": 1000
        },
        "id": "NMVHq_ISJXnO",
        "outputId": "2d00d3ed-dc7c-4065-fb69-a98d85913572"
      },
      "execution_count": 16,
      "outputs": [
        {
          "output_type": "execute_result",
          "data": {
            "text/plain": [
              "<seaborn.axisgrid.PairGrid at 0x7fc673fb1a50>"
            ]
          },
          "metadata": {},
          "execution_count": 16
        },
        {
          "output_type": "display_data",
          "data": {
            "text/plain": [
              "<Figure size 1080x1080 with 42 Axes>"
            ],
            "image/png": "[encoded data removed]"
          },
          "metadata": {
            "needs_background": "light"
          }
        }
      ]
    },
    {
      "cell_type": "markdown",
      "source": [
        "Câu 9: Đối với các cột dữ liệu định tính, hãy:\n",
        "- Vẽ biểu đồ cột dạng đứng\n",
        "- Vẽ biểu đồ cột dạng ngang"
      ],
      "metadata": {
        "id": "QvEuS8NjJy1o"
      }
    },
    {
      "cell_type": "markdown",
      "source": [
        "Biểu đồ dạng đứng"
      ],
      "metadata": {
        "id": "fxgmWxSBKARV"
      }
    },
    {
      "cell_type": "code",
      "source": [
        "x = dict(data[\"Incident Year\"].value_counts()).keys()\n",
        "y = dict(data[\"Incident Year\"].value_counts()).values()\n",
        "plt.bar(x,y);"
      ],
      "metadata": {
        "colab": {
          "base_uri": "https://localhost:8080/",
          "height": 265
        },
        "id": "cXtsY9ZsKEsV",
        "outputId": "2868ba37-0b74-4159-f7c8-c2301e4bfe79"
      },
      "execution_count": 17,
      "outputs": [
        {
          "output_type": "display_data",
          "data": {
            "text/plain": [
              "<Figure size 432x288 with 1 Axes>"
            ],
            "image/png": "[encoded data removed]"
          },
          "metadata": {
            "needs_background": "light"
          }
        }
      ]
    },
    {
      "cell_type": "markdown",
      "source": [
        "Biểu đồ dạng ngang"
      ],
      "metadata": {
        "id": "OI9zhc9JKH7k"
      }
    },
    {
      "cell_type": "code",
      "source": [
        "x = dict(data[\"Incident Year\"].value_counts()).keys()\n",
        "y = dict(data[\"Incident Year\"].value_counts()).values()\n",
        "plt.barh(list(x),list(y))"
      ],
      "metadata": {
        "colab": {
          "base_uri": "https://localhost:8080/",
          "height": 285
        },
        "id": "nTLIGdmuKKxB",
        "outputId": "ead4fdb6-4f39-46dc-a961-a98eb9197c78"
      },
      "execution_count": 18,
      "outputs": [
        {
          "output_type": "execute_result",
          "data": {
            "text/plain": [
              "<BarContainer object of 14 artists>"
            ]
          },
          "metadata": {},
          "execution_count": 18
        },
        {
          "output_type": "display_data",
          "data": {
            "text/plain": [
              "<Figure size 432x288 with 1 Axes>"
            ],
            "image/png": "[encoded data removed]"
          },
          "metadata": {
            "needs_background": "light"
          }
        }
      ]
    }
  ]
}