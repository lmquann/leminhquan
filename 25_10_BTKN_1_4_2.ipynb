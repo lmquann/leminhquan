{
  "nbformat": 4,
  "nbformat_minor": 0,
  "metadata": {
    "colab": {
      "provenance": [],
      "authorship_tag": "ABX9TyPNRwQa46KZAW56nIsKDEiV",
      "include_colab_link": true
    },
    "kernelspec": {
      "name": "python3",
      "display_name": "Python 3"
    },
    "language_info": {
      "name": "python"
    }
  },
  "cells": [
    {
      "cell_type": "markdown",
      "metadata": {
        "id": "view-in-github",
        "colab_type": "text"
      },
      "source": [
        "<a href=\"https://colab.research.google.com/github/lmquann/leminhquan/blob/main/25_10_BTKN_1_4_2.ipynb\" target=\"_parent\"><img src=\"https://colab.research.google.com/assets/colab-badge.svg\" alt=\"Open In Colab\"/></a>"
      ]
    },
    {
      "cell_type": "code",
      "execution_count": 1,
      "metadata": {
        "colab": {
          "base_uri": "https://localhost:8080/"
        },
        "id": "BJ2uE8ogLgOG",
        "outputId": "695ee181-73d7-4449-8694-128dcf8fdcc3"
      },
      "outputs": [
        {
          "output_type": "stream",
          "name": "stdout",
          "text": [
            "Mounted at /content/drive\n"
          ]
        }
      ],
      "source": [
        "import os\n",
        "import numpy as np\n",
        "from google.colab import drive\n",
        "drive.mount('/content/drive')\n",
        "from sklearn.model_selection import train_test_split\n",
        "from sklearn.metrics import accuracy_score\n",
        "from sklearn.linear_model import LogisticRegression"
      ]
    },
    {
      "cell_type": "code",
      "source": [
        "def readData(filename,folder=''):\n",
        "    data = np.loadtxt(os.path.join(folder, filename), delimiter=',')\n",
        "    X = data[:, :-1]\n",
        "    y = data[:, -1].reshape(-1, 1)\n",
        "    one = np.ones((X.shape[0], 1))\n",
        "    X = np.concatenate((one, X), axis=1)\n",
        "    return X, y\n",
        "def normScaling(X):\n",
        "    for col in range(1, X.shape[1]):\n",
        "        temp = X[:, col]\n",
        "        X[:, col] = (temp - np.min(temp)) / (np.max(temp) - np.min(temp))\n",
        "def standardScaling(X):\n",
        "    for col in range(1, X.shape[1]):\n",
        "        temp = X[:, col]\n",
        "        X[:, col] = (temp - np.mean(temp)) / (np.std(temp))\n",
        "def predict(X, w):\n",
        "    h_w = 1 / (1 + np.exp(- np.dot(X, w)))\n",
        "    return (h_w >= 0.5).astype('int32')\n",
        "def costFunction(X, y, w):\n",
        "    m = X.shape[0]\n",
        "    h_w = 1 / (1 + np.exp(- np.dot(X, w)))\n",
        "    J_w = (-1 / m) * (np.dot(y.T, np.log(h_w)) + np.dot((1 - y).T, np.log(1 - h_w)))\n",
        "    return J_w[0, 0]\n",
        "def gradient(X, y, w):\n",
        "    m = X.shape[0]\n",
        "    h_w = 1 / (1 + np.exp(- np.dot(X, w)))\n",
        "    return (1 / m) * np.dot(X.T, h_w - y)\n",
        "def gradientDescent(X, y, w_init, alpha, n=1500):\n",
        "    w_old = w_init.reshape(-1, 1)\n",
        "    cost_values = []\n",
        "    for i in range(n):\n",
        "        w_new = w_old - alpha * gradient(X, y, w_old)\n",
        "        cost_values.append(costFunction(X, y, w_new))\n",
        "        w_old = w_new\n",
        "    return w_new, cost_values\n"
      ],
      "metadata": {
        "id": "SGD7PNbRMO2d"
      },
      "execution_count": null,
      "outputs": []
    },
    {
      "cell_type": "markdown",
      "source": [
        "Sử dụng phương pháp chia train-test ở bài 1 để thực hiện huấn\n",
        "luyện và kiểm thử mô hình Hồi quy Logistic mà bạn đã lập trình\n",
        "ở Bài học trước.\n",
        "Lưu ý:\n",
        "- Sử dụng tập dữ liệu ex2data1.txt và ex2data2.txt;\n",
        "- Cần thêm vector cột có giá trị 1 vào tập X_train và X_test;\n",
        "- Cần chuyển y_train và y_test thành vector cột dạng ma trận\n",
        "R\n",
        "m×1\n",
        "cho phù hợp với mô tả toán học của bài học trước;\n",
        "- Thực hiện chuẩn hóa dữ liệu với X_train và X_test;\n",
        "- Đánh giá hiệu năng của mô hình hồi quy tuyến tính bằng\n",
        "các chỉ số:\n",
        "\n",
        "\n",
        "accuracy(y, ŷ) =\n",
        "1\n",
        "m\n",
        "∑(y = ŷ)"
      ],
      "metadata": {
        "id": "y5fbXFWjMdG0"
      }
    },
    {
      "cell_type": "code",
      "source": [
        "def main():\n",
        "\t    X, y = readData('/content/drive/MyDrive/học máy 1','ex2data1.txt')\n",
        "\t    X_train, X_test, y_train, y_test = train_test_split(X, y, test_size=0.3, random_state=5)\n",
        "\t    standardScaling(X_train)\n",
        "\t    standardScaling(X_test)\n",
        "\t    w_init = np.zeros((X_train.shape[1], 1))\n",
        "\t    w_opt, loss = gradientDescent(X=X_train, y=y_train, w_init=w_init, alpha=0.01, n=1500)\n",
        "\t    y_pred = predict(X_test, w_opt)\n",
        "\t    print(\"Đánh giá hiệu năng mô hình\")\n",
        "\t    print(\"\\tAccuracy: \", accuracy_score(y_test, y_pred))\t \n",
        "if __name__ == \"__main__\":\n",
        "\t    main()"
      ],
      "metadata": {
        "id": "Ovp34SeeMhNw"
      },
      "execution_count": null,
      "outputs": []
    },
    {
      "cell_type": "markdown",
      "source": [
        "\n",
        "Giải lại bài 2 với yêu cầu sau: \n",
        "\n",
        "- Thay thuật toán tối ưu Gradient Descent bằng 2 – 3 thuật\n",
        "toán tối ưu khác;\n",
        "- So sánh hiệu năng của mô hình hồi quy logistic được huấn\n",
        "luyện bởi các thuật toán tối ưu khác nhau này."
      ],
      "metadata": {
        "id": "1dXegcDeM8dQ"
      }
    },
    {
      "cell_type": "code",
      "source": [
        "def logisticRegression(X, y, w_init, method, iterations):\n",
        "    result = optimize.minimize(fun=costFunction, x0=w_init, args=(X, y),\n",
        "                               method=method,\n",
        "                               options={\"maxiter\": iterations})\n",
        "    return result.x, result.fun\n",
        "def compareAlgorithms(X_train, y_train, X_test, y_test, algorithms):\n",
        "    w_init = np.zeros((X_train.shape[1], 1))\n",
        "    result = {}\n",
        "    for algorithm in algorithms:\n",
        "        w, loss = logisticRegression(X_train, y_train, w_init, method=algorithm, iterations=1500)\n",
        "        y_pred = predict(X_test, w)\n",
        "        result[algorithm] = accuracy_score(y_pred, y_test)\n",
        "    return result\n",
        "def main():\n",
        "    # Đọc dữ liệu\n",
        "    X, y = readData('/content/drive/MyDrive/học máy 1','ex2data1.txt')\n",
        "    # Tách dữ liệu thành training set và test set\n",
        "    X_train, X_test, y_train, y_test = train_test_split(X, y, test_size=0.3,\n",
        "                                                        random_state=5)\n",
        "    # Chuẩn hóa dữ liệu\n",
        "    X_train, y_train = standardScaling(X_train, y_train)\n",
        "    X_test, y_test = standardScaling(X_test, y_test)\n",
        "    # Huấn luyện mô hình và so sánh mô hình\n",
        "    '''Other algorithms:\n",
        "    TNC, BFGS, L-BFGS-B, Nelder-Mead, Powell, CG, Newton-CG, COBYLA, SLSQP, ...'''\n",
        "    comparison = compareAlgorithms(X_train, y_train, X_test, y_test, ['TNC', 'BFGS', 'L-BFGS-B'])\n",
        "    print(comparison)\n",
        "\n",
        "if __name__ == \"__main__\":\n",
        "    main()\n"
      ],
      "metadata": {
        "id": "mMf-deo0NEFO"
      },
      "execution_count": null,
      "outputs": []
    },
    {
      "cell_type": "markdown",
      "source": [
        "Thư viện scikit-learn cung cấp mô hình LogisticRegression để\n",
        "phục vụ xây dựng các mô hình hồi quy logistic. Hãy sử dụng mô\n",
        "hình LogisticRegression để giải bài tập 2.\n",
        "Lưu ý:\n",
        "- Xét trường hợp có thêm vector cột giá trị 1 vào X\n",
        "- Xét trường hợp không thêm vector cột giá trị 1 vào X\n",
        "- Đánh giá hiệu năng của mô hình bằng Accuracy"
      ],
      "metadata": {
        "id": "ghwCBQPENdOh"
      }
    },
    {
      "cell_type": "code",
      "source": [
        "def main():\n",
        "    # Đọc dữ liệu\n",
        "    X, y = readData('ex2data1.txt')\n",
        "    # Chia tập dữ liệu thành training set và test set\n",
        "    X_train, X_test, y_train, y_test = train_test_split(X, y, test_size=0.3,\n",
        "                                                        random_state=5)\n",
        "    # Chuẩn hóa dữ liệu\n",
        "    standardScaling(X_train)\n",
        "    standardScaling(X_test)\n",
        "    # Huấn luyện mô hình bằng gradient descent\n",
        "    classifier = LogisticRegression()\n",
        "    classifier.fit(X_train, y_train)\n",
        "    # Dự đoán\n",
        "    y_pred = classifier.predict(X_test)\n",
        "    # Đánh giá hiệu năng của mô hình\n",
        "    print(\"Đánh giá hiệu năng mô hình\")\n",
        "    print(\"\\tAccuracy: \", accuracy_score(y_test, y_pred))\n",
        "\n",
        "if __name__ == \"__main__\":\n",
        "    main()\n"
      ],
      "metadata": {
        "id": "w8UJYj0INgMz"
      },
      "execution_count": null,
      "outputs": []
    },
    {
      "cell_type": "markdown",
      "source": [
        "Thư viện scikit-learn cung cấp rất nhiều phương thức tiền xử lý\n",
        "dữ liệu (preprocessing data), hãy giải lại bài 4 với yêu cầu bổ\n",
        "sung là:\n",
        "- Thực hiện chuẩn hóa dữ liệu bằng StandardScaler;\n",
        "- Thực hiện chuẩn hóa dữ liệu bằng MinMaxScaler."
      ],
      "metadata": {
        "id": "u9ko6f7INxpE"
      }
    },
    {
      "cell_type": "code",
      "source": [
        "from sklearn.preprocessing import StandardScaler, MinMaxScaler\n",
        "def main():\n",
        "    # Đọc dữ liệu\n",
        "    X, y = readData('ex2data1.txt')\n",
        "    # Chia tập dữ liệu thành training set và test set\n",
        "    X_train, X_test, y_train, y_test = train_test_split(X, y, test_size=0.3,\n",
        "                                                        random_state=5)\n",
        "    # Chuẩn hóa dữ liệu\n",
        "    sc_X = StandardScaler()\n",
        "    X_train = sc_X.fit_transform(X_train)\n",
        "    X_test = sc_X.transform(X_test)\n",
        "    # Huấn luyện mô hình bằng gradient descent\n",
        "    classifier = LogisticRegression()\n",
        "    classifier.fit(X_train, y_train)\n",
        "    # Dự đoán\n",
        "    y_pred = classifier.predict(X_test)\n",
        "    # Đánh giá hiệu năng của mô hình\n",
        "    print(\"Đánh giá hiệu năng mô hình\")\n",
        "    print(\"\\tAccuracy: \", accuracy_score(y_test, y_pred))\n",
        "\n",
        "if __name__ == \"__main__\":\n",
        "    main()\n"
      ],
      "metadata": {
        "id": "E6n2q8MWNQqX"
      },
      "execution_count": null,
      "outputs": []
    }
  ]
}