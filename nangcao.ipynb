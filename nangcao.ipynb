{
  "nbformat": 4,
  "nbformat_minor": 0,
  "metadata": {
    "colab": {
      "name": "nangcao.ipynb",
      "provenance": [],
      "authorship_tag": "ABX9TyPRrXhKwPUv3r3+tsxsIFE9",
      "include_colab_link": true
    },
    "kernelspec": {
      "name": "python3",
      "display_name": "Python 3"
    },
    "language_info": {
      "name": "python"
    }
  },
  "cells": [
    {
      "cell_type": "markdown",
      "metadata": {
        "id": "view-in-github",
        "colab_type": "text"
      },
      "source": [
        "<a href=\"https://colab.research.google.com/github/lmquann/leminhquan/blob/main/nangcao.ipynb\" target=\"_parent\"><img src=\"https://colab.research.google.com/assets/colab-badge.svg\" alt=\"Open In Colab\"/></a>"
      ]
    },
    {
      "cell_type": "markdown",
      "metadata": {
        "id": "K9xHgoAkwqpM"
      },
      "source": [
        "Bài 1: Viết chương trình thực hiện các yêu cầu sau:\n",
        "- Nhập vào 1 số nguyên dương N từ bàn phím\n",
        "- Hãy xây dựng 1 dictionary với các phần tử chỉ mục và giá trị có dạng (i: log(i)) với I đi từ\n",
        "0 tới N\n",
        "- Hiển thị dictionary trên ra màn hình\n",
        "\n"
      ]
    },
    {
      "cell_type": "code",
      "metadata": {
        "colab": {
          "base_uri": "https://localhost:8080/"
        },
        "id": "rray-5BhwNpD",
        "outputId": "3db01eff-60b7-45b5-89ff-7ed91294f857"
      },
      "source": [
        "import math \n",
        "num1 = int(input(\"nhập n: \"))\n",
        "dict1 = {}\n",
        "for i in range (1, num1 + 1):\n",
        "  dict1[i] = math.log(i)\n",
        "print(dict1)\n"
      ],
      "execution_count": 1,
      "outputs": [
        {
          "output_type": "stream",
          "name": "stdout",
          "text": [
            "nhập n: 5\n",
            "{1: 0.0, 2: 0.6931471805599453, 3: 1.0986122886681098, 4: 1.3862943611198906, 5: 1.6094379124341003}\n"
          ]
        }
      ]
    },
    {
      "cell_type": "markdown",
      "metadata": {
        "id": "wptGesuFxeRe"
      },
      "source": [
        "Bài 2: Viết chương trình thực hiện các yêu cầu sau:\n",
        "- Nhập vào từ bàn phím một chuỗi các giá trị (có thể là số nguyên, số thực hay các ký tự)\n",
        "cách nhau bởi dấu phẩy (“,”).\n",
        "- Chuyển chuỗi được nhập từ bàn phím thành một danh sách (list)\n",
        "- Hiển thị danh sách đó ra màn hình."
      ]
    },
    {
      "cell_type": "code",
      "metadata": {
        "colab": {
          "base_uri": "https://localhost:8080/"
        },
        "id": "vPgZZsn4xgqk",
        "outputId": "534468a2-0f9d-4fc6-cfc9-c42c592e5f7d"
      },
      "source": [
        "n = str(input(\"nhập chuỗi: \"))\n",
        "a = []\n",
        "r = \"\"\n",
        "for i in range(len(n)):\n",
        "  if n[i] != \",\" :\n",
        "    r = r + n[i]\n",
        "  else:\n",
        "    a.append(r)\n",
        "    r = \"\"\n",
        "else:\n",
        "  a.append(r)\n",
        "print(a)"
      ],
      "execution_count": 8,
      "outputs": [
        {
          "output_type": "stream",
          "name": "stdout",
          "text": [
            "nhập chuỗi: a, b, c ,z, x, r\n",
            "['a', ' b', ' c ', 'z', ' x', ' r']\n"
          ]
        }
      ]
    },
    {
      "cell_type": "markdown",
      "metadata": {
        "id": "0xJvKcbAzSs_"
      },
      "source": [
        "Bài 3: Viết chương trình thực hiện các yêu cầu sau:\n",
        "- Nhập vào từ bàn phím một chuỗi các giá trị (có thể là số nguyên, số thực hay các ký tự)\n",
        "cách nhau bởi dấu phẩy (“,”).\n",
        "- Chuyển chuỗi được nhập từ bàn phím thành một tuple\n",
        "- Hiển thị tuple đó ra màn hình."
      ]
    },
    {
      "cell_type": "code",
      "metadata": {
        "colab": {
          "base_uri": "https://localhost:8080/"
        },
        "id": "sGUZV22nzWpY",
        "outputId": "160a26a4-2ea1-42fa-add2-bb52a5f70227"
      },
      "source": [
        "n = str(input(\"nhập chuỗi:\"))\n",
        "a = []\n",
        "t = ()\n",
        "r = \"\"\n",
        "for i in range(len(n)):\n",
        "  if n[i] != \",\":\n",
        "    r = r + n[i]\n",
        "  else:\n",
        "    a.append(r)\n",
        "    r = \"\"\n",
        "else:\n",
        "  a.append(r)\n",
        "t = tuple(a)\n",
        "print(t)"
      ],
      "execution_count": 9,
      "outputs": [
        {
          "output_type": "stream",
          "name": "stdout",
          "text": [
            "nhập chuỗi:ba, bốn, năm\n",
            "('ba', ' bốn', ' năm')\n"
          ]
        }
      ]
    },
    {
      "cell_type": "markdown",
      "metadata": {
        "id": "Bo30nFh40nXn"
      },
      "source": [
        "Bài 4: Viết chương trình thực hiện các yêu cầu sau:\n",
        "- Nhập vào 1 chuỗi các kí tự từ bàn phím, các từ cách nhau bởi ít nhất một khoảng trắng\n",
        "- Chuyển chuỗi vừa nhập thành 1 danh sách với điều kiện phân tách là dấu khoảng trắng\n",
        "(space)\n",
        "- Hiển thị danh sách thu được ra màn hình"
      ]
    },
    {
      "cell_type": "code",
      "metadata": {
        "colab": {
          "base_uri": "https://localhost:8080/"
        },
        "id": "PCCARDE5yN4O",
        "outputId": "888a238b-8c19-4986-993d-c28800f6fa07"
      },
      "source": [
        "n = str(input(\"nhập chuỗi: \"))\n",
        "a = []\n",
        "r = \"\"\n",
        "for i in range(len(n)):\n",
        "  if n[i] != \" \" :\n",
        "    r = r + n[i]\n",
        "  else:\n",
        "    a.append(r)\n",
        "    r = \"\"\n",
        "else:\n",
        "  a.append(r)\n",
        "print(a)"
      ],
      "execution_count": 10,
      "outputs": [
        {
          "output_type": "stream",
          "name": "stdout",
          "text": [
            "nhập chuỗi: ba bốn năm sáu\n",
            "['ba', 'bốn', 'năm', 'sáu']\n"
          ]
        }
      ]
    }
  ]
}