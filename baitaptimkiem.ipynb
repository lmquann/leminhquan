{
  "nbformat": 4,
  "nbformat_minor": 0,
  "metadata": {
    "colab": {
      "name": "baitaptimkiem.ipynb",
      "provenance": [],
      "authorship_tag": "ABX9TyN4VieWaXujEB3drphLouoF",
      "include_colab_link": true
    },
    "kernelspec": {
      "name": "python3",
      "display_name": "Python 3"
    },
    "language_info": {
      "name": "python"
    }
  },
  "cells": [
    {
      "cell_type": "markdown",
      "metadata": {
        "id": "view-in-github",
        "colab_type": "text"
      },
      "source": [
        "<a href=\"https://colab.research.google.com/github/lmquann/leminhquan/blob/main/baitaptimkiem.ipynb\" target=\"_parent\"><img src=\"https://colab.research.google.com/assets/colab-badge.svg\" alt=\"Open In Colab\"/></a>"
      ]
    },
    {
      "cell_type": "markdown",
      "metadata": {
        "id": "CMmPI2YhGYf-"
      },
      "source": [
        "Bài 1: Viết chương trình thực hiện các yêu cầu sau:\n",
        "- Sinh ngẫu nhiên 1 danh sách n số nguyên trong đoạn [a, b], với các thông số n, a và b được\n",
        "nhập vào từ bàn phím;\n",
        "- Nhập vào 1 số x từ bàn phím có giá trị trong đoạn [a, b];\n",
        "- Tìm kiếm x có xuất hiện trong danh sách trên hay không. Nếu có thì trả về vị trí xuất hiện\n",
        "đầu tiên trong danh sách. Ngược lại, thông báo không tìm thấy.\n",
        "\n"
      ]
    },
    {
      "cell_type": "code",
      "metadata": {
        "colab": {
          "base_uri": "https://localhost:8080/"
        },
        "id": "9OFH1UGpGTm0",
        "outputId": "ce3167f3-200d-48cd-af3a-b6b6838eeee1"
      },
      "source": [
        "import random \n",
        "l = []\n",
        "n = int(input(\"nhập số các giá trị: \"))\n",
        "a = int(input(\"gtnn: \"))\n",
        "b = int(input(\"gtln: \"))\n",
        "for k in range(n):\n",
        "  ham = random.randint(a,b)\n",
        "  l.append(ham)\n",
        "print(l)\n",
        "x = int(input(\"nhập số bất kì: \"))\n",
        "bandau = 0\n",
        "timkiem = False\n",
        "while bandau < len(l) and timkiem is False:\n",
        "  if l[bandau] == x:\n",
        "    timkiem = True\n",
        "  else:\n",
        "    bandau = bandau + 1\n",
        "if timkiem is True:\n",
        "  print(\"vị trí của số cần tìm là: \", bandau)\n",
        "else:\n",
        "  print(\"không tìm thấy\")  "
      ],
      "execution_count": 4,
      "outputs": [
        {
          "output_type": "stream",
          "name": "stdout",
          "text": [
            "nhập số các giá trị: 4\n",
            "gtnn: -10\n",
            "gtln: 100\n",
            "[-4, 91, 84, -1]\n",
            "nhập số bất kì: 23\n",
            "không tìm thấy\n"
          ]
        }
      ]
    },
    {
      "cell_type": "markdown",
      "metadata": {
        "id": "c97e3dCnJ_KE"
      },
      "source": [
        "Bài 2: Viết chương trình thực hiện các yêu cầu sau:\n",
        "- Sinh ngẫu nhiên 1 danh sách n số nguyên trong đoạn [a, b], với các thông số n, a và b được\n",
        "nhập vào từ bàn phím;\n",
        "- Nhập vào 1 số x từ bàn phím có giá trị trong đoạn [a, b];\n",
        "- Tìm kiếm x có xuất hiện trong danh sách trên hay không theo yêu cầu sau:\n",
        "o Nếu có thì trả về vị trí xuất hiện đầu tiên trong danh sách và thông báo số bước lặp\n",
        "đã thực hiện để tìm được phần tử này.\n",
        "o Ngược lại, thông báo không tìm thấy."
      ]
    },
    {
      "cell_type": "code",
      "metadata": {
        "colab": {
          "base_uri": "https://localhost:8080/"
        },
        "id": "JfsNLWifKBZ-",
        "outputId": "0db20611-0c97-4540-f188-dcfcbd9cd9c1"
      },
      "source": [
        "import random \n",
        "l = []\n",
        "n = int(input(\"nhập số các giá trị: \"))\n",
        "a = int(input(\"gtnn: \"))\n",
        "b = int(input(\"gtln: \"))\n",
        "for k in range(n):\n",
        "  ham = random.randint(a,b)\n",
        "  l.append(ham)\n",
        "print(l)\n",
        "x = int(input(\"nhập số bất kì: \"))\n",
        "bandau = 0\n",
        "timkiem = False\n",
        "while bandau < len(l) and timkiem is False:\n",
        "  if l[bandau] == x:\n",
        "    timkiem = True\n",
        "  else:\n",
        "    bandau = bandau + 1\n",
        "if timkiem is True:\n",
        "  print(\"vị trí của số cần tìm là: \", bandau)\n",
        "  print(\"số bước lặp đẻ tìm được số này là: \", bandau +1 )\n",
        "else:\n",
        "  print(\"không tìm thấy\")  "
      ],
      "execution_count": 5,
      "outputs": [
        {
          "output_type": "stream",
          "name": "stdout",
          "text": [
            "nhập số các giá trị: 9\n",
            "gtnn: -100\n",
            "gtln: 1000\n",
            "[429, 800, 865, 311, 404, 200, 874, 86, 336]\n",
            "nhập số bất kì: 404\n",
            "vị trí của số cần tìm là:  4\n",
            "số bước lặp đẻ tìm được số này là:  5\n"
          ]
        }
      ]
    },
    {
      "cell_type": "markdown",
      "metadata": {
        "id": "nnc3XIRsKmq5"
      },
      "source": [
        "Bài 3: Viết chương trình thực hiện các yêu cầu sau:\n",
        "- Bước 1: Sinh ngẫu nhiên 1 danh sách n số nguyên trong đoạn [a, b], với các thông số n, a\n",
        "và b được nhập vào từ bàn phím;\n",
        "- Bước 2: Nhập vào 1 số x từ bàn phím có giá trị trong đoạn [a, b];\n",
        "- Bước 3: Sắp xếp danh sách trên theo chiều tăng dần\n",
        "- Bước 4: Tìm kiếm x có xuất hiện trong danh sách trên hay không theo yêu cầu sau:\n",
        "o Nếu có thì trả về vị trí xuất hiện đầu tiên trong danh sách và thông báo số bước lặp\n",
        "đã thực hiện để tìm được phần tử này.\n",
        "o Ngược lại, thông báo không tìm thấy."
      ]
    },
    {
      "cell_type": "code",
      "metadata": {
        "colab": {
          "base_uri": "https://localhost:8080/"
        },
        "id": "gBWKXEfMKoCI",
        "outputId": "6f1f43ef-82e8-4f6d-c3a3-4dbda7e19399"
      },
      "source": [
        "import random \n",
        "l = []\n",
        "n = int(input(\"nhập số các giá trị: \"))\n",
        "a = int(input(\"gtnn: \"))\n",
        "b = int(input(\"gtln: \"))\n",
        "for k in range(n):\n",
        "  ham = random.randint(a,b)\n",
        "  l.append(ham)\n",
        "for i in range (len(l)):\n",
        "  min = i\n",
        "  for j in range( i + 1, len(l)):\n",
        "    if l[min] > l[j]:\n",
        "      min = j\n",
        "  t = l[i]\n",
        "  l[i]=l[min]\n",
        "  l[min]=t\n",
        "print(l)\n",
        "x = int(input(\"nhập số bất kì: \"))\n",
        "bandau = 0\n",
        "timkiem = False\n",
        "while bandau < len(l) and timkiem is False:\n",
        "  if l[bandau] == x:\n",
        "    timkiem = True\n",
        "  else:\n",
        "    bandau = bandau + 1\n",
        "if timkiem is True:\n",
        "  print(\"vị trí của số cần tìm là: \", bandau)\n",
        "  print(\"số bước lặp đẻ tìm được số này là: \", bandau +1 )\n",
        "else:\n",
        "  print(\"không tìm thấy\")  "
      ],
      "execution_count": 8,
      "outputs": [
        {
          "output_type": "stream",
          "name": "stdout",
          "text": [
            "nhập số các giá trị: 7\n",
            "gtnn: -10\n",
            "gtln: 16\n",
            "[-9, -6, -4, -3, 5, 11, 11]\n",
            "nhập số bất kì: 5\n",
            "vị trí của số cần tìm là:  4\n",
            "số bước lặp đẻ tìm được số này là:  5\n"
          ]
        }
      ]
    },
    {
      "cell_type": "markdown",
      "metadata": {
        "id": "SYDAGY0ZMNn4"
      },
      "source": [
        "Bài 4: Viết chương trình thực hiện các yêu cầu sau:\n",
        "- Bước 1: Sinh ngẫu nhiên 1 danh sách n số nguyên trong đoạn [a, b], với các thông số n, a\n",
        "và b được nhập vào từ bàn phím;\n",
        "- Bước 2: Nhập vào 1 số x từ bàn phím có giá trị trong đoạn [a, b];\n",
        "\n",
        "- Bước 3: Sắp xếp danh sách trên theo chiều tăng dần\n",
        "- Bước 4: Tìm kiếm x có xuất hiện trong danh sách trên hay không theo yêu cầu sau:\n",
        "o Nếu có thì trả về tất cả các vị trí xuất hiện trong danh sách và thông báo số bước\n",
        "lặp đã thực hiện để tìm được các phần tử này.\n",
        "o Ngược lại, thông báo không tìm thấy."
      ]
    },
    {
      "cell_type": "code",
      "metadata": {
        "colab": {
          "base_uri": "https://localhost:8080/"
        },
        "id": "bywir3h3MT1v",
        "outputId": "d533a87d-ca4b-4f8f-8bad-f64a2a01f204"
      },
      "source": [
        "import random \n",
        "l = []\n",
        "n = int(input(\"nhập số các giá trị: \"))\n",
        "a = int(input(\"gtnn: \"))\n",
        "b = int(input(\"gtln: \"))\n",
        "for k in range(n):\n",
        "  ham = random.randint(a,b)\n",
        "  l.append(ham)\n",
        "for i in range (len(l)):\n",
        "  min = i\n",
        "  for j in range( i + 1, len(l)):\n",
        "    if l[min] > l[j]:\n",
        "      min = j\n",
        "  t = l[i]\n",
        "  l[i]=l[min]\n",
        "  l[min]=t\n",
        "print(l)\n",
        "x = int(input(\"nhập số bất kì: \"))\n",
        "bandau = 0\n",
        "timkiem = False\n",
        "while bandau < len(l) and timkiem is False:\n",
        "  if l[bandau] == x:\n",
        "    timkiem = True\n",
        "  else:\n",
        "    bandau = bandau + 1\n",
        "if timkiem is True:\n",
        "  print(\"vị trí của số cần tìm là: \", bandau)\n",
        "  print(\"số bước lặp đẻ tìm được số này là: \", bandau +1 )\n",
        "else:\n",
        "  print(\"không tìm thấy\")  "
      ],
      "execution_count": 9,
      "outputs": [
        {
          "output_type": "stream",
          "name": "stdout",
          "text": [
            "nhập số các giá trị: 2\n",
            "gtnn: -10\n",
            "gtln: 23\n",
            "[6, 21]\n",
            "nhập số bất kì: 4\n",
            "không tìm thấy\n"
          ]
        }
      ]
    }
  ]
}