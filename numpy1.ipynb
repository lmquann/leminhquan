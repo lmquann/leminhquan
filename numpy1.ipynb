{
  "nbformat": 4,
  "nbformat_minor": 0,
  "metadata": {
    "colab": {
      "name": "numpy1.ipynb",
      "provenance": [],
      "collapsed_sections": [],
      "authorship_tag": "ABX9TyNy3y1+6gwJJPbG4sdG3EUT",
      "include_colab_link": true
    },
    "kernelspec": {
      "name": "python3",
      "display_name": "Python 3"
    },
    "language_info": {
      "name": "python"
    }
  },
  "cells": [
    {
      "cell_type": "markdown",
      "metadata": {
        "id": "view-in-github",
        "colab_type": "text"
      },
      "source": [
        "<a href=\"https://colab.research.google.com/github/lmquann/leminhquan/blob/main/numpy1.ipynb\" target=\"_parent\"><img src=\"https://colab.research.google.com/assets/colab-badge.svg\" alt=\"Open In Colab\"/></a>"
      ]
    },
    {
      "cell_type": "markdown",
      "source": [
        "Bài 1: Xét không gian $R^3$\n",
        "\n",
        ", một điểm A trong không gian này có tọa độ là (5, 7, 14). Hãy khởi tạo\n",
        "\n",
        "giá trị của điểm A nêu trên bằng Numpy."
      ],
      "metadata": {
        "id": "IP41c7bZk3jq"
      }
    },
    {
      "cell_type": "markdown",
      "source": [
        "Sử dụng các thư viện sau: \n",
        "+ numpy để tính toán số học, vector, ma trận \n",
        "+ math để tính toán các hàm toán học \n",
        "+ random để thực hiện sinh số ngẫu nhiên "
      ],
      "metadata": {
        "id": "ih3Ep4belhdj"
      }
    },
    {
      "cell_type": "code",
      "execution_count": null,
      "metadata": {
        "id": "7vIvmXR1j39O"
      },
      "outputs": [],
      "source": [
        "import numpy as np\n",
        "import math\n",
        "import random "
      ]
    },
    {
      "cell_type": "code",
      "source": [
        "a = np.array([5,7,14])\n",
        "print(\"điểm A:\", a)"
      ],
      "metadata": {
        "colab": {
          "base_uri": "https://localhost:8080/"
        },
        "id": "oIKx9-0lmYyh",
        "outputId": "7d16fd1e-b634-4139-ac2c-14bc781f8ab4"
      },
      "execution_count": null,
      "outputs": [
        {
          "output_type": "stream",
          "name": "stdout",
          "text": [
            "điểm A: [ 5  7 14]\n"
          ]
        }
      ]
    },
    {
      "cell_type": "markdown",
      "source": [
        "Bài 2: Mở rộng không gian lên $R^15$, điểm A trong không gian này có tọa độ là (1, 2, 3, 4, 5, 6, 7,\n",
        "8, 9, 10, 11, 12, 13, 14, 15). Hãy khởi tạo điểm A trong không gian 15 chiều này bằng Numpy."
      ],
      "metadata": {
        "id": "94RZ01UXmyxZ"
      }
    },
    {
      "cell_type": "markdown",
      "source": [
        "numpy.arange([start, ]stop, [step, ], dtype=None) -> numpy.ndarray\n",
        "với: \n",
        "+ start là só(số nguyên hoặc số thập phân) xác định giá trị đầu tiên trong mảng \n",
        "+ stop là xác định phần cuối trong mảng và không được bao gồm trong mảng \n",
        "+ step là số xác định khoảng cách giữa hai giá trị liên tiếp trong mảng và được mặc định là 1 \n",
        "+ dtype là kiểu của các phần tử của mảng đầu ra và được mặc định là None "
      ],
      "metadata": {
        "id": "VgztMrACnN8d"
      }
    },
    {
      "cell_type": "code",
      "source": [
        "a = np.arange(1,16)\n",
        "print(\"điểm A:\", a)"
      ],
      "metadata": {
        "colab": {
          "base_uri": "https://localhost:8080/"
        },
        "id": "_O0WsQlWm3y3",
        "outputId": "8ac5c481-ab54-4f4d-9db9-d4791b9c580c"
      },
      "execution_count": null,
      "outputs": [
        {
          "output_type": "stream",
          "name": "stdout",
          "text": [
            "điểm A: [ 1  2  3  4  5  6  7  8  9 10 11 12 13 14 15]\n"
          ]
        }
      ]
    },
    {
      "cell_type": "markdown",
      "source": [
        "Bài 3: Trong không gian $R^n$\n",
        "\n",
        ", xét vector OA , với O là điểm gốc tọa độ và A là điểm có tọa độ tổng\n",
        "quát là (a1, a2, ..., an). Vector OA lúc này được viết dưới dạng vector cột (column vector) là:\n",
        "Hay ở dạng vector hàng (row vector) là:\n",
        "Hãy viết chương trình sinh ngẫu nhiên một vector trong không gian $R^n$ với n là số nguyên dương\n",
        "được nhập vào từ bàn phím."
      ],
      "metadata": {
        "id": "5L7wbhFCoieM"
      }
    },
    {
      "cell_type": "code",
      "source": [
        "n = int(input(\"Hãy nhập n: \"))\n",
        "a = np.random.randint(100000,size=n)\n",
        "print(\"vector OA là: \", a)"
      ],
      "metadata": {
        "colab": {
          "base_uri": "https://localhost:8080/"
        },
        "id": "pe1C01s0pJEC",
        "outputId": "1b89bb6d-fdc0-4b03-d06e-a35f3913a6e6"
      },
      "execution_count": null,
      "outputs": [
        {
          "output_type": "stream",
          "name": "stdout",
          "text": [
            "Hãy nhập n: 12\n",
            "vector OA là:  [50434 27415 55076 18757 32429 50460 55802 40374 76806 48485 80896 88960]\n"
          ]
        }
      ]
    },
    {
      "cell_type": "markdown",
      "source": [
        "Bài 4: Trong không gian $R^3$\n",
        "\n",
        ", xét vector OA = [7,-5,8]\n",
        "Hãy viết chương trình tính chiều dài của vector OA , biết công thức tổng quát để tính chiều dài\n",
        "vector OA trong không gian $R^n$\n",
        "là:"
      ],
      "metadata": {
        "id": "CbnjQIN5ps0n"
      }
    },
    {
      "cell_type": "code",
      "source": [
        "a = np.array([7, -5, 8])\n",
        "L =  math.sqrt(a[0]*a[0]+a[1]*a[1]+a[2]*a[2])\n",
        "print(\"độ dài vector OA là: \", L)"
      ],
      "metadata": {
        "colab": {
          "base_uri": "https://localhost:8080/"
        },
        "id": "DdTZiFQCqIgZ",
        "outputId": "cf13b52a-03ec-4831-b498-05f13fc5ea4c"
      },
      "execution_count": null,
      "outputs": [
        {
          "output_type": "stream",
          "name": "stdout",
          "text": [
            "độ dài vector OA là:  11.74734012447073\n"
          ]
        }
      ]
    },
    {
      "cell_type": "markdown",
      "source": [
        "Bài 5: Trong không gian $R^n$\n",
        "\n",
        ", hãy sinh ngẫu nhiên 2 điểm A và B. Xác định vector AB và tính\n",
        "\n",
        "chiều dài của vector này ‖AB ‖. Lưu ý: sử dụng Numpy."
      ],
      "metadata": {
        "id": "Y3MVX4-urbRl"
      }
    },
    {
      "cell_type": "code",
      "source": [
        "a = np.random.randint(10, size=3)\n",
        "b = np.random.randint(10, size=3)\n",
        "L = math.sqrt((b[0]-a[0])*(b[0]-a[0])+(b[1]-a[1])*(b[1]-a[1])+(b[2]-a[2])*(b[2]-a[2]))\n",
        "print(\"tọa độ điểm A là:\", a,\" tọa độ điểm B là: \", b)\n",
        "print(\"độ dài vector AB là: \", L)"
      ],
      "metadata": {
        "colab": {
          "base_uri": "https://localhost:8080/"
        },
        "id": "lErs6JO4rwWJ",
        "outputId": "d8c5a512-dfcc-455f-c0ae-05f53ed412d1"
      },
      "execution_count": null,
      "outputs": [
        {
          "output_type": "stream",
          "name": "stdout",
          "text": [
            "tọa độ điểm A là: [5 2 7]  tọa độ điểm B là:  [5 3 9]\n",
            "độ dài vector AB là:  2.23606797749979\n"
          ]
        }
      ]
    },
    {
      "cell_type": "markdown",
      "source": [
        "Bài 6: Tích vô hướng của 2 vector a & b (dot product hoặc inner product hoặc scalar product) được\n",
        "tính theo công thức tổng quát là:\n",
        "\n",
        "a ∙ b = a1b1 + a2b2 + ⋯ + anbn\n",
        "\n",
        "Trong không gian $R^n$\n",
        "\n",
        ", hãy sinh ngẫu nhiên 2 vector a & b và tính tích vô hướng của 2 vector này.\n",
        "Lưu ý: sử dụng numpy để tính tích vô hướng và số nguyên dương n được nhập vào từ bàn phím.\n",
        "Gợi ý: sử dụng hàm numpy.inner()"
      ],
      "metadata": {
        "id": "sot-PrwFs6_k"
      }
    },
    {
      "cell_type": "markdown",
      "source": [
        "np.inner(a, b) = sum(a[:]*b[:])\n"
      ],
      "metadata": {
        "id": "wA43_j-CtZWK"
      }
    },
    {
      "cell_type": "code",
      "source": [
        "a = np.random.randint(10, size=3)\n",
        "b = np.random.randint(10, size=3)\n",
        "Tvh = np.inner(a,b)\n",
        "print(\"tọa độ vector A là: \", a)\n",
        "print(\"tọa độ vector B là: \", b)\n",
        "print(\"tích vô hướng 2 vector: \", Tvh)"
      ],
      "metadata": {
        "colab": {
          "base_uri": "https://localhost:8080/"
        },
        "id": "xrcj3-c9tggZ",
        "outputId": "9de8a53e-1089-4d2a-f277-0aed5d486702"
      },
      "execution_count": null,
      "outputs": [
        {
          "output_type": "stream",
          "name": "stdout",
          "text": [
            "tọa độ vector A là:  [3 8 4]\n",
            "tọa độ vector B là:  [3 9 2]\n",
            "tích vô hướng 2 vector:  89\n"
          ]
        }
      ]
    },
    {
      "cell_type": "markdown",
      "source": [
        "Bài 7: Tích hữu hướng (cross product) của 2 vector a & b được tính theo công thức tổng quát là:\n",
        "\n",
        "a × b = ‖a ‖‖b ‖ sin(θ)\n",
        "\n",
        "Trong không gian $R^n$\n",
        "\n",
        ", hãy sinh ngẫu nhiên 2 vector a & b và tính tích hữu hướng của 2 vector này.\n",
        "Lưu ý: sử dụng numpy để tính tích vô hướng và số nguyên dương n được nhập vào từ bàn phím.\n",
        "Gợi ý: sử dụng hàm numpy.cross()"
      ],
      "metadata": {
        "id": "HsUQoZJdt6Fw"
      }
    },
    {
      "cell_type": "markdown",
      "source": [
        "numpy.cross(a, b, axisa=- 1, axisb=- 1, axisc=- 1, axis=None)\n",
        "a: array_like\n",
        "Components of the first vector(s).\n",
        "\n",
        "b: array_like\n",
        "Components of the second vector(s).\n",
        "\n",
        "axisa: int, optional\n",
        "Axis of a that defines the vector(s). By default, the last axis.\n",
        "\n",
        "axisb: int, optional\n",
        "Axis of b that defines the vector(s). By default, the last axis.\n",
        "\n",
        "axisc: int, optional\n",
        "Axis of c containing the cross product vector(s). Ignored if both input vectors have dimension 2, as the return is scalar. By default, the last axis.\n",
        "\n",
        "axis: int, optional\n",
        "If defined, the axis of a, b and c that defines the vector(s) and cross product(s). Overrides axisa, axisb and axisc."
      ],
      "metadata": {
        "id": "TZ7DwfE_uHDb"
      }
    },
    {
      "cell_type": "code",
      "source": [
        "a = np.random.randint(10, size=3)\n",
        "b = np.random.randint(10, size=3)\n",
        "Thh = np.cross(a,b)\n",
        "print(\"tọa độ vector A là: \", a)\n",
        "print(\"tọa độ vector B là: \", b)\n",
        "print(\"tích hữu hướng 2 vector: \", Thh)"
      ],
      "metadata": {
        "colab": {
          "base_uri": "https://localhost:8080/"
        },
        "id": "pJAtJz2zuFlf",
        "outputId": "353b2bf1-a7b9-45a4-942a-2ef014719aa7"
      },
      "execution_count": null,
      "outputs": [
        {
          "output_type": "stream",
          "name": "stdout",
          "text": [
            "tọa độ vector A là:  [0 6 0]\n",
            "tọa độ vector B là:  [5 7 3]\n",
            "tích hữu hướng 2 vector:  [ 18   0 -30]\n"
          ]
        }
      ]
    },
    {
      "cell_type": "markdown",
      "source": [
        "Bài 8 - Phép chuyển vị (transpose): trong numpy, một vector a khi thực hiện chuyển vị sẽ được\n",
        "thực hiện thông qua thao tác a.T\n",
        "Hãy viết chương trình sinh ngẫu nhiên một vector a trong không gian $R^n$\n",
        "\n",
        ", số nguyên dương n\n",
        "được nhập vào từ bàn phím. Xuất ra màn hình giá của vector a và chuyển vị của vector a ."
      ],
      "metadata": {
        "id": "UhnU9Civu7Y5"
      }
    },
    {
      "cell_type": "code",
      "source": [
        "n = int(input(\"nhập số nguyên dương n: \"))\n",
        "a = np.random.randint(10, size=n)\n",
        "print(\"vector A là: \", a)\n",
        "a_T = np.transpose(a)\n",
        "print(\"chuyển vị của vector A là: \", a_T)"
      ],
      "metadata": {
        "colab": {
          "base_uri": "https://localhost:8080/"
        },
        "id": "f9jkr74rvDfe",
        "outputId": "f2747d33-0713-4ecb-da28-d44f75410515"
      },
      "execution_count": null,
      "outputs": [
        {
          "output_type": "stream",
          "name": "stdout",
          "text": [
            "nhập số nguyên dương n: 3\n",
            "vector A là:  [2 9 2]\n",
            "chuyển vị của vector A là:  [2 9 2]\n"
          ]
        }
      ]
    },
    {
      "cell_type": "markdown",
      "source": [
        "Bài 9 - Kết hợp cấu trúc list với Numpy: Xét 2 cấu trúc list dưới đây:\n",
        "1. a = [1, 2, 3, 4, 5]\n",
        "2. b = [[1], [2], [3], [4], [5]]\n",
        "\n",
        "Hãy:\n",
        "\n",
        " Xuất a và b ra màn hình\n",
        "\n",
        " Tạo vector tương ứng từ a và b, xuất kết quả ra màn hình\n",
        "\n",
        " Thực hiện phép chuyển vị đối với 2 vector ở trên và xuất kết quả ra màn hình."
      ],
      "metadata": {
        "id": "WWNhW_bkpKnt"
      }
    },
    {
      "cell_type": "code",
      "source": [
        "a = [1,2,3,4,5]\n",
        "b = [[1],[2],[3],[4],[5]]\n",
        "\n",
        "print(\"a: \", a)\n",
        "print(\"b: \", b)\n",
        "\n",
        "A = np.array(a)\n",
        "B = np.array(b)\n",
        "\n",
        "print(\"vector a: \", a)\n",
        "print(\"Vector b: \", b)\n",
        "\n",
        "Atranspose = np.transpose(A) \n",
        "Btranspose = np.transpose(B)\n",
        "\n",
        "print(\"A transpose: \", Atranspose)\n",
        "print(\"B transpose: \", Btranspose)"
      ],
      "metadata": {
        "colab": {
          "base_uri": "https://localhost:8080/"
        },
        "id": "VMCeMnAopJ-G",
        "outputId": "a29f7fe8-0e01-48b2-a712-1e47deb20ae0"
      },
      "execution_count": null,
      "outputs": [
        {
          "output_type": "stream",
          "name": "stdout",
          "text": [
            "a:  [1, 2, 3, 4, 5]\n",
            "b:  [[1], [2], [3], [4], [5]]\n",
            "vector a:  [1, 2, 3, 4, 5]\n",
            "Vector b:  [[1], [2], [3], [4], [5]]\n",
            "A transpose:  [1 2 3 4 5]\n",
            "B transpose:  [[1 2 3 4 5]]\n"
          ]
        }
      ]
    },
    {
      "cell_type": "markdown",
      "source": [
        "Bài 10: Trong không gian $R^n$, hãy sinh ngẫu nhiên vector a và b⃗ , n là số nguyên dương nhập vào từ bàn phím. Hãy:\n",
        "\n",
        " Thực hiện phép nhân: ma với m là số bất kỳ, xuất kết quả ra màn hình\n",
        "\n",
        " Thực hiện phép cộng 2 vector: a + b và xuất kết quả ra màn hình."
      ],
      "metadata": {
        "id": "3nrR_iZSq5qu"
      }
    },
    {
      "cell_type": "code",
      "source": [
        "n10 = int(input(\"nhập n : \"))\n",
        "A = np.random.randint(10, size=n10)\n",
        "B = np.random.randint(10, size=n10)\n",
        "print(\"Vector A: \", A)\n",
        "print(\"Vector B: \", B)\n",
        "#Nhân m với vector A: \n",
        "m = int(input(\"nhập m: \"))\n",
        "print(\"phép nhân m.a: \", m*A)\n",
        "#Cộng hai vector A,B: \n",
        "print(\"Tổng 2 vector: \", A+B)\n"
      ],
      "metadata": {
        "colab": {
          "base_uri": "https://localhost:8080/"
        },
        "id": "kxfD_EqgrIEd",
        "outputId": "9c37ab5f-2bf2-426c-ea0c-3093cf041ce4"
      },
      "execution_count": null,
      "outputs": [
        {
          "output_type": "stream",
          "name": "stdout",
          "text": [
            "nhập n : 3\n",
            "Vector A:  [9 3 6]\n",
            "Vector B:  [9 7 1]\n",
            "nhập m: 4\n",
            "phép nhân m.a:  [36 12 24]\n",
            "Tổng 2 vector:  [18 10  7]\n"
          ]
        }
      ]
    }
  ]
}