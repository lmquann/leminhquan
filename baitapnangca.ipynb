{
  "nbformat": 4,
  "nbformat_minor": 0,
  "metadata": {
    "colab": {
      "name": "baitapnangcao.ipynb",
      "provenance": [],
      "authorship_tag": "ABX9TyPmMRgPnZcbwhmFtxaiXH9s",
      "include_colab_link": true
    },
    "kernelspec": {
      "name": "python3",
      "display_name": "Python 3"
    },
    "language_info": {
      "name": "python"
    }
  },
  "cells": [
    {
      "cell_type": "markdown",
      "metadata": {
        "id": "view-in-github",
        "colab_type": "text"
      },
      "source": [
        "<a href=\"https://colab.research.google.com/github/lmquann/leminhquan/blob/main/baitapnangca.ipynb\" target=\"_parent\"><img src=\"https://colab.research.google.com/assets/colab-badge.svg\" alt=\"Open In Colab\"/></a>"
      ]
    },
    {
      "cell_type": "code",
      "metadata": {
        "id": "8B8hD52fyfaY"
      },
      "source": [
        "class Person():\n",
        "  def init(self,Name,PhoneNum,Email):\n",
        "    self.Name = Name\n",
        "    self.PhoneNum = PhoneNum\n",
        "    self.Email = Email\n",
        "class Student(Person):\n",
        "  def init(self, ID, AvgMark):\n",
        "    super().init()\n",
        "    self.ID = ID\n",
        "    self.AvgMark = AvgMark\n",
        "class Professor(Person):\n",
        "  def init(self,Salary):\n",
        "    super().init()\n",
        "    self.Salary = Salary\n",
        "  "
      ],
      "execution_count": null,
      "outputs": []
    },
    {
      "cell_type": "code",
      "metadata": {
        "id": "9M7HGaOuyplL",
        "outputId": "2f2a5ee9-87ef-422d-bd3e-e3fa38efff09",
        "colab": {
          "base_uri": "https://localhost:8080/",
          "height": 129
        }
      },
      "source": [
        "PersList = []\n",
        "StuList = []\n",
        "ProList = []\n",
        "print(\"Danh sách người: \")\n",
        "for i in range(0,10):\n",
        "  Name = input(\"Nhập Tên Người: \")\n",
        "\n"
      ],
      "execution_count": 2,
      "outputs": [
        {
          "output_type": "error",
          "ename": "SyntaxError",
          "evalue": "ignored",
          "traceback": [
            "\u001b[0;36m  File \u001b[0;32m\"<ipython-input-2-9f0db73a5702>\"\u001b[0;36m, line \u001b[0;32m6\u001b[0m\n\u001b[0;31m    print(\"Tên: \"PersList[i].Name)\u001b[0m\n\u001b[0m                        ^\u001b[0m\n\u001b[0;31mSyntaxError\u001b[0m\u001b[0;31m:\u001b[0m invalid syntax\n"
          ]
        }
      ]
    }
  ]
}