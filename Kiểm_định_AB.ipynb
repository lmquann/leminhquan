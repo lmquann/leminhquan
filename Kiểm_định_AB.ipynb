{
  "nbformat": 4,
  "nbformat_minor": 0,
  "metadata": {
    "colab": {
      "name": "Kiểm định AB.ipynb",
      "provenance": [],
      "include_colab_link": true
    },
    "kernelspec": {
      "name": "python3",
      "display_name": "Python 3"
    },
    "language_info": {
      "name": "python"
    }
  },
  "cells": [
    {
      "cell_type": "markdown",
      "metadata": {
        "id": "view-in-github",
        "colab_type": "text"
      },
      "source": [
        "<a href=\"https://colab.research.google.com/github/lmquann/leminhquan/blob/main/Ki%E1%BB%83m_%C4%91%E1%BB%8Bnh_AB.ipynb\" target=\"_parent\"><img src=\"https://colab.research.google.com/assets/colab-badge.svg\" alt=\"Open In Colab\"/></a>"
      ]
    },
    {
      "cell_type": "markdown",
      "source": [
        "**BÀI TẬP TỰ HỌC VỀ KIỂM ĐỊNH A/B**\n",
        "\n",
        "Sinh viên sử dụng tài liệu tham khảo \"Practical Statistics...\", Chương 3 để hoàn thành các yêu cầu sau."
      ],
      "metadata": {
        "id": "fw49i_jmb7ZK"
      }
    },
    {
      "cell_type": "markdown",
      "source": [
        "**Câu 1**: Trả lời các câu hỏi lý thuyết sau:\n",
        "\n",
        "\n",
        "1.   Kiểm định A/B là gì?\n",
        "2.   Thuật ngữ treatment trong ngữ cảnh của thống kê có thể dịch sang tiếng Việt không? nếu có thì là gì?\n",
        "3.   Nêu định nghĩa về treatment\n",
        "4.   Control group là gì? vai trò trong thí nghiệm của kiểm định A/B?\n",
        "5.   Treament group là gì? vai trò trong thí nghiệm của kiểm định A/B?\n",
        "6.   Hãy liệt kê một số kiểm định A/B trong thực tế?\n",
        "\n"
      ],
      "metadata": {
        "id": "EBsgDMSRcVy9"
      }
    },
    {
      "cell_type": "markdown",
      "source": [
        "Câu 1:\n",
        "1. Kiểm định A/B là: một thử nghiệm với hai nhóm để thiết lập nhóm nào trong hai phương pháp điều trị, sản phẩm, quy trình, hoặc những thứ tương tự.... là ưu việt hơn.\n",
        "\n",
        "2. Có. Treatment : phương pháp xử lí, cách xử lí\n",
        "\n",
        "3. Định nghĩa treatment: một cái gì đó (thuốc, giá cả, tiêu đề web) mà đối tượng được tiếp xúc.\n",
        "\n",
        "4. Control group: Một nhóm đối tượng tiếp cận với không (hoặc tiêu chuẩn) cách xử lí.\n",
        "\n",
        " Vai trò: đưa ra cách xử lí tiêu chuẩn cho thử nghiệm một cách bình đẳng và không có 1 sự riêng biệt nào \n",
        "\n",
        "5. Treatment group: Một nhóm đối tượng tiếp cận với một phương pháp xử lí cụ thể.\n",
        "\n",
        " Vai trò: đưa ra một nhóm các phương án xử lí cho cuộc kiểm định \n",
        "\n",
        "6. Một số kiểm định A/B trong thực tế: \n",
        "+ Thử nghiệm hai phương pháp xử lý đất để xác định xem hạt nào nảy mầm tốt hơn\n",
        "+ Thử nghiệm hai liệu pháp để xác định phương pháp nào ngăn chặn ung thư hiệu quả hơn\n",
        "+ Kiểm tra hai mức giá để xác định giá nào mang lại nhiều lợi nhuận ròng hơn\n",
        "+ Kiểm tra hai tiêu đề web để xác định tiêu đề nào tạo ra nhiều lượt truy cập hơn\n",
        "+ Thử nghiệm hai quảng cáo web để xác định quảng cáo nào tạo ra nhiều chuyển đổi hơn"
      ],
      "metadata": {
        "id": "NJmyUuh0dwh-"
      }
    },
    {
      "cell_type": "markdown",
      "source": [
        "**Câu 2**: Tại sao không có kiểm định A/B/C/D?\n",
        "\n",
        "\n"
      ],
      "metadata": {
        "id": "Ghp_lniLedz8"
      }
    },
    {
      "cell_type": "markdown",
      "source": [
        "Câu 2:\n"
      ],
      "metadata": {
        "id": "BE_8dDMGzcjZ"
      }
    },
    {
      "cell_type": "markdown",
      "source": [
        "**Câu 3**: Lý thuyết về kiểm định giả thuyết. Trả lời các câu hỏi sau:\n",
        "\n",
        "\n",
        "1.   Nêu định nghĩa về kiểm định giả thuyết\n",
        "2.   Giả thuyết null là gì? cho ví dụ\n",
        "3.   Giả thuyết thay thế là gì? cho ví dụ\n",
        "4.   Kiểm định 1 chiều (hay 1 đuôi) là gì? cho ví dụ\n",
        "5.   Kiểm định 2 chiều (hay 2 đuôi) là gì?cho ví dụ\n",
        "6.   Nêu điểm khác biệt giữa kiểm định 1 chiều so với kiểm định 2 chiều?\n",
        "\n"
      ],
      "metadata": {
        "id": "4bRj6dX8fQKu"
      }
    },
    {
      "cell_type": "markdown",
      "source": [
        "Câu 3: \n",
        "1. Kiểm định giả thuyết là kiểm định để giúp bạn tìm hiểu xem liệu cơ hội ngẫu nhiên có thể chịu trách nhiệm cho một hiệu ứng quan sát được hay không.\n",
        "2. Giả thuyết null là giả thuyết sẽ được chấp nhận trừ khi\n",
        "dữ liệu cung cấp bằng chứng thuyết phục rằng nó là sai.\n",
        "\n",
        " Ví dụ : "
      ],
      "metadata": {
        "id": "xZHLM-16guTL"
      }
    },
    {
      "cell_type": "markdown",
      "source": [
        "**Câu 4**: Lý thuyết về lấy mẫu (sampling). \n",
        "\n",
        "\n",
        "1.   Sampling là gì? cho ví dụ\n",
        "2.   Resampling là gì? cho ví dụ?\n",
        "3.   Hãy mô tả kỹ thuật permutation (hoặc quy trình của permutation test)? Xây dựng đoạn code lập trình permutation test\n",
        "\n",
        "\n"
      ],
      "metadata": {
        "id": "jpcORdODhElp"
      }
    },
    {
      "cell_type": "markdown",
      "source": [
        "Trả lời tại đây"
      ],
      "metadata": {
        "id": "HyDM-nFEiLW9"
      }
    },
    {
      "cell_type": "code",
      "execution_count": null,
      "metadata": {
        "id": "AQEZUA1Eb1Fq"
      },
      "outputs": [],
      "source": [
        ""
      ]
    }
  ]
}