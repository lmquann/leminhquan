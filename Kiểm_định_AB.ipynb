{
  "nbformat": 4,
  "nbformat_minor": 0,
  "metadata": {
    "colab": {
      "name": "Kiểm định AB.ipynb",
      "provenance": [],
      "include_colab_link": true
    },
    "kernelspec": {
      "name": "python3",
      "display_name": "Python 3"
    },
    "language_info": {
      "name": "python"
    }
  },
  "cells": [
    {
      "cell_type": "markdown",
      "metadata": {
        "id": "view-in-github",
        "colab_type": "text"
      },
      "source": [
        "<a href=\"https://colab.research.google.com/github/lmquann/leminhquan/blob/main/Ki%E1%BB%83m_%C4%91%E1%BB%8Bnh_AB.ipynb\" target=\"_parent\"><img src=\"https://colab.research.google.com/assets/colab-badge.svg\" alt=\"Open In Colab\"/></a>"
      ]
    },
    {
      "cell_type": "markdown",
      "source": [
        "**BÀI TẬP TỰ HỌC VỀ KIỂM ĐỊNH A/B**\n",
        "\n",
        "Sinh viên sử dụng tài liệu tham khảo \"Practical Statistics...\", Chương 3 để hoàn thành các yêu cầu sau."
      ],
      "metadata": {
        "id": "fw49i_jmb7ZK"
      }
    },
    {
      "cell_type": "markdown",
      "source": [
        "**Câu 1**: Trả lời các câu hỏi lý thuyết sau:\n",
        "\n",
        "\n",
        "1.   Kiểm định A/B là gì?\n",
        "2.   Thuật ngữ treatment trong ngữ cảnh của thống kê có thể dịch sang tiếng Việt không? nếu có thì là gì?\n",
        "3.   Nêu định nghĩa về treatment\n",
        "4.   Control group là gì? vai trò trong thí nghiệm của kiểm định A/B?\n",
        "5.   Treament group là gì? vai trò trong thí nghiệm của kiểm định A/B?\n",
        "6.   Hãy liệt kê một số kiểm định A/B trong thực tế?\n",
        "\n"
      ],
      "metadata": {
        "id": "EBsgDMSRcVy9"
      }
    },
    {
      "cell_type": "markdown",
      "source": [
        "Câu 1:\n",
        "1. Kiểm định A/B là: một thử nghiệm với hai nhóm để thiết lập nhóm nào trong hai phương pháp điều trị, sản phẩm, quy trình, hoặc những thứ tương tự.... là ưu việt hơn.\n",
        "\n",
        "2. Có. Treatment : phương pháp xử lí, cách xử lí\n",
        "\n",
        "3. Định nghĩa treatment: một cái gì đó (thuốc, giá cả, tiêu đề web) mà đối tượng được tiếp xúc.\n",
        "\n",
        "4. Control group: Một nhóm đối tượng tiếp cận với không (hoặc tiêu chuẩn) cách xử lí.\n",
        "\n",
        " Vai trò: đưa ra cách xử lí tiêu chuẩn cho thử nghiệm một cách bình đẳng và không có 1 sự riêng biệt nào \n",
        "\n",
        "5. Treatment group: Một nhóm đối tượng tiếp cận với một phương pháp xử lí cụ thể.\n",
        "\n",
        " Vai trò: đưa ra một nhóm các phương án xử lí cho cuộc kiểm định \n",
        "\n",
        "6. Một số kiểm định A/B trong thực tế: \n",
        "+ Thử nghiệm hai phương pháp xử lý đất để xác định xem hạt nào nảy mầm tốt hơn\n",
        "+ Thử nghiệm hai liệu pháp để xác định phương pháp nào ngăn chặn ung thư hiệu quả hơn\n",
        "+ Kiểm tra hai mức giá để xác định giá nào mang lại nhiều lợi nhuận ròng hơn\n",
        "+ Kiểm tra hai tiêu đề web để xác định tiêu đề nào tạo ra nhiều lượt truy cập hơn\n",
        "+ Thử nghiệm hai quảng cáo web để xác định quảng cáo nào tạo ra nhiều chuyển đổi hơn"
      ],
      "metadata": {
        "id": "NJmyUuh0dwh-"
      }
    },
    {
      "cell_type": "markdown",
      "source": [
        "**Câu 2**: Tại sao không có kiểm định A/B/C/D?\n",
        "\n",
        "\n"
      ],
      "metadata": {
        "id": "Ghp_lniLedz8"
      }
    },
    {
      "cell_type": "markdown",
      "source": [
        "Bởi vì Các thử nghiệm thống kê truyền thống tập trung vào việc trả lời một câu hỏi tĩnh về hiệu quả của các phương án xử lí được chỉ định. Họ quan tâm đến việc \"Giá nào tốt nhất trong số nhiều mức giá có thể có?\" hơn là \"Sự khác biệt giữa giá A và giá B có ý nghĩa thống kê không?\""
      ],
      "metadata": {
        "id": "BE_8dDMGzcjZ"
      }
    },
    {
      "cell_type": "markdown",
      "source": [
        "**Câu 3**: Lý thuyết về kiểm định giả thuyết. Trả lời các câu hỏi sau:\n",
        "\n",
        "\n",
        "1.   Nêu định nghĩa về kiểm định giả thuyết\n",
        "2.   Giả thuyết null là gì? cho ví dụ\n",
        "3.   Giả thuyết thay thế là gì? cho ví dụ\n",
        "4.   Kiểm định 1 chiều (hay 1 đuôi) là gì? cho ví dụ\n",
        "5.   Kiểm định 2 chiều (hay 2 đuôi) là gì?cho ví dụ\n",
        "6.   Nêu điểm khác biệt giữa kiểm định 1 chiều so với kiểm định 2 chiều?\n",
        "\n"
      ],
      "metadata": {
        "id": "4bRj6dX8fQKu"
      }
    },
    {
      "cell_type": "markdown",
      "source": [
        "Câu 3: \n",
        "1. Kiểm định giả thuyết là kiểm định để giúp bạn tìm hiểu xem liệu cơ hội ngẫu nhiên có thể chịu trách nhiệm cho một hiệu ứng quan sát được hay không.\n",
        "2. Giả thuyết null là giả thuyết sẽ được chấp nhận trừ khi\n",
        "dữ liệu cung cấp bằng chứng thuyết phục rằng nó là sai.\n",
        "\n",
        " Ví dụ : giả thuyết rỗng của một nhà đầu tư có thể là: Cổ phiếu trong chỉ số S&P 500 có hệ số P / E trên 20 sẽ không có sự khác biệt về lợi nhuận hàng năm như các cổ phiếu trong chỉ số S&P 500 có hệ số PE dưới 20.\n",
        "\n",
        "3. Gỉa thuyết thay thế: Các bài kiểm tra giả thuyết về bản chất của chúng không chỉ liên quan đến một giả thuyết vô hiệu mà còn là một giả thuyết thay thế bù trừ.\n",
        "\n",
        " Ví dụ: Gỉa thuyết Null = “không có sự khác biệt giữa phương tiện của nhóm A và nhóm B”; Gỉa thuyết thay thế =“A khác với B” (có thể lớn hơn hoặc nhỏ hơn)\n",
        "\n",
        "4. Kiểm định 1 chiều(1 đuôi) là: một bài kiểm định giả thuyết thống kê có vùng bác bỏ chỉ là một bên của phân phối mẫu. \n",
        " Ví dụ : giả sử giả thuyết null chỉ ra rằng trung bình nhỏ hơn hoặc bằng 10. Giả thuyết thay thế sẽ là trung bình lớn hơn 10. Vùng bác bỏ sẽ bao gồm dãy số ở phía bên phải của phân phối mẫu, đó là, dãy các số lớn hơn 10\n",
        "\n",
        "5. Kiểm định 2 chiều(2 đuôi) là: một bài kiểm định giả thuyết thống kê có vùng bác bỏ ở cả hai bên của phân phối mẫu. \n",
        " Ví dụ: giả sử giả thuyết null chỉ ra rằng trung bình bằng 10. Giả thuyết thay thế sẽ là trung bình nhỏ hơn 10 hoặc lớn hơn 10. Vùng bác bỏ bao gồm các số ở cả 2 phía của phân phối mẫu, đó là vùng dãy các số nhỏ hơn 10 và lớn hơn 10\n",
        "\n",
        "6. Sự khác nhau: Kiểm định 1 đuôi chỉ kiểm tra xem có vùng bác bỏ nào ở chỉ 1 trong 2 bên của phân phối mẫu còn kiểm định 2 đuôi là ở cả 2 bên của phân phối mẫu. "
      ],
      "metadata": {
        "id": "xZHLM-16guTL"
      }
    },
    {
      "cell_type": "markdown",
      "source": [
        "**Câu 4**: Lý thuyết về lấy mẫu (sampling). \n",
        "\n",
        "\n",
        "1.   Sampling là gì? cho ví dụ\n",
        "2.   Resampling là gì? cho ví dụ?\n",
        "3.   Hãy mô tả kỹ thuật permutation (hoặc quy trình của permutation test)? Xây dựng đoạn code lập trình permutation test\n",
        "\n",
        "\n"
      ],
      "metadata": {
        "id": "jpcORdODhElp"
      }
    },
    {
      "cell_type": "markdown",
      "source": [
        "Câu 4:\n",
        "\n",
        "1. Sampling là lấy ra 1 tập hợp có đặc điểm nhất định từ 1 quần thể thống kê được ước tính trước.\n",
        " Ví dụ: lấy ra 10 sinh viên của lớp AI&DS để khảo sát tình hình tiêm vaccine.\n",
        "\n",
        "2. Resampling là lặp lại các giá trị mẫu từ dữ liệu quan sát, với mục tiêu chung là đánh giá sự biến thiên ngẫu nhiên trong một thống kê.\n",
        " Ví dụ: lặp lại việc lấy mẫu của 10 sinh viên trên để khảo sát. \n",
        "\n",
        "3. Kỹ thuật permutation: Trong quy trình hoán vị, có hai hoặc nhiều mẫu được tham gia, thường là các nhóm trong một thử nghiệm A / B hoặc giả thuyết khác. Permute có nghĩa là thay đổi thứ tự của một tập hợp các giá trị. Bước đầu tiên trong kiểm tra hoán vị của một giả thuyết là kết hợp các kết quả từ nhóm A và B (và, nếu được sử dụng, C, D, ...). Đây là hiện thân hợp lý của giá thuyết null\n",
        "giả thuyết rằng các phương án xử lí mà các nhóm đã tiếp xúc không khác nhau. chúng ta sau đó kiểm tra giả thuyết đó bằng cách rút ngẫu nhiên các nhóm từ tập hợp kết hợp này và xem chúng khác nhau như thế nào.\n",
        "\n",
        "Quy trình của Permutation test: \n",
        "\n",
        "B1: Kết hợp các kết quả từ các nhóm khác nhau thành một tập dữ liệu duy nhất.\n",
        "\n",
        "B2: Xáo trộn dữ liệu kết hợp và sau đó rút ngẫu nhiên (không thay thế) sau đó lấy lại mẫu có cùng kích thước với nhóm A (rõ ràng nó sẽ chứa một số dữ liệu từ nhóm khác).\n",
        "\n",
        "B3: Từ dữ liệu còn lại, rút ​​ngẫu nhiên (không thay thế) một mẫu về cùng kích thước với nhóm B.\n",
        "\n",
        "B4: Làm tương tự cho các nhóm C, D, v.v. Bây giờ bạn đã thu thập một tập hợp\n",
        "ví dụ phản ánh kích thước của các mẫu ban đầu.\n",
        "\n",
        "B5: Bất kỳ thống kê hoặc ước tính nào đã được tính toán cho các mẫu ban đầu (ví dụ: sự khác biệt về tỷ lệ nhóm), hãy tính toán nó ngay bây giờ cho các ví dụ và ghi lại; cái này tạo thành một phép lặp hoán vị.\n",
        "\n",
        "B6: Lặp lại các bước trước đó R lần để thu được phân phối hoán vị của phép thử\n",
        "thống kê."
      ],
      "metadata": {
        "id": "HyDM-nFEiLW9"
      }
    },
    {
      "cell_type": "code",
      "source": [
        "#code:\n",
        "def perm_fun(x, nA, nB):\n",
        "  n = nA + nB\n",
        "  idx_B = set(random.sample(range(n), nB))\n",
        "  idx_A = set(range(n)) - idx_B\n",
        "  return x.loc[idx_B].mean() - x.loc[idx_A].mean()"
      ],
      "metadata": {
        "id": "UJkt-9hajrx3"
      },
      "execution_count": null,
      "outputs": []
    }
  ]
}