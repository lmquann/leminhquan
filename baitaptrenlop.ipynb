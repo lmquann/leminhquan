{
  "nbformat": 4,
  "nbformat_minor": 0,
  "metadata": {
    "colab": {
      "name": "baitaptrenlop.ipynb",
      "provenance": [],
      "collapsed_sections": [],
      "authorship_tag": "ABX9TyOZ9nYg4LHNvEj1hw0zuWoK",
      "include_colab_link": true
    },
    "kernelspec": {
      "name": "python3",
      "display_name": "Python 3"
    },
    "language_info": {
      "name": "python"
    }
  },
  "cells": [
    {
      "cell_type": "markdown",
      "metadata": {
        "id": "view-in-github",
        "colab_type": "text"
      },
      "source": [
        "<a href=\"https://colab.research.google.com/github/lmquann/leminhquan/blob/main/baitaptrenlop.ipynb\" target=\"_parent\"><img src=\"https://colab.research.google.com/assets/colab-badge.svg\" alt=\"Open In Colab\"/></a>"
      ]
    },
    {
      "cell_type": "markdown",
      "source": [
        "Hãy cho biết thư viện nào tính toán ước lượng khoảng? Ví dụ cụ thể bằng G-Colab"
      ],
      "metadata": {
        "id": "aSFZDr-JDZvx"
      }
    },
    {
      "cell_type": "markdown",
      "source": [
        "dùng thư viên numpy để tạo ngẫu nhiên dữ liệu mẫu \n",
        "\n",
        "dùng thư viện scipy.stats để tính toán ước lượng khoảng "
      ],
      "metadata": {
        "id": "B9mVPBXWdF0Y"
      }
    },
    {
      "cell_type": "code",
      "source": [
        "import numpy as np\n",
        "import scipy.stats as st"
      ],
      "metadata": {
        "id": "0cGq2BnPbYqn"
      },
      "execution_count": 1,
      "outputs": []
    },
    {
      "cell_type": "markdown",
      "source": [
        "sử dụng hàm st.t.interval() khi chúng ta làm việc với các mẫu bé hơn 30(n<30)"
      ],
      "metadata": {
        "id": "0zo4LU3-chCl"
      }
    },
    {
      "cell_type": "code",
      "execution_count": 2,
      "metadata": {
        "id": "vhUrVAM51Znp",
        "colab": {
          "base_uri": "https://localhost:8080/"
        },
        "outputId": "e2c77c4c-f578-4c75-abb0-8edd5f9de170"
      },
      "outputs": [
        {
          "output_type": "execute_result",
          "data": {
            "text/plain": [
              "(1.1611493663164305, 3.23885063368357)"
            ]
          },
          "metadata": {},
          "execution_count": 2
        }
      ],
      "source": [
        "data = [1,2,3,3,2]\n",
        "st.t.interval(alpha=0.95, df=len(data)-1, loc=np.mean(data), scale=st.sem(data))"
      ]
    },
    {
      "cell_type": "markdown",
      "source": [
        "sử dụng hàm st.norm.interval() khi chúng ta làm việc với mẫu lớn hơn bằng 30 (n>=30)\n"
      ],
      "metadata": {
        "id": "ra3RGG64czil"
      }
    },
    {
      "cell_type": "code",
      "source": [
        "#Tạo ngẫu nhiên dữ liệu mẫu\n",
        "np.random.seed(0)\n",
        "data = np.random.randint(10, 30, 50)\n",
        "st.norm.interval(alpha=0.95, loc=np.mean(data), scale=st.sem(data))"
      ],
      "metadata": {
        "colab": {
          "base_uri": "https://localhost:8080/"
        },
        "id": "ZRD4vK5EbwFk",
        "outputId": "f9b73b7b-254f-406c-dfe6-163b7d6a4b91"
      },
      "execution_count": 3,
      "outputs": [
        {
          "output_type": "execute_result",
          "data": {
            "text/plain": [
              "(17.400060940568054, 21.079939059431943)"
            ]
          },
          "metadata": {},
          "execution_count": 3
        }
      ]
    }
  ]
}