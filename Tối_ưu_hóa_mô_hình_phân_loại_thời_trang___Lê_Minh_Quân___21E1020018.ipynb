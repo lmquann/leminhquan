{
  "nbformat": 4,
  "nbformat_minor": 0,
  "metadata": {
    "colab": {
      "provenance": [],
      "include_colab_link": true
    },
    "kernelspec": {
      "display_name": "Python 3",
      "name": "python3"
    },
    "language_info": {
      "name": "python"
    }
  },
  "cells": [
    {
      "cell_type": "markdown",
      "metadata": {
        "id": "view-in-github",
        "colab_type": "text"
      },
      "source": [
        "<a href=\"https://colab.research.google.com/github/lmquann/leminhquan/blob/main/T%E1%BB%91i_%C6%B0u_h%C3%B3a_m%C3%B4_h%C3%ACnh_ph%C3%A2n_lo%E1%BA%A1i_th%E1%BB%9Di_trang___L%C3%AA_Minh_Qu%C3%A2n___21E1020018.ipynb\" target=\"_parent\"><img src=\"https://colab.research.google.com/assets/colab-badge.svg\" alt=\"Open In Colab\"/></a>"
      ]
    },
    {
      "cell_type": "markdown",
      "metadata": {
        "id": "MDLLRVVZA9EW"
      },
      "source": [
        "[![Open In Colab](https://colab.research.google.com/assets/colab-badge.svg)](https://colab.research.google.com/github/leanhducprovn/cdn/blob/master/tlu/elearning/machine-learning/fashion-mnist/fashion-mnist.ipynb)"
      ]
    },
    {
      "cell_type": "markdown",
      "metadata": {
        "id": "tu82ej3SLoXp"
      },
      "source": [
        "## Classify Fashion-MNIST (phân loại thời trang)"
      ]
    },
    {
      "cell_type": "markdown",
      "metadata": {
        "id": "Mg6s0mvmlMH7"
      },
      "source": [
        "### Tổng quan"
      ]
    },
    {
      "cell_type": "markdown",
      "metadata": {
        "id": "QPg-uN7XMOve"
      },
      "source": [
        "**Fashion MNIST** là tập dữ liệu được dùng để thay thế cho tập dữ liệu **MNIST kinh điển** thường dùng cho các chương trình \"Hello, World\" của machine learning trong lĩnh vực thị giác máy tính. Tập dữ liệu kinh điển vừa đề cập gồm ảnh của các con số (ví dụ 0, 1, 2) được viết tay. Các ảnh này có cùng định dạng tệp và độ phân giải với các ảnh về quần áo và giầy dép chúng ta sắp dùng.\n",
        "\n",
        "Với tập dữ liệu này, **60.000** ảnh sẽ được dùng để huấn luyện và **10.000** ảnh sẽ thường dùng để đánh giá khả năng phân loại nhận diện ảnh của mạng neuron.\n",
        "\n",
        "Mỗi ảnh là một mảng NumPy 2 chiều, 28x28, với mỗi pixel có giá trị từ 0 đến 255.\n",
        "\n",
        "<table>\n",
        "  <tr>\n",
        "    <td>\n",
        "      <img src=\"https://cdn.leanhduc.pro.vn/tlu/elearning/machine-learning/fashion-mnist/fashion-mnist.png\" alt=\"Fashion MNIST\"  width=\"100%\">\n",
        "    </td>\n",
        "  </tr>\n",
        "  <tr>\n",
        "    <td align=\"center\">\n",
        "      <b>Figure 1.</b> <a href=\"https://github.com/leanhducprovn/cdn/tree/master/tlu/elearning/machine-learning\">Fashion-MNIST samples</a>\n",
        "    </td>\n",
        "  </tr>\n",
        "</table>"
      ]
    },
    {
      "cell_type": "markdown",
      "metadata": {
        "id": "haODX3PNK8iy"
      },
      "source": [
        "#### Mô tả nhãn\n",
        "Nhãn là một mảng của các số nguyên từ 0 đến 9, tương ứng với mỗi lớp quần áo giày dép:\n",
        "<table align=\"left\">  \n",
        "\t<tr><th>STT</th><th>Tên</th></tr>  \n",
        "\t<tr>\n",
        "\t\t<td>0</td>\n",
        "\t\t<td>T-shirt/top</td>\n",
        "\t</tr>\n",
        "\t<tr>\n",
        "\t\t<td>1</td>\n",
        "\t\t<td>Trouser</td>\n",
        "\t</tr>\n",
        "\t<tr>\n",
        "\t\t<td>2</td>\n",
        "\t\t<td>Pullover</td>\n",
        "\t</tr>\n",
        "\t<tr>\n",
        "\t\t<td>3</td>\n",
        "\t\t<td>Dress</td>\n",
        "\t</tr>\n",
        "\t<tr>\n",
        "\t\t<td>4</td>\n",
        "\t\t<td>Coat</td>\n",
        "\t</tr>\n",
        "\t<tr>\n",
        "\t\t<td>5</td>\n",
        "\t\t<td>Sandal</td>\n",
        "\t</tr>\n",
        "\t<tr>\n",
        "\t\t<td>6</td>\n",
        "\t\t<td>Shirt</td>\n",
        "\t</tr>\n",
        "\t<tr>\n",
        "\t\t<td>7</td>\n",
        "\t\t<td>Sneaker</td>\n",
        "\t</tr>\n",
        "\t<tr>\n",
        "\t\t<td>8</td>\n",
        "\t\t<td>Bag</td>\n",
        "\t</tr>\n",
        "\t<tr>\n",
        "\t\t<td>9</td>\n",
        "\t\t<td>Ankle boot</td>\n",
        "\t</tr>\n",
        "</table>"
      ]
    },
    {
      "cell_type": "markdown",
      "metadata": {
        "id": "SJqFEif2adfw"
      },
      "source": [
        "### Import thư viện"
      ]
    },
    {
      "cell_type": "code",
      "metadata": {
        "id": "uk-sg_wJZB4M"
      },
      "source": [
        "import tensorflow as tf\n",
        "import numpy as np\n",
        "import matplotlib.pyplot as plt"
      ],
      "execution_count": 14,
      "outputs": []
    },
    {
      "cell_type": "markdown",
      "metadata": {
        "id": "i4V2UgwSbQuC"
      },
      "source": [
        "### Trực quan hóa dữ liệu"
      ]
    },
    {
      "cell_type": "code",
      "metadata": {
        "colab": {
          "base_uri": "https://localhost:8080/",
          "height": 534
        },
        "id": "YLGAKnx0bXpP",
        "outputId": "ec07680a-9a24-4091-fa9a-35d6942f6451"
      },
      "source": [
        "# Tải dữ liệu thời trang\n",
        "(x_train, y_train), (x_test, y_test) = tf.keras.datasets.fashion_mnist.load_data()\n",
        "\n",
        "# In hình dạng tập huấn luyện\n",
        "print(\"x_train shape:\", x_train.shape)\n",
        "print(\"y_train shape:\", y_train.shape)\n",
        "\n",
        "# In số lượng tập dữ liệu đào tạo và kiểm tra\n",
        "print('Train set:', x_train.shape[0])\n",
        "print('Test set:', x_test.shape[0])\n",
        "\n",
        "# Xác định các nhãn\n",
        "fashion_mnist_labels = [\n",
        "  \"T-shirt/top\",  # index 0\n",
        "  \"Trouser\",      # index 1\n",
        "  \"Pullover\",     # index 2\n",
        "  \"Dress\",        # index 3\n",
        "  \"Coat\",         # index 4\n",
        "  \"Sandal\",       # index 5\n",
        "  \"Shirt\",        # index 6\n",
        "  \"Sneaker\",      # index 7\n",
        "  \"Bag\",          # index 8\n",
        "  \"Ankle boot\"    # index 9\n",
        "]\n",
        "\n",
        "# Chọn bất kỳ 1 số trong khoảng từ 0 đến 59,999\n",
        "img_index = 5\n",
        "\n",
        "# y_train chứa các nhãn, từ 0 đến 9 (index 0 -> 9 tương ứng với mỗi loại fashion)\n",
        "label_index = y_train[img_index]\n",
        "\n",
        "# In nhãn, ví dụ nhãn thứ 2 là Pullover (áo phông)\n",
        "print(\"y = \" + str(label_index) + \" \" +(fashion_mnist_labels[label_index]))\n",
        "\n",
        "# Hiển thị một trong những hình ảnh từ tập dữ liệu đào tạo\n",
        "plt.imshow(x_train[img_index])"
      ],
      "execution_count": 15,
      "outputs": [
        {
          "output_type": "stream",
          "name": "stdout",
          "text": [
            "x_train shape: (60000, 28, 28)\n",
            "y_train shape: (60000,)\n",
            "Train set: 60000\n",
            "Test set: 10000\n",
            "y = 2 Pullover\n"
          ]
        },
        {
          "output_type": "execute_result",
          "data": {
            "text/plain": [
              "<matplotlib.image.AxesImage at 0x7f771f1422f0>"
            ]
          },
          "metadata": {},
          "execution_count": 15
        },
        {
          "output_type": "display_data",
          "data": {
            "text/plain": [
              "<Figure size 640x480 with 1 Axes>"
            ],
            "image/png": "[encoded data removed]"
          },
          "metadata": {}
        }
      ]
    },
    {
      "cell_type": "markdown",
      "metadata": {
        "id": "867sJwDiDZq3"
      },
      "source": [
        "### Chuẩn hoá dữ liệu"
      ]
    },
    {
      "cell_type": "markdown",
      "metadata": {
        "id": "UnlUe8ZFTp1s"
      },
      "source": [
        "Chuẩn hóa các dữ liệu để chúng có cùng tỷ lệ. Ở đây, `x_train`, `x_test` mang các giá trị nguyên từ 0 đến 255."
      ]
    },
    {
      "cell_type": "code",
      "metadata": {
        "id": "IS6nkCpmDfE6"
      },
      "source": [
        "x_train = x_train.astype('float32') / 255\n",
        "x_test = x_test.astype('float32') / 255"
      ],
      "execution_count": 16,
      "outputs": []
    },
    {
      "cell_type": "code",
      "metadata": {
        "colab": {
          "base_uri": "https://localhost:8080/"
        },
        "id": "FmjaqA5BD1to",
        "outputId": "6daea35b-2d60-415c-9dec-17e5c5bd94b3"
      },
      "source": [
        "print(\"Số lượng dữ liệu train: \" + str(len(x_train)))\n",
        "print(\"Số lượng dữ liệu test: \" + str(len(x_test)))"
      ],
      "execution_count": 17,
      "outputs": [
        {
          "output_type": "stream",
          "name": "stdout",
          "text": [
            "Số lượng dữ liệu train: 60000\n",
            "Số lượng dữ liệu test: 10000\n"
          ]
        }
      ]
    },
    {
      "cell_type": "markdown",
      "metadata": {
        "id": "H3qr2hcFFGcA"
      },
      "source": [
        "### Chia dữ liệu thành các tập dữ liệu\n"
      ]
    },
    {
      "cell_type": "code",
      "metadata": {
        "colab": {
          "base_uri": "https://localhost:8080/"
        },
        "id": "obRBJcMsUO38",
        "outputId": "0597509c-904b-4c80-9777-e51e352c1d97"
      },
      "source": [
        "# Chia nhỏ dữ liệu thành các tập huấn luyện\n",
        "# Trích từ tập training data ra một tập con nhỏ và thực hiện việc đánh giá mô hình trên tập con nhỏ này. Tập con nhỏ được trích ra từ training set này được gọi là validation set\n",
        "# Đặt 5000 vào validation set và giữ 55.000 còn lại cho training set\n",
        "(x_train, x_valid) = x_train[5000:], x_train[:5000]\n",
        "(y_train, y_valid) = y_train[5000:], y_train[:5000]\n",
        "\n",
        "# Định hình lại dữ liệu đầu vào từ (28, 28) thành (28, 28, 1)\n",
        "w, h = 28, 28\n",
        "x_train = x_train.reshape(x_train.shape[0], w, h, 1)\n",
        "x_valid = x_valid.reshape(x_valid.shape[0], w, h, 1)\n",
        "x_test = x_test.reshape(x_test.shape[0], w, h, 1)\n",
        "\n",
        "# One-hot encode the labels\n",
        "y_train = tf.keras.utils.to_categorical(y_train, 10)\n",
        "y_valid = tf.keras.utils.to_categorical(y_valid, 10)\n",
        "y_test = tf.keras.utils.to_categorical(y_test, 10)\n",
        "\n",
        "# In tập huấn luyện\n",
        "print(\"x_train shape:\", x_train.shape)\n",
        "print(\"y_train shape:\", y_train.shape)\n",
        "\n",
        "# In số lượng tập dữ liệu of training, validation, and test datasets\n",
        "print('Train set:', x_train.shape[0])\n",
        "print('Validation set:', x_valid.shape[0],)\n",
        "print('Test set:', x_test.shape[0],)"
      ],
      "execution_count": 18,
      "outputs": [
        {
          "output_type": "stream",
          "name": "stdout",
          "text": [
            "x_train shape: (55000, 28, 28, 1)\n",
            "y_train shape: (55000, 10)\n",
            "Train set: 55000\n",
            "Validation set: 5000\n",
            "Test set: 10000\n"
          ]
        }
      ]
    },
    {
      "cell_type": "markdown",
      "metadata": {
        "id": "HUKGw7QF698K"
      },
      "source": [
        "### Xây dựng mô hình"
      ]
    },
    {
      "cell_type": "markdown",
      "metadata": {
        "id": "LfO1WKWfYh1b"
      },
      "source": [
        "\n",
        "\n",
        "Em sử dụng mô hình **Sequential model API** với một số API Keras sau:\n",
        "\n",
        "* [Conv2D()](https://www.tensorflow.org/api_docs/python/tf/keras/layers/Conv2D/): Là convolution layer dùng để lấy feature từ image.\n",
        "* [Pooling()](https://keras.io/layers/pooling/): Chứa các layer dùng trong mạng\n",
        "* [Dropout()](https://www.tensorflow.org/api_docs/python/tf/keras/layers/Dropout): Hạn chế overfiting\n",
        "\n",
        "\n",
        "\n",
        "\n"
      ]
    },
    {
      "cell_type": "code",
      "metadata": {
        "colab": {
          "base_uri": "https://localhost:8080/"
        },
        "id": "lJ_eCscHo8k8",
        "outputId": "49d93e47-3dc5-42ab-b68b-e479bf42ac26"
      },
      "source": [
        "# Khởi tạo models Sequential()\n",
        "model = tf.keras.Sequential()\n",
        "\n",
        "# Xác định hình dạng đầu vào trong lớp đầu tiên của neural network\n",
        "# Tạo Convolutionnal Layers: Conv2D là convolution dùng để lấy feature từ ảnh với các tham số\n",
        "model.add(tf.keras.layers.Conv2D(filters=64, kernel_size=2, padding='same', activation='relu', input_shape=(28,28,1)))\n",
        "# Hàm MaxPooling2D hoặc AvergaPooling1D, 2D (lấy max , trung bình) với từng size.\n",
        "model.add(tf.keras.layers.MaxPooling2D(pool_size=2))\n",
        "# Dropout: chống over-fitting\n",
        "model.add(tf.keras.layers.Dropout(0.3))\n",
        "\n",
        "model.add(tf.keras.layers.Conv2D(filters=32, kernel_size=2, padding='same', activation='relu'))\n",
        "model.add(tf.keras.layers.MaxPooling2D(pool_size=2))\n",
        "model.add(tf.keras.layers.Dropout(0.3))\n",
        "\n",
        "# Flatten dùng để lát phằng layer để fully connection (ví dụ: shape: 28x28 qua layer này sẽ là 784x1)\n",
        "model.add(tf.keras.layers.Flatten())\n",
        "model.add(tf.keras.layers.Dense(256, activation='relu'))\n",
        "model.add(tf.keras.layers.Dropout(0.5))\n",
        "model.add(tf.keras.layers.Dense(10, activation='softmax'))\n",
        "\n",
        "# Bảng tóm tắt mô hình\n",
        "model.summary()"
      ],
      "execution_count": 19,
      "outputs": [
        {
          "output_type": "stream",
          "name": "stdout",
          "text": [
            "Model: \"sequential_1\"\n",
            "_________________________________________________________________\n",
            " Layer (type)                Output Shape              Param #   \n",
            "=================================================================\n",
            " conv2d_2 (Conv2D)           (None, 28, 28, 64)        320       \n",
            "                                                                 \n",
            " max_pooling2d_2 (MaxPoolin  (None, 14, 14, 64)        0         \n",
            " g2D)                                                            \n",
            "                                                                 \n",
            " dropout_3 (Dropout)         (None, 14, 14, 64)        0         \n",
            "                                                                 \n",
            " conv2d_3 (Conv2D)           (None, 14, 14, 32)        8224      \n",
            "                                                                 \n",
            " max_pooling2d_3 (MaxPoolin  (None, 7, 7, 32)          0         \n",
            " g2D)                                                            \n",
            "                                                                 \n",
            " dropout_4 (Dropout)         (None, 7, 7, 32)          0         \n",
            "                                                                 \n",
            " flatten_1 (Flatten)         (None, 1568)              0         \n",
            "                                                                 \n",
            " dense_2 (Dense)             (None, 256)               401664    \n",
            "                                                                 \n",
            " dropout_5 (Dropout)         (None, 256)               0         \n",
            "                                                                 \n",
            " dense_3 (Dense)             (None, 10)                2570      \n",
            "                                                                 \n",
            "=================================================================\n",
            "Total params: 412778 (1.57 MB)\n",
            "Trainable params: 412778 (1.57 MB)\n",
            "Non-trainable params: 0 (0.00 Byte)\n",
            "_________________________________________________________________\n"
          ]
        }
      ]
    },
    {
      "cell_type": "markdown",
      "metadata": {
        "id": "HyCYfF8wf6GL"
      },
      "source": [
        "### Biên dịch mô hình"
      ]
    },
    {
      "cell_type": "markdown",
      "metadata": {
        "id": "pV7glI6AgUTV"
      },
      "source": [
        "Cấu hình quy trình huấn luyện với **compile() API** trước khi huấn luyện mô hình."
      ]
    },
    {
      "cell_type": "code",
      "metadata": {
        "id": "A55OGQaPg4DS"
      },
      "source": [
        "model.compile(\n",
        "    loss='categorical_crossentropy',\n",
        "    optimizer='adam',\n",
        "    metrics=['accuracy']\n",
        ")"
      ],
      "execution_count": 20,
      "outputs": []
    },
    {
      "cell_type": "markdown",
      "metadata": {
        "id": "pqhOFnYSiYzS"
      },
      "source": [
        "### Huấn luyện mô hình"
      ]
    },
    {
      "cell_type": "markdown",
      "metadata": {
        "id": "6zsyFA-1i3v0"
      },
      "source": [
        "Huấn luyện mô hình với **fit() API**.\n",
        "\n",
        "Sử dụng [ModelCheckpoint API](https://keras.io/callbacks/#modelcheckpoint) để lưu mô hình sau mỗi epoch. Đặt `save_best_only = True` để chỉ lưu khi độ chính xác của validation set được cải thiện."
      ]
    },
    {
      "cell_type": "code",
      "metadata": {
        "colab": {
          "base_uri": "https://localhost:8080/"
        },
        "id": "pjM8wJWmkUya",
        "outputId": "5dc00833-f833-4cdf-c44f-4dce83b4ad19"
      },
      "source": [
        "from keras.callbacks import ModelCheckpoint\n",
        "\n",
        "checkpointer = ModelCheckpoint(\n",
        "    filepath='model.weights.best.hdf5',\n",
        "    verbose = 1,\n",
        "    save_best_only = True\n",
        ")\n",
        "\n",
        "\n",
        "model.fit(\n",
        "    x_train,\n",
        "    y_train,\n",
        "    batch_size = 100,\n",
        "    epochs = 20,\n",
        "    validation_data=(x_valid, y_valid),\n",
        "    callbacks=[checkpointer]\n",
        ")"
      ],
      "execution_count": 21,
      "outputs": [
        {
          "output_type": "stream",
          "name": "stdout",
          "text": [
            "Epoch 1/20\n",
            "550/550 [==============================] - ETA: 0s - loss: 0.6330 - accuracy: 0.7668\n",
            "Epoch 1: val_loss improved from inf to 0.39601, saving model to model.weights.best.hdf5\n",
            "550/550 [==============================] - 68s 122ms/step - loss: 0.6330 - accuracy: 0.7668 - val_loss: 0.3960 - val_accuracy: 0.8604\n",
            "Epoch 2/20\n",
            "550/550 [==============================] - ETA: 0s - loss: 0.4288 - accuracy: 0.8451\n",
            "Epoch 2: val_loss improved from 0.39601 to 0.33414, saving model to model.weights.best.hdf5\n",
            "550/550 [==============================] - 64s 116ms/step - loss: 0.4288 - accuracy: 0.8451 - val_loss: 0.3341 - val_accuracy: 0.8820\n",
            "Epoch 3/20\n",
            "550/550 [==============================] - ETA: 0s - loss: 0.3838 - accuracy: 0.8608\n",
            "Epoch 3: val_loss improved from 0.33414 to 0.31025, saving model to model.weights.best.hdf5\n",
            "550/550 [==============================] - 65s 118ms/step - loss: 0.3838 - accuracy: 0.8608 - val_loss: 0.3102 - val_accuracy: 0.8890\n",
            "Epoch 4/20\n",
            "550/550 [==============================] - ETA: 0s - loss: 0.3520 - accuracy: 0.8727\n",
            "Epoch 4: val_loss improved from 0.31025 to 0.30034, saving model to model.weights.best.hdf5\n",
            "550/550 [==============================] - 65s 119ms/step - loss: 0.3520 - accuracy: 0.8727 - val_loss: 0.3003 - val_accuracy: 0.8880\n",
            "Epoch 5/20\n",
            "550/550 [==============================] - ETA: 0s - loss: 0.3338 - accuracy: 0.8779\n",
            "Epoch 5: val_loss improved from 0.30034 to 0.26538, saving model to model.weights.best.hdf5\n",
            "550/550 [==============================] - 65s 118ms/step - loss: 0.3338 - accuracy: 0.8779 - val_loss: 0.2654 - val_accuracy: 0.9044\n",
            "Epoch 6/20\n",
            "550/550 [==============================] - ETA: 0s - loss: 0.3162 - accuracy: 0.8832\n",
            "Epoch 6: val_loss did not improve from 0.26538\n",
            "550/550 [==============================] - 63s 115ms/step - loss: 0.3162 - accuracy: 0.8832 - val_loss: 0.2670 - val_accuracy: 0.9002\n",
            "Epoch 7/20\n",
            "550/550 [==============================] - ETA: 0s - loss: 0.3017 - accuracy: 0.8893\n",
            "Epoch 7: val_loss improved from 0.26538 to 0.26055, saving model to model.weights.best.hdf5\n",
            "550/550 [==============================] - 64s 117ms/step - loss: 0.3017 - accuracy: 0.8893 - val_loss: 0.2606 - val_accuracy: 0.9068\n",
            "Epoch 8/20\n",
            "550/550 [==============================] - ETA: 0s - loss: 0.2925 - accuracy: 0.8931\n",
            "Epoch 8: val_loss improved from 0.26055 to 0.23948, saving model to model.weights.best.hdf5\n",
            "550/550 [==============================] - 64s 116ms/step - loss: 0.2925 - accuracy: 0.8931 - val_loss: 0.2395 - val_accuracy: 0.9118\n",
            "Epoch 9/20\n",
            "550/550 [==============================] - ETA: 0s - loss: 0.2842 - accuracy: 0.8962\n",
            "Epoch 9: val_loss improved from 0.23948 to 0.23910, saving model to model.weights.best.hdf5\n",
            "550/550 [==============================] - 64s 117ms/step - loss: 0.2842 - accuracy: 0.8962 - val_loss: 0.2391 - val_accuracy: 0.9144\n",
            "Epoch 10/20\n",
            "550/550 [==============================] - ETA: 0s - loss: 0.2749 - accuracy: 0.8998\n",
            "Epoch 10: val_loss improved from 0.23910 to 0.22835, saving model to model.weights.best.hdf5\n",
            "550/550 [==============================] - 65s 118ms/step - loss: 0.2749 - accuracy: 0.8998 - val_loss: 0.2284 - val_accuracy: 0.9172\n",
            "Epoch 11/20\n",
            "550/550 [==============================] - ETA: 0s - loss: 0.2655 - accuracy: 0.9014\n",
            "Epoch 11: val_loss improved from 0.22835 to 0.22018, saving model to model.weights.best.hdf5\n",
            "550/550 [==============================] - 65s 117ms/step - loss: 0.2655 - accuracy: 0.9014 - val_loss: 0.2202 - val_accuracy: 0.9186\n",
            "Epoch 12/20\n",
            "550/550 [==============================] - ETA: 0s - loss: 0.2590 - accuracy: 0.9033\n",
            "Epoch 12: val_loss did not improve from 0.22018\n",
            "550/550 [==============================] - 63s 114ms/step - loss: 0.2590 - accuracy: 0.9033 - val_loss: 0.2296 - val_accuracy: 0.9112\n",
            "Epoch 13/20\n",
            "550/550 [==============================] - ETA: 0s - loss: 0.2505 - accuracy: 0.9078\n",
            "Epoch 13: val_loss improved from 0.22018 to 0.21040, saving model to model.weights.best.hdf5\n",
            "550/550 [==============================] - 65s 118ms/step - loss: 0.2505 - accuracy: 0.9078 - val_loss: 0.2104 - val_accuracy: 0.9230\n",
            "Epoch 14/20\n",
            "550/550 [==============================] - ETA: 0s - loss: 0.2454 - accuracy: 0.9082\n",
            "Epoch 14: val_loss did not improve from 0.21040\n",
            "550/550 [==============================] - 66s 119ms/step - loss: 0.2454 - accuracy: 0.9082 - val_loss: 0.2211 - val_accuracy: 0.9158\n",
            "Epoch 15/20\n",
            "550/550 [==============================] - ETA: 0s - loss: 0.2418 - accuracy: 0.9108\n",
            "Epoch 15: val_loss did not improve from 0.21040\n",
            "550/550 [==============================] - 63s 114ms/step - loss: 0.2418 - accuracy: 0.9108 - val_loss: 0.2162 - val_accuracy: 0.9174\n",
            "Epoch 16/20\n",
            "550/550 [==============================] - ETA: 0s - loss: 0.2397 - accuracy: 0.9110\n",
            "Epoch 16: val_loss did not improve from 0.21040\n",
            "550/550 [==============================] - 64s 117ms/step - loss: 0.2397 - accuracy: 0.9110 - val_loss: 0.2239 - val_accuracy: 0.9136\n",
            "Epoch 17/20\n",
            "550/550 [==============================] - ETA: 0s - loss: 0.2336 - accuracy: 0.9134\n",
            "Epoch 17: val_loss did not improve from 0.21040\n",
            "550/550 [==============================] - 65s 117ms/step - loss: 0.2336 - accuracy: 0.9134 - val_loss: 0.2118 - val_accuracy: 0.9208\n",
            "Epoch 18/20\n",
            "550/550 [==============================] - ETA: 0s - loss: 0.2265 - accuracy: 0.9150\n",
            "Epoch 18: val_loss improved from 0.21040 to 0.20644, saving model to model.weights.best.hdf5\n",
            "550/550 [==============================] - 59s 107ms/step - loss: 0.2265 - accuracy: 0.9150 - val_loss: 0.2064 - val_accuracy: 0.9230\n",
            "Epoch 19/20\n",
            "550/550 [==============================] - ETA: 0s - loss: 0.2244 - accuracy: 0.9158\n",
            "Epoch 19: val_loss did not improve from 0.20644\n",
            "550/550 [==============================] - 65s 118ms/step - loss: 0.2244 - accuracy: 0.9158 - val_loss: 0.2125 - val_accuracy: 0.9156\n",
            "Epoch 20/20\n",
            "550/550 [==============================] - ETA: 0s - loss: 0.2224 - accuracy: 0.9166\n",
            "Epoch 20: val_loss did not improve from 0.20644\n",
            "550/550 [==============================] - 64s 116ms/step - loss: 0.2224 - accuracy: 0.9166 - val_loss: 0.2072 - val_accuracy: 0.9238\n"
          ]
        },
        {
          "output_type": "execute_result",
          "data": {
            "text/plain": [
              "<keras.src.callbacks.History at 0x7f772c3c7b20>"
            ]
          },
          "metadata": {},
          "execution_count": 21
        }
      ]
    },
    {
      "cell_type": "markdown",
      "metadata": {
        "id": "sD_0YeUNwThD"
      },
      "source": [
        "### Tải mô hình với validation tốt nhất"
      ]
    },
    {
      "cell_type": "code",
      "metadata": {
        "id": "a_RSfZ0hoEBN"
      },
      "source": [
        "model.load_weights('model.weights.best.hdf5')"
      ],
      "execution_count": 10,
      "outputs": []
    },
    {
      "cell_type": "markdown",
      "metadata": {
        "id": "2-I04n9pNh28"
      },
      "source": [
        "### Dự đoán"
      ]
    },
    {
      "cell_type": "markdown",
      "metadata": {
        "id": "VdK-jne-Nl1d"
      },
      "source": [
        "In ra 15 hình ảnh từ tập dữ liệu test set và đặt tiêu đề với dự đoán. Nếu dự đoán đúng (giống nhãn), thì tiêu đề sẽ có màu xanh và ngược lại là màu đỏ."
      ]
    },
    {
      "cell_type": "code",
      "metadata": {
        "colab": {
          "base_uri": "https://localhost:8080/",
          "height": 785
        },
        "id": "MGj8YN14PEX5",
        "outputId": "e04bce67-1ecf-4ecb-8c46-2e4e02d9f2e8"
      },
      "source": [
        "# Kiểm tra mô hình bằng cách sử dụng model.predict dữ liệu thử nghiệm\n",
        "y_check = model.predict(x_test)\n",
        "\n",
        "# Lấy ngẫu nhiên 15 hình ảnh từ tập test để dự đoán\n",
        "figure = plt.figure(figsize=(20,10)) # Đặt kích thức hình ảnh\n",
        "for i, index in enumerate(np.random.choice(x_test.shape[0], size=15, replace=False)): # ramdom 15 ảnh từ tập dữ liệu test\n",
        "    ax = figure.add_subplot(3, 5, i + 1, xticks=[], yticks=[])\n",
        "\n",
        "    # Hiển thị từng hình ảnh\n",
        "    ax.imshow(np.squeeze(x_test[index]))\n",
        "    predict_index = np.argmax(y_check[index])\n",
        "    true_index = np.argmax(y_test[index])\n",
        "\n",
        "    # Đặt tiêu đề cho mỗi hình ảnh\n",
        "    ax.set_title(\"{} ({})\".format(\n",
        "        fashion_mnist_labels[predict_index],\n",
        "        fashion_mnist_labels[true_index]),\n",
        "        color=(\"green\" if predict_index == true_index else \"red\")\n",
        "    )"
      ],
      "execution_count": 12,
      "outputs": [
        {
          "output_type": "stream",
          "name": "stdout",
          "text": [
            "313/313 [==============================] - 5s 15ms/step\n"
          ]
        },
        {
          "output_type": "display_data",
          "data": {
            "text/plain": [
              "<Figure size 2000x1000 with 15 Axes>"
            ],
            "image/png": "[encoded data removed]"
          },
          "metadata": {}
        }
      ]
    },
    {
      "cell_type": "markdown",
      "metadata": {
        "id": "GWWght_IpC3o"
      },
      "source": [
        "### Kiểm tra độ chính xác"
      ]
    },
    {
      "cell_type": "code",
      "metadata": {
        "colab": {
          "base_uri": "https://localhost:8080/"
        },
        "id": "qrvbG5QfpNHT",
        "outputId": "194c911e-33fd-4dfb-e042-078ca91dd288"
      },
      "source": [
        "# Đánh giá mô hình trên test set\n",
        "score = model.evaluate(x_test, y_test, verbose=0)\n",
        "\n",
        "# Kiểm tra độ chính xác\n",
        "print(\"Test loss:\", score[0])\n",
        "print(\"Test accuracy:\", score[1])\n",
        "\n"
      ],
      "execution_count": 13,
      "outputs": [
        {
          "output_type": "stream",
          "name": "stdout",
          "text": [
            "Test loss: 0.22986018657684326\n",
            "Test accuracy: 0.917900025844574\n"
          ]
        }
      ]
    },
    {
      "cell_type": "markdown",
      "metadata": {
        "id": "WwIQCagqYp60"
      },
      "source": [
        "Đến thời điểm này, chúng ta thấy rằng độ accuracy của mô hình, khi đánh giá bằng tập kiểm thử, hơi thấp hơn so với số liệu trong quá trình huấn luyện. Khoảng cách giữa hai độ accuracy khi huấn luyện và khi kiểm thử thể hiện sự overfitting. Overfitting xảy ra khi một mô hình ML hoạt động kém hơn khi được cung cấp các đầu vào mới, mà mô hình chưa từng thấy trước đây trong quá trình đào tạo."
      ]
    },
    {
      "cell_type": "markdown",
      "metadata": {
        "id": "3l46UW9KSa1y"
      },
      "source": [
        "### Kết luận"
      ]
    },
    {
      "cell_type": "markdown",
      "metadata": {
        "id": "rqnbRU65SnAT"
      },
      "source": [
        "Huấn luyện thành công Convolutional Neural Network (CNN) để phân loại Fashion-MNIST với độ chính xác khoảng 92%"
      ]
    }
  ]
}