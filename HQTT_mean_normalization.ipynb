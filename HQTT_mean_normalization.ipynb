{
  "nbformat": 4,
  "nbformat_minor": 0,
  "metadata": {
    "colab": {
      "provenance": [],
      "authorship_tag": "ABX9TyMngRsRy+uRUAymkAJNtvoP",
      "include_colab_link": true
    },
    "kernelspec": {
      "name": "python3",
      "display_name": "Python 3"
    },
    "language_info": {
      "name": "python"
    }
  },
  "cells": [
    {
      "cell_type": "markdown",
      "metadata": {
        "id": "view-in-github",
        "colab_type": "text"
      },
      "source": [
        "<a href=\"https://colab.research.google.com/github/lmquann/leminhquan/blob/main/HQTT_mean_normalization.ipynb\" target=\"_parent\"><img src=\"https://colab.research.google.com/assets/colab-badge.svg\" alt=\"Open In Colab\"/></a>"
      ]
    },
    {
      "cell_type": "code",
      "execution_count": 1,
      "metadata": {
        "colab": {
          "base_uri": "https://localhost:8080/"
        },
        "id": "8hcYI4cKI_-2",
        "outputId": "0f4bc67a-cc56-45cf-86ca-86a1c584b3ef"
      },
      "outputs": [
        {
          "output_type": "stream",
          "name": "stdout",
          "text": [
            "Mounted at /content/drive\n"
          ]
        }
      ],
      "source": [
        "import os\n",
        "import numpy as np\n",
        "from matplotlib import pyplot as plt\n",
        "from google.colab import drive\n",
        "drive.mount('/content/drive')"
      ]
    },
    {
      "cell_type": "code",
      "source": [
        "def readData(folder, filename): #Hàm đọc dữ liệu từ tập tin\n",
        "    data = np.loadtxt(os.path.join(folder, filename), delimiter=',')\n",
        "    print('Original data shape', data.shape)\n",
        "    X = data[:,:-1]\n",
        "    print('X shape: ', X.shape)\n",
        "    y = data[:,-1]\n",
        "    print('y shape: ', y.shape)\n",
        "    m = X.shape[0]\n",
        "    print('Number of training examples m = ', m)\n",
        "    x0 = np.ones((m,1))\n",
        "    X = np.hstack([x0, X])\n",
        "    print('Modified X shape: ', X.shape)\n",
        "    y = np.reshape(y, (m,1))\n",
        "    print('Modified y shape: ', y.shape)\n",
        "    return X, y"
      ],
      "metadata": {
        "id": "tPkJ60wjJP8d"
      },
      "execution_count": 3,
      "outputs": []
    },
    {
      "cell_type": "code",
      "source": [
        "def featureVectorScaling(data):\n",
        "    avg = np.mean(data)\n",
        "    sln = data.max()\n",
        "    snn = data.min()\n",
        "    data_scl = (data - avg)/(sln - snn)\n",
        "    print(data_scl[1])\n",
        "    return data_scl"
      ],
      "metadata": {
        "id": "T7C6Y-8mJbIx"
      },
      "execution_count": 4,
      "outputs": []
    },
    {
      "cell_type": "code",
      "source": [
        "def scaleData(X, y):\n",
        "    X_scl = X[:, 0]\n",
        "    for i in range(1, X.shape[1]):\n",
        "        scl = featureVectorScaling(X[:, i])\n",
        "        X_scl = np.column_stack([X_scl, scl])\n",
        "    y_scl = featureVectorScaling(y)\n",
        "    print('X_scl shape: ', X_scl.shape)\n",
        "    print(X_scl[1,:])\n",
        "    print('y scl shape: ', y_scl.shape)\n",
        "    print(y_scl[1,:])\n",
        "    return X_scl, y_scl"
      ],
      "metadata": {
        "id": "f064PIHDJl_k"
      },
      "execution_count": 5,
      "outputs": []
    },
    {
      "cell_type": "code",
      "source": [
        "def computeLoss(X, y, w):\n",
        "    m = y.shape[0]\n",
        "    J = 0\n",
        "    h = np.dot(X, w)\n",
        "    J = (1/(2*m))*np.sum(np.square(h - y))\n",
        "    return J"
      ],
      "metadata": {
        "id": "zk9zd5ZjJrXC"
      },
      "execution_count": 6,
      "outputs": []
    },
    {
      "cell_type": "code",
      "source": [
        "def gradientDescent(X, y, w, alpha, n):\n",
        "    m = y.shape[0]\n",
        "    J_history = []\n",
        "    w_optimal = w.copy()\n",
        "    print('w_optimal shape: ', w_optimal.shape)\n",
        "    for i in range(n):\n",
        "        h = np.dot(X, w_optimal)\n",
        "        error = h - y\n",
        "        w_optimal = w_optimal - (alpha/m)*np.dot(X.T, error)\n",
        "        J_history.append(computeLoss(X, y, w_optimal))\n",
        "    return w_optimal, J_history"
      ],
      "metadata": {
        "id": "VyJ7AJ-7Ju68"
      },
      "execution_count": 7,
      "outputs": []
    },
    {
      "cell_type": "code",
      "source": [
        "def main():\n",
        "    n = 1500\n",
        "    alpha = 0.01\n",
        "    X, y = readData(\"/content/drive/MyDrive/học máy 1\", \"ex1data1.txt\")\n",
        "    X_scl, y_scl = scaleData(X, y)\n",
        "    print('X scl: ', X_scl[1,:])\n",
        "    print('y scl: ', y_scl[1])\n",
        "    w = np.zeros((X_scl.shape[1], 1))\n",
        "    w, J_history = gradientDescent(X_scl, y_scl, w, alpha, n)\n",
        "    print(\"Optimal weights are: \", w)\n",
        "    print(\"Loss function: \", J_history[-1])\n",
        "\n",
        "if __name__ == '__main__':\n",
        "    main()"
      ],
      "metadata": {
        "colab": {
          "base_uri": "https://localhost:8080/"
        },
        "id": "Fg8XqJ1FJyTb",
        "outputId": "219c04b4-481d-4ab8-f193-1056558aaff2"
      },
      "execution_count": 8,
      "outputs": [
        {
          "output_type": "stream",
          "name": "stdout",
          "text": [
            "Original data shape (97, 2)\n",
            "X shape:  (97, 1)\n",
            "y shape:  (97,)\n",
            "Number of training examples m =  97\n",
            "Modified X shape:  (97, 2)\n",
            "Modified y shape:  (97, 1)\n",
            "-0.15324200487887232\n",
            "[0.12267414]\n",
            "X_scl shape:  (97, 2)\n",
            "[ 1.       -0.153242]\n",
            "y scl shape:  (97, 1)\n",
            "[0.12267414]\n",
            "X scl:  [ 1.       -0.153242]\n",
            "y scl:  [0.12267414]\n",
            "w_optimal shape:  (2, 1)\n",
            "Optimal weights are:  [[-6.11481083e-17]\n",
            " [ 4.04382039e-01]]\n",
            "Loss function:  0.009465844647501186\n"
          ]
        }
      ]
    }
  ]
}