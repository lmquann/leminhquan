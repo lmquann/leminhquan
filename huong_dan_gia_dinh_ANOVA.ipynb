{
  "cells": [
    {
      "cell_type": "markdown",
      "metadata": {
        "id": "view-in-github",
        "colab_type": "text"
      },
      "source": [
        "<a href=\"https://colab.research.google.com/github/lmquann/leminhquan/blob/main/huong_dan_gia_dinh_ANOVA.ipynb\" target=\"_parent\"><img src=\"https://colab.research.google.com/assets/colab-badge.svg\" alt=\"Open In Colab\"/></a>"
      ]
    },
    {
      "cell_type": "markdown",
      "metadata": {
        "id": "VRAPvjaQKe9H"
      },
      "source": [
        "PHÂN TÍCH ANOVA MỘT CHIỀU\n",
        "\n",
        "Phân tích ANOVA chấp nhận các giả định sau:\n",
        "\n",
        "(1) Tất cả các nhóm đều độc lập với nhau\n",
        "\n",
        "(2) Dữ liệu của mỗi nhóm đều tuân theo phân phối chuẩn. Tính chất này có thể được kiểm định bằng phương pháp Shapiro-Wilks.\n",
        "\n",
        "(3) Phương sai (variance) của các nhóm bằng nhau. Tính chất này có thể được kiểm định bằng phương pháp kiểm định Bartlett hay Levene.\n",
        "\n",
        "Nếu dữ liệu hiện có thỏa mãn các tính chất trên thì chúng ta mới tiến hành kiểm định ANOVA. Do vậy trước khi tiến hành kiểm định ANOVA, chúng ta cần thực hiện kiểm tra tập dữ liệu cần thỏa mãn 3 tính chất trên.\n",
        "    "
      ]
    },
    {
      "cell_type": "code",
      "source": [
        "from scipy import stats \n",
        "import numpy as np\n",
        "import pandas as pd\n",
        "from scipy.stats import bartlett"
      ],
      "metadata": {
        "id": "D1RhcPK1K5fE"
      },
      "execution_count": 3,
      "outputs": []
    },
    {
      "cell_type": "code",
      "execution_count": 4,
      "metadata": {
        "id": "JPvePmsyKe9V",
        "outputId": "74b024fe-4f9a-467d-8101-0c3b4f6b73cf",
        "colab": {
          "base_uri": "https://localhost:8080/"
        }
      },
      "outputs": [
        {
          "output_type": "stream",
          "name": "stdout",
          "text": [
            "[14.30821025 13.9274029  15.73956058 17.02487791 14.81940415 14.98415238\n",
            " 13.25534582 16.42056734 11.31492016 18.78144876 14.11543429 15.8997358\n",
            " 15.85550664 14.45438612 16.36928633 15.19255262 15.69048595 14.79352473\n",
            " 15.0991642  16.06507501 14.7782495  14.31821896 17.35501865 15.37125778\n",
            " 13.00164607 15.60405687 15.76706075 13.82605349 17.19869675 14.15901384\n",
            " 13.99188306 15.104336   13.26269322 15.08905653 18.88464421 13.1027173\n",
            " 16.82327071 15.86897263 13.2698359  14.96995896 15.56712106 14.78106472\n",
            " 14.84431992 15.11279847 14.72599965 14.44754976 14.34616833 16.34464443\n",
            " 16.61931023 10.92893851 16.75977475 13.85097211 18.81457073 15.93536458\n",
            " 12.72509028 18.18305862 18.64783768 17.62024981 19.87291615 14.46962792\n",
            " 16.23973086 13.35096977 14.84364612 15.95638954 12.92671382 12.66636354\n",
            " 15.42125836 15.53905356 18.21477593 16.55666296 15.40392723 14.62948336\n",
            " 10.69301376 16.9083398  15.82975181 10.58042441 15.63588432 14.05768683\n",
            " 16.97559733 14.99453622 18.74091642 11.56313663 14.8027975   9.16346815\n",
            " 10.56732403 14.23971666 17.05722766 14.72038887 14.47067896 15.98005137\n",
            " 13.66123908 14.76997729 13.55428469 15.19269513 11.32717252 17.14812888\n",
            " 13.59315204 17.34852939 15.36003078 14.63145246]\n"
          ]
        }
      ],
      "source": [
        "#Bước 1: Hãy tạo một tập dữ liệu mẫu sample_1 với kích thước 100 tuân theo phân phối chuẩn\n",
        "sample_1 =  stats.norm.rvs(loc = 15, scale = 2, size = 100)\n",
        "print(sample_1)"
      ]
    },
    {
      "cell_type": "code",
      "execution_count": 5,
      "metadata": {
        "id": "CZzgoMgIKe9h",
        "outputId": "56606b41-a188-43fc-b412-22b67be63776",
        "colab": {
          "base_uri": "https://localhost:8080/"
        }
      },
      "outputs": [
        {
          "output_type": "stream",
          "name": "stdout",
          "text": [
            "[18 18 18 23 17 18 19 18 19 18 17 18 20 18 18 19 17 18 20 18 19 23 19 19\n",
            " 17 20 17 18 22 19 20 18 19 18 19 19 18 18 18 21 18 19 18 18 19 19 20 18\n",
            " 17 18 19 18 22 19 18 21 19 19 17 25 22 21 20 19 18 19 19 22 18 19 17 19\n",
            " 19 17 18 17 18 19 17 20 19 20 18 19 19 18 19 20 19 17 19 19 18 18 19 17\n",
            " 22 18 19 19 17 19 21 20 22 22 21 19 19 18 22 17 17 19 20 19 17 21 21 20\n",
            " 20 18 19 18 18 20 18 21 17 18 20 18 19 18 18 21 19 18 19 18 19 18 18 17\n",
            " 18 20 20 17 21 18 19 19 18 18 18 19 19 17 19 18 17 18 19 19 20 18 18 19\n",
            " 19 17 20 18 17 18 19 22 19 22 17 20 21 17 21 21 21 21 18 18 19 19 19 22\n",
            " 18 19 18 18 19 20 22 18 25 19 21 18 19 18 20 21 21 17 18 20 20 22 22 20\n",
            " 22 20 19 20 25 19 18 18 18 18 23 23 19 21 19 18 17 19 19 19 18 18 20 19\n",
            " 18 21 19 17 18 27 18 23 18 20 19 19 19 18 18 18 17 22 19 18 19 21 18 20\n",
            " 19 20 18 18 18 19 20 19 19 17 19 19 20 18 18 18 17 22 21 18 19 17 19 20\n",
            " 18 21 20 19 17 18 19 21 19 19 20 20 19 20 20 17 20 20 18 18 18 19 20 20\n",
            " 20 18 17 18 18 18 18 18 20 18 19 23 17 17 19 20 20 20 18 18 19 20 21 20\n",
            " 21 20 18 18 19 18 18 20 20 17 18 20 23 17 17 19 19 18 22 18 18 18 20 19\n",
            " 23 18 22 20 17 19 19 20 18 18 22 19 18 20 19 19 21 20 19 21 20 20 19 17\n",
            " 22 19 20 17 18 17 19 18 18 18 19 19 21 17 18 18 19 18 20 19 17 17 17 20\n",
            " 18 17 18 17 20 18 20 20 19 18 19 18 19 19 19 18 19 17 20 19 20 18 18 18\n",
            " 17 18 17 20 20 17 18 20 18 21 18 18 21 17 19 20 20 18 19 18 22 19 23 21\n",
            " 18 19 18 17 19 20 20 20 19 18 17 19 19 19 20 19 18 19 19 23 17 19 20 17\n",
            " 18 18 18 19 20 17 17 20 19 22 17 21 19 18 21 20 19 19 19 23 19 19 18 20\n",
            " 19 17 23 19 17 18 20 18 17 20 19 17 18 18 18 18 17 18 20 19 17 17 18 18\n",
            " 19 21 19 19 20 23 18 18 20 19 20 18 18 22 20 21 19 18 17 19 22 21 20 18\n",
            " 19 18 19 17 22 21 17 21 19 20 18 18 17 20 20 19 18 20 19 19 17 17 19 19\n",
            " 19 18 20 19 17 19 20 18 18 19 21 18 17 20 20 19 19 20 20 18 19 22 18 19\n",
            " 19 22 20 18 18 20 18 19 17 20 20 21 18 20 20 17 17 19 19 19 19 20 19 21\n",
            " 20 18 19 17 19 20 20 19 20 17 20 18 20 22 18 20 19 18 17 17 18 21 21 19\n",
            " 17 19 19 18 19 19 18 19 21 18 17 19 17 20 20 21 21 19 18 18 19 18 20 17\n",
            " 19 18 19 17 19 19 21 17 20 19 18 17 17 20 21 17 18 18 18 19 19 17 17 19\n",
            " 19 20 21 19 18 22 19 22 19 18 20 18 18 17 18 20 18 17 19 21 20 20 19 18\n",
            " 17 17 20 19 18 19 21 19 21 19 19 19 18 19 18 18 20 19 20 18 18 18 21 18\n",
            " 22 18 18 19 18 21 17 18 20 17 17 17 24 22 17 17 18 19 17 18 18 22 21 18\n",
            " 18 20 19 17 19 19 19 17 19 18 20 18 19 20 20 19 20 18 19 22 19 19 18 18\n",
            " 18 18 18 17 18 19 21 19 19 18 22 19 17 19 20 17 23 18 18 21 20 19 19 20\n",
            " 18 19 20 17 19 18 18 19 20 19 20 23 19 20 20 18 17 19 20 18 18 18 20 17\n",
            " 19 21 19 19 20 18 21 21 21 20 20 17 17 17 20 21 19 19 19 19 18 17 17 18\n",
            " 19 19 21 22 21 19 18 19 18 21 18 19 18 17 17 18 17 20 20 19 19 19 18 22\n",
            " 17 19 20 19 17 18 19 18 19 19 21 20 18 19 19 18 19 18 18 17 20 17 20 18\n",
            " 20 21 22 20 18 18 17 18 17 21 18 20 18 19 20 20 21 17 19 20 19 17 19 18\n",
            " 21 22 20 19 22 24 19 20 18 18 20 18 18 19 19 20 18 19 20 17 20 21 18 18\n",
            " 21 20 19 20 18 21 18 20 18 17 18 19 18 18 19 18 19 21 21 20 20 23 18 21\n",
            " 17 22 24 20 19 20 19 19 18 20 18 19 19 18 20 17]\n"
          ]
        }
      ],
      "source": [
        "#Bước 2: hãy tạo tập dữ liệu mẫu sample_2 với kích thước 100 tuân theo phân phối Poisson\n",
        "sample_2 = stats.poisson.rvs(loc = 17, mu = 2, size=1000)\n",
        "print(sample_2)"
      ]
    },
    {
      "cell_type": "markdown",
      "metadata": {
        "id": "PpZd5ebfKe9j"
      },
      "source": [
        "Hãy tham khảo các hướng dẫn sau để kiểm định tính chất thứ 2 bằng phương pháp Shapiro-Wilks đối với sample_1 và sample_2\n",
        "\n",
        "(1) [Tài liệu tham khảo scipy](https://docs.scipy.org/doc/scipy/reference/generated/scipy.stats.shapiro.html)\n",
        "\n",
        "(2) [Hướng dẫn cụ thể của statology](https://www.statology.org/shapiro-wilk-test-python/)"
      ]
    },
    {
      "cell_type": "markdown",
      "source": [
        "Phát biểu giả thiết:\n",
        "\n",
        "      H0: Mẫu tuân theo phân phối chuẩn\n",
        "      Ha: Mẫu không tuân theo phân phối chuẩn"
      ],
      "metadata": {
        "id": "t68D3aptvsqO"
      }
    },
    {
      "cell_type": "code",
      "execution_count": null,
      "metadata": {
        "id": "3Jek1N-iKe9o",
        "outputId": "787fa79a-ae6f-4727-c16d-70d75233e7f0",
        "colab": {
          "base_uri": "https://localhost:8080/"
        }
      },
      "outputs": [
        {
          "output_type": "stream",
          "name": "stdout",
          "text": [
            "Thử nghiệm Shapiro-Wilk tuân theo phân phối chuẩn\n",
            "Statistic = 0.9852780103683472 \n",
            " p value = 0.33253052830696106\n",
            "không có bằng chứng để bác bỏ giả thiết H0\n",
            "\n",
            "Thử nghiệm Shapiro-Wilk tuân theo phân phối Poisson\n",
            "Statistic = 0.9220533967018127 \n",
            " p value = 2.5591925088947357e-22\n",
            "có bằng chứng để bác bỏ giả thiết H0\n"
          ]
        }
      ],
      "source": [
        "#Code kiểm định tính chất thứ 2 của sample_1 và sample_2\n",
        "# thử nghiệm Shapiro-Wilk để xác định xem một mẫu có đến từ phân phối chuẩn hay không.\n",
        "print(\"Thử nghiệm Shapiro-Wilk tuân theo phân phối chuẩn\")\n",
        "stats1, p1 = stats.shapiro(sample_1) \n",
        "print(\"Statistic =\", stats1, \"\\n\", \"p value =\", p1)\n",
        "if p1 > 0.05:\n",
        "    print(\"không có bằng chứng để bác bỏ giả thiết H0\")\n",
        "else:\n",
        "    print(\"có bằng chứng để bác bỏ giả thiết H0\")\n",
        "\n",
        "print(\"\")\n",
        "\n",
        "print(\"Thử nghiệm Shapiro-Wilk tuân theo phân phối Poisson\")\n",
        "stats2, p2 = stats.shapiro(sample_2)\n",
        "print(\"Statistic =\", stats2, \"\\n\", \"p value =\", p2)\n",
        "if p2 > 0.05:\n",
        "    print(\"không có bằng chứng để bác bỏ giả thiết H0\")\n",
        "else:\n",
        "    print(\"có bằng chứng để bác bỏ giả thiết H0\")"
      ]
    },
    {
      "cell_type": "markdown",
      "metadata": {
        "id": "AM83IdVNKe9u"
      },
      "source": [
        "Hãy tham khảo các hướng dẫn sau để kiểm định tính chất thứ 3 bằng kiểm định Bartlett hoặc kiểm định Levene\n",
        "\n",
        "(1) [Hướng dẫn tổng quát](https://www.marsja.se/levenes-bartletts-test-of-equality-homogeneity-of-variance-in-python/)\n",
        "\n",
        "(2) [Hướng dẫn ở stackoverflow](https://stackoverflow.com/questions/36141254/how-to-test-for-homoscedasticity-having-the-same-population-variance-in-python)\n",
        "\n",
        "(3) Sử dụng bài giảng về kiểm định Bartlett và Levene ở buổi trước"
      ]
    },
    {
      "cell_type": "markdown",
      "source": [
        "Phát biểu giả thiết:\n",
        "\n",
        "      H0: Mẫu có cùng phương sai.\n",
        "      Ha: Có sự khác biệt về phương sai của mẫu."
      ],
      "metadata": {
        "id": "eyi192tYimOc"
      }
    },
    {
      "cell_type": "code",
      "execution_count": 7,
      "metadata": {
        "id": "F46m43c_Ke90",
        "outputId": "b5e3e049-8328-4623-80e8-b12c459fbdc5",
        "colab": {
          "base_uri": "https://localhost:8080/"
        }
      },
      "outputs": [
        {
          "output_type": "stream",
          "name": "stdout",
          "text": [
            "Statistic = 11.47532348882493 \n",
            " p value = 0.0007302701625668768\n",
            "có bằng chứng để bác bỏ giả thiết H0\n"
          ]
        }
      ],
      "source": [
        "#Code kiểm định tính đồng nhất về phương sai của các nhóm\n",
        "stats, p = stats.levene(sample_1,sample_2) \n",
        "print(\"Statistic =\", stats, \"\\n\", \"p value =\", p)\n",
        "if p > 0.05:\n",
        "  print(\"không có bằng chứng để bác bỏ giả thiết H0\")\n",
        "else:\n",
        "  print(\"có bằng chứng để bác bỏ giả thiết H0\")"
      ]
    },
    {
      "cell_type": "code",
      "execution_count": null,
      "metadata": {
        "id": "31_kOYL_Ke96"
      },
      "outputs": [],
      "source": [
        ""
      ]
    }
  ],
  "metadata": {
    "kernelspec": {
      "display_name": "Python 3",
      "language": "python",
      "name": "python3"
    },
    "language_info": {
      "codemirror_mode": {
        "name": "ipython",
        "version": 3
      },
      "file_extension": ".py",
      "mimetype": "text/x-python",
      "name": "python",
      "nbconvert_exporter": "python",
      "pygments_lexer": "ipython3",
      "version": "3.7.3"
    },
    "colab": {
      "name": "huong-dan-gia-dinh-ANOVA.ipynb",
      "provenance": [],
      "include_colab_link": true
    }
  },
  "nbformat": 4,
  "nbformat_minor": 0
}