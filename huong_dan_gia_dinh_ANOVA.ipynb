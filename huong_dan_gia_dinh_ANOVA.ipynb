{
  "cells": [
    {
      "cell_type": "markdown",
      "metadata": {
        "id": "view-in-github",
        "colab_type": "text"
      },
      "source": [
        "<a href=\"https://colab.research.google.com/github/lmquann/leminhquan/blob/main/huong_dan_gia_dinh_ANOVA.ipynb\" target=\"_parent\"><img src=\"https://colab.research.google.com/assets/colab-badge.svg\" alt=\"Open In Colab\"/></a>"
      ]
    },
    {
      "cell_type": "markdown",
      "metadata": {
        "id": "VRAPvjaQKe9H"
      },
      "source": [
        "PHÂN TÍCH ANOVA MỘT CHIỀU\n",
        "\n",
        "Phân tích ANOVA chấp nhận các giả định sau:\n",
        "\n",
        "(1) Tất cả các nhóm đều độc lập với nhau\n",
        "\n",
        "(2) Dữ liệu của mỗi nhóm đều tuân theo phân phối chuẩn. Tính chất này có thể được kiểm định bằng phương pháp Shapiro-Wilks.\n",
        "\n",
        "(3) Phương sai (variance) của các nhóm bằng nhau. Tính chất này có thể được kiểm định bằng phương pháp kiểm định Bartlett hay Levene.\n",
        "\n",
        "Nếu dữ liệu hiện có thỏa mãn các tính chất trên thì chúng ta mới tiến hành kiểm định ANOVA. Do vậy trước khi tiến hành kiểm định ANOVA, chúng ta cần thực hiện kiểm tra tập dữ liệu cần thỏa mãn 3 tính chất trên.\n",
        "    "
      ]
    },
    {
      "cell_type": "code",
      "source": [
        "from scipy import stats \n",
        "import numpy as np\n",
        "import pandas as pd\n",
        "from scipy.stats import bartlett"
      ],
      "metadata": {
        "id": "D1RhcPK1K5fE"
      },
      "execution_count": null,
      "outputs": []
    },
    {
      "cell_type": "code",
      "execution_count": null,
      "metadata": {
        "id": "JPvePmsyKe9V",
        "outputId": "12967170-ce8f-4da3-f0a7-8673639afd20",
        "colab": {
          "base_uri": "https://localhost:8080/"
        }
      },
      "outputs": [
        {
          "output_type": "stream",
          "name": "stdout",
          "text": [
            "[19.3148353  13.55613331 12.56354615 14.54366235 15.13490972 16.01675091\n",
            " 13.49833362 15.74725177 14.56866469 12.10627457 16.87680263 15.02721854\n",
            " 14.17073821 13.00227773 13.63283822 15.90257461 15.50411439 16.63632146\n",
            " 11.6174465  16.26479079 14.29994939 14.06392432 14.55011341 13.35086727\n",
            " 11.52604252 17.59986254 15.44921897 15.61712369 11.60943401 15.68011598\n",
            " 12.99505478 17.16369856 18.5500382  15.1879772  19.5562647  14.41947156\n",
            " 15.20813912 12.94939249 14.89997942 13.59010787 17.78547364 19.1788852\n",
            " 13.02110052 12.22073816 16.06610199 15.15659794 14.65331193 14.60877389\n",
            " 17.24380041 13.59932821 12.6230259  16.99309414 15.77568917 13.91479459\n",
            " 15.1544515  17.40112937 15.31729315 16.09469237 17.70375825 16.51281633\n",
            " 14.91405727 16.70562681 13.79743348 12.54744846 13.89357176 12.14312857\n",
            " 14.81176885 16.24896735 18.57216672 16.42128839 14.60795832 19.36201832\n",
            " 17.00220804 18.04678012 17.43355386 12.62033782 16.10565182 12.62426231\n",
            " 13.59468968 12.40534531 11.63808687 14.71741758 14.68043952 15.46021493\n",
            " 12.40153188 11.32820968 13.7452809  17.03227207 14.94009346 15.97912026\n",
            " 13.92789716 16.83048591 16.75707797 16.19676593 14.00577919 15.42616784\n",
            " 14.49330678 16.08859709 13.41844108 16.63160665]\n"
          ]
        }
      ],
      "source": [
        "#Bước 1: Hãy tạo một tập dữ liệu mẫu sample_1 với kích thước 100 tuân theo phân phối chuẩn\n",
        "sample_1 =  stats.norm.rvs(loc = 15, scale = 2, size = 100)\n",
        "print(sample_1)"
      ]
    },
    {
      "cell_type": "code",
      "execution_count": null,
      "metadata": {
        "id": "CZzgoMgIKe9h",
        "outputId": "76b5096b-f0c5-4135-dc49-4273d2144403",
        "colab": {
          "base_uri": "https://localhost:8080/"
        }
      },
      "outputs": [
        {
          "output_type": "stream",
          "name": "stdout",
          "text": [
            "[18 21 21 18 18 18 18 17 21 18 17 18 17 20 18 19 19 18 19 18 18 19 24 18\n",
            " 17 19 18 18 18 20 21 21 20 18 20 19 20 21 17 19 17 19 18 18 21 18 19 18\n",
            " 18 17 18 21 17 20 20 19 17 19 20 19 19 18 19 17 19 21 18 18 19 19 17 17\n",
            " 19 19 18 19 18 18 19 19 18 19 19 17 19 20 20 19 18 17 17 17 19 19 19 18\n",
            " 18 17 22 19 17 19 20 17 18 18 20 20 19 19 17 20 22 19 17 20 19 21 19 17\n",
            " 20 19 18 18 18 18 21 19 20 20 20 18 21 20 21 19 18 19 18 19 20 20 20 17\n",
            " 21 19 18 19 17 17 20 21 18 20 22 18 21 21 19 19 19 21 18 20 22 18 18 18\n",
            " 20 18 19 18 19 18 19 17 19 18 18 18 22 17 19 18 21 19 19 19 19 18 19 18\n",
            " 18 19 17 19 17 17 20 21 19 17 19 21 18 19 18 18 17 20 18 19 17 20 21 19\n",
            " 17 19 17 19 17 20 20 20 21 19 20 22 19 18 21 18 19 21 22 17 18 18 18 21\n",
            " 21 18 18 18 22 21 18 19 19 20 18 18 17 17 19 20 20 20 18 18 20 18 21 18\n",
            " 19 19 18 18 20 19 18 17 22 18 23 23 18 22 18 18 18 22 18 23 17 18 21 17\n",
            " 18 18 18 19 19 18 21 19 19 20 19 19 18 19 19 19 18 22 20 17 17 21 20 18\n",
            " 20 21 20 19 18 20 22 18 19 20 20 18 21 21 18 18 21 19 20 19 19 17 17 18\n",
            " 19 21 21 18 18 21 21 18 18 20 19 19 20 18 19 19 20 21 18 19 19 19 18 19\n",
            " 22 19 19 18 18 22 17 18 21 20 18 21 19 17 18 19 20 21 18 18 18 20 18 20\n",
            " 18 19 19 18 19 17 19 19 21 17 18 19 23 17 19 19 20 17 17 20 19 17 23 17\n",
            " 21 18 19 21 17 19 20 17 20 19 19 20 19 19 20 21 19 18 17 21 20 19 18 17\n",
            " 20 17 19 19 20 19 18 21 20 22 20 18 18 17 18 19 20 17 22 17 18 21 20 20\n",
            " 20 19 18 17 19 20 20 18 18 19 19 17 19 18 18 18 18 19 18 20 17 19 23 20\n",
            " 19 18 20 18 19 21 21 18 18 21 20 20 18 19 22 21 20 19 20 21 18 23 19 18\n",
            " 20 18 19 18 19 20 21 18 18 19 20 21 20 18 18 19 19 18 20 19 18 19 18 18\n",
            " 19 17 21 19 17 17 18 20 20 19 19 20 18 20 18 21 19 18 17 18 22 18 19 17\n",
            " 18 19 17 18 20 18 17 19 19 20 18 20 18 21 19 21 20 18 18 17 17 19 21 18\n",
            " 20 18 19 19 17 19 17 20 17 19 18 21 17 18 17 19 18 18 22 22 19 17 18 19\n",
            " 20 20 19 18 18 17 19 18 19 17 18 18 18 22 18 20 21 17 19 19 19 19 20 20\n",
            " 19 19 20 18 17 20 21 19 18 18 22 18 20 19 18 20 19 22 22 18 22 17 17 17\n",
            " 19 17 21 18 19 19 19 20 20 18 19 17 18 17 21 19 18 20 21 18 18 18 18 18\n",
            " 18 19 20 21 19 18 21 21 17 18 17 19 17 18 19 19 19 18 19 21 18 18 19 18\n",
            " 18 21 18 19 17 19 19 18 21 18 19 19 17 19 19 19 21 18 17 18 20 20 21 19\n",
            " 19 19 18 18 18 20 18 17 20 19 19 17 19 18 17 18 19 17 21 19 19 22 21 18\n",
            " 18 21 21 18 19 17 20 19 18 18 21 21 19 18 20 19 21 18 17 21 18 19 19 18\n",
            " 18 19 20 22 18 20 21 17 19 19 19 21 20 18 17 20 18 20 19 19 22 19 17 19\n",
            " 18 20 19 17 20 18 22 18 18 17 17 21 20 20 18 19 19 18 18 18 18 19 19 18\n",
            " 20 21 19 18 21 20 19 19 19 19 19 19 18 20 18 17 18 21 19 17 18 19 20 19\n",
            " 19 19 18 18 17 18 20 18 21 20 18 21 17 17 22 19 20 19 22 18 19 19 19 18\n",
            " 20 19 17 21 19 19 18 19 19 20 17 17 18 17 17 20 20 20 19 19 21 18 19 19\n",
            " 20 21 22 20 19 17 18 19 20 19 19 17 22 17 20 21 19 20 18 20 20 19 21 18\n",
            " 20 18 21 17 18 18 19 17 18 22 20 20 18 20 21 18 18 17 17 20 19 18 19 22\n",
            " 18 20 19 21 17 19 20 19 19 19 18 19 18 20 18 19 21 17 20 18 17 21 18 21\n",
            " 18 22 19 21 18 19 19 19 17 17 17 19 19 19 19 17 18 17 17 19 20 19 19 19\n",
            " 18 21 19 20 17 18 17 19 19 20 22 18 17 19 18 19]\n"
          ]
        }
      ],
      "source": [
        "#Bước 2: hãy tạo tập dữ liệu mẫu sample_2 với kích thước 100 tuân theo phân phối Poisson\n",
        "sample_2 = stats.poisson.rvs(loc = 17, mu = 2, size=1000)\n",
        "print(sample_2)"
      ]
    },
    {
      "cell_type": "markdown",
      "metadata": {
        "id": "PpZd5ebfKe9j"
      },
      "source": [
        "Hãy tham khảo các hướng dẫn sau để kiểm định tính chất thứ 2 bằng phương pháp Shapiro-Wilks đối với sample_1 và sample_2\n",
        "\n",
        "(1) [Tài liệu tham khảo scipy](https://docs.scipy.org/doc/scipy/reference/generated/scipy.stats.shapiro.html)\n",
        "\n",
        "(2) [Hướng dẫn cụ thể của statology](https://www.statology.org/shapiro-wilk-test-python/)"
      ]
    },
    {
      "cell_type": "markdown",
      "source": [
        "Phát biểu giả thiết:\n",
        "\n",
        "      H0: Mẫu tuân theo phân phối chuẩn\n",
        "      Ha: Mẫu không tuân theo phân phối chuẩn"
      ],
      "metadata": {
        "id": "t68D3aptvsqO"
      }
    },
    {
      "cell_type": "code",
      "execution_count": 7,
      "metadata": {
        "id": "3Jek1N-iKe9o",
        "outputId": "787fa79a-ae6f-4727-c16d-70d75233e7f0",
        "colab": {
          "base_uri": "https://localhost:8080/"
        }
      },
      "outputs": [
        {
          "output_type": "stream",
          "name": "stdout",
          "text": [
            "Thử nghiệm Shapiro-Wilk tuân theo phân phối chuẩn\n",
            "Statistic = 0.9852780103683472 \n",
            " p value = 0.33253052830696106\n",
            "không có bằng chứng để bác bỏ giả thiết H0\n",
            "\n",
            "Thử nghiệm Shapiro-Wilk tuân theo phân phối Poisson\n",
            "Statistic = 0.9220533967018127 \n",
            " p value = 2.5591925088947357e-22\n",
            "có bằng chứng để bác bỏ giả thiết H0\n"
          ]
        }
      ],
      "source": [
        "#Code kiểm định tính chất thứ 2 của sample_1 và sample_2\n",
        "# thử nghiệm Shapiro-Wilk để xác định xem một mẫu có đến từ phân phối chuẩn hay không.\n",
        "print(\"Thử nghiệm Shapiro-Wilk tuân theo phân phối chuẩn\")\n",
        "stats1, p1 = stats.shapiro(sample_1) \n",
        "print(\"Statistic =\", stats1, \"\\n\", \"p value =\", p1)\n",
        "if p1 > 0.05:\n",
        "    print(\"không có bằng chứng để bác bỏ giả thiết H0\")\n",
        "else:\n",
        "    print(\"có bằng chứng để bác bỏ giả thiết H0\")\n",
        "\n",
        "print(\"\")\n",
        "\n",
        "print(\"Thử nghiệm Shapiro-Wilk tuân theo phân phối Poisson\")\n",
        "stats2, p2 = stats.shapiro(sample_2)\n",
        "print(\"Statistic =\", stats2, \"\\n\", \"p value =\", p2)\n",
        "if p2 > 0.05:\n",
        "    print(\"không có bằng chứng để bác bỏ giả thiết H0\")\n",
        "else:\n",
        "    print(\"có bằng chứng để bác bỏ giả thiết H0\")"
      ]
    },
    {
      "cell_type": "markdown",
      "metadata": {
        "id": "AM83IdVNKe9u"
      },
      "source": [
        "Hãy tham khảo các hướng dẫn sau để kiểm định tính chất thứ 3 bằng kiểm định Bartlett hoặc kiểm định Levene\n",
        "\n",
        "(1) [Hướng dẫn tổng quát](https://www.marsja.se/levenes-bartletts-test-of-equality-homogeneity-of-variance-in-python/)\n",
        "\n",
        "(2) [Hướng dẫn ở stackoverflow](https://stackoverflow.com/questions/36141254/how-to-test-for-homoscedasticity-having-the-same-population-variance-in-python)\n",
        "\n",
        "(3) Sử dụng bài giảng về kiểm định Bartlett và Levene ở buổi trước"
      ]
    },
    {
      "cell_type": "code",
      "execution_count": null,
      "metadata": {
        "id": "F46m43c_Ke90",
        "outputId": "19f56dcd-7542-4180-8dbd-ac00f1f7eaa8",
        "colab": {
          "base_uri": "https://localhost:8080/",
          "height": 424
        }
      },
      "outputs": [
        {
          "output_type": "execute_result",
          "data": {
            "text/plain": [
              "           major  frus\n",
              "0    Mathematics    50\n",
              "1       Business    48\n",
              "2     Psychology    45\n",
              "3        English    56\n",
              "4     Psychology    45\n",
              "..           ...   ...\n",
              "135   Psychology    56\n",
              "136  Mathematics    53\n",
              "137   Psychology    57\n",
              "138     Business    44\n",
              "139  Mathematics    49\n",
              "\n",
              "[140 rows x 2 columns]"
            ],
            "text/html": [
              "\n",
              "  <div id=\"df-7ac1bc5d-b9aa-4bc8-8e8f-54b6a1d32a83\">\n",
              "    <div class=\"colab-df-container\">\n",
              "      <div>\n",
              "<style scoped>\n",
              "    .dataframe tbody tr th:only-of-type {\n",
              "        vertical-align: middle;\n",
              "    }\n",
              "\n",
              "    .dataframe tbody tr th {\n",
              "        vertical-align: top;\n",
              "    }\n",
              "\n",
              "    .dataframe thead th {\n",
              "        text-align: right;\n",
              "    }\n",
              "</style>\n",
              "<table border=\"1\" class=\"dataframe\">\n",
              "  <thead>\n",
              "    <tr style=\"text-align: right;\">\n",
              "      <th></th>\n",
              "      <th>major</th>\n",
              "      <th>frus</th>\n",
              "    </tr>\n",
              "  </thead>\n",
              "  <tbody>\n",
              "    <tr>\n",
              "      <th>0</th>\n",
              "      <td>Mathematics</td>\n",
              "      <td>50</td>\n",
              "    </tr>\n",
              "    <tr>\n",
              "      <th>1</th>\n",
              "      <td>Business</td>\n",
              "      <td>48</td>\n",
              "    </tr>\n",
              "    <tr>\n",
              "      <th>2</th>\n",
              "      <td>Psychology</td>\n",
              "      <td>45</td>\n",
              "    </tr>\n",
              "    <tr>\n",
              "      <th>3</th>\n",
              "      <td>English</td>\n",
              "      <td>56</td>\n",
              "    </tr>\n",
              "    <tr>\n",
              "      <th>4</th>\n",
              "      <td>Psychology</td>\n",
              "      <td>45</td>\n",
              "    </tr>\n",
              "    <tr>\n",
              "      <th>...</th>\n",
              "      <td>...</td>\n",
              "      <td>...</td>\n",
              "    </tr>\n",
              "    <tr>\n",
              "      <th>135</th>\n",
              "      <td>Psychology</td>\n",
              "      <td>56</td>\n",
              "    </tr>\n",
              "    <tr>\n",
              "      <th>136</th>\n",
              "      <td>Mathematics</td>\n",
              "      <td>53</td>\n",
              "    </tr>\n",
              "    <tr>\n",
              "      <th>137</th>\n",
              "      <td>Psychology</td>\n",
              "      <td>57</td>\n",
              "    </tr>\n",
              "    <tr>\n",
              "      <th>138</th>\n",
              "      <td>Business</td>\n",
              "      <td>44</td>\n",
              "    </tr>\n",
              "    <tr>\n",
              "      <th>139</th>\n",
              "      <td>Mathematics</td>\n",
              "      <td>49</td>\n",
              "    </tr>\n",
              "  </tbody>\n",
              "</table>\n",
              "<p>140 rows × 2 columns</p>\n",
              "</div>\n",
              "      <button class=\"colab-df-convert\" onclick=\"convertToInteractive('df-7ac1bc5d-b9aa-4bc8-8e8f-54b6a1d32a83')\"\n",
              "              title=\"Convert this dataframe to an interactive table.\"\n",
              "              style=\"display:none;\">\n",
              "        \n",
              "  <svg xmlns=\"http://www.w3.org/2000/svg\" height=\"24px\"viewBox=\"0 0 24 24\"\n",
              "       width=\"24px\">\n",
              "    <path d=\"M0 0h24v24H0V0z\" fill=\"none\"/>\n",
              "    <path d=\"M18.56 5.44l.94 2.06.94-2.06 2.06-.94-2.06-.94-.94-2.06-.94 2.06-2.06.94zm-11 1L8.5 8.5l.94-2.06 2.06-.94-2.06-.94L8.5 2.5l-.94 2.06-2.06.94zm10 10l.94 2.06.94-2.06 2.06-.94-2.06-.94-.94-2.06-.94 2.06-2.06.94z\"/><path d=\"M17.41 7.96l-1.37-1.37c-.4-.4-.92-.59-1.43-.59-.52 0-1.04.2-1.43.59L10.3 9.45l-7.72 7.72c-.78.78-.78 2.05 0 2.83L4 21.41c.39.39.9.59 1.41.59.51 0 1.02-.2 1.41-.59l7.78-7.78 2.81-2.81c.8-.78.8-2.07 0-2.86zM5.41 20L4 18.59l7.72-7.72 1.47 1.35L5.41 20z\"/>\n",
              "  </svg>\n",
              "      </button>\n",
              "      \n",
              "  <style>\n",
              "    .colab-df-container {\n",
              "      display:flex;\n",
              "      flex-wrap:wrap;\n",
              "      gap: 12px;\n",
              "    }\n",
              "\n",
              "    .colab-df-convert {\n",
              "      background-color: #E8F0FE;\n",
              "      border: none;\n",
              "      border-radius: 50%;\n",
              "      cursor: pointer;\n",
              "      display: none;\n",
              "      fill: #1967D2;\n",
              "      height: 32px;\n",
              "      padding: 0 0 0 0;\n",
              "      width: 32px;\n",
              "    }\n",
              "\n",
              "    .colab-df-convert:hover {\n",
              "      background-color: #E2EBFA;\n",
              "      box-shadow: 0px 1px 2px rgba(60, 64, 67, 0.3), 0px 1px 3px 1px rgba(60, 64, 67, 0.15);\n",
              "      fill: #174EA6;\n",
              "    }\n",
              "\n",
              "    [theme=dark] .colab-df-convert {\n",
              "      background-color: #3B4455;\n",
              "      fill: #D2E3FC;\n",
              "    }\n",
              "\n",
              "    [theme=dark] .colab-df-convert:hover {\n",
              "      background-color: #434B5C;\n",
              "      box-shadow: 0px 1px 3px 1px rgba(0, 0, 0, 0.15);\n",
              "      filter: drop-shadow(0px 1px 2px rgba(0, 0, 0, 0.3));\n",
              "      fill: #FFFFFF;\n",
              "    }\n",
              "  </style>\n",
              "\n",
              "      <script>\n",
              "        const buttonEl =\n",
              "          document.querySelector('#df-7ac1bc5d-b9aa-4bc8-8e8f-54b6a1d32a83 button.colab-df-convert');\n",
              "        buttonEl.style.display =\n",
              "          google.colab.kernel.accessAllowed ? 'block' : 'none';\n",
              "\n",
              "        async function convertToInteractive(key) {\n",
              "          const element = document.querySelector('#df-7ac1bc5d-b9aa-4bc8-8e8f-54b6a1d32a83');\n",
              "          const dataTable =\n",
              "            await google.colab.kernel.invokeFunction('convertToInteractive',\n",
              "                                                     [key], {});\n",
              "          if (!dataTable) return;\n",
              "\n",
              "          const docLinkHtml = 'Like what you see? Visit the ' +\n",
              "            '<a target=\"_blank\" href=https://colab.research.google.com/notebooks/data_table.ipynb>data table notebook</a>'\n",
              "            + ' to learn more about interactive tables.';\n",
              "          element.innerHTML = '';\n",
              "          dataTable['output_type'] = 'display_data';\n",
              "          await google.colab.output.renderOutput(dataTable, element);\n",
              "          const docLink = document.createElement('div');\n",
              "          docLink.innerHTML = docLinkHtml;\n",
              "          element.appendChild(docLink);\n",
              "        }\n",
              "      </script>\n",
              "    </div>\n",
              "  </div>\n",
              "  "
            ]
          },
          "metadata": {},
          "execution_count": 6
        }
      ],
      "source": [
        "#Code kiểm định tính đồng nhất về phương sai của các nhóm\n",
        "# Ví dụ:\n",
        "np.random.seed(1000)\n",
        "majors = [\"Business\",\"English\",\"Mathematics\",\"Psychology\"]\n",
        "# Tạo mẫu dữ liệu ngẫu nhiên:\n",
        "maj = np.random.choice(a= majors,\n",
        "                              p = [0.25,0.25,0.25,0.25],\n",
        "                              size= 35*4)\n",
        "frus = stats.poisson.rvs(loc=18,\n",
        "                              mu=30,\n",
        "                              size=35*4)\n",
        "\n",
        "# Tạo dataframe:\n",
        "df3 = pd.DataFrame({\"major\":maj,\"frus\":frus})\n",
        "df3"
      ]
    },
    {
      "cell_type": "code",
      "execution_count": null,
      "metadata": {
        "id": "31_kOYL_Ke96"
      },
      "outputs": [],
      "source": [
        ""
      ]
    }
  ],
  "metadata": {
    "kernelspec": {
      "display_name": "Python 3",
      "language": "python",
      "name": "python3"
    },
    "language_info": {
      "codemirror_mode": {
        "name": "ipython",
        "version": 3
      },
      "file_extension": ".py",
      "mimetype": "text/x-python",
      "name": "python",
      "nbconvert_exporter": "python",
      "pygments_lexer": "ipython3",
      "version": "3.7.3"
    },
    "colab": {
      "name": "huong-dan-gia-dinh-ANOVA.ipynb",
      "provenance": [],
      "include_colab_link": true
    }
  },
  "nbformat": 4,
  "nbformat_minor": 0
}