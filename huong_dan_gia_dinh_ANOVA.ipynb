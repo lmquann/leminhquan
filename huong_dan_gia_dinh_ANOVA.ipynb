{
  "cells": [
    {
      "cell_type": "markdown",
      "metadata": {
        "id": "view-in-github",
        "colab_type": "text"
      },
      "source": [
        "<a href=\"https://colab.research.google.com/github/lmquann/leminhquan/blob/main/huong_dan_gia_dinh_ANOVA.ipynb\" target=\"_parent\"><img src=\"https://colab.research.google.com/assets/colab-badge.svg\" alt=\"Open In Colab\"/></a>"
      ]
    },
    {
      "cell_type": "markdown",
      "metadata": {
        "id": "VRAPvjaQKe9H"
      },
      "source": [
        "PHÂN TÍCH ANOVA MỘT CHIỀU\n",
        "\n",
        "Phân tích ANOVA chấp nhận các giả định sau:\n",
        "\n",
        "(1) Tất cả các nhóm đều độc lập với nhau\n",
        "\n",
        "(2) Dữ liệu của mỗi nhóm đều tuân theo phân phối chuẩn. Tính chất này có thể được kiểm định bằng phương pháp Shapiro-Wilks.\n",
        "\n",
        "(3) Phương sai (variance) của các nhóm bằng nhau. Tính chất này có thể được kiểm định bằng phương pháp kiểm định Bartlett hay Levene.\n",
        "\n",
        "Nếu dữ liệu hiện có thỏa mãn các tính chất trên thì chúng ta mới tiến hành kiểm định ANOVA. Do vậy trước khi tiến hành kiểm định ANOVA, chúng ta cần thực hiện kiểm tra tập dữ liệu cần thỏa mãn 3 tính chất trên.\n",
        "    "
      ]
    },
    {
      "cell_type": "code",
      "source": [
        "from scipy import stats \n",
        "import numpy as np\n",
        "import pandas as pd\n",
        "from scipy.stats import bartlett"
      ],
      "metadata": {
        "id": "D1RhcPK1K5fE"
      },
      "execution_count": 1,
      "outputs": []
    },
    {
      "cell_type": "code",
      "execution_count": 2,
      "metadata": {
        "id": "JPvePmsyKe9V",
        "outputId": "e650d77e-a08a-43f2-dd14-23ed938c5a9a",
        "colab": {
          "base_uri": "https://localhost:8080/"
        }
      },
      "outputs": [
        {
          "output_type": "stream",
          "name": "stdout",
          "text": [
            "[12.5659792  16.68082244 15.68592443 15.67237971 15.16500883 12.07113989\n",
            " 13.84062486 14.93429278 14.68161086 14.62788835]\n"
          ]
        }
      ],
      "source": [
        "#Bước 1: Hãy tạo một tập dữ liệu mẫu sample_1 với kích thước 100 tuân theo phân phối chuẩn\n",
        "sample_1 =  stats.norm.rvs(loc = 15, scale = 2, size = 100)\n",
        "print(sample_1[:10])"
      ]
    },
    {
      "cell_type": "code",
      "execution_count": 3,
      "metadata": {
        "id": "CZzgoMgIKe9h",
        "outputId": "65d34242-fa8b-4bcd-f3af-c1d23dce72a0",
        "colab": {
          "base_uri": "https://localhost:8080/"
        }
      },
      "outputs": [
        {
          "output_type": "stream",
          "name": "stdout",
          "text": [
            "[18 20 21 17 19 19 17 21 23 18]\n"
          ]
        }
      ],
      "source": [
        "#Bước 2: hãy tạo tập dữ liệu mẫu sample_2 với kích thước 100 tuân theo phân phối Poisson\n",
        "sample_2 = stats.poisson.rvs(loc = 17, mu = 2, size=1000)\n",
        "print(sample_2[:10])"
      ]
    },
    {
      "cell_type": "markdown",
      "metadata": {
        "id": "PpZd5ebfKe9j"
      },
      "source": [
        "Hãy tham khảo các hướng dẫn sau để kiểm định tính chất thứ 2 bằng phương pháp Shapiro-Wilks đối với sample_1 và sample_2\n",
        "\n",
        "(1) [Tài liệu tham khảo scipy](https://docs.scipy.org/doc/scipy/reference/generated/scipy.stats.shapiro.html)\n",
        "\n",
        "(2) [Hướng dẫn cụ thể của statology](https://www.statology.org/shapiro-wilk-test-python/)"
      ]
    },
    {
      "cell_type": "code",
      "execution_count": 4,
      "metadata": {
        "id": "3Jek1N-iKe9o",
        "outputId": "27e6349c-6811-4a36-eea1-885b89a50ef0",
        "colab": {
          "base_uri": "https://localhost:8080/"
        }
      },
      "outputs": [
        {
          "output_type": "stream",
          "name": "stdout",
          "text": [
            "Thử nghiệm Shapiro-Wilk tuân theo phân phối chuẩn\n",
            "Statistic = 0.9867191314697266 \n",
            " p value = 0.4190162420272827\n",
            "không có bằng chứng để bác bỏ giả thiết H0: mẫu tuân theo phân phối chuẩn\n",
            "-----------------------------------------\n",
            "Thử nghiệm Shapiro-Wilk tuân theo phân phối Poisson\n",
            "Statistic = 0.9179850816726685 \n",
            " p value = 7.435876729993986e-23\n",
            "có bằng chứng để bác bỏ giả thiết H0, điều này ngụ ý chấp nhận giả thiết H1: Mẫu không tuân theo phân phối chuẩn\n"
          ]
        }
      ],
      "source": [
        "#Code kiểm định tính chất thứ 2 của sample_1 và sample_2\n",
        "# thử nghiệm Shapiro-Wilk để xác định xem một mẫu có đến từ phân phối chuẩn hay không.\n",
        "\"\"\" Phát biểu giả thiết:\n",
        "      H0: Mẫu tuân theo phân phối chuẩn\n",
        "      H1: Mẫu không tuân theo phân phối chuẩn\n",
        "\"\"\"\n",
        "\n",
        "print(\"Thử nghiệm Shapiro-Wilk tuân theo phân phối chuẩn\")\n",
        "stats1, p1 = stats.shapiro(sample_1) \n",
        "print(\"Statistic =\", stats1, \"\\n\", \"p value =\", p1)\n",
        "if p1 > 0.05:\n",
        "    print(f'không có bằng chứng để bác bỏ giả thiết H0: mẫu tuân theo phân phối chuẩn')\n",
        "else:\n",
        "    print(f'có bằng chứng để bác bỏ giả thiết H0, điều này ngụ ý chấp nhận giả thiết H1: Mẫu không tuân theo phân phối chuẩn')\n",
        "\n",
        "print(\"-----------------------------------------\")\n",
        "\n",
        "print(\"Thử nghiệm Shapiro-Wilk tuân theo phân phối Poisson\")\n",
        "stats2, p2 = stats.shapiro(sample_2)\n",
        "print(\"Statistic =\", stats2, \"\\n\", \"p value =\", p2)\n",
        "if p2 > 0.05:\n",
        "    print(f'không có bằng chứng để bác bỏ giả thiết H0: mẫu tuân theo phân phối chuẩn')\n",
        "else:\n",
        "    print(f'có bằng chứng để bác bỏ giả thiết H0, điều này ngụ ý chấp nhận giả thiết H1: Mẫu không tuân theo phân phối chuẩn')"
      ]
    },
    {
      "cell_type": "markdown",
      "metadata": {
        "id": "AM83IdVNKe9u"
      },
      "source": [
        "Hãy tham khảo các hướng dẫn sau để kiểm định tính chất thứ 3 bằng kiểm định Bartlett hoặc kiểm định Levene\n",
        "\n",
        "(1) [Hướng dẫn tổng quát](https://www.marsja.se/levenes-bartletts-test-of-equality-homogeneity-of-variance-in-python/)\n",
        "\n",
        "(2) [Hướng dẫn ở stackoverflow](https://stackoverflow.com/questions/36141254/how-to-test-for-homoscedasticity-having-the-same-population-variance-in-python)\n",
        "\n",
        "(3) Sử dụng bài giảng về kiểm định Bartlett và Levene ở buổi trước"
      ]
    },
    {
      "cell_type": "code",
      "execution_count": 5,
      "metadata": {
        "id": "F46m43c_Ke90",
        "outputId": "463d777d-60fa-4354-ac75-6a09edc231a0",
        "colab": {
          "base_uri": "https://localhost:8080/",
          "height": 424
        }
      },
      "outputs": [
        {
          "output_type": "execute_result",
          "data": {
            "text/plain": [
              "           major  frus\n",
              "0    Mathematics    50\n",
              "1       Business    48\n",
              "2     Psychology    45\n",
              "3        English    56\n",
              "4     Psychology    45\n",
              "..           ...   ...\n",
              "135   Psychology    56\n",
              "136  Mathematics    53\n",
              "137   Psychology    57\n",
              "138     Business    44\n",
              "139  Mathematics    49\n",
              "\n",
              "[140 rows x 2 columns]"
            ],
            "text/html": [
              "\n",
              "  <div id=\"df-88bc441f-3f23-4d9e-9d7f-15983fd168e3\">\n",
              "    <div class=\"colab-df-container\">\n",
              "      <div>\n",
              "<style scoped>\n",
              "    .dataframe tbody tr th:only-of-type {\n",
              "        vertical-align: middle;\n",
              "    }\n",
              "\n",
              "    .dataframe tbody tr th {\n",
              "        vertical-align: top;\n",
              "    }\n",
              "\n",
              "    .dataframe thead th {\n",
              "        text-align: right;\n",
              "    }\n",
              "</style>\n",
              "<table border=\"1\" class=\"dataframe\">\n",
              "  <thead>\n",
              "    <tr style=\"text-align: right;\">\n",
              "      <th></th>\n",
              "      <th>major</th>\n",
              "      <th>frus</th>\n",
              "    </tr>\n",
              "  </thead>\n",
              "  <tbody>\n",
              "    <tr>\n",
              "      <th>0</th>\n",
              "      <td>Mathematics</td>\n",
              "      <td>50</td>\n",
              "    </tr>\n",
              "    <tr>\n",
              "      <th>1</th>\n",
              "      <td>Business</td>\n",
              "      <td>48</td>\n",
              "    </tr>\n",
              "    <tr>\n",
              "      <th>2</th>\n",
              "      <td>Psychology</td>\n",
              "      <td>45</td>\n",
              "    </tr>\n",
              "    <tr>\n",
              "      <th>3</th>\n",
              "      <td>English</td>\n",
              "      <td>56</td>\n",
              "    </tr>\n",
              "    <tr>\n",
              "      <th>4</th>\n",
              "      <td>Psychology</td>\n",
              "      <td>45</td>\n",
              "    </tr>\n",
              "    <tr>\n",
              "      <th>...</th>\n",
              "      <td>...</td>\n",
              "      <td>...</td>\n",
              "    </tr>\n",
              "    <tr>\n",
              "      <th>135</th>\n",
              "      <td>Psychology</td>\n",
              "      <td>56</td>\n",
              "    </tr>\n",
              "    <tr>\n",
              "      <th>136</th>\n",
              "      <td>Mathematics</td>\n",
              "      <td>53</td>\n",
              "    </tr>\n",
              "    <tr>\n",
              "      <th>137</th>\n",
              "      <td>Psychology</td>\n",
              "      <td>57</td>\n",
              "    </tr>\n",
              "    <tr>\n",
              "      <th>138</th>\n",
              "      <td>Business</td>\n",
              "      <td>44</td>\n",
              "    </tr>\n",
              "    <tr>\n",
              "      <th>139</th>\n",
              "      <td>Mathematics</td>\n",
              "      <td>49</td>\n",
              "    </tr>\n",
              "  </tbody>\n",
              "</table>\n",
              "<p>140 rows × 2 columns</p>\n",
              "</div>\n",
              "      <button class=\"colab-df-convert\" onclick=\"convertToInteractive('df-88bc441f-3f23-4d9e-9d7f-15983fd168e3')\"\n",
              "              title=\"Convert this dataframe to an interactive table.\"\n",
              "              style=\"display:none;\">\n",
              "        \n",
              "  <svg xmlns=\"http://www.w3.org/2000/svg\" height=\"24px\"viewBox=\"0 0 24 24\"\n",
              "       width=\"24px\">\n",
              "    <path d=\"M0 0h24v24H0V0z\" fill=\"none\"/>\n",
              "    <path d=\"M18.56 5.44l.94 2.06.94-2.06 2.06-.94-2.06-.94-.94-2.06-.94 2.06-2.06.94zm-11 1L8.5 8.5l.94-2.06 2.06-.94-2.06-.94L8.5 2.5l-.94 2.06-2.06.94zm10 10l.94 2.06.94-2.06 2.06-.94-2.06-.94-.94-2.06-.94 2.06-2.06.94z\"/><path d=\"M17.41 7.96l-1.37-1.37c-.4-.4-.92-.59-1.43-.59-.52 0-1.04.2-1.43.59L10.3 9.45l-7.72 7.72c-.78.78-.78 2.05 0 2.83L4 21.41c.39.39.9.59 1.41.59.51 0 1.02-.2 1.41-.59l7.78-7.78 2.81-2.81c.8-.78.8-2.07 0-2.86zM5.41 20L4 18.59l7.72-7.72 1.47 1.35L5.41 20z\"/>\n",
              "  </svg>\n",
              "      </button>\n",
              "      \n",
              "  <style>\n",
              "    .colab-df-container {\n",
              "      display:flex;\n",
              "      flex-wrap:wrap;\n",
              "      gap: 12px;\n",
              "    }\n",
              "\n",
              "    .colab-df-convert {\n",
              "      background-color: #E8F0FE;\n",
              "      border: none;\n",
              "      border-radius: 50%;\n",
              "      cursor: pointer;\n",
              "      display: none;\n",
              "      fill: #1967D2;\n",
              "      height: 32px;\n",
              "      padding: 0 0 0 0;\n",
              "      width: 32px;\n",
              "    }\n",
              "\n",
              "    .colab-df-convert:hover {\n",
              "      background-color: #E2EBFA;\n",
              "      box-shadow: 0px 1px 2px rgba(60, 64, 67, 0.3), 0px 1px 3px 1px rgba(60, 64, 67, 0.15);\n",
              "      fill: #174EA6;\n",
              "    }\n",
              "\n",
              "    [theme=dark] .colab-df-convert {\n",
              "      background-color: #3B4455;\n",
              "      fill: #D2E3FC;\n",
              "    }\n",
              "\n",
              "    [theme=dark] .colab-df-convert:hover {\n",
              "      background-color: #434B5C;\n",
              "      box-shadow: 0px 1px 3px 1px rgba(0, 0, 0, 0.15);\n",
              "      filter: drop-shadow(0px 1px 2px rgba(0, 0, 0, 0.3));\n",
              "      fill: #FFFFFF;\n",
              "    }\n",
              "  </style>\n",
              "\n",
              "      <script>\n",
              "        const buttonEl =\n",
              "          document.querySelector('#df-88bc441f-3f23-4d9e-9d7f-15983fd168e3 button.colab-df-convert');\n",
              "        buttonEl.style.display =\n",
              "          google.colab.kernel.accessAllowed ? 'block' : 'none';\n",
              "\n",
              "        async function convertToInteractive(key) {\n",
              "          const element = document.querySelector('#df-88bc441f-3f23-4d9e-9d7f-15983fd168e3');\n",
              "          const dataTable =\n",
              "            await google.colab.kernel.invokeFunction('convertToInteractive',\n",
              "                                                     [key], {});\n",
              "          if (!dataTable) return;\n",
              "\n",
              "          const docLinkHtml = 'Like what you see? Visit the ' +\n",
              "            '<a target=\"_blank\" href=https://colab.research.google.com/notebooks/data_table.ipynb>data table notebook</a>'\n",
              "            + ' to learn more about interactive tables.';\n",
              "          element.innerHTML = '';\n",
              "          dataTable['output_type'] = 'display_data';\n",
              "          await google.colab.output.renderOutput(dataTable, element);\n",
              "          const docLink = document.createElement('div');\n",
              "          docLink.innerHTML = docLinkHtml;\n",
              "          element.appendChild(docLink);\n",
              "        }\n",
              "      </script>\n",
              "    </div>\n",
              "  </div>\n",
              "  "
            ]
          },
          "metadata": {},
          "execution_count": 5
        }
      ],
      "source": [
        "#Code kiểm định tính đồng nhất về phương sai của các nhóm\n",
        "# Ví dụ:\n",
        "np.random.seed(1000)\n",
        "\n",
        "majors =   [\"Business\",\"English\",\"Mathematics\",\"Psychology\"]\n",
        "\n",
        "# Generate random data\n",
        "maj = np.random.choice(a= majors,\n",
        "                              p = [0.25,0.25,0.25,0.25],\n",
        "                              size= 35*4)\n",
        "\n",
        "frus = stats.poisson.rvs(loc=18,\n",
        "                              mu=30,\n",
        "                              size=35*4)\n",
        "\n",
        "# Group data by major\n",
        "df3 = pd.DataFrame({\"major\":maj,\"frus\":frus})\n",
        "df3"
      ]
    },
    {
      "cell_type": "code",
      "execution_count": null,
      "metadata": {
        "id": "31_kOYL_Ke96"
      },
      "outputs": [],
      "source": [
        ""
      ]
    }
  ],
  "metadata": {
    "kernelspec": {
      "display_name": "Python 3",
      "language": "python",
      "name": "python3"
    },
    "language_info": {
      "codemirror_mode": {
        "name": "ipython",
        "version": 3
      },
      "file_extension": ".py",
      "mimetype": "text/x-python",
      "name": "python",
      "nbconvert_exporter": "python",
      "pygments_lexer": "ipython3",
      "version": "3.7.3"
    },
    "colab": {
      "name": "huong-dan-gia-dinh-ANOVA.ipynb",
      "provenance": [],
      "include_colab_link": true
    }
  },
  "nbformat": 4,
  "nbformat_minor": 0
}