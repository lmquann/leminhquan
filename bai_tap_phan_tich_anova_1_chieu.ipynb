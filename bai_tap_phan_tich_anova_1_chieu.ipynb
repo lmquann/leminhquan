{
  "cells": [
    {
      "cell_type": "markdown",
      "metadata": {
        "id": "view-in-github",
        "colab_type": "text"
      },
      "source": [
        "<a href=\"https://colab.research.google.com/github/lmquann/leminhquan/blob/main/bai_tap_phan_tich_anova_1_chieu.ipynb\" target=\"_parent\"><img src=\"https://colab.research.google.com/assets/colab-badge.svg\" alt=\"Open In Colab\"/></a>"
      ]
    },
    {
      "cell_type": "markdown",
      "metadata": {
        "id": "ZxAkTW3Bw3AW"
      },
      "source": [
        "Hãy sử dụng các tập dữ liệu sau và tiến hành phân tích ANOVA 1 chiều\n",
        "\n",
        "- [Excavation Depth and Archaeology](https://college.cengage.com/mathematics/brase/understandable_statistics/7e/students/datasets/owan/frames/owan01.html)\n",
        "- [Apple Orchard Experiment](https://college.cengage.com/mathematics/brase/understandable_statistics/7e/students/datasets/owan/frames/owan02.html)\n",
        "- [Red Dye Number 40](https://college.cengage.com/mathematics/brase/understandable_statistics/7e/students/datasets/owan/frames/owan03.html)\n",
        "- [Business Startup Costs](https://college.cengage.com/mathematics/brase/understandable_statistics/7e/students/datasets/owan/frames/owan04.html)\n",
        "- [Weights of Football Players](https://college.cengage.com/mathematics/brase/understandable_statistics/7e/students/datasets/owan/frames/owan05.html)"
      ]
    },
    {
      "cell_type": "code",
      "execution_count": null,
      "metadata": {
        "id": "LPsWWgrOw3Ah"
      },
      "outputs": [],
      "source": [
        "#Code here"
      ]
    },
    {
      "cell_type": "code",
      "execution_count": null,
      "metadata": {
        "id": "Pa5Wkg0fw3Al"
      },
      "outputs": [],
      "source": [
        "import numpy as np\n",
        "import pandas as pd\n",
        "import scipy.stats as st"
      ]
    },
    {
      "cell_type": "markdown",
      "source": [
        "**Sử dụng tập dữ liệu Excavation Depth and Archaeology**"
      ],
      "metadata": {
        "id": "O6GKBcf6zP1Z"
      }
    },
    {
      "cell_type": "code",
      "source": [
        "df = pd.read_csv(\"/content/DATA1.csv\")\n",
        "df"
      ],
      "metadata": {
        "id": "uSAQJv36zYNA",
        "outputId": "ce93cb7f-1ee1-4098-be1b-2fa80fca869c",
        "colab": {
          "base_uri": "https://localhost:8080/",
          "height": 520
        }
      },
      "execution_count": null,
      "outputs": [
        {
          "output_type": "execute_result",
          "data": {
            "text/plain": [
              "     X1    X2     X3    X4\n",
              "0    93  85.0  100.0  96.0\n",
              "1   120  45.0   75.0  58.0\n",
              "2    65  80.0   65.0  95.0\n",
              "3   105  28.0   40.0  90.0\n",
              "4   115  75.0   73.0  65.0\n",
              "5    82  70.0   65.0  80.0\n",
              "6    99  65.0   50.0  85.0\n",
              "7    87  55.0   30.0  95.0\n",
              "8   100  50.0   45.0  82.0\n",
              "9    90  40.0   50.0   NaN\n",
              "10   78   NaN   45.0   NaN\n",
              "11   95   NaN   55.0   NaN\n",
              "12   93   NaN    NaN   NaN\n",
              "13   88   NaN    NaN   NaN\n",
              "14  110   NaN    NaN   NaN"
            ],
            "text/html": [
              "\n",
              "  <div id=\"df-de3e540d-14bc-4287-88a1-004a70dd60c9\">\n",
              "    <div class=\"colab-df-container\">\n",
              "      <div>\n",
              "<style scoped>\n",
              "    .dataframe tbody tr th:only-of-type {\n",
              "        vertical-align: middle;\n",
              "    }\n",
              "\n",
              "    .dataframe tbody tr th {\n",
              "        vertical-align: top;\n",
              "    }\n",
              "\n",
              "    .dataframe thead th {\n",
              "        text-align: right;\n",
              "    }\n",
              "</style>\n",
              "<table border=\"1\" class=\"dataframe\">\n",
              "  <thead>\n",
              "    <tr style=\"text-align: right;\">\n",
              "      <th></th>\n",
              "      <th>X1</th>\n",
              "      <th>X2</th>\n",
              "      <th>X3</th>\n",
              "      <th>X4</th>\n",
              "    </tr>\n",
              "  </thead>\n",
              "  <tbody>\n",
              "    <tr>\n",
              "      <th>0</th>\n",
              "      <td>93</td>\n",
              "      <td>85.0</td>\n",
              "      <td>100.0</td>\n",
              "      <td>96.0</td>\n",
              "    </tr>\n",
              "    <tr>\n",
              "      <th>1</th>\n",
              "      <td>120</td>\n",
              "      <td>45.0</td>\n",
              "      <td>75.0</td>\n",
              "      <td>58.0</td>\n",
              "    </tr>\n",
              "    <tr>\n",
              "      <th>2</th>\n",
              "      <td>65</td>\n",
              "      <td>80.0</td>\n",
              "      <td>65.0</td>\n",
              "      <td>95.0</td>\n",
              "    </tr>\n",
              "    <tr>\n",
              "      <th>3</th>\n",
              "      <td>105</td>\n",
              "      <td>28.0</td>\n",
              "      <td>40.0</td>\n",
              "      <td>90.0</td>\n",
              "    </tr>\n",
              "    <tr>\n",
              "      <th>4</th>\n",
              "      <td>115</td>\n",
              "      <td>75.0</td>\n",
              "      <td>73.0</td>\n",
              "      <td>65.0</td>\n",
              "    </tr>\n",
              "    <tr>\n",
              "      <th>5</th>\n",
              "      <td>82</td>\n",
              "      <td>70.0</td>\n",
              "      <td>65.0</td>\n",
              "      <td>80.0</td>\n",
              "    </tr>\n",
              "    <tr>\n",
              "      <th>6</th>\n",
              "      <td>99</td>\n",
              "      <td>65.0</td>\n",
              "      <td>50.0</td>\n",
              "      <td>85.0</td>\n",
              "    </tr>\n",
              "    <tr>\n",
              "      <th>7</th>\n",
              "      <td>87</td>\n",
              "      <td>55.0</td>\n",
              "      <td>30.0</td>\n",
              "      <td>95.0</td>\n",
              "    </tr>\n",
              "    <tr>\n",
              "      <th>8</th>\n",
              "      <td>100</td>\n",
              "      <td>50.0</td>\n",
              "      <td>45.0</td>\n",
              "      <td>82.0</td>\n",
              "    </tr>\n",
              "    <tr>\n",
              "      <th>9</th>\n",
              "      <td>90</td>\n",
              "      <td>40.0</td>\n",
              "      <td>50.0</td>\n",
              "      <td>NaN</td>\n",
              "    </tr>\n",
              "    <tr>\n",
              "      <th>10</th>\n",
              "      <td>78</td>\n",
              "      <td>NaN</td>\n",
              "      <td>45.0</td>\n",
              "      <td>NaN</td>\n",
              "    </tr>\n",
              "    <tr>\n",
              "      <th>11</th>\n",
              "      <td>95</td>\n",
              "      <td>NaN</td>\n",
              "      <td>55.0</td>\n",
              "      <td>NaN</td>\n",
              "    </tr>\n",
              "    <tr>\n",
              "      <th>12</th>\n",
              "      <td>93</td>\n",
              "      <td>NaN</td>\n",
              "      <td>NaN</td>\n",
              "      <td>NaN</td>\n",
              "    </tr>\n",
              "    <tr>\n",
              "      <th>13</th>\n",
              "      <td>88</td>\n",
              "      <td>NaN</td>\n",
              "      <td>NaN</td>\n",
              "      <td>NaN</td>\n",
              "    </tr>\n",
              "    <tr>\n",
              "      <th>14</th>\n",
              "      <td>110</td>\n",
              "      <td>NaN</td>\n",
              "      <td>NaN</td>\n",
              "      <td>NaN</td>\n",
              "    </tr>\n",
              "  </tbody>\n",
              "</table>\n",
              "</div>\n",
              "      <button class=\"colab-df-convert\" onclick=\"convertToInteractive('df-de3e540d-14bc-4287-88a1-004a70dd60c9')\"\n",
              "              title=\"Convert this dataframe to an interactive table.\"\n",
              "              style=\"display:none;\">\n",
              "        \n",
              "  <svg xmlns=\"http://www.w3.org/2000/svg\" height=\"24px\"viewBox=\"0 0 24 24\"\n",
              "       width=\"24px\">\n",
              "    <path d=\"M0 0h24v24H0V0z\" fill=\"none\"/>\n",
              "    <path d=\"M18.56 5.44l.94 2.06.94-2.06 2.06-.94-2.06-.94-.94-2.06-.94 2.06-2.06.94zm-11 1L8.5 8.5l.94-2.06 2.06-.94-2.06-.94L8.5 2.5l-.94 2.06-2.06.94zm10 10l.94 2.06.94-2.06 2.06-.94-2.06-.94-.94-2.06-.94 2.06-2.06.94z\"/><path d=\"M17.41 7.96l-1.37-1.37c-.4-.4-.92-.59-1.43-.59-.52 0-1.04.2-1.43.59L10.3 9.45l-7.72 7.72c-.78.78-.78 2.05 0 2.83L4 21.41c.39.39.9.59 1.41.59.51 0 1.02-.2 1.41-.59l7.78-7.78 2.81-2.81c.8-.78.8-2.07 0-2.86zM5.41 20L4 18.59l7.72-7.72 1.47 1.35L5.41 20z\"/>\n",
              "  </svg>\n",
              "      </button>\n",
              "      \n",
              "  <style>\n",
              "    .colab-df-container {\n",
              "      display:flex;\n",
              "      flex-wrap:wrap;\n",
              "      gap: 12px;\n",
              "    }\n",
              "\n",
              "    .colab-df-convert {\n",
              "      background-color: #E8F0FE;\n",
              "      border: none;\n",
              "      border-radius: 50%;\n",
              "      cursor: pointer;\n",
              "      display: none;\n",
              "      fill: #1967D2;\n",
              "      height: 32px;\n",
              "      padding: 0 0 0 0;\n",
              "      width: 32px;\n",
              "    }\n",
              "\n",
              "    .colab-df-convert:hover {\n",
              "      background-color: #E2EBFA;\n",
              "      box-shadow: 0px 1px 2px rgba(60, 64, 67, 0.3), 0px 1px 3px 1px rgba(60, 64, 67, 0.15);\n",
              "      fill: #174EA6;\n",
              "    }\n",
              "\n",
              "    [theme=dark] .colab-df-convert {\n",
              "      background-color: #3B4455;\n",
              "      fill: #D2E3FC;\n",
              "    }\n",
              "\n",
              "    [theme=dark] .colab-df-convert:hover {\n",
              "      background-color: #434B5C;\n",
              "      box-shadow: 0px 1px 3px 1px rgba(0, 0, 0, 0.15);\n",
              "      filter: drop-shadow(0px 1px 2px rgba(0, 0, 0, 0.3));\n",
              "      fill: #FFFFFF;\n",
              "    }\n",
              "  </style>\n",
              "\n",
              "      <script>\n",
              "        const buttonEl =\n",
              "          document.querySelector('#df-de3e540d-14bc-4287-88a1-004a70dd60c9 button.colab-df-convert');\n",
              "        buttonEl.style.display =\n",
              "          google.colab.kernel.accessAllowed ? 'block' : 'none';\n",
              "\n",
              "        async function convertToInteractive(key) {\n",
              "          const element = document.querySelector('#df-de3e540d-14bc-4287-88a1-004a70dd60c9');\n",
              "          const dataTable =\n",
              "            await google.colab.kernel.invokeFunction('convertToInteractive',\n",
              "                                                     [key], {});\n",
              "          if (!dataTable) return;\n",
              "\n",
              "          const docLinkHtml = 'Like what you see? Visit the ' +\n",
              "            '<a target=\"_blank\" href=https://colab.research.google.com/notebooks/data_table.ipynb>data table notebook</a>'\n",
              "            + ' to learn more about interactive tables.';\n",
              "          element.innerHTML = '';\n",
              "          dataTable['output_type'] = 'display_data';\n",
              "          await google.colab.output.renderOutput(dataTable, element);\n",
              "          const docLink = document.createElement('div');\n",
              "          docLink.innerHTML = docLinkHtml;\n",
              "          element.appendChild(docLink);\n",
              "        }\n",
              "      </script>\n",
              "    </div>\n",
              "  </div>\n",
              "  "
            ]
          },
          "metadata": {},
          "execution_count": 14
        }
      ]
    },
    {
      "cell_type": "code",
      "source": [
        "#Loại bỏ các ngoại lệ: \n",
        "s1 = df['X1'].dropna()\n",
        "s2 = df['X2'].dropna()\n",
        "s3 = df['X3'].dropna()\n",
        "s4 = df['X4'].dropna()"
      ],
      "metadata": {
        "id": "1EtoHyZ71niO"
      },
      "execution_count": null,
      "outputs": []
    },
    {
      "cell_type": "markdown",
      "source": [
        "Kiểm tra phân phối chuẩn của các mẫu với mức ý nghĩa 0.05:\n",
        "\n",
        "\n",
        "Phát biểu giả thiết:\n",
        "\n",
        "+ $H_0$ : Mẫu tuân theo phân phối chuẩn.\n",
        "\n",
        "+ $H_a$ : Mẫu không tuân theo phân phối chuẩn. "
      ],
      "metadata": {
        "id": "eooKSI0X5-E4"
      }
    },
    {
      "cell_type": "code",
      "source": [
        "stats1, p1 = st.shapiro(s1) \n",
        "print(\"Statistic =\", stats1, \"\\n\", \"p value =\", p1)\n",
        "if p1 > 0.05:\n",
        "    print(\"không có bằng chứng để bác bỏ giả thiết H0\")\n",
        "else:\n",
        "    print(\"có bằng chứng để bác bỏ giả thiết H0\")"
      ],
      "metadata": {
        "id": "UYPRKBUJ4_Bc",
        "outputId": "0108a2a0-661f-445c-a07a-efcb7540cb3b",
        "colab": {
          "base_uri": "https://localhost:8080/"
        }
      },
      "execution_count": null,
      "outputs": [
        {
          "output_type": "stream",
          "name": "stdout",
          "text": [
            "Statistic = 0.9865291118621826 \n",
            " p value = 0.9960364103317261\n",
            "không có bằng chứng để bác bỏ giả thiết H0\n"
          ]
        }
      ]
    },
    {
      "cell_type": "code",
      "source": [
        "stats1, p1 = st.shapiro(s2) \n",
        "print(\"Statistic =\", stats1, \"\\n\", \"p value =\", p1)\n",
        "if p1 > 0.05:\n",
        "    print(\"không có bằng chứng để bác bỏ giả thiết H0\")\n",
        "else:\n",
        "    print(\"có bằng chứng để bác bỏ giả thiết H0\")"
      ],
      "metadata": {
        "id": "5yLKzv6o-2Vt",
        "outputId": "31bc886e-5cf1-45c2-a0dd-a4336a9303a7",
        "colab": {
          "base_uri": "https://localhost:8080/"
        }
      },
      "execution_count": null,
      "outputs": [
        {
          "output_type": "stream",
          "name": "stdout",
          "text": [
            "Statistic = 0.967294454574585 \n",
            " p value = 0.864689826965332\n",
            "không có bằng chứng để bác bỏ giả thiết H0\n"
          ]
        }
      ]
    },
    {
      "cell_type": "code",
      "source": [
        "stats1, p1 = st.shapiro(s3) \n",
        "print(\"Statistic =\", stats1, \"\\n\", \"p value =\", p1)\n",
        "if p1 > 0.05:\n",
        "    print(\"không có bằng chứng để bác bỏ giả thiết H0\")\n",
        "else:\n",
        "    print(\"có bằng chứng để bác bỏ giả thiết H0\")"
      ],
      "metadata": {
        "id": "2AiRoNY2_Sf9",
        "outputId": "1bd25763-aaf4-4ba5-a1f2-6d9a43d6ff98",
        "colab": {
          "base_uri": "https://localhost:8080/"
        }
      },
      "execution_count": null,
      "outputs": [
        {
          "output_type": "stream",
          "name": "stdout",
          "text": [
            "Statistic = 0.9475650787353516 \n",
            " p value = 0.601704478263855\n",
            "không có bằng chứng để bác bỏ giả thiết H0\n"
          ]
        }
      ]
    },
    {
      "cell_type": "code",
      "source": [
        "stats1, p1 = st.shapiro(s4) \n",
        "print(\"Statistic =\", stats1, \"\\n\", \"p value =\", p1)\n",
        "if p1 > 0.05:\n",
        "    print(\"không có bằng chứng để bác bỏ giả thiết H0\")\n",
        "else:\n",
        "    print(\"có bằng chứng để bác bỏ giả thiết H0\")"
      ],
      "metadata": {
        "id": "OpJEz_BV_WzK",
        "outputId": "e0aafa38-bda6-48d3-eefa-624d1d989f01",
        "colab": {
          "base_uri": "https://localhost:8080/"
        }
      },
      "execution_count": null,
      "outputs": [
        {
          "output_type": "stream",
          "name": "stdout",
          "text": [
            "Statistic = 0.8740402460098267 \n",
            " p value = 0.13579683005809784\n",
            "không có bằng chứng để bác bỏ giả thiết H0\n"
          ]
        }
      ]
    },
    {
      "cell_type": "markdown",
      "source": [
        "Kiểm tra sự đồng nhất phương sai giữa các nhóm: \n",
        "\n",
        "Với mức ý nghĩa 0.05: \n",
        "\n",
        "Phát biểu giả thuyết: \n",
        "\n",
        "+ $H_0$: Mẫu có cùng phương sai. \n",
        "  \n",
        "  $\\sigma_{1}^2$ = $\\sigma_2^2$ = $\\sigma_3^2$ = $\\sigma_4^2$\n",
        "\n",
        "+ $H_a$: Có sự khác biệt về phương sai của mẫu. \n",
        "\n",
        "\n"
      ],
      "metadata": {
        "id": "ztMndXgT_dPa"
      }
    },
    {
      "cell_type": "code",
      "source": [
        "stats, p = st.levene(s1, s2, s3, s4) \n",
        "print(\"Statistic =\", stats, \"\\n\", \"p value =\", p)\n",
        "if p > 0.05:\n",
        "  print(\"không có bằng chứng để bác bỏ giả thiết H0\")\n",
        "else:\n",
        "  print(\"có bằng chứng để bác bỏ giả thiết H0\")"
      ],
      "metadata": {
        "id": "Ctv-3TElAVWf",
        "outputId": "6ebe599e-0739-40af-bb01-9962526953a3",
        "colab": {
          "base_uri": "https://localhost:8080/"
        }
      },
      "execution_count": null,
      "outputs": [
        {
          "output_type": "stream",
          "name": "stdout",
          "text": [
            "Statistic = 0.7977710039415561 \n",
            " p value = 0.5020818274234007\n",
            "không có bằng chứng để bác bỏ giả thiết H0\n"
          ]
        }
      ]
    },
    {
      "cell_type": "markdown",
      "source": [
        "Vì các mẫu đều tuân theo phân phối chuẩn và phương sai các mẫu đều bằng nhau nên ta tiến hành kiểm định ANOVA một chiều"
      ],
      "metadata": {
        "id": "iDC7NiA5BRmU"
      }
    },
    {
      "cell_type": "markdown",
      "source": [
        "Kiểm định ANOVA một chiều với mức ý nghĩa 0.05:\n",
        "\n",
        "Phát biểu giả thuyết:\n",
        "\n",
        "+ $H_0$: Mẫu có giá trị trung bình bằng nhau. \n",
        "  \n",
        "  $\\overline{\\rm x}_1$ = $\\overline{\\rm x}_2$ = $\\overline{\\rm x}_3$ = $\\overline{\\rm x}_4$\n",
        "\n",
        "+ $H_a$: Có sự khác biệt về giá trị trung bình của mẫu.\n"
      ],
      "metadata": {
        "id": "gf6bKZ4RBUyM"
      }
    },
    {
      "cell_type": "code",
      "source": [
        "stats, p = st.f_oneway(s1, s2, s3, s4) \n",
        "print(\"Statistic =\", stats, \"\\n\", \"p value =\", p)\n",
        "if p > 0.05:\n",
        "  print(\"không có bằng chứng để bác bỏ giả thiết H0\")\n",
        "else:\n",
        "  print(\"có bằng chứng để bác bỏ giả thiết H0\")"
      ],
      "metadata": {
        "id": "sUc1d6_yCvOD",
        "outputId": "00686eed-a30a-4c07-a30c-45e576a1436a",
        "colab": {
          "base_uri": "https://localhost:8080/"
        }
      },
      "execution_count": null,
      "outputs": [
        {
          "output_type": "stream",
          "name": "stdout",
          "text": [
            "Statistic = 15.139053436390862 \n",
            " p value = 7.99057539367343e-07\n",
            "có bằng chứng để bác bỏ giả thiết H0\n"
          ]
        }
      ]
    },
    {
      "cell_type": "markdown",
      "source": [
        "**Kết luận:** Tồn tại sự khác biệt về giá trị trung bình về độ sâu của các địa điểm khảo cổ.Dẫn đến quyết định về sự chuẩn bị cho vật tư khai quật các nơi này sẽ khác nhau."
      ],
      "metadata": {
        "id": "sbgPh0vHTfa8"
      }
    }
  ],
  "metadata": {
    "kernelspec": {
      "display_name": "Python 3",
      "language": "python",
      "name": "python3"
    },
    "language_info": {
      "codemirror_mode": {
        "name": "ipython",
        "version": 3
      },
      "file_extension": ".py",
      "mimetype": "text/x-python",
      "name": "python",
      "nbconvert_exporter": "python",
      "pygments_lexer": "ipython3",
      "version": "3.7.3"
    },
    "colab": {
      "name": "bai-tap-phan-tich-anova-1-chieu.ipynb",
      "provenance": [],
      "include_colab_link": true
    }
  },
  "nbformat": 4,
  "nbformat_minor": 0
}