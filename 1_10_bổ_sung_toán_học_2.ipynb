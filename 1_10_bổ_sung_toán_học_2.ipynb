{
  "nbformat": 4,
  "nbformat_minor": 0,
  "metadata": {
    "colab": {
      "provenance": [],
      "authorship_tag": "ABX9TyMaIJGOCByIcqFKhwwsmwYx",
      "include_colab_link": true
    },
    "kernelspec": {
      "name": "python3",
      "display_name": "Python 3"
    },
    "language_info": {
      "name": "python"
    }
  },
  "cells": [
    {
      "cell_type": "markdown",
      "metadata": {
        "id": "view-in-github",
        "colab_type": "text"
      },
      "source": [
        "<a href=\"https://colab.research.google.com/github/lmquann/leminhquan/blob/main/1_10_b%E1%BB%95_sung_to%C3%A1n_h%E1%BB%8Dc_2.ipynb\" target=\"_parent\"><img src=\"https://colab.research.google.com/assets/colab-badge.svg\" alt=\"Open In Colab\"/></a>"
      ]
    },
    {
      "cell_type": "code",
      "execution_count": 6,
      "metadata": {
        "id": "iuVDPLhSFwkV"
      },
      "outputs": [],
      "source": [
        "import numpy as np"
      ]
    },
    {
      "cell_type": "code",
      "source": [
        "#Tao ma tran X (5, 3)\n",
        "X = np.array([[1, 2, 3, 4, 5],\n",
        "              [6, 7, 8, 9, 2],\n",
        "              [4, 5, 7, 2, 1]])\n",
        "X = np.reshape(X, (5, 3))\n",
        "print('dimension: ', X.ndim)\n",
        "print('X shape: ', X.shape)\n",
        "print(X)"
      ],
      "metadata": {
        "colab": {
          "base_uri": "https://localhost:8080/"
        },
        "id": "_xZFkY0-GBsT",
        "outputId": "afc7b8a6-b19b-4635-a06b-4f3b1cc799a3"
      },
      "execution_count": 2,
      "outputs": [
        {
          "output_type": "stream",
          "name": "stdout",
          "text": [
            "dimension:  2\n",
            "X shape:  (5, 3)\n",
            "[[1 2 3]\n",
            " [4 5 6]\n",
            " [7 8 9]\n",
            " [2 4 5]\n",
            " [7 2 1]]\n"
          ]
        }
      ]
    },
    {
      "cell_type": "code",
      "source": [
        "#Tạo vector trọng số w (3, 1)\n",
        "w = np.reshape([2, 4, 2], (3, 1))\n",
        "print('dimension: ', w.ndim)\n",
        "print('w shape: ', w.shape)\n",
        "print(w)"
      ],
      "metadata": {
        "colab": {
          "base_uri": "https://localhost:8080/"
        },
        "id": "XGbQndYEGO07",
        "outputId": "8cb3f095-b9c0-44e1-f8e7-bad7bffeff79"
      },
      "execution_count": 3,
      "outputs": [
        {
          "output_type": "stream",
          "name": "stdout",
          "text": [
            "dimension:  2\n",
            "w shape:  (3, 1)\n",
            "[[2]\n",
            " [4]\n",
            " [2]]\n"
          ]
        }
      ]
    },
    {
      "cell_type": "code",
      "source": [
        "#Tao vector y (5, 1)\n",
        "y= np.reshape([1,2, 3, 2, 1], (5, 1))\n",
        "\n",
        "#Hãy tính gia thuyet h = X.w\n",
        "h = np.dot(X, w)\n",
        "print('dimension: ', h.ndim)\n",
        "print(h.shape)\n",
        "print(h)"
      ],
      "metadata": {
        "colab": {
          "base_uri": "https://localhost:8080/"
        },
        "id": "NiA-Nx45G7Bw",
        "outputId": "91420604-4573-43ea-d8c0-62c20e13e459"
      },
      "execution_count": 4,
      "outputs": [
        {
          "output_type": "stream",
          "name": "stdout",
          "text": [
            "dimension:  2\n",
            "(5, 1)\n",
            "[[16]\n",
            " [40]\n",
            " [64]\n",
            " [30]\n",
            " [24]]\n"
          ]
        }
      ]
    },
    {
      "cell_type": "code",
      "source": [
        "#Hãy tính hiệu h - y\n",
        "hieu = h - y\n",
        "print('dimension: ', hieu.ndim)\n",
        "print(hieu.shape)\n",
        "print(hieu)"
      ],
      "metadata": {
        "colab": {
          "base_uri": "https://localhost:8080/"
        },
        "id": "pzl9HSxqHOOG",
        "outputId": "c6f3ea8a-88f9-49d9-a5d2-f3e445393a06"
      },
      "execution_count": 5,
      "outputs": [
        {
          "output_type": "stream",
          "name": "stdout",
          "text": [
            "dimension:  2\n",
            "(5, 1)\n",
            "[[15]\n",
            " [38]\n",
            " [61]\n",
            " [28]\n",
            " [23]]\n"
          ]
        }
      ]
    },
    {
      "cell_type": "code",
      "source": [
        "#hãy tính (h-y).X --> (5x1).(5x3) --> (3x5).(5x1) = XT.(h- y)\n",
        "h2 = np.dot(X.T, hieu)\n",
        "print('dimension: ', h2.ndim)\n",
        "print(h2.shape)\n",
        "print(h2)"
      ],
      "metadata": {
        "colab": {
          "base_uri": "https://localhost:8080/"
        },
        "id": "f4TDJvh3Hids",
        "outputId": "711ea2cd-c027-4fc5-bfe4-ebab0ab246d1"
      },
      "execution_count": 7,
      "outputs": [
        {
          "output_type": "stream",
          "name": "stdout",
          "text": [
            "dimension:  2\n",
            "(3, 1)\n",
            "[[811]\n",
            " [866]\n",
            " [985]]\n"
          ]
        }
      ]
    }
  ]
}