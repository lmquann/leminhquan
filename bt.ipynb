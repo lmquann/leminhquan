{
  "nbformat": 4,
  "nbformat_minor": 0,
  "metadata": {
    "colab": {
      "name": "bt.ipynb",
      "provenance": [],
      "authorship_tag": "ABX9TyN1cmlPQCGmU3+BQEbf/q/s",
      "include_colab_link": true
    },
    "kernelspec": {
      "name": "python3",
      "display_name": "Python 3"
    },
    "language_info": {
      "name": "python"
    }
  },
  "cells": [
    {
      "cell_type": "markdown",
      "metadata": {
        "id": "view-in-github",
        "colab_type": "text"
      },
      "source": [
        "<a href=\"https://colab.research.google.com/github/lmquann/leminhquan/blob/main/bt.ipynb\" target=\"_parent\"><img src=\"https://colab.research.google.com/assets/colab-badge.svg\" alt=\"Open In Colab\"/></a>"
      ]
    },
    {
      "cell_type": "markdown",
      "metadata": {
        "id": "mj8Mgebufhi8"
      },
      "source": [
        "bai3 Write a Python program that takes a year from user and print whether that year is a leap year or\n",
        "not"
      ]
    },
    {
      "cell_type": "code",
      "metadata": {
        "colab": {
          "base_uri": "https://localhost:8080/"
        },
        "id": "wxCQMpVCe__c",
        "outputId": "929ae15d-0767-444c-b84f-e53b9caf7cb1"
      },
      "source": [
        "#3\n",
        "n = int(input(\"nhap nam: \"))\n",
        "if (n % 4 == 0):\n",
        "  print(\" leap year \")\n",
        "else: \n",
        "  print(\" not a leap year\")"
      ],
      "execution_count": 1,
      "outputs": [
        {
          "output_type": "stream",
          "name": "stdout",
          "text": [
            "nhap nam: 2018\n",
            " not a leap year\n"
          ]
        }
      ]
    },
    {
      "cell_type": "markdown",
      "metadata": {
        "id": "WZYswtdnfop-"
      },
      "source": [
        "4. Write a program in Python to input 5 numbers from keyboard and find their sum and average."
      ]
    },
    {
      "cell_type": "code",
      "metadata": {
        "colab": {
          "base_uri": "https://localhost:8080/"
        },
        "id": "dbA0IgIyfnfd",
        "outputId": "9ea2538c-be0a-4c7a-c35a-804fa543cfa1"
      },
      "source": [
        "#4\n",
        "a = int(input(\" so1 \"))\n",
        "b = int(input(\" so2 \"))\n",
        "c = int(input(\" so3 \"))\n",
        "d = int(input(\" so4 \"))\n",
        "e = int(input(\" so5 \"))\n",
        "s = a+b+c+d+e\n",
        "avr = s/5\n",
        "print(\" tong la: \", s)\n",
        "print(\" average \", avr)"
      ],
      "execution_count": 2,
      "outputs": [
        {
          "output_type": "stream",
          "name": "stdout",
          "text": [
            " so1 2\n",
            " so2 3\n",
            " so3 2\n",
            " so4 1\n",
            " so5 2\n",
            " tong la:  10\n",
            " average  2.0\n"
          ]
        }
      ]
    },
    {
      "cell_type": "markdown",
      "metadata": {
        "id": "dFt-g6AtgUvE"
      },
      "source": [
        "1. Write a Python program to find the number of days in a month."
      ]
    },
    {
      "cell_type": "code",
      "metadata": {
        "colab": {
          "base_uri": "https://localhost:8080/"
        },
        "id": "pFUMCSEQgTeZ",
        "outputId": "499af0e5-d6a7-4eba-f71b-06332f0b5348"
      },
      "source": [
        "t = int(input(\" type month \"))\n",
        "n = int(input(\" type year \"))\n",
        "if (n % 4 ==0) and (t == 2):\n",
        "  print(\"This month has 29 days\")\n",
        "elif (t == 2):\n",
        "  print(\"This month has 28 days\")\n",
        "elif (t == 1) or (t == 3) or (t == 5) or (t == 7) or (t == 8) or (t == 10) or (t == 12): \n",
        "  print(\"this month has 31 days\")\n",
        "elif (t == 4) or (t == 6) or (t == 9) or (t == 11): \n",
        "  print(\"this month has 30 days\")\n",
        "else: \n",
        "  print(\" not available \")\n",
        "\n",
        "\n"
      ],
      "execution_count": 3,
      "outputs": [
        {
          "output_type": "stream",
          "name": "stdout",
          "text": [
            " type month 3\n",
            " type year 2016\n",
            "this month has 31 days\n"
          ]
        }
      ]
    },
    {
      "cell_type": "markdown",
      "metadata": {
        "id": "35a6ZYEikZJp"
      },
      "source": [
        "2. Write a Python program that takes the user to provide a single character from the alphabet. Print\n",
        "Vowel or Consonant, depending on the user input. If the user input is not a letter (between a and z\n",
        "or A and Z), or is a string of length > 1, print an error message."
      ]
    },
    {
      "cell_type": "code",
      "metadata": {
        "colab": {
          "base_uri": "https://localhost:8080/"
        },
        "id": "QmIiQ0ScjIBA",
        "outputId": "fb265456-4307-4384-ffb6-83ab45006198"
      },
      "source": [
        "n = input(\" hay nhap: \")\n",
        "if len(n)>1:\n",
        "  print(\"ERROR\")\n",
        "elif (n == \"u\") or (n == \"e\") or (n == \"o\") or (n == \"a\") or (n == \"i\"):\n",
        "  print(\"Vowel\")\n",
        "else: \n",
        "  print(\"Consonant\")"
      ],
      "execution_count": 4,
      "outputs": [
        {
          "output_type": "stream",
          "name": "stdout",
          "text": [
            " hay nhap: g\n",
            "Consonant\n"
          ]
        }
      ]
    }
  ]
}