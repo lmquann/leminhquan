{
  "nbformat": 4,
  "nbformat_minor": 0,
  "metadata": {
    "colab": {
      "name": "baitaplaptrinh04.ipynb",
      "provenance": [],
      "authorship_tag": "ABX9TyMW1ej9lvxqvIQ1G/xIST3r",
      "include_colab_link": true
    },
    "kernelspec": {
      "name": "python3",
      "display_name": "Python 3"
    },
    "language_info": {
      "name": "python"
    }
  },
  "cells": [
    {
      "cell_type": "markdown",
      "metadata": {
        "id": "view-in-github",
        "colab_type": "text"
      },
      "source": [
        "<a href=\"https://colab.research.google.com/github/lmquann/leminhquan/blob/main/baitaplaptrinh04.ipynb\" target=\"_parent\"><img src=\"https://colab.research.google.com/assets/colab-badge.svg\" alt=\"Open In Colab\"/></a>"
      ]
    },
    {
      "cell_type": "markdown",
      "metadata": {
        "id": "Ddi49IA3scSX"
      },
      "source": [
        "- Xây dựng 3 lớp Person, Student và Professor như bảng thiết kế ở trên\n",
        "- Nhập dữ liệu từ bàn phím cho danh sách 10 Person\n",
        "- Nhập dữ liệu (có thể tạo trong chương trình hoặc từ bàn phím) cho danh sách 10 Student\n",
        "- Nhập dữ liệu cho danh sách 10 Professor\n",
        "- In kết quả 3 danh sách trên ra màn hình\n",
        "- Sắp xếp danh sách Person giảm dần theo Name; sắp xếp danh sách Student giảm dần theo\n",
        "Average Mark; và sắp xếp danh sách Professor tăng dần theo Salary\n",
        "- Lưu tuần tự 3 danh sách này vào 3 tập tin khác nhau (sử dụng pickle)\n",
        "- Đọc các tập tin này và in kết quả ra màn hình."
      ]
    },
    {
      "cell_type": "code",
      "metadata": {
        "id": "EzCbYATQsYo4"
      },
      "source": [
        "class Person():\n",
        "  def __init__(self):\n",
        "    self.Name:str = \"\"\n",
        "    self.PhoneNumber:str = \"\"\n",
        "    self.Email:str = \"\"\n",
        "  def inputName(self, Name):\n",
        "    self.Name = Name\n",
        "  def inputPhoneNumber(self, PhoneNumber): \n",
        "    self.PhoneNumber = PhoneNumber\n",
        "  def inputEmail(self, Email):\n",
        "    self.Email = Email\n",
        "class Student(Person):\n",
        "  def __init__(self):\n",
        "    super().__init__()\n",
        "    self.StudentNumber:str = \"\"\n",
        "    self.AverageMark:float = 0.0\n",
        "  def inputStudentNumber(self, StudentNumber):\n",
        "    self.StudentNumber = StudentNumber\n",
        "  def inputAverageMark(self, AverageMark):\n",
        "    self.AverageMark = AverageMark\n",
        "class Professor(Person):\n",
        "  def __init__(self):\n",
        "    super().__init__()\n",
        "    self.Salary:float = 0.0\n",
        "  def inputSalary(self, Salary):\n",
        "    self.Salary = Salary"
      ],
      "execution_count": 1,
      "outputs": []
    },
    {
      "cell_type": "code",
      "metadata": {
        "colab": {
          "base_uri": "https://localhost:8080/",
          "height": 231
        },
        "id": "rjlK7MXDuWwK",
        "outputId": "58fbc310-4b83-461f-8346-fa7f177deb15"
      },
      "source": [
        "import pickle\n",
        "PerList = []\n",
        "StuList = []\n",
        "ProList = []\n",
        "tempPerson = Person()\n",
        "tempStudent = Student()\n",
        "tempProfessor = Professor()\n",
        "tempPerson.__init__()\n",
        "tempStudent.__init__()\n",
        "tempProfessor.__init__()\n",
        "f = open(\"ftest.csv\",\"r\")\n",
        "for i in range(0,10):\n",
        "  line = f.readline().split(\",\")\n",
        "  tempPerson.inputName(line[0])\n",
        "  tempPerson.inputEmail(line[1])\n",
        "  tempPerson.inputPhoneNumber(line[2])\n",
        "  print(tempPerson.Name)\n",
        "  PerList.append(tempPerson)\n",
        "  tempPerson.__init__()\n",
        "for i in range(0,10):\n",
        "  line = f.readline().split(\",\")\n",
        "  tempStudent.inputName(line[0])\n",
        "  tempStudent.inputEmail(line[1])\n",
        "  tempStudent.inputPhoneNumber(line[2])\n",
        "  tempStudent.inputAverageMark(line[3])\n",
        "  tempStudent.inputStudentNumber(line[4])\n",
        "  StuList.append(tempStudent)\n",
        "  tempStudent.__init__()\n",
        "for i in range(0,10):\n",
        "  line = f.readline().split(\",\")\n",
        "  tempProfessor.inputName(line[0])\n",
        "  tempProfessor.inputEmail(line[1])\n",
        "  tempProfessor.inputPhoneNumber(line[2])\n",
        "  tempProfessor.inputSalary(line[3])\n",
        "  ProList.append(tempProfessor)\n",
        "  tempProfessor.__init__()\n",
        "f.close()\n",
        "for i in range(0,10):\n",
        "  for j in range(0,i):\n",
        "    aName = PerList[i].Name\n",
        "    bName = PerList[j].Name\n",
        "    if aName < bName:\n",
        "      PerList[i],PerList[j] = PerList[j],PerList[i]\n",
        "for i in range(0,10):\n",
        "  for j in range(0,i):\n",
        "    aMark = StuList[i].AvgMark\n",
        "    bMark = StuList[j].AvgMark\n",
        "    if aMark < bMark:\n",
        "      StuList[i],StuList[j] = StuList[j],StuList[i]\n",
        "for i in range(0,10):\n",
        "  for j in range(0,i):\n",
        "    aSalary = ProList[i].Salary\n",
        "    bSalary = ProList[j].Salary\n",
        "    if aSalary > bSalary:\n",
        "      ProList[i],ProList[j] = ProList[j],ProList[i]\n",
        "fPerson = open(\"Person.pickle\",\"wb\")\n",
        "pickle.dump(PersonList,fPerson)\n",
        "fPerson.close()\n",
        "fStudent = open(\"Student.pickle\",\"wb\")\n",
        "pickle.dump(StudentList,fStudent)\n",
        "fStudent.close()\n",
        "fProfessor = open(\"Professor.pickle\",\"wb\")\n",
        "pickle.dump(ProfessorList,fProfessor)\n",
        "fProfessor.close()"
      ],
      "execution_count": 6,
      "outputs": [
        {
          "output_type": "error",
          "ename": "FileNotFoundError",
          "evalue": "ignored",
          "traceback": [
            "\u001b[0;31m---------------------------------------------------------------------------\u001b[0m",
            "\u001b[0;31mFileNotFoundError\u001b[0m                         Traceback (most recent call last)",
            "\u001b[0;32m<ipython-input-6-720cb979e5e3>\u001b[0m in \u001b[0;36m<module>\u001b[0;34m()\u001b[0m\n\u001b[1;32m      9\u001b[0m \u001b[0mtempStudent\u001b[0m\u001b[0;34m.\u001b[0m\u001b[0m__init__\u001b[0m\u001b[0;34m(\u001b[0m\u001b[0;34m)\u001b[0m\u001b[0;34m\u001b[0m\u001b[0;34m\u001b[0m\u001b[0m\n\u001b[1;32m     10\u001b[0m \u001b[0mtempProfessor\u001b[0m\u001b[0;34m.\u001b[0m\u001b[0m__init__\u001b[0m\u001b[0;34m(\u001b[0m\u001b[0;34m)\u001b[0m\u001b[0;34m\u001b[0m\u001b[0;34m\u001b[0m\u001b[0m\n\u001b[0;32m---> 11\u001b[0;31m \u001b[0mf\u001b[0m \u001b[0;34m=\u001b[0m \u001b[0mopen\u001b[0m\u001b[0;34m(\u001b[0m\u001b[0;34m\"ftest.csv.xlsx\"\u001b[0m\u001b[0;34m,\u001b[0m\u001b[0;34m\"r\"\u001b[0m\u001b[0;34m)\u001b[0m\u001b[0;34m\u001b[0m\u001b[0;34m\u001b[0m\u001b[0m\n\u001b[0m\u001b[1;32m     12\u001b[0m \u001b[0;32mfor\u001b[0m \u001b[0mi\u001b[0m \u001b[0;32min\u001b[0m \u001b[0mrange\u001b[0m\u001b[0;34m(\u001b[0m\u001b[0;36m0\u001b[0m\u001b[0;34m,\u001b[0m\u001b[0;36m10\u001b[0m\u001b[0;34m)\u001b[0m\u001b[0;34m:\u001b[0m\u001b[0;34m\u001b[0m\u001b[0;34m\u001b[0m\u001b[0m\n\u001b[1;32m     13\u001b[0m   \u001b[0mline\u001b[0m \u001b[0;34m=\u001b[0m \u001b[0mf\u001b[0m\u001b[0;34m.\u001b[0m\u001b[0mreadline\u001b[0m\u001b[0;34m(\u001b[0m\u001b[0;34m)\u001b[0m\u001b[0;34m.\u001b[0m\u001b[0msplit\u001b[0m\u001b[0;34m(\u001b[0m\u001b[0;34m\",\"\u001b[0m\u001b[0;34m)\u001b[0m\u001b[0;34m\u001b[0m\u001b[0;34m\u001b[0m\u001b[0m\n",
            "\u001b[0;31mFileNotFoundError\u001b[0m: [Errno 2] No such file or directory: 'ftest.csv.xlsx'"
          ]
        }
      ]
    },
    {
      "cell_type": "code",
      "metadata": {
        "id": "EfdCR77Ox7Oo"
      },
      "source": [
        "PerList = []\n",
        "StuList = []\n",
        "ProList = []\n",
        "fPerson = open(\"Person.pickle\",\"rb\")\n",
        "PerList = pickle.load(fPerson)\n",
        "fPerson.close()\n",
        "fStudent = open(\"Student.pickle\",\"rb\")\n",
        "StuList = pickle.load(fStudent)\n",
        "fStudent.close()\n",
        "fProfessor = open(\"Professor.pickle\",\"rb\")\n",
        "ProList = pickle.load(fProfessor)\n",
        "fProfessor.close()\n",
        "print(\"Danh sách người:\")\n",
        "for i in range(0,10):\n",
        "  print(\"Tên: \"+PerList[i].Name)\n",
        "  print(\"SĐT: \"+PerList[i].PhoneNumber)\n",
        "  print(\"Email: \"+PerList[i].Email)\n",
        "  print(\"_____\")\n",
        "print(\"Danh sách sinh viên:\")\n",
        "for i in range(0,10):\n",
        "  print(\"Mã số SV: \"+StuList[i].StudentNumber)\n",
        "  print(\"Tên: \"+StuList[i].Name)\n",
        "  print(\"SĐT: \"+StuList[i].PhoneNumber)\n",
        "  print(\"Email: \"+StuList[i].Email)\n",
        "  print(\"Điểm trung bình: \",StuList[i].AverageMark)\n",
        "  print(\"_____\")\n",
        "print(\"Danh sách giảng viên:\")\n",
        "for i in range(0,10):\n",
        "  print(\"Tên: \"+ProList[i].Name)\n",
        "  print(\"SĐT: \"+ProList[i].PhoneNumber)\n",
        "  print(\"Email: \"+ProList[i].Email)\n",
        "  print(\"Mức lương: \",ProList[i].Salary)\n",
        "  print(\"_____\")"
      ],
      "execution_count": null,
      "outputs": []
    }
  ]
}