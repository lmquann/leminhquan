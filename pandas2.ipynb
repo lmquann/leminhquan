{
  "nbformat": 4,
  "nbformat_minor": 0,
  "metadata": {
    "colab": {
      "name": "pandas2.ipynb",
      "provenance": [],
      "collapsed_sections": [],
      "authorship_tag": "ABX9TyOqDx2fzwj53SEhHeG3/jzC",
      "include_colab_link": true
    },
    "kernelspec": {
      "name": "python3",
      "display_name": "Python 3"
    },
    "language_info": {
      "name": "python"
    }
  },
  "cells": [
    {
      "cell_type": "markdown",
      "metadata": {
        "id": "view-in-github",
        "colab_type": "text"
      },
      "source": [
        "<a href=\"https://colab.research.google.com/github/lmquann/leminhquan/blob/main/pandas2.ipynb\" target=\"_parent\"><img src=\"https://colab.research.google.com/assets/colab-badge.svg\" alt=\"Open In Colab\"/></a>"
      ]
    },
    {
      "cell_type": "code",
      "source": [
        "import numpy as np \n",
        "import pandas as pd\n",
        "import random"
      ],
      "metadata": {
        "id": "L8BPSwnCvpy-"
      },
      "execution_count": 32,
      "outputs": []
    },
    {
      "cell_type": "markdown",
      "source": [
        "Câu 1: Tạo các Series với kích thước 1x10 thỏa mãn yêu cầu:"
      ],
      "metadata": {
        "id": "PE8-5EwvvPGy"
      }
    },
    {
      "cell_type": "markdown",
      "source": [
        "- Series 1: có tên là “Họ và tên” và dữ liệu (định tính) do bạn tự nhập vào\n",
        "- Series 2: có tên là “Ngày sinh” & dữ liệu do bạn tự nhập vào\n",
        "- Series 3: có tên là “Tiền công/h” có dữ liệu định lượng do bạn tự nhập\n",
        "- Series 4: có tên là “Số h công” có dữ liệu định lượng do bạn tự nhập\n",
        "- Series 5: có tên là “Thực lĩnh” có kích thước 1x10 và để trống"
      ],
      "metadata": {
        "id": "2bANBBy4vec5"
      }
    },
    {
      "cell_type": "code",
      "execution_count": 13,
      "metadata": {
        "colab": {
          "base_uri": "https://localhost:8080/"
        },
        "id": "4SeybEpxu1cG",
        "outputId": "f7950add-07cb-4b0a-a1bb-b8d797dd8192"
      },
      "outputs": [
        {
          "name": "stdout",
          "output_type": "stream",
          "text": [
            "nhập họ và tên: A\n",
            "nhập họ và tên: B\n",
            "nhập họ và tên: C\n",
            "nhập họ và tên: D\n",
            "nhập họ và tên: E\n",
            "nhập họ và tên: F\n",
            "nhập họ và tên: G\n",
            "nhập họ và tên: H\n",
            "nhập họ và tên: I\n",
            "nhập họ và tên: K\n"
          ]
        }
      ],
      "source": [
        "Series1_Hovaten = pd.Series(input(\"nhập họ và tên: \") for i in range(10))"
      ]
    },
    {
      "cell_type": "code",
      "source": [
        "Series2_Ngaysinh = pd.Series(input(\"Ngày sinh: \") for i in range(10))"
      ],
      "metadata": {
        "colab": {
          "base_uri": "https://localhost:8080/"
        },
        "id": "XcnuSs4NwSI4",
        "outputId": "5fe552d8-64ce-4f71-92df-ec6bda42285e"
      },
      "execution_count": 14,
      "outputs": [
        {
          "name": "stdout",
          "output_type": "stream",
          "text": [
            "Ngày sinh: 1/2/2002\n",
            "Ngày sinh: 1/3/2001\n",
            "Ngày sinh: 7/8/1999\n",
            "Ngày sinh: 5/4/1990\n",
            "Ngày sinh: 7/8/1999\n",
            "Ngày sinh: 2/5/2002\n",
            "Ngày sinh: 3/5/2003\n",
            "Ngày sinh: 5/4/2002\n",
            "Ngày sinh: 6/3/2002\n",
            "Ngày sinh: 4/1/2002\n"
          ]
        }
      ]
    },
    {
      "cell_type": "code",
      "source": [
        "Series3_Tiencong = pd.Series(int(input(\"Tiền công: \")) for i in range(10))"
      ],
      "metadata": {
        "colab": {
          "base_uri": "https://localhost:8080/"
        },
        "id": "8KKJFMwewrXI",
        "outputId": "7a170105-f09b-4855-bf35-90d64aa23a9b"
      },
      "execution_count": 25,
      "outputs": [
        {
          "name": "stdout",
          "output_type": "stream",
          "text": [
            "Tiền công: 1000\n",
            "Tiền công: 3000\n",
            "Tiền công: 4000\n",
            "Tiền công: 2000\n",
            "Tiền công: 5000\n",
            "Tiền công: 2000\n",
            "Tiền công: 1000\n",
            "Tiền công: 2000\n",
            "Tiền công: 4000\n",
            "Tiền công: 3000\n"
          ]
        }
      ]
    },
    {
      "cell_type": "code",
      "source": [
        "Series4_Giolam = pd.Series(int(input(\"Giờ làm: \")) for i in range(10))"
      ],
      "metadata": {
        "colab": {
          "base_uri": "https://localhost:8080/"
        },
        "id": "GOgAvVS4w_tk",
        "outputId": "a0f0ccf8-d1d1-4f16-86c9-008b5acb06b0"
      },
      "execution_count": 26,
      "outputs": [
        {
          "name": "stdout",
          "output_type": "stream",
          "text": [
            "Giờ làm: 4\n",
            "Giờ làm: 5\n",
            "Giờ làm: 2\n",
            "Giờ làm: 1\n",
            "Giờ làm: 4\n",
            "Giờ làm: 3\n",
            "Giờ làm: 2\n",
            "Giờ làm: 5\n",
            "Giờ làm: 3\n",
            "Giờ làm: 2\n"
          ]
        }
      ]
    },
    {
      "cell_type": "code",
      "source": [
        "Series5_Thuclinh = pd.Series()"
      ],
      "metadata": {
        "colab": {
          "base_uri": "https://localhost:8080/"
        },
        "id": "LrOASaHgxtN0",
        "outputId": "a00cfe84-60ef-404c-8750-46cfc6302173"
      },
      "execution_count": 17,
      "outputs": [
        {
          "output_type": "stream",
          "name": "stderr",
          "text": [
            "/usr/local/lib/python3.7/dist-packages/ipykernel_launcher.py:1: DeprecationWarning: The default dtype for empty Series will be 'object' instead of 'float64' in a future version. Specify a dtype explicitly to silence this warning.\n",
            "  \"\"\"Entry point for launching an IPython kernel.\n"
          ]
        }
      ]
    },
    {
      "cell_type": "markdown",
      "source": [
        "Hãy:\n",
        "- Tạo 1 dataframe bằng cách ghép các series trên lại với nhau\n",
        "- Hãy tính giá trị cho cột (column) “Thực lĩnh” theo công thức:\n",
        "Thực lĩnh = “Số h công” x “Tiền công/h”\n",
        "\n",
        "- Hãy in toàn bộ dataframe ở trên ra màn hình"
      ],
      "metadata": {
        "id": "oAkTr1mkx6dR"
      }
    },
    {
      "cell_type": "code",
      "source": [
        "data = {\"Họ và tên\": Series1_Hovaten, \"Ngày sinh\": Series2_Ngaysinh, \"Tiền công\": Series3_Tiencong, \"Giờ làm\": Series4_Giolam, \"Thực lĩnh\": Series5_Thuclinh}\n",
        "df = pd.DataFrame(data)"
      ],
      "metadata": {
        "id": "qHztwCSTx0CC"
      },
      "execution_count": 30,
      "outputs": []
    },
    {
      "cell_type": "code",
      "source": [
        "Series5_Thuclinh =  (Series3_Tiencong)*(Series4_Giolam)"
      ],
      "metadata": {
        "id": "yt0eHwOcy5_W"
      },
      "execution_count": 28,
      "outputs": []
    },
    {
      "cell_type": "code",
      "source": [
        "print(df)"
      ],
      "metadata": {
        "colab": {
          "base_uri": "https://localhost:8080/"
        },
        "id": "DsQ43E9Y00cM",
        "outputId": "34e93ca7-285f-41f6-d214-b511009278f7"
      },
      "execution_count": 29,
      "outputs": [
        {
          "output_type": "stream",
          "name": "stdout",
          "text": [
            "  Họ và tên Ngày sinh  Tiền công  Giờ làm  Thực lĩnh\n",
            "0         A  1/2/2002       1000        4    10000.0\n",
            "1         B  1/3/2001       3000        5    12000.0\n",
            "2         C  7/8/1999       4000        2    10000.0\n",
            "3         D  5/4/1990       2000        1     2000.0\n",
            "4         E  7/8/1999       5000        4     3200.0\n",
            "5         F  2/5/2002       2000        3    16800.0\n",
            "6         G  3/5/2003       1000        2    15600.0\n",
            "7         H  5/4/2002       2000        5    16400.0\n",
            "8         I  6/3/2002       4000        3     4200.0\n",
            "9         K  4/1/2002       3000        2    15500.0\n"
          ]
        }
      ]
    },
    {
      "cell_type": "markdown",
      "source": [
        "Câu 2: Khởi tạo dataframe bằng các phương pháp khác nhau, hãy:\n",
        "- Tạo dataframe có kích thước 10x3 từ cấu trúc list tương ứng, với dữ liệu cho dataframe\n",
        "này gồm các cột Họ tên, Tuổi và Giới tính. Xuất kết quả ra màn hình;\n",
        "- Tạo dataframe như trên nhưng từ cấu trúc Dictionary có chứa các List giá trị tương ứng\n",
        "với key. Xuất kết quả ra màn hình;\n",
        "- Tạo dataframe như trên nhưng từ cấu trúc List của các dictionary. Xuất kết quả ra màn\n",
        "hình;\n",
        "- Tạo 3 list (1x10) tương ứng với Họ tên, Tuổi và Giới tính. Sử dụng hàm zip() để tạo\n",
        "dataframe từ 3 list riêng biệt này. Xuất kết quả ra màn hình."
      ],
      "metadata": {
        "id": "NaYgAPim1dtD"
      }
    },
    {
      "cell_type": "code",
      "source": [
        "hoten = [\"A\",\"B\",\"C\",\"D\",\"Q\",\"F\",\"H\",\"D\",\"U\",\"S\"]\n",
        "tuoi = [random.randint(17,22) for i in range(10)]\n",
        "gioitinh = [\"Nữ\",\"Nam\",\"Nam\",\"Nam\",\"Nữ\",\"Nam\",\"Nữ\",\"Nữ\",\"Nam\",\"Nữ\"]\n",
        "data = [hoten,tuoi,gioitinh]\n",
        "df = pd.DataFrame(data)\n",
        "print(df)"
      ],
      "metadata": {
        "colab": {
          "base_uri": "https://localhost:8080/"
        },
        "id": "irOD3Wk92H2k",
        "outputId": "9db6234e-e6ca-451b-d2cf-1b520cc46459"
      },
      "execution_count": 44,
      "outputs": [
        {
          "output_type": "stream",
          "name": "stdout",
          "text": [
            "    0    1    2    3   4    5   6   7    8   9\n",
            "0   A    B    C    D   Q    F   H   D    U   S\n",
            "1  18   20   19   19  19   18  22  19   20  21\n",
            "2  Nữ  Nam  Nam  Nam  Nữ  Nam  Nữ  Nữ  Nam  Nữ\n"
          ]
        }
      ]
    },
    {
      "cell_type": "code",
      "source": [
        "data = {\"Họ tên\": hoten,\"Tuổi\": tuoi,\"Giới tính\": gioitinh}\n",
        "df = pd.DataFrame(data)\n",
        "print(df)"
      ],
      "metadata": {
        "colab": {
          "base_uri": "https://localhost:8080/"
        },
        "id": "dBmmwWlO5FjV",
        "outputId": "0e289070-8063-455b-e3d8-43b7dd31d0c0"
      },
      "execution_count": 45,
      "outputs": [
        {
          "output_type": "stream",
          "name": "stdout",
          "text": [
            "  Họ tên  Tuổi Giới tính\n",
            "0      A    18        Nữ\n",
            "1      B    20       Nam\n",
            "2      C    19       Nam\n",
            "3      D    19       Nam\n",
            "4      Q    19        Nữ\n",
            "5      F    18       Nam\n",
            "6      H    22        Nữ\n",
            "7      D    19        Nữ\n",
            "8      U    20       Nam\n",
            "9      S    21        Nữ\n"
          ]
        }
      ]
    },
    {
      "cell_type": "code",
      "source": [
        "data = [{\"Họ và tên\":hoten},{\"Tuổi\":tuoi},{\"Giới tính\":gioitinh}]\n",
        "df = pd.DataFrame(data)\n",
        "print(df)"
      ],
      "metadata": {
        "colab": {
          "base_uri": "https://localhost:8080/"
        },
        "id": "68Jpxmjq5YEl",
        "outputId": "a365e4db-362c-4302-9255-13927db0a901"
      },
      "execution_count": 46,
      "outputs": [
        {
          "output_type": "stream",
          "name": "stdout",
          "text": [
            "                        Họ và tên                                      Tuổi  \\\n",
            "0  [A, B, C, D, Q, F, H, D, U, S]                                       NaN   \n",
            "1                             NaN  [18, 20, 19, 19, 19, 18, 22, 19, 20, 21]   \n",
            "2                             NaN                                       NaN   \n",
            "\n",
            "                                       Giới tính  \n",
            "0                                            NaN  \n",
            "1                                            NaN  \n",
            "2  [Nữ, Nam, Nam, Nam, Nữ, Nam, Nữ, Nữ, Nam, Nữ]  \n"
          ]
        }
      ]
    },
    {
      "cell_type": "code",
      "source": [
        "_hoten = [input(\"Họ và tên: \") for i in range(10)]\n",
        "_tuoi = [input(\"tuổi: \") for i in range(10)]\n",
        "_gioitinh = [input(\"Giới tính: \") for i in range(10)]\n",
        "data = zip(_hoten,_tuoi,_gioitinh)\n",
        "df = pd.DataFrame(data, columns=[\"họ và tên\",\"tuổi\",\"giới tính\"])\n",
        "print(df)"
      ],
      "metadata": {
        "colab": {
          "base_uri": "https://localhost:8080/"
        },
        "id": "xDeckKPt6MVR",
        "outputId": "aa59225f-a9a9-4b75-dcfe-34e21fc8723a"
      },
      "execution_count": 48,
      "outputs": [
        {
          "output_type": "stream",
          "name": "stdout",
          "text": [
            "Họ và tên: A\n",
            "Họ và tên: Q\n",
            "Họ và tên: E\n",
            "Họ và tên: R\n",
            "Họ và tên: T\n",
            "Họ và tên: Y\n",
            "Họ và tên: U\n",
            "Họ và tên: I\n",
            "Họ và tên: O\n",
            "Họ và tên: G\n",
            "tuổi: G\n",
            "tuổi: 19\n",
            "tuổi: 18\n",
            "tuổi: 20\n",
            "tuổi: 21\n",
            "tuổi: 22\n",
            "tuổi: 20\n",
            "tuổi: 19\n",
            "tuổi: 20\n",
            "tuổi: 21\n",
            "Giới tính: Nam\n",
            "Giới tính: Nữ\n",
            "Giới tính: Nữ\n",
            "Giới tính: Nam\n",
            "Giới tính: Nữ\n",
            "Giới tính: Nam\n",
            "Giới tính: Nam\n",
            "Giới tính: Nữ\n",
            "Giới tính: Nam\n",
            "Giới tính: Nữ\n",
            "  họ và tên tuổi giới tính\n",
            "0         A    G       Nam\n",
            "1         Q   19        Nữ\n",
            "2         E   18        Nữ\n",
            "3         R   20       Nam\n",
            "4         T   21        Nữ\n",
            "5         Y   22       Nam\n",
            "6         U   20       Nam\n",
            "7         I   19        Nữ\n",
            "8         O   20       Nam\n",
            "9         G   21        Nữ\n"
          ]
        }
      ]
    }
  ]
}