{
  "nbformat": 4,
  "nbformat_minor": 0,
  "metadata": {
    "colab": {
      "name": "baitapslide52.ipynb",
      "provenance": [],
      "authorship_tag": "ABX9TyNH34ETfiKphuphF1AnThZY",
      "include_colab_link": true
    },
    "kernelspec": {
      "name": "python3",
      "display_name": "Python 3"
    },
    "language_info": {
      "name": "python"
    }
  },
  "cells": [
    {
      "cell_type": "markdown",
      "metadata": {
        "id": "view-in-github",
        "colab_type": "text"
      },
      "source": [
        "<a href=\"https://colab.research.google.com/github/lmquann/leminhquan/blob/main/baitapslide52.ipynb\" target=\"_parent\"><img src=\"https://colab.research.google.com/assets/colab-badge.svg\" alt=\"Open In Colab\"/></a>"
      ]
    },
    {
      "cell_type": "code",
      "metadata": {
        "colab": {
          "base_uri": "https://localhost:8080/"
        },
        "id": "hlvIHfLVQIVa",
        "outputId": "4dd11c21-70e5-4828-8fb3-d831189ef65e"
      },
      "source": [
        "loanAmount= float(input(\"nhap loanAmount:\"))\n",
        "monthlyInterestRate= float(input(\"nhap monthlyInterestRate :\"))\n",
        "numberOfYears= float(input(\"nhap numberOfYears:\"))\n",
        "monthlyPayment= (loanAmount*monthlyInterestRate)/(1-(1/((1+monthyInterestRate)**(numberOfYears*12))))\n",
        "print(\"monthlyPayment: \", monthlyPayment )\n"
      ],
      "execution_count": 3,
      "outputs": [
        {
          "output_type": "stream",
          "name": "stdout",
          "text": [
            "nhap loanAmount:12\n",
            "nhap monthlyInterestRate :13\n",
            "nhap numberOfYears:14\n",
            "monthlyPayment:  156.0\n"
          ]
        }
      ]
    }
  ]
}