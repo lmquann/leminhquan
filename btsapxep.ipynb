{
  "nbformat": 4,
  "nbformat_minor": 0,
  "metadata": {
    "colab": {
      "name": "btsapxep.ipynb",
      "provenance": [],
      "authorship_tag": "ABX9TyO+LpBwTTMlGJaTdCvivQ3w",
      "include_colab_link": true
    },
    "kernelspec": {
      "name": "python3",
      "display_name": "Python 3"
    },
    "language_info": {
      "name": "python"
    }
  },
  "cells": [
    {
      "cell_type": "markdown",
      "metadata": {
        "id": "view-in-github",
        "colab_type": "text"
      },
      "source": [
        "<a href=\"https://colab.research.google.com/github/lmquann/leminhquan/blob/main/btsapxep.ipynb\" target=\"_parent\"><img src=\"https://colab.research.google.com/assets/colab-badge.svg\" alt=\"Open In Colab\"/></a>"
      ]
    },
    {
      "cell_type": "markdown",
      "metadata": {
        "id": "Q9YWMXmjzK9b"
      },
      "source": [
        "Bài 1: Viết chương trình nhập vào từ bàn phím một danh sách gồm 10 số nguyên và thực hiện các\n",
        "yêu cầu sau:\n",
        "- Sắp xếp danh sách trên theo chiều tăng dần\n",
        "- In kết quả ra màn hình"
      ]
    },
    {
      "cell_type": "code",
      "metadata": {
        "colab": {
          "base_uri": "https://localhost:8080/"
        },
        "id": "KYm4OONIzG5c",
        "outputId": "7b95b3e7-1061-42a6-a243-ece1258a9568"
      },
      "source": [
        "dsach = []\n",
        "for i in range (10):\n",
        "  n = int(input(\"nhập số :\"))\n",
        "  dsach.append(n)\n",
        "a = len(dsach)\n",
        "for j in range(len(dsach)):\n",
        "  min = j\n",
        "  for k in range(j + 1, len(dsach)):\n",
        "    if dsach[min] > dsach[k]:\n",
        "      min = k\n",
        "  t = dsach[j]\n",
        "  dsach[j] = dsach[min]\n",
        "  dsach[min] = t\n",
        "print(dsach)"
      ],
      "execution_count": 7,
      "outputs": [
        {
          "output_type": "stream",
          "name": "stdout",
          "text": [
            "nhập số :3\n",
            "nhập số :2\n",
            "nhập số :4\n",
            "nhập số :7\n",
            "nhập số :5\n",
            "nhập số :6\n",
            "nhập số :1\n",
            "nhập số :0\n",
            "nhập số :9\n",
            "nhập số :8\n",
            "[0, 1, 2, 3, 4, 5, 6, 7, 8, 9]\n"
          ]
        }
      ]
    },
    {
      "cell_type": "markdown",
      "metadata": {
        "id": "Caeqa8Ue115B"
      },
      "source": [
        "Bài 2: Viết chương trình thực hiện các yêu cầu sau:\n",
        "- Xây dựng hàm có tên nhap_danh_sach_so_nguyen(n), trong đó:\n",
        "o Tham số đầu vào n là số phần tử của danh sách;\n",
        "o Hàm này trả về một danh sách gồm n số nguyên được nhập vào từ bàn phím\n",
        "- Xây dựng hàm có tên sap_xep_danh_sach(x), trong đó:\n",
        "o Tham số đầu vào x là một danh sách các số nguyên\n",
        "o Hàm này trả về một danh sách các số nguyên được sắp xếp theo chiều tăng dần\n",
        "- Chương trình chính (__main__) gọi thực thi 2 hàm nêu trên và in kết quả sắp xếp ra màn\n",
        "hình."
      ]
    },
    {
      "cell_type": "code",
      "metadata": {
        "colab": {
          "base_uri": "https://localhost:8080/"
        },
        "id": "8MWDY9_f2GZ7",
        "outputId": "90904708-98f8-42d1-943e-508590896042"
      },
      "source": [
        "def nhap_danh_sach_so_nguyen(n):\n",
        "  x = []\n",
        "  n = int(input(\"nhập số phần tử : \"))\n",
        "  for k in range (n):\n",
        "    m = int(input(\"nhập số :\"))\n",
        "    x.append(m)\n",
        "def sap_xep_danh_sach(x):\n",
        "  x =[]\n",
        "  n = int(input(\"nhập số phần tử : \"))\n",
        "  for k in range (n):\n",
        "    m = int(input(\"nhập số :\"))\n",
        "    x.append(m)\n",
        "  a = len(x)\n",
        "  for i in range(len(x)):\n",
        "    min = i\n",
        "    for j in range(i + 1, len(x)):\n",
        "      if x[min] > x[j]:\n",
        "        min = j\n",
        "    t = x[i]\n",
        "    x[i] = x[min]\n",
        "    x[min] = t\n",
        "  print(x)\n",
        "def _main_():\n",
        "  sap_xep_danh_sach(x)\n",
        "  \n",
        "print(_main_())\n",
        "\n",
        "\n"
      ],
      "execution_count": 33,
      "outputs": [
        {
          "output_type": "stream",
          "name": "stdout",
          "text": [
            "nhập số phần tử : 4\n",
            "nhập số :3\n",
            "nhập số :2\n",
            "nhập số :5\n",
            "nhập số :1\n",
            "[1, 2, 3, 5]\n",
            "None\n"
          ]
        }
      ]
    },
    {
      "cell_type": "markdown",
      "metadata": {
        "id": "XEB7fY0V8EBL"
      },
      "source": [
        "Bài 3: Viết chương trình nhập vào từ bàn phím một danh sách các số thực, theo các yeu cầu sau:\n",
        "- Sau khi nhập mỗi số thực từ bàn phím, chương trình hỏi người dùng có muốn tiếp tục nhập\n",
        "không. Nếu người dùng gõ ký tự n hoặc N thì kết thúc quá trình nhập;\n",
        "- Sắp xếp danh sách các số thực tren theo chiều giảm dần;\n",
        "- In kết quả ra màn hình."
      ]
    },
    {
      "cell_type": "code",
      "metadata": {
        "colab": {
          "base_uri": "https://localhost:8080/"
        },
        "id": "epTX3-To8HK6",
        "outputId": "c9549903-e043-4d31-e067-9b13d82ae3c8"
      },
      "source": [
        "x =[]\n",
        "i = \"Y\"\n",
        "while i != \"N\":\n",
        "  x.append(input(\"nhap du lieu: \"))\n",
        "  i = input(\"nhấn phím bất kỳ để tiếp tục, nhập N để dừng lại \")\n",
        "  i = i.upper()\n",
        "for i in range(len(x)):\n",
        "  min = i\n",
        "  for j in range(i + 1, len(x)):\n",
        "    if x[min] > x[j]:\n",
        "      min = j\n",
        "  t = x[i]\n",
        "  x[i] = x[min]\n",
        "  x[min] = t\n",
        "x.reverse()\n",
        "print(x)"
      ],
      "execution_count": 48,
      "outputs": [
        {
          "output_type": "stream",
          "name": "stdout",
          "text": [
            "nhap du lieu: 5\n",
            "nhấn phím bất kỳ để tiếp tục, nhập N để dừng lại 3\n",
            "nhap du lieu: 2\n",
            "nhấn phím bất kỳ để tiếp tục, nhập N để dừng lại n\n",
            "['5', '2']\n"
          ]
        }
      ]
    },
    {
      "cell_type": "markdown",
      "metadata": {
        "id": "akb1XcFTBJVi"
      },
      "source": [
        "Bài 4: Viết chương trình thực hiện các yêu cầu sau:\n",
        "- Xây dựng hàm nhap_danh_sach_so_thuc( ) thỏa mãn các yêu cầu sau:\n",
        "o Sau khi nhập mỗi số thực từ bàn phím, chương trình hỏi người dùng có muốn tiếp\n",
        "tục nhập không. Nếu người dùng gõ ký tự n hoặc N thì kết thúc quá trình nhập;\n",
        "o Hàm trả về danh sách các số thực đã nhập.\n",
        "- Xây dựng hàm sap_xep_danh_sach_so_thuc(x), với:\n",
        "o Tham số đầu vào x là một danh sách các số thực;\n",
        "o Hàm này trả về một danh sách các số thực được sắp xếp theo chiều giảm dần\n",
        "Chương trình chính (__main__) gọi thực thi 2 hàm nêu trên và in kết quả sắp xếp ra màn\n",
        "hình.\n"
      ]
    },
    {
      "cell_type": "code",
      "metadata": {
        "colab": {
          "base_uri": "https://localhost:8080/"
        },
        "id": "p9DevRmUBNbF",
        "outputId": "4c1fcada-b60f-4de7-dbf7-02629189c897"
      },
      "source": [
        "def nhap_danh_sach_so_thuc():\n",
        "  x =[]\n",
        "  i = \"Y\"\n",
        "  while i != \"N\":\n",
        "    x.append(input(\"nhap du lieu: \"))\n",
        "    i = input(\"nhấn phím bất kỳ để tiếp tục, nhập N để dừng lại \")\n",
        "    i = i.upper()\n",
        "  print(x)\n",
        "def sap_xep_danh_sach_so_thuc(x):\n",
        "  x =[]\n",
        "  i = \"Y\"\n",
        "  while i != \"N\":\n",
        "    x.append(input(\"nhap du lieu: \"))\n",
        "    i = input(\"nhấn phím bất kỳ để tiếp tục, nhập N để dừng lại \")\n",
        "    i = i.upper()\n",
        "  for i in range(len(x)):\n",
        "    min = i\n",
        "    for j in range(i + 1, len(x)):\n",
        "      if x[min] > x[j]:\n",
        "        min = j\n",
        "    t = x[i]\n",
        "    x[i] = x[min]\n",
        "    x[min] = t\n",
        "  x.reverse()\n",
        "  print(x)\n",
        "def main():\n",
        "  nhap_danh_sach_so_thuc()\n",
        "  sap_xep_danh_sach_so_thuc(x)\n",
        "print(main())"
      ],
      "execution_count": 49,
      "outputs": [
        {
          "output_type": "stream",
          "name": "stdout",
          "text": [
            "nhap du lieu: 3\n",
            "nhấn phím bất kỳ để tiếp tục, nhập N để dừng lại 2\n",
            "nhap du lieu: 2\n",
            "nhấn phím bất kỳ để tiếp tục, nhập N để dừng lại n\n",
            "['3', '2']\n",
            "nhap du lieu: 6\n",
            "nhấn phím bất kỳ để tiếp tục, nhập N để dừng lại 2\n",
            "nhap du lieu: 3\n",
            "nhấn phím bất kỳ để tiếp tục, nhập N để dừng lại 1\n",
            "nhap du lieu: 1\n",
            "nhấn phím bất kỳ để tiếp tục, nhập N để dừng lại n\n",
            "['6', '3', '1']\n",
            "None\n"
          ]
        }
      ]
    },
    {
      "cell_type": "markdown",
      "metadata": {
        "id": "RYeie4edCO3T"
      },
      "source": [
        "Bài 5: Viết chương trình thực hiện các yêu cầu sau:\n",
        "- Sinh ngẫu nhiên 1 danh sách số nguyên gồm n phần tử. Trong đó, n được nhập vào từ bàn\n",
        "phím và số nguyên sinh ra nằm trong khoảng từ 0 đến max_value. Giá trị max_value được\n",
        "nhập vào từ bàn phím;\n",
        "- Hỏi người dùng lựa chọn sắp xếp danh sách trên theo chiều tăng dần hay giảm dần và sắp\n",
        "xếp danh sách theo lựa chọn của người dùng;\n",
        "- In kết quả sắp xếp ra màn hình."
      ]
    },
    {
      "cell_type": "code",
      "metadata": {
        "colab": {
          "base_uri": "https://localhost:8080/"
        },
        "id": "PKcYBTkwCz-f",
        "outputId": "123d3b33-7805-4092-9e2e-94d21cac411d"
      },
      "source": [
        "import random\n",
        "x = []\n",
        "n = int(input(\"nhập số phần tử: \"))\n",
        "max_value = int(input(\"nhập giá trị max: \"))\n",
        "for k in range (n):\n",
        "  a = random.randint(0,max_value)\n",
        "  x.append(a)\n",
        "ask = input(\"sắp xếp theo tăng dần gõ tang, giảm dần gõ giam \")\n",
        "if ask == \"tang\":\n",
        "  for i in range(len(x)):\n",
        "    min = i\n",
        "    for j in range(i + 1, len(x)):\n",
        "      if x[min] > x[j]:\n",
        "        min = j\n",
        "    t = x[i]\n",
        "    x[i] = x[min]\n",
        "    x[min] = t\n",
        "elif ask == \"giam\":\n",
        "  for i in range(len(x)):\n",
        "    min = i\n",
        "    for j in range(i + 1, len(x)):\n",
        "      if x[min] > x[j]:\n",
        "        min = j\n",
        "    t = x[i]\n",
        "    x[i] = x[min]\n",
        "    x[min] = t\n",
        "  x.reverse()\n",
        "else:\n",
        "  print(\"bạn đã gõ sai cú pháp \")\n",
        "print(x)"
      ],
      "execution_count": 54,
      "outputs": [
        {
          "output_type": "stream",
          "name": "stdout",
          "text": [
            "nhập số phần tử: 6\n",
            "nhập giá trị max: 14\n",
            "sắp xếp theo tăng dần gõ tang, giảm dần gõ giam giam\n",
            "[12, 8, 6, 2, 1, 1]\n"
          ]
        }
      ]
    },
    {
      "cell_type": "markdown",
      "metadata": {
        "id": "7BfWgkqoE1tf"
      },
      "source": [
        "Bài 6: Viết chương trình thực hiện các yêu cầu sau:\n",
        "- Xây dựng hàm sinh_ngau_nhien_danh_sach_so_nguyen( ), thực hiện các thao tác sau:\n",
        "o Sinh ngẫu nhiên 1 danh sách số nguyên gồm n phần tử;\n",
        "o Trong đó, n được nhập vào từ bàn phím và số nguyên sinh ra nằm trong khoảng từ\n",
        "0 đến max_value;\n",
        "o Giá trị max_value được nhập vào từ bàn phím;\n",
        "o Hàm này trả về danh sách các số nguyên được sinh ngẫu nhiên ở trên.\n",
        "- Xây dựng hàm sap_xep_giam_dan(x), trong đó:\n",
        "o Tham số đầu vào x là một danh sách các số nguyên;\n",
        "o Hàm này trả về một danh sách các số nguyên được sắp xếp theo chiều giảm dần.\n",
        "- Xây dựng hàm sap_xep_tang_dan(x), trong đó:\n",
        "o Tham số đầu vào x là một danh sách các số nguyên;\n",
        "o Hàm này trả về một danh sách các số nguyên được sắp xếp theo chiều tăng dần.\n",
        "- Chương trình chính (__main__) gọi thực hiện các hàm trên và in kết quả ra màn hình."
      ]
    },
    {
      "cell_type": "code",
      "metadata": {
        "colab": {
          "base_uri": "https://localhost:8080/"
        },
        "id": "5To76FH6E5Mh",
        "outputId": "74e987e7-ad75-412c-a2e8-4e1aaa126cb7"
      },
      "source": [
        "def sinh_ngau_nhien_danh_sach_so_nguyen():\n",
        "  import random\n",
        "  x = []\n",
        "  n = int(input(\"nhập số phần tử: \"))\n",
        "  max_value = int(input(\"nhập giá trị max: \"))\n",
        "  for k in range (n):\n",
        "    a = random.randint(0,max_value)\n",
        "    x.append(a)\n",
        "  print(x)\n",
        "def sap_xep_giam_dan(x):\n",
        "  for i in range(len(x)):\n",
        "    min = i\n",
        "    for j in range(i + 1, len(x)):\n",
        "      if x[min] > x[j]:\n",
        "        min = j\n",
        "    t = x[i]\n",
        "    x[i] = x[min]\n",
        "    x[min] = t\n",
        "  x.reverse()\n",
        "def sap_xep_tang_dan(x):\n",
        "  for i in range(len(x)):\n",
        "    min = i\n",
        "    for j in range(i + 1, len(x)):\n",
        "      if x[min] > x[j]:\n",
        "        min = j\n",
        "    t = x[i]\n",
        "    x[i] = x[min]\n",
        "    x[min] = t\n",
        "def main():\n",
        "  sinh_ngau_nhien_danh_sach_so_nguyen()\n",
        "  sap_xep_giam_dan(x)\n",
        "  sap_xep_tang_dan(x)\n",
        "main()\n",
        "\n",
        "  "
      ],
      "execution_count": 55,
      "outputs": [
        {
          "output_type": "stream",
          "name": "stdout",
          "text": [
            "nhập số phần tử: 4\n",
            "nhập giá trị max: 1000\n",
            "[684, 604, 266, 946]\n"
          ]
        }
      ]
    }
  ]
}