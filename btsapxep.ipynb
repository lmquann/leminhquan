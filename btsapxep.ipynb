{
  "nbformat": 4,
  "nbformat_minor": 0,
  "metadata": {
    "colab": {
      "name": "btsapxep.ipynb",
      "provenance": [],
      "authorship_tag": "ABX9TyOTnGQRc44v15ERW1/X2s2T",
      "include_colab_link": true
    },
    "kernelspec": {
      "name": "python3",
      "display_name": "Python 3"
    },
    "language_info": {
      "name": "python"
    }
  },
  "cells": [
    {
      "cell_type": "markdown",
      "metadata": {
        "id": "view-in-github",
        "colab_type": "text"
      },
      "source": [
        "<a href=\"https://colab.research.google.com/github/lmquann/leminhquan/blob/main/btsapxep.ipynb\" target=\"_parent\"><img src=\"https://colab.research.google.com/assets/colab-badge.svg\" alt=\"Open In Colab\"/></a>"
      ]
    },
    {
      "cell_type": "markdown",
      "metadata": {
        "id": "Q9YWMXmjzK9b"
      },
      "source": [
        "Bài 1: Viết chương trình nhập vào từ bàn phím một danh sách gồm 10 số nguyên và thực hiện các\n",
        "yêu cầu sau:\n",
        "- Sắp xếp danh sách trên theo chiều tăng dần\n",
        "- In kết quả ra màn hình"
      ]
    },
    {
      "cell_type": "code",
      "metadata": {
        "colab": {
          "base_uri": "https://localhost:8080/"
        },
        "id": "KYm4OONIzG5c",
        "outputId": "fc9f8e9c-3f04-4eef-c776-32c5829e605e"
      },
      "source": [
        "dem = 0 \n",
        "n = int(input(\"số các số nguyên là: \"))\n",
        "dsach = []\n",
        "while dem < n :\n",
        "  for i in range (n):\n",
        "    a = int(input(\"nhập các phần tử vào danh sách: \"))\n",
        "    dsach.append(a)\n",
        "    dem += 1\n",
        "print(\"Danh sách được tạo là: \", dsach)\n",
        "for j in range(0, len(dsach)-1):\n",
        "  for k in range (j + 1, len(dsach)):\n",
        "    if dsach[j] > dsach[k]:\n",
        "      dsach[j],dsach[k]=dsach[k],dsach[j]\n",
        "print(\"Sắp xếp danh sách theo chiều tăng dần là: \", dsach)\n"
      ],
      "execution_count": null,
      "outputs": [
        {
          "output_type": "stream",
          "name": "stdout",
          "text": [
            "số các số nguyên là: 6\n",
            "nhập các phần tử vào danh sách: 4\n",
            "nhập các phần tử vào danh sách: 2\n",
            "nhập các phần tử vào danh sách: 8\n",
            "nhập các phần tử vào danh sách: 5\n",
            "nhập các phần tử vào danh sách: 3\n",
            "nhập các phần tử vào danh sách: 9\n",
            "Danh sách được tạo là:  [4, 2, 8, 5, 3, 9]\n",
            "Sắp xếp danh sách theo chiều tăng dần là:  [2, 3, 4, 5, 8, 9]\n"
          ]
        }
      ]
    },
    {
      "cell_type": "markdown",
      "metadata": {
        "id": "Caeqa8Ue115B"
      },
      "source": [
        "Bài 2: Viết chương trình thực hiện các yêu cầu sau:\n",
        "- Xây dựng hàm có tên nhap_danh_sach_so_nguyen(n), trong đó:\n",
        "o Tham số đầu vào n là số phần tử của danh sách;\n",
        "o Hàm này trả về một danh sách gồm n số nguyên được nhập vào từ bàn phím\n",
        "- Xây dựng hàm có tên sap_xep_danh_sach(x), trong đó:\n",
        "o Tham số đầu vào x là một danh sách các số nguyên\n",
        "o Hàm này trả về một danh sách các số nguyên được sắp xếp theo chiều tăng dần\n",
        "- Chương trình chính (__main__) gọi thực thi 2 hàm nêu trên và in kết quả sắp xếp ra màn\n",
        "hình."
      ]
    },
    {
      "cell_type": "code",
      "metadata": {
        "colab": {
          "base_uri": "https://localhost:8080/"
        },
        "id": "8MWDY9_f2GZ7",
        "outputId": "4293c894-bb41-4c0f-b671-05ee55f4a359"
      },
      "source": [
        "def main():\n",
        "  dsach=[]\n",
        "  nhap_danh_sach_so_nguyen(10,dsach)\n",
        "  sap_xep_danh_sach(dsach)\n",
        "\n",
        "def nhap_danh_sach_so_nguyen(n,danh_sach):\n",
        "  dem = 0\n",
        "  while dem < n :\n",
        "    for i in range(n):\n",
        "      x = int(input(\"nhập các phần tử vào danh sách: \"))\n",
        "      danh_sach.append(x)\n",
        "      dem += 1\n",
        "  return danh_sach\n",
        "\n",
        "def sap_xep_danh_sach(x):\n",
        "  for j in range(0, len(x)-1):\n",
        "    for k in range(j+1,len(x)):\n",
        "      if x[j]>x[k]:\n",
        "        x[j],x[k]=x[k],x[j]\n",
        "  print(\"sắp xếp theo thứ tự tăng dần là: \",x)\n",
        "  return x\n",
        "main()\n",
        "   "
      ],
      "execution_count": null,
      "outputs": [
        {
          "output_type": "stream",
          "name": "stdout",
          "text": [
            "nhập các phần tử vào danh sách: 4\n",
            "nhập các phần tử vào danh sách: 6\n",
            "nhập các phần tử vào danh sách: 5\n",
            "nhập các phần tử vào danh sách: 3\n",
            "nhập các phần tử vào danh sách: 1\n",
            "nhập các phần tử vào danh sách: 2\n",
            "nhập các phần tử vào danh sách: 9\n",
            "nhập các phần tử vào danh sách: 7\n",
            "nhập các phần tử vào danh sách: 8\n",
            "nhập các phần tử vào danh sách: 10\n",
            "sắp xếp theo thứ tự tăng dần là:  [1, 2, 3, 4, 5, 6, 7, 8, 9, 10]\n"
          ]
        }
      ]
    },
    {
      "cell_type": "markdown",
      "metadata": {
        "id": "XEB7fY0V8EBL"
      },
      "source": [
        "Bài 3: Viết chương trình nhập vào từ bàn phím một danh sách các số thực, theo các yeu cầu sau:\n",
        "- Sau khi nhập mỗi số thực từ bàn phím, chương trình hỏi người dùng có muốn tiếp tục nhập\n",
        "không. Nếu người dùng gõ ký tự n hoặc N thì kết thúc quá trình nhập;\n",
        "- Sắp xếp danh sách các số thực tren theo chiều giảm dần;\n",
        "- In kết quả ra màn hình."
      ]
    },
    {
      "cell_type": "code",
      "metadata": {
        "colab": {
          "base_uri": "https://localhost:8080/"
        },
        "id": "epTX3-To8HK6",
        "outputId": "bc28561f-c17a-4b4d-b7dc-d5ddf5eaadfa"
      },
      "source": [
        "dsach = []\n",
        "while True:\n",
        "  n = float(input(\"nhập số thực từ bàn phím : \"))\n",
        "  if True:\n",
        "    dsach.append(n)\n",
        "    tt = input(\"bạn có muốn tiếp tục hay không?(y/n): \")\n",
        "    if tt == 'y' or tt == 'Y':\n",
        "      pass\n",
        "    elif tt == 'n' or tt == 'N':\n",
        "      break\n",
        "\n",
        "for j in range(0 , len(dsach)-1):\n",
        "  for k in range(j+1, len(dsach)):\n",
        "    if dsach[j] < dsach[k]:\n",
        "      dsach[j],dsach[k]=dsach[k],dsach[j]\n",
        "\n",
        "print(\"sắp xếp theo thứ tự giảm dần là: \", dsach)"
      ],
      "execution_count": null,
      "outputs": [
        {
          "output_type": "stream",
          "name": "stdout",
          "text": [
            "nhập số thực từ bàn phím : 4\n",
            "bạn có muốn tiếp tục hay không?(y/n): y\n",
            "nhập số thực từ bàn phím : 6\n",
            "bạn có muốn tiếp tục hay không?(y/n): y\n",
            "nhập số thực từ bàn phím : 9\n",
            "bạn có muốn tiếp tục hay không?(y/n): n\n",
            "sắp xếp theo thứ tự giảm dần là:  [9.0, 6.0, 4.0]\n"
          ]
        }
      ]
    },
    {
      "cell_type": "markdown",
      "metadata": {
        "id": "akb1XcFTBJVi"
      },
      "source": [
        "Bài 4: Viết chương trình thực hiện các yêu cầu sau:\n",
        "- Xây dựng hàm nhap_danh_sach_so_thuc( ) thỏa mãn các yêu cầu sau:\n",
        "o Sau khi nhập mỗi số thực từ bàn phím, chương trình hỏi người dùng có muốn tiếp\n",
        "tục nhập không. Nếu người dùng gõ ký tự n hoặc N thì kết thúc quá trình nhập;\n",
        "o Hàm trả về danh sách các số thực đã nhập.\n",
        "- Xây dựng hàm sap_xep_danh_sach_so_thuc(x), với:\n",
        "o Tham số đầu vào x là một danh sách các số thực;\n",
        "o Hàm này trả về một danh sách các số thực được sắp xếp theo chiều giảm dần\n",
        "Chương trình chính (__main__) gọi thực thi 2 hàm nêu trên và in kết quả sắp xếp ra màn\n",
        "hình.\n"
      ]
    },
    {
      "cell_type": "code",
      "metadata": {
        "colab": {
          "base_uri": "https://localhost:8080/"
        },
        "id": "p9DevRmUBNbF",
        "outputId": "6493066e-74b6-45d5-ae03-2f675701d3e0"
      },
      "source": [
        "def main():\n",
        "  dsach = []\n",
        "  nhap_danh_sach_so_thuc(dsach)\n",
        "  sap_xep_danh_sach_so_thuc(dsach)\n",
        "\n",
        "def sap_xep_danh_sach_so_thuc(x):\n",
        "  for m in range(0, len(x)-1):\n",
        "    for n in range(m+1, len(x)):\n",
        "      if x[m]<x[n]:\n",
        "        x[m],x[n]=x[n],x[m]\n",
        "  return x, print(\"sắp xếp theo chiều giảm dần danh sách: \",x)\n",
        "\n",
        "def nhap_danh_sach_so_thuc(dsach):\n",
        "  while True:\n",
        "    n = float(input(\"nhập số thực từ bàn phím: \"))\n",
        "    if True:\n",
        "      dsach.append(n)\n",
        "      tt = input(\"bạn muốn tiếp tục không?(y/n): \")\n",
        "      if tt == 'y' or tt == 'Y':\n",
        "        pass\n",
        "      elif tt == 'n' or tt == 'N':\n",
        "        break\n",
        "  return dsach, print(\"Danh sách số thực: \", dsach)\n",
        "\n",
        "main()\n"
      ],
      "execution_count": null,
      "outputs": [
        {
          "output_type": "stream",
          "name": "stdout",
          "text": [
            "nhập số thực từ bàn phím: 6\n",
            "bạn muốn tiếp tục không?(y/n): y\n",
            "nhập số thực từ bàn phím: 2\n",
            "bạn muốn tiếp tục không?(y/n): y\n",
            "nhập số thực từ bàn phím: 0\n",
            "bạn muốn tiếp tục không?(y/n): y\n",
            "nhập số thực từ bàn phím: 7\n",
            "bạn muốn tiếp tục không?(y/n): y\n",
            "nhập số thực từ bàn phím: 12\n",
            "bạn muốn tiếp tục không?(y/n): n\n",
            "Danh sách số thực:  [6.0, 2.0, 0.0, 7.0, 12.0]\n",
            "sắp xếp theo chiều giảm dần danh sách:  [12.0, 7.0, 6.0, 2.0, 0.0]\n"
          ]
        }
      ]
    },
    {
      "cell_type": "markdown",
      "metadata": {
        "id": "RYeie4edCO3T"
      },
      "source": [
        "Bài 5: Viết chương trình thực hiện các yêu cầu sau:\n",
        "- Sinh ngẫu nhiên 1 danh sách số nguyên gồm n phần tử. Trong đó, n được nhập vào từ bàn\n",
        "phím và số nguyên sinh ra nằm trong khoảng từ 0 đến max_value. Giá trị max_value được\n",
        "nhập vào từ bàn phím;\n",
        "- Hỏi người dùng lựa chọn sắp xếp danh sách trên theo chiều tăng dần hay giảm dần và sắp\n",
        "xếp danh sách theo lựa chọn của người dùng;\n",
        "- In kết quả sắp xếp ra màn hình."
      ]
    },
    {
      "cell_type": "code",
      "metadata": {
        "colab": {
          "base_uri": "https://localhost:8080/"
        },
        "id": "PKcYBTkwCz-f",
        "outputId": "70b7a483-1720-4803-f57c-d2fbb11ea61c"
      },
      "source": [
        "import random\n",
        "n = int(input(\"số các phần tử trong danh sách: \"))\n",
        "max = int(input(\"Max_value của danh sách là: \"))\n",
        "dsach = []\n",
        "for i in range (n):\n",
        "  r = random.randint(0,max)\n",
        "  dsach.append(r)\n",
        "print(\"danh sách bạn vừa tạo là: \",dsach, \"\\n\")\n",
        "\n",
        "q = input(\"bạn muốn sắp xếp theo tăng dần hay giảm dần?(t/g): \")\n",
        "\n",
        "if q == 't' or q == 'T' :\n",
        "  for m in range(0, len(dsach)-1):\n",
        "    for n in range(m+1, len(dsach)):\n",
        "      if dsach[m]>dsach[n]:\n",
        "        dsach[m],dsach[n]=dsach[n],dsach[m]\n",
        "  print(\"sắp xếp danh sách theo chiều tăng dần là: \",dsach)\n",
        "elif q == 'g' or q == 'G' :\n",
        "  for m in range(0, len(dsach)-1):\n",
        "    for n in range(m+1, len(dsach)):\n",
        "      if dsach[m]<dsach[n]:\n",
        "        dsach[m],dsach[n]=dsach[n],dsach[m]\n",
        "  print(\"sắp xếp danh sách theo chiều giảm dần là: \",dsach)\n"
      ],
      "execution_count": null,
      "outputs": [
        {
          "output_type": "stream",
          "name": "stdout",
          "text": [
            "số các phần tử trong danh sách: 5\n",
            "Max_value của danh sách là: 19\n",
            "danh sách bạn vừa tạo là:  [19, 2, 18, 0, 1] \n",
            "\n",
            "bạn muốn sắp xếp theo tăng dần hay giảm dần?(t/g): g\n",
            "sắp xếp danh sách theo chiều giảm dần là:  [19, 18, 2, 1, 0]\n"
          ]
        }
      ]
    }
  ]
}