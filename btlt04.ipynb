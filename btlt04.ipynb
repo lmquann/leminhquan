{
  "nbformat": 4,
  "nbformat_minor": 0,
  "metadata": {
    "colab": {
      "name": "lập trình tập tin nâng cao.ipynb",
      "provenance": [],
      "collapsed_sections": [],
      "include_colab_link": true
    },
    "kernelspec": {
      "name": "python3",
      "display_name": "Python 3"
    },
    "language_info": {
      "name": "python"
    }
  },
  "cells": [
    {
      "cell_type": "markdown",
      "metadata": {
        "id": "view-in-github",
        "colab_type": "text"
      },
      "source": [
        "<a href=\"https://colab.research.google.com/github/lmquann/leminhquan/blob/main/btlt04.ipynb\" target=\"_parent\"><img src=\"https://colab.research.google.com/assets/colab-badge.svg\" alt=\"Open In Colab\"/></a>"
      ]
    },
    {
      "cell_type": "code",
      "metadata": {
        "id": "kIKvSelbPeEq"
      },
      "source": [
        "import pickle\n",
        "import random"
      ],
      "execution_count": 2,
      "outputs": []
    },
    {
      "cell_type": "code",
      "metadata": {
        "id": "H1-PYDtreo2Z"
      },
      "source": [
        "class Person:\n",
        "  def __init__(self, name, phone_number, email):\n",
        "    self.name = name\n",
        "    self.phone_number = phone_number\n",
        "    self.email = email\n",
        "\n",
        "class Student(Person):\n",
        "  def __init__(self, name, phone_number, email, id, gpa):\n",
        "    Person.__init__(self, name, phone_number, email)\n",
        "    self.student_number = id\n",
        "    self.average_mark = gpa\n",
        "\n",
        "class Professor(Person):\n",
        "  def __init__(self, name, phone_number, email, salary):\n",
        "    Person.__init__(self, name, phone_number, email)\n",
        "    self.salary = salary"
      ],
      "execution_count": 6,
      "outputs": []
    },
    {
      "cell_type": "code",
      "metadata": {
        "colab": {
          "base_uri": "https://localhost:8080/"
        },
        "id": "db-QSJdzeuvx",
        "outputId": "0db8f548-e51f-48db-dbe3-6190242e9a0a"
      },
      "source": [
        "person = []\n",
        "for i in range(10):\n",
        "  name = input(\"Tên: \")\n",
        "  phone = random.randint(1000000, 100000000)\n",
        "  email = name + \"@gmail.com\"\n",
        "  person.append(vars(Person(name, phone, email))) \n",
        "per = sorted(person, key=lambda k:k['name'], reverse=True)\n",
        "print(per)"
      ],
      "execution_count": 4,
      "outputs": [
        {
          "output_type": "stream",
          "name": "stdout",
          "text": [
            "Tên: mot \n",
            "Tên: hai\n",
            "Tên: ba\n",
            "Tên: bon\n",
            "Tên: nam\n",
            "Tên: sau\n",
            "Tên: bay\n",
            "Tên: tam\n",
            "Tên: chin\n",
            "Tên: muoi\n",
            "[{'name': 'tam', 'phone_number': 60788691, 'email': 'tam@gmail.com'}, {'name': 'sau', 'phone_number': 57284328, 'email': 'sau@gmail.com'}, {'name': 'nam', 'phone_number': 70399104, 'email': 'nam@gmail.com'}, {'name': 'muoi', 'phone_number': 53677305, 'email': 'muoi@gmail.com'}, {'name': 'mot ', 'phone_number': 53230692, 'email': 'mot @gmail.com'}, {'name': 'hai', 'phone_number': 29506124, 'email': 'hai@gmail.com'}, {'name': 'chin', 'phone_number': 20129551, 'email': 'chin@gmail.com'}, {'name': 'bon', 'phone_number': 15017915, 'email': 'bon@gmail.com'}, {'name': 'bay', 'phone_number': 50216281, 'email': 'bay@gmail.com'}, {'name': 'ba', 'phone_number': 67860826, 'email': 'ba@gmail.com'}]\n"
          ]
        }
      ]
    },
    {
      "cell_type": "code",
      "metadata": {
        "colab": {
          "base_uri": "https://localhost:8080/"
        },
        "id": "NtmBWxRGih0D",
        "outputId": "3271cd9e-22ae-444a-e1a4-59c696f544f1"
      },
      "source": [
        "student = []\n",
        "ten = [\"mot\", \"hai\", \"ba\", \"bon\", \"nam\", \"sau\", \"bay\", \"tam\", \"chin\", \"muoi\"]\n",
        "for i in range(10):\n",
        "  name = random.choice(ten)\n",
        "  phone = random.randint(1000000000, 9999999999)\n",
        "  email = name + \"@gmail.com\"\n",
        "  id = random.randint(1,100)\n",
        "  gpa = random.randint(1,10)\n",
        "  \n",
        "  hs = Student(name, phone, email, id, gpa)\n",
        "  student.append(vars(hs))\n",
        "print(student)\n",
        "stu = sorted(student, key=lambda k:k['average_mark'], reverse=True)\n",
        "stu"
      ],
      "execution_count": 8,
      "outputs": [
        {
          "output_type": "stream",
          "name": "stdout",
          "text": [
            "[{'name': 'hai', 'phone_number': 6409503341, 'email': 'hai@gmail.com', 'student_number': 90, 'average_mark': 4}, {'name': 'sau', 'phone_number': 2709321693, 'email': 'sau@gmail.com', 'student_number': 39, 'average_mark': 3}, {'name': 'bay', 'phone_number': 6762481782, 'email': 'bay@gmail.com', 'student_number': 64, 'average_mark': 9}, {'name': 'chin', 'phone_number': 3927193712, 'email': 'chin@gmail.com', 'student_number': 71, 'average_mark': 9}, {'name': 'mot', 'phone_number': 7144873256, 'email': 'mot@gmail.com', 'student_number': 54, 'average_mark': 5}, {'name': 'tam', 'phone_number': 7700145383, 'email': 'tam@gmail.com', 'student_number': 95, 'average_mark': 3}, {'name': 'ba', 'phone_number': 3818063688, 'email': 'ba@gmail.com', 'student_number': 25, 'average_mark': 4}, {'name': 'tam', 'phone_number': 9308184000, 'email': 'tam@gmail.com', 'student_number': 69, 'average_mark': 7}, {'name': 'nam', 'phone_number': 6304655793, 'email': 'nam@gmail.com', 'student_number': 4, 'average_mark': 9}, {'name': 'mot', 'phone_number': 5101182319, 'email': 'mot@gmail.com', 'student_number': 4, 'average_mark': 5}]\n"
          ]
        },
        {
          "output_type": "execute_result",
          "data": {
            "text/plain": [
              "[{'average_mark': 9,\n",
              "  'email': 'bay@gmail.com',\n",
              "  'name': 'bay',\n",
              "  'phone_number': 6762481782,\n",
              "  'student_number': 64},\n",
              " {'average_mark': 9,\n",
              "  'email': 'chin@gmail.com',\n",
              "  'name': 'chin',\n",
              "  'phone_number': 3927193712,\n",
              "  'student_number': 71},\n",
              " {'average_mark': 9,\n",
              "  'email': 'nam@gmail.com',\n",
              "  'name': 'nam',\n",
              "  'phone_number': 6304655793,\n",
              "  'student_number': 4},\n",
              " {'average_mark': 7,\n",
              "  'email': 'tam@gmail.com',\n",
              "  'name': 'tam',\n",
              "  'phone_number': 9308184000,\n",
              "  'student_number': 69},\n",
              " {'average_mark': 5,\n",
              "  'email': 'mot@gmail.com',\n",
              "  'name': 'mot',\n",
              "  'phone_number': 7144873256,\n",
              "  'student_number': 54},\n",
              " {'average_mark': 5,\n",
              "  'email': 'mot@gmail.com',\n",
              "  'name': 'mot',\n",
              "  'phone_number': 5101182319,\n",
              "  'student_number': 4},\n",
              " {'average_mark': 4,\n",
              "  'email': 'hai@gmail.com',\n",
              "  'name': 'hai',\n",
              "  'phone_number': 6409503341,\n",
              "  'student_number': 90},\n",
              " {'average_mark': 4,\n",
              "  'email': 'ba@gmail.com',\n",
              "  'name': 'ba',\n",
              "  'phone_number': 3818063688,\n",
              "  'student_number': 25},\n",
              " {'average_mark': 3,\n",
              "  'email': 'sau@gmail.com',\n",
              "  'name': 'sau',\n",
              "  'phone_number': 2709321693,\n",
              "  'student_number': 39},\n",
              " {'average_mark': 3,\n",
              "  'email': 'tam@gmail.com',\n",
              "  'name': 'tam',\n",
              "  'phone_number': 7700145383,\n",
              "  'student_number': 95}]"
            ]
          },
          "metadata": {},
          "execution_count": 8
        }
      ]
    },
    {
      "cell_type": "code",
      "metadata": {
        "colab": {
          "base_uri": "https://localhost:8080/"
        },
        "id": "PFtaDviloIUn",
        "outputId": "56c4f023-2394-4649-999d-5ab61e6d2588"
      },
      "source": [
        "professor = []\n",
        "ten = (\"mot\", \"hai\", \"ba\", \"bon\", \"nam\", \"sau\", \"bay\", \"tam\", \"chin\", \"muoi\")\n",
        "for i in range(10): \n",
        "  name = random.choice(ten)\n",
        "  phone = random.randint(1000000000, 9999999999)\n",
        "  email = name + \"@gmail.com\"\n",
        "  salary = random.randint(10000000, 99999999)\n",
        "\n",
        "  luong = Professor(name, phone, email, salary)\n",
        "  professor.append(vars(luong))\n",
        "  pro = sorted(professor, key=lambda k:k['salary'], reverse=False)\n",
        "print(professor)\n",
        "pro"
      ],
      "execution_count": 9,
      "outputs": [
        {
          "output_type": "stream",
          "name": "stdout",
          "text": [
            "[{'name': 'ba', 'phone_number': 4079719116, 'email': 'ba@gmail.com', 'salary': 54561705}, {'name': 'ba', 'phone_number': 5597473661, 'email': 'ba@gmail.com', 'salary': 36683584}, {'name': 'muoi', 'phone_number': 6813717039, 'email': 'muoi@gmail.com', 'salary': 31853486}, {'name': 'bay', 'phone_number': 2430338004, 'email': 'bay@gmail.com', 'salary': 79837850}, {'name': 'hai', 'phone_number': 5162071596, 'email': 'hai@gmail.com', 'salary': 67787730}, {'name': 'ba', 'phone_number': 8492070364, 'email': 'ba@gmail.com', 'salary': 99482599}, {'name': 'sau', 'phone_number': 4771953808, 'email': 'sau@gmail.com', 'salary': 14199162}, {'name': 'tam', 'phone_number': 5530108340, 'email': 'tam@gmail.com', 'salary': 50150427}, {'name': 'mot', 'phone_number': 2180462313, 'email': 'mot@gmail.com', 'salary': 30959853}, {'name': 'muoi', 'phone_number': 4498919461, 'email': 'muoi@gmail.com', 'salary': 27077422}]\n"
          ]
        },
        {
          "output_type": "execute_result",
          "data": {
            "text/plain": [
              "[{'email': 'sau@gmail.com',\n",
              "  'name': 'sau',\n",
              "  'phone_number': 4771953808,\n",
              "  'salary': 14199162},\n",
              " {'email': 'muoi@gmail.com',\n",
              "  'name': 'muoi',\n",
              "  'phone_number': 4498919461,\n",
              "  'salary': 27077422},\n",
              " {'email': 'mot@gmail.com',\n",
              "  'name': 'mot',\n",
              "  'phone_number': 2180462313,\n",
              "  'salary': 30959853},\n",
              " {'email': 'muoi@gmail.com',\n",
              "  'name': 'muoi',\n",
              "  'phone_number': 6813717039,\n",
              "  'salary': 31853486},\n",
              " {'email': 'ba@gmail.com',\n",
              "  'name': 'ba',\n",
              "  'phone_number': 5597473661,\n",
              "  'salary': 36683584},\n",
              " {'email': 'tam@gmail.com',\n",
              "  'name': 'tam',\n",
              "  'phone_number': 5530108340,\n",
              "  'salary': 50150427},\n",
              " {'email': 'ba@gmail.com',\n",
              "  'name': 'ba',\n",
              "  'phone_number': 4079719116,\n",
              "  'salary': 54561705},\n",
              " {'email': 'hai@gmail.com',\n",
              "  'name': 'hai',\n",
              "  'phone_number': 5162071596,\n",
              "  'salary': 67787730},\n",
              " {'email': 'bay@gmail.com',\n",
              "  'name': 'bay',\n",
              "  'phone_number': 2430338004,\n",
              "  'salary': 79837850},\n",
              " {'email': 'ba@gmail.com',\n",
              "  'name': 'ba',\n",
              "  'phone_number': 8492070364,\n",
              "  'salary': 99482599}]"
            ]
          },
          "metadata": {},
          "execution_count": 9
        }
      ]
    },
    {
      "cell_type": "code",
      "metadata": {
        "colab": {
          "base_uri": "https://localhost:8080/"
        },
        "id": "_JrArOu8qkY-",
        "outputId": "94719ac0-f954-4df1-bcf6-3d1e621a21d6"
      },
      "source": [
        "f = open('Person.txt', 'wb')\n",
        "pickle.dump(per, f)\n",
        "f.close()\n",
        "f = open(\"Person.txt\", \"rb\")\n",
        "print(\"Person\\n\", pickle.load(f))\n",
        "f.close()"
      ],
      "execution_count": 11,
      "outputs": [
        {
          "output_type": "stream",
          "name": "stdout",
          "text": [
            "Person\n",
            " [{'name': 'tam', 'phone_number': 60788691, 'email': 'tam@gmail.com'}, {'name': 'sau', 'phone_number': 57284328, 'email': 'sau@gmail.com'}, {'name': 'nam', 'phone_number': 70399104, 'email': 'nam@gmail.com'}, {'name': 'muoi', 'phone_number': 53677305, 'email': 'muoi@gmail.com'}, {'name': 'mot ', 'phone_number': 53230692, 'email': 'mot @gmail.com'}, {'name': 'hai', 'phone_number': 29506124, 'email': 'hai@gmail.com'}, {'name': 'chin', 'phone_number': 20129551, 'email': 'chin@gmail.com'}, {'name': 'bon', 'phone_number': 15017915, 'email': 'bon@gmail.com'}, {'name': 'bay', 'phone_number': 50216281, 'email': 'bay@gmail.com'}, {'name': 'ba', 'phone_number': 67860826, 'email': 'ba@gmail.com'}]\n"
          ]
        }
      ]
    },
    {
      "cell_type": "code",
      "metadata": {
        "colab": {
          "base_uri": "https://localhost:8080/"
        },
        "id": "oH2bqXTQsEt9",
        "outputId": "84328161-399e-4a5f-9baf-d16847fb1d72"
      },
      "source": [
        "s = open(\"Student.txt\", \"wb\")\n",
        "pickle.dump(stu, s)\n",
        "s.close()\n",
        "s = open(\"Student.txt\", \"rb\")\n",
        "print(\"Student\\n\", pickle.load(s))\n",
        "s.close()"
      ],
      "execution_count": 12,
      "outputs": [
        {
          "output_type": "stream",
          "name": "stdout",
          "text": [
            "Student\n",
            " [{'name': 'bay', 'phone_number': 6762481782, 'email': 'bay@gmail.com', 'student_number': 64, 'average_mark': 9}, {'name': 'chin', 'phone_number': 3927193712, 'email': 'chin@gmail.com', 'student_number': 71, 'average_mark': 9}, {'name': 'nam', 'phone_number': 6304655793, 'email': 'nam@gmail.com', 'student_number': 4, 'average_mark': 9}, {'name': 'tam', 'phone_number': 9308184000, 'email': 'tam@gmail.com', 'student_number': 69, 'average_mark': 7}, {'name': 'mot', 'phone_number': 7144873256, 'email': 'mot@gmail.com', 'student_number': 54, 'average_mark': 5}, {'name': 'mot', 'phone_number': 5101182319, 'email': 'mot@gmail.com', 'student_number': 4, 'average_mark': 5}, {'name': 'hai', 'phone_number': 6409503341, 'email': 'hai@gmail.com', 'student_number': 90, 'average_mark': 4}, {'name': 'ba', 'phone_number': 3818063688, 'email': 'ba@gmail.com', 'student_number': 25, 'average_mark': 4}, {'name': 'sau', 'phone_number': 2709321693, 'email': 'sau@gmail.com', 'student_number': 39, 'average_mark': 3}, {'name': 'tam', 'phone_number': 7700145383, 'email': 'tam@gmail.com', 'student_number': 95, 'average_mark': 3}]\n"
          ]
        }
      ]
    },
    {
      "cell_type": "code",
      "metadata": {
        "colab": {
          "base_uri": "https://localhost:8080/"
        },
        "id": "PFFF9_sItRGO",
        "outputId": "44c14798-82c6-466e-ac3d-90c43e5feb2e"
      },
      "source": [
        "x = open(\"Professor.txt\", \"wb\")\n",
        "pickle.dump(pro, x)\n",
        "x.close()\n",
        "x = open(\"Professor.txt\", \"rb\")\n",
        "print(\"Professor\\n\", pickle.load(x))\n",
        "x.close()"
      ],
      "execution_count": 13,
      "outputs": [
        {
          "output_type": "stream",
          "name": "stdout",
          "text": [
            "Professor\n",
            " [{'name': 'sau', 'phone_number': 4771953808, 'email': 'sau@gmail.com', 'salary': 14199162}, {'name': 'muoi', 'phone_number': 4498919461, 'email': 'muoi@gmail.com', 'salary': 27077422}, {'name': 'mot', 'phone_number': 2180462313, 'email': 'mot@gmail.com', 'salary': 30959853}, {'name': 'muoi', 'phone_number': 6813717039, 'email': 'muoi@gmail.com', 'salary': 31853486}, {'name': 'ba', 'phone_number': 5597473661, 'email': 'ba@gmail.com', 'salary': 36683584}, {'name': 'tam', 'phone_number': 5530108340, 'email': 'tam@gmail.com', 'salary': 50150427}, {'name': 'ba', 'phone_number': 4079719116, 'email': 'ba@gmail.com', 'salary': 54561705}, {'name': 'hai', 'phone_number': 5162071596, 'email': 'hai@gmail.com', 'salary': 67787730}, {'name': 'bay', 'phone_number': 2430338004, 'email': 'bay@gmail.com', 'salary': 79837850}, {'name': 'ba', 'phone_number': 8492070364, 'email': 'ba@gmail.com', 'salary': 99482599}]\n"
          ]
        }
      ]
    }
  ]
}