{
  "nbformat": 4,
  "nbformat_minor": 0,
  "metadata": {
    "colab": {
      "name": "lập trình tập tin nâng cao.ipynb",
      "provenance": [],
      "collapsed_sections": [],
      "include_colab_link": true
    },
    "kernelspec": {
      "name": "python3",
      "display_name": "Python 3"
    },
    "language_info": {
      "name": "python"
    }
  },
  "cells": [
    {
      "cell_type": "markdown",
      "metadata": {
        "id": "view-in-github",
        "colab_type": "text"
      },
      "source": [
        "<a href=\"https://colab.research.google.com/github/lmquann/leminhquan/blob/main/btlt04.ipynb\" target=\"_parent\"><img src=\"https://colab.research.google.com/assets/colab-badge.svg\" alt=\"Open In Colab\"/></a>"
      ]
    },
    {
      "cell_type": "code",
      "metadata": {
        "id": "kIKvSelbPeEq"
      },
      "source": [
        "import pickle\n",
        "import random"
      ],
      "execution_count": null,
      "outputs": []
    },
    {
      "cell_type": "code",
      "metadata": {
        "id": "H1-PYDtreo2Z"
      },
      "source": [
        "class Person:\n",
        "  def __init__(self, name, phone_number, email):\n",
        "    self.name = name\n",
        "    self.phone_number = phone_number\n",
        "    self.email = email\n",
        "\n",
        "class Student(Person):\n",
        "  def __init__(self, name, phone_number, email, student_number, average_mark):\n",
        "    super().__init__(name, phone_number, email)\n",
        "    self.student_number = student_number\n",
        "    self.average_mark = average_mark\n",
        "\n",
        "class Professor(Person):\n",
        "  def __init__(self, name, phone_number, email, salary):\n",
        "    super().__init__(name, phone_number, email)\n",
        "    self.salary = salary"
      ],
      "execution_count": null,
      "outputs": []
    },
    {
      "cell_type": "code",
      "metadata": {
        "colab": {
          "base_uri": "https://localhost:8080/"
        },
        "id": "db-QSJdzeuvx",
        "outputId": "f336f8bd-009c-4d97-b4bd-f5b55c046d13"
      },
      "source": [
        "perSon = []\n",
        "for i in range(10):\n",
        "  name = input(\"Tên: \")\n",
        "  phone = random.randint(1000000, 100000000)\n",
        "  email = name + \"@gmail.com\"\n",
        "  perSon.append(vars(Person(name, phone, email))) #Person(name, phone, email).__dict__\n",
        "newper = sorted(perSon, key=lambda k:k['name'], reverse=True)\n",
        "print(newper)"
      ],
      "execution_count": null,
      "outputs": [
        {
          "output_type": "stream",
          "name": "stdout",
          "text": [
            "Tên: dg\n",
            "Tên: ưe\n",
            "Tên: sg\n",
            "Tên: uy\n",
            "Tên: sg\n",
            "Tên: ể\n",
            "Tên: à\n",
            "Tên: ge\n",
            "Tên: se\n",
            "Tên: gds\n",
            "[{'name': 'ể', 'phone_number': 12389391, 'email': 'ể@gmail.com'}, {'name': 'ưe', 'phone_number': 9817888, 'email': 'ưe@gmail.com'}, {'name': 'à', 'phone_number': 37187065, 'email': 'à@gmail.com'}, {'name': 'uy', 'phone_number': 56374445, 'email': 'uy@gmail.com'}, {'name': 'sg', 'phone_number': 41113528, 'email': 'sg@gmail.com'}, {'name': 'sg', 'phone_number': 12037578, 'email': 'sg@gmail.com'}, {'name': 'se', 'phone_number': 53498750, 'email': 'se@gmail.com'}, {'name': 'ge', 'phone_number': 26165648, 'email': 'ge@gmail.com'}, {'name': 'gds', 'phone_number': 58668850, 'email': 'gds@gmail.com'}, {'name': 'dg', 'phone_number': 79374633, 'email': 'dg@gmail.com'}]\n"
          ]
        }
      ]
    },
    {
      "cell_type": "code",
      "metadata": {
        "colab": {
          "base_uri": "https://localhost:8080/"
        },
        "id": "NtmBWxRGih0D",
        "outputId": "5c333af5-8910-4173-a85a-e14b8f8b3c76"
      },
      "source": [
        "stuDent = []\n",
        "ten = [\"ha\", \"minh\", \"nam\", \"mi\", \"tao\", \"heo\", \"ca\", \"gia\", \"lien\", \"thao\"]\n",
        "for i in range(10):\n",
        "  name = random.choice(ten)\n",
        "  phone = random.randint(1000000000, 9999999999)\n",
        "  email = name + \"@gmail.com\"\n",
        "  student_number = random.randint(1,100)\n",
        "  average_mark = random.randint(1,10)\n",
        "  \n",
        "  hs = Student(name, phone, email, student_number, average_mark)\n",
        "  stuDent.append(vars(hs))\n",
        "print(stuDent)\n",
        "newstu = sorted(stuDent, key=lambda k:k['average_mark'], reverse=True)\n",
        "newstu"
      ],
      "execution_count": null,
      "outputs": [
        {
          "output_type": "stream",
          "name": "stdout",
          "text": [
            "[{'name': 'nam', 'phone_number': 8341358426, 'email': 'nam@gmail.com', 'student_number': 80, 'average_mark': 3}, {'name': 'lien', 'phone_number': 1896407630, 'email': 'lien@gmail.com', 'student_number': 92, 'average_mark': 8}, {'name': 'minh', 'phone_number': 7922176983, 'email': 'minh@gmail.com', 'student_number': 46, 'average_mark': 10}, {'name': 'heo', 'phone_number': 6862612384, 'email': 'heo@gmail.com', 'student_number': 95, 'average_mark': 2}, {'name': 'tao', 'phone_number': 2536888058, 'email': 'tao@gmail.com', 'student_number': 17, 'average_mark': 5}, {'name': 'tao', 'phone_number': 7832822374, 'email': 'tao@gmail.com', 'student_number': 43, 'average_mark': 10}, {'name': 'gia', 'phone_number': 7684158730, 'email': 'gia@gmail.com', 'student_number': 30, 'average_mark': 4}, {'name': 'thao', 'phone_number': 3405640535, 'email': 'thao@gmail.com', 'student_number': 27, 'average_mark': 1}, {'name': 'thao', 'phone_number': 6086137960, 'email': 'thao@gmail.com', 'student_number': 70, 'average_mark': 8}, {'name': 'heo', 'phone_number': 3172882304, 'email': 'heo@gmail.com', 'student_number': 92, 'average_mark': 8}]\n"
          ]
        },
        {
          "output_type": "execute_result",
          "data": {
            "text/plain": [
              "[{'average_mark': 10,\n",
              "  'email': 'minh@gmail.com',\n",
              "  'name': 'minh',\n",
              "  'phone_number': 7922176983,\n",
              "  'student_number': 46},\n",
              " {'average_mark': 10,\n",
              "  'email': 'tao@gmail.com',\n",
              "  'name': 'tao',\n",
              "  'phone_number': 7832822374,\n",
              "  'student_number': 43},\n",
              " {'average_mark': 8,\n",
              "  'email': 'lien@gmail.com',\n",
              "  'name': 'lien',\n",
              "  'phone_number': 1896407630,\n",
              "  'student_number': 92},\n",
              " {'average_mark': 8,\n",
              "  'email': 'thao@gmail.com',\n",
              "  'name': 'thao',\n",
              "  'phone_number': 6086137960,\n",
              "  'student_number': 70},\n",
              " {'average_mark': 8,\n",
              "  'email': 'heo@gmail.com',\n",
              "  'name': 'heo',\n",
              "  'phone_number': 3172882304,\n",
              "  'student_number': 92},\n",
              " {'average_mark': 5,\n",
              "  'email': 'tao@gmail.com',\n",
              "  'name': 'tao',\n",
              "  'phone_number': 2536888058,\n",
              "  'student_number': 17},\n",
              " {'average_mark': 4,\n",
              "  'email': 'gia@gmail.com',\n",
              "  'name': 'gia',\n",
              "  'phone_number': 7684158730,\n",
              "  'student_number': 30},\n",
              " {'average_mark': 3,\n",
              "  'email': 'nam@gmail.com',\n",
              "  'name': 'nam',\n",
              "  'phone_number': 8341358426,\n",
              "  'student_number': 80},\n",
              " {'average_mark': 2,\n",
              "  'email': 'heo@gmail.com',\n",
              "  'name': 'heo',\n",
              "  'phone_number': 6862612384,\n",
              "  'student_number': 95},\n",
              " {'average_mark': 1,\n",
              "  'email': 'thao@gmail.com',\n",
              "  'name': 'thao',\n",
              "  'phone_number': 3405640535,\n",
              "  'student_number': 27}]"
            ]
          },
          "metadata": {},
          "execution_count": 15
        }
      ]
    },
    {
      "cell_type": "code",
      "metadata": {
        "colab": {
          "base_uri": "https://localhost:8080/"
        },
        "id": "PFtaDviloIUn",
        "outputId": "2efdf48d-39a6-4dac-b6a4-2542679a6bf9"
      },
      "source": [
        "proF = []\n",
        "ten = (\"cuong\", \"dung\", \"mau\", \"lich\", \"thai\", \"viet\", \"xuan\", \"tien\", \"kien\", \"giang\")\n",
        "for i in range(10): \n",
        "  name = random.choice(ten)\n",
        "  phone = random.randint(1000000000, 9999999999)\n",
        "  email = name + \"@gmail.com\"\n",
        "  salary = random.randint(10000000, 99999999)\n",
        "\n",
        "  luong = Professor(name, phone, email, salary)\n",
        "  proF.append(vars(luong))\n",
        "  newpro = sorted(proF, key=lambda k:k['salary'], reverse=False)\n",
        "print(proF)\n",
        "newpro"
      ],
      "execution_count": null,
      "outputs": [
        {
          "output_type": "stream",
          "name": "stdout",
          "text": [
            "[{'name': 'cuong', 'phone_number': 3584156746, 'email': 'cuong@gmail.com', 'salary': 95164599}, {'name': 'mau', 'phone_number': 7875760921, 'email': 'mau@gmail.com', 'salary': 52112344}, {'name': 'cuong', 'phone_number': 8091461639, 'email': 'cuong@gmail.com', 'salary': 46091539}, {'name': 'lich', 'phone_number': 8621249307, 'email': 'lich@gmail.com', 'salary': 62393910}, {'name': 'xuan', 'phone_number': 8925618674, 'email': 'xuan@gmail.com', 'salary': 30058314}, {'name': 'thai', 'phone_number': 7882624311, 'email': 'thai@gmail.com', 'salary': 53320571}, {'name': 'viet', 'phone_number': 7181579658, 'email': 'viet@gmail.com', 'salary': 71423449}, {'name': 'cuong', 'phone_number': 6389445981, 'email': 'cuong@gmail.com', 'salary': 41188556}, {'name': 'cuong', 'phone_number': 6522669397, 'email': 'cuong@gmail.com', 'salary': 75111343}, {'name': 'xuan', 'phone_number': 1021104659, 'email': 'xuan@gmail.com', 'salary': 38015436}]\n"
          ]
        },
        {
          "output_type": "execute_result",
          "data": {
            "text/plain": [
              "[{'email': 'xuan@gmail.com',\n",
              "  'name': 'xuan',\n",
              "  'phone_number': 8925618674,\n",
              "  'salary': 30058314},\n",
              " {'email': 'xuan@gmail.com',\n",
              "  'name': 'xuan',\n",
              "  'phone_number': 1021104659,\n",
              "  'salary': 38015436},\n",
              " {'email': 'cuong@gmail.com',\n",
              "  'name': 'cuong',\n",
              "  'phone_number': 6389445981,\n",
              "  'salary': 41188556},\n",
              " {'email': 'cuong@gmail.com',\n",
              "  'name': 'cuong',\n",
              "  'phone_number': 8091461639,\n",
              "  'salary': 46091539},\n",
              " {'email': 'mau@gmail.com',\n",
              "  'name': 'mau',\n",
              "  'phone_number': 7875760921,\n",
              "  'salary': 52112344},\n",
              " {'email': 'thai@gmail.com',\n",
              "  'name': 'thai',\n",
              "  'phone_number': 7882624311,\n",
              "  'salary': 53320571},\n",
              " {'email': 'lich@gmail.com',\n",
              "  'name': 'lich',\n",
              "  'phone_number': 8621249307,\n",
              "  'salary': 62393910},\n",
              " {'email': 'viet@gmail.com',\n",
              "  'name': 'viet',\n",
              "  'phone_number': 7181579658,\n",
              "  'salary': 71423449},\n",
              " {'email': 'cuong@gmail.com',\n",
              "  'name': 'cuong',\n",
              "  'phone_number': 6522669397,\n",
              "  'salary': 75111343},\n",
              " {'email': 'cuong@gmail.com',\n",
              "  'name': 'cuong',\n",
              "  'phone_number': 3584156746,\n",
              "  'salary': 95164599}]"
            ]
          },
          "metadata": {},
          "execution_count": 14
        }
      ]
    },
    {
      "cell_type": "code",
      "metadata": {
        "colab": {
          "base_uri": "https://localhost:8080/"
        },
        "id": "_JrArOu8qkY-",
        "outputId": "d33bb809-49e2-4fbc-a60f-361ec1ddce3f"
      },
      "source": [
        "f = open('Person', 'wb')\n",
        "pickle.dump(newper, f)\n",
        "f.close()\n",
        "f = open(\"Person\", \"rb\")\n",
        "print(\"Person\\n\", pickle.load(f))\n",
        "f.close()"
      ],
      "execution_count": null,
      "outputs": [
        {
          "output_type": "stream",
          "name": "stdout",
          "text": [
            "Person\n",
            " [{'name': 'ể', 'phone_number': 12389391, 'email': 'ể@gmail.com'}, {'name': 'ưe', 'phone_number': 9817888, 'email': 'ưe@gmail.com'}, {'name': 'à', 'phone_number': 37187065, 'email': 'à@gmail.com'}, {'name': 'uy', 'phone_number': 56374445, 'email': 'uy@gmail.com'}, {'name': 'sg', 'phone_number': 41113528, 'email': 'sg@gmail.com'}, {'name': 'sg', 'phone_number': 12037578, 'email': 'sg@gmail.com'}, {'name': 'se', 'phone_number': 53498750, 'email': 'se@gmail.com'}, {'name': 'ge', 'phone_number': 26165648, 'email': 'ge@gmail.com'}, {'name': 'gds', 'phone_number': 58668850, 'email': 'gds@gmail.com'}, {'name': 'dg', 'phone_number': 79374633, 'email': 'dg@gmail.com'}]\n"
          ]
        }
      ]
    },
    {
      "cell_type": "code",
      "metadata": {
        "colab": {
          "base_uri": "https://localhost:8080/"
        },
        "id": "oH2bqXTQsEt9",
        "outputId": "b797f5d4-8048-4d8a-df13-a9442186e0c6"
      },
      "source": [
        "s = open(\"Student\", \"wb\")\n",
        "pickle.dump(newstu, s)\n",
        "s.close()\n",
        "s = open(\"Student\", \"rb\")\n",
        "print(\"Student\\n\", pickle.load(s))\n",
        "s.close()"
      ],
      "execution_count": null,
      "outputs": [
        {
          "output_type": "stream",
          "name": "stdout",
          "text": [
            "Student\n",
            " [{'name': 'minh', 'phone_number': 7922176983, 'email': 'minh@gmail.com', 'student_number': 46, 'average_mark': 10}, {'name': 'tao', 'phone_number': 7832822374, 'email': 'tao@gmail.com', 'student_number': 43, 'average_mark': 10}, {'name': 'lien', 'phone_number': 1896407630, 'email': 'lien@gmail.com', 'student_number': 92, 'average_mark': 8}, {'name': 'thao', 'phone_number': 6086137960, 'email': 'thao@gmail.com', 'student_number': 70, 'average_mark': 8}, {'name': 'heo', 'phone_number': 3172882304, 'email': 'heo@gmail.com', 'student_number': 92, 'average_mark': 8}, {'name': 'tao', 'phone_number': 2536888058, 'email': 'tao@gmail.com', 'student_number': 17, 'average_mark': 5}, {'name': 'gia', 'phone_number': 7684158730, 'email': 'gia@gmail.com', 'student_number': 30, 'average_mark': 4}, {'name': 'nam', 'phone_number': 8341358426, 'email': 'nam@gmail.com', 'student_number': 80, 'average_mark': 3}, {'name': 'heo', 'phone_number': 6862612384, 'email': 'heo@gmail.com', 'student_number': 95, 'average_mark': 2}, {'name': 'thao', 'phone_number': 3405640535, 'email': 'thao@gmail.com', 'student_number': 27, 'average_mark': 1}]\n"
          ]
        }
      ]
    },
    {
      "cell_type": "code",
      "metadata": {
        "colab": {
          "base_uri": "https://localhost:8080/"
        },
        "id": "PFFF9_sItRGO",
        "outputId": "3a57dc25-976a-4302-b8bb-3204f6624310"
      },
      "source": [
        "x = open(\"Professor\", \"wb\")\n",
        "pickle.dump(newpro, x)\n",
        "x.close()\n",
        "x = open(\"Professor\", \"rb\")\n",
        "print(\"Professor\\n\", pickle.load(x))\n",
        "x.close()"
      ],
      "execution_count": null,
      "outputs": [
        {
          "output_type": "stream",
          "name": "stdout",
          "text": [
            "Professor\n",
            " [{'name': 'xuan', 'phone_number': 8925618674, 'email': 'xuan@gmail.com', 'salary': 30058314}, {'name': 'xuan', 'phone_number': 1021104659, 'email': 'xuan@gmail.com', 'salary': 38015436}, {'name': 'cuong', 'phone_number': 6389445981, 'email': 'cuong@gmail.com', 'salary': 41188556}, {'name': 'cuong', 'phone_number': 8091461639, 'email': 'cuong@gmail.com', 'salary': 46091539}, {'name': 'mau', 'phone_number': 7875760921, 'email': 'mau@gmail.com', 'salary': 52112344}, {'name': 'thai', 'phone_number': 7882624311, 'email': 'thai@gmail.com', 'salary': 53320571}, {'name': 'lich', 'phone_number': 8621249307, 'email': 'lich@gmail.com', 'salary': 62393910}, {'name': 'viet', 'phone_number': 7181579658, 'email': 'viet@gmail.com', 'salary': 71423449}, {'name': 'cuong', 'phone_number': 6522669397, 'email': 'cuong@gmail.com', 'salary': 75111343}, {'name': 'cuong', 'phone_number': 3584156746, 'email': 'cuong@gmail.com', 'salary': 95164599}]\n"
          ]
        }
      ]
    }
  ]
}