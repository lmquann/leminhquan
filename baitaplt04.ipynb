{
  "nbformat": 4,
  "nbformat_minor": 0,
  "metadata": {
    "colab": {
      "name": "baitaplt04.ipynb",
      "provenance": [],
      "authorship_tag": "ABX9TyM13O+VZPmGWnENAOGpTn0z",
      "include_colab_link": true
    },
    "kernelspec": {
      "name": "python3",
      "display_name": "Python 3"
    },
    "language_info": {
      "name": "python"
    }
  },
  "cells": [
    {
      "cell_type": "markdown",
      "metadata": {
        "id": "view-in-github",
        "colab_type": "text"
      },
      "source": [
        "<a href=\"https://colab.research.google.com/github/lmquann/leminhquan/blob/main/baitaplt04.ipynb\" target=\"_parent\"><img src=\"https://colab.research.google.com/assets/colab-badge.svg\" alt=\"Open In Colab\"/></a>"
      ]
    },
    {
      "cell_type": "code",
      "metadata": {
        "id": "YNTCL41VpyPY"
      },
      "source": [
        "import pickle\n",
        "import random"
      ],
      "execution_count": 3,
      "outputs": []
    },
    {
      "cell_type": "code",
      "metadata": {
        "id": "klvgfGuaqNTq"
      },
      "source": [
        "class Person:\n",
        "  def __init__(self, name, phone_number, email):\n",
        "    self.name = name\n",
        "    self.phone_number = phone_number\n",
        "    self.email = email\n",
        "  def setname(self, name) -> str:\n",
        "    return self.name \n",
        "  def setphone_number(self, phone_number) -> str:\n",
        "    return self.phone_number \n",
        "  def setemail(self, email) -> str:\n",
        "    return self.email \n",
        "\n",
        "class Student(Person):\n",
        "  def __init__(self, name, phone_number, email, id, gpa):\n",
        "    Person.__init__(self, name, phone_number, email)\n",
        "    self.student_number = id \n",
        "    self.average_mark = gpa\n",
        "  def setid(self, id) -> str:\n",
        "    return self.id \n",
        "  def setaverage_mark(self, average_mark) -> float:\n",
        "    return self.average_mark \n",
        "\n",
        "class Professor(Person):\n",
        "  def __init__(self, name, phone_number, email, salary):\n",
        "    Person.__init__(self, name, phone_number, email)\n",
        "    self.salary = salary\n",
        "  def setsalary(self, salary) -> float:\n",
        "    return self.salary "
      ],
      "execution_count": 15,
      "outputs": []
    },
    {
      "cell_type": "code",
      "metadata": {
        "colab": {
          "base_uri": "https://localhost:8080/"
        },
        "id": "_cK27AcsqRwa",
        "outputId": "517c7282-2bb2-4f1a-94b1-6fc67bc081c5"
      },
      "source": [
        "person = []\n",
        "for i in range(10):\n",
        "  name = input(\"Tên: \")\n",
        "  phone = random.randint(1000000, 100000000)\n",
        "  email = name + \"@gmail.com\"\n",
        "  person.append(vars(Person(name, phone, email))) \n",
        "per = sorted(person, key=lambda k:k['name'], reverse=True)\n",
        "print(per)"
      ],
      "execution_count": 17,
      "outputs": [
        {
          "output_type": "stream",
          "name": "stdout",
          "text": [
            "Tên: mot\n",
            "Tên: hai\n",
            "Tên: ba\n",
            "Tên: bon\n",
            "Tên: nam\n",
            "Tên: sau\n",
            "Tên: bay\n",
            "Tên: tam\n",
            "Tên: chin\n",
            "Tên: muoi\n",
            "[{'name': 'tam', 'phone_number': 43136282, 'email': 'tam@gmail.com'}, {'name': 'sau', 'phone_number': 30312122, 'email': 'sau@gmail.com'}, {'name': 'nam', 'phone_number': 43121007, 'email': 'nam@gmail.com'}, {'name': 'muoi', 'phone_number': 96865367, 'email': 'muoi@gmail.com'}, {'name': 'mot', 'phone_number': 86927066, 'email': 'mot@gmail.com'}, {'name': 'hai', 'phone_number': 42121161, 'email': 'hai@gmail.com'}, {'name': 'chin', 'phone_number': 39008286, 'email': 'chin@gmail.com'}, {'name': 'bon', 'phone_number': 89226165, 'email': 'bon@gmail.com'}, {'name': 'bay', 'phone_number': 13954935, 'email': 'bay@gmail.com'}, {'name': 'ba', 'phone_number': 58318571, 'email': 'ba@gmail.com'}]\n"
          ]
        }
      ]
    },
    {
      "cell_type": "code",
      "metadata": {
        "colab": {
          "base_uri": "https://localhost:8080/"
        },
        "id": "wQ5seBo7qdue",
        "outputId": "71fe6276-667f-4196-e3bc-778aeb43fb50"
      },
      "source": [
        "student = []\n",
        "ten = [\"mot\", \"hai\", \"ba\", \"bon\", \"nam\", \"sau\", \"bay\", \"tam\", \"chin\", \"muoi\"]\n",
        "for i in range(10):\n",
        "  name = random.choice(ten)\n",
        "  phone = random.randint(1000000000, 9999999999)\n",
        "  email = name + \"@gmail.com\"\n",
        "  id = random.randint(1,100)\n",
        "  gpa = random.randint(1,10)\n",
        "  \n",
        "  hs = Student(name, phone, email, id, gpa)\n",
        "  student.append(vars(hs))\n",
        "print(student)\n",
        "stu = sorted(student, key=lambda k:k['average_mark'], reverse=True)\n",
        "stu"
      ],
      "execution_count": 16,
      "outputs": [
        {
          "output_type": "stream",
          "name": "stdout",
          "text": [
            "[{'name': 'nam', 'phone_number': 5701421140, 'email': 'nam@gmail.com', 'student_number': 25, 'average_mark': 1}, {'name': 'chin', 'phone_number': 5185644250, 'email': 'chin@gmail.com', 'student_number': 3, 'average_mark': 3}, {'name': 'tam', 'phone_number': 1344829673, 'email': 'tam@gmail.com', 'student_number': 45, 'average_mark': 7}, {'name': 'chin', 'phone_number': 3134139576, 'email': 'chin@gmail.com', 'student_number': 97, 'average_mark': 7}, {'name': 'sau', 'phone_number': 8927002437, 'email': 'sau@gmail.com', 'student_number': 19, 'average_mark': 2}, {'name': 'muoi', 'phone_number': 4925502811, 'email': 'muoi@gmail.com', 'student_number': 56, 'average_mark': 9}, {'name': 'bay', 'phone_number': 7855765625, 'email': 'bay@gmail.com', 'student_number': 83, 'average_mark': 2}, {'name': 'ba', 'phone_number': 9327081264, 'email': 'ba@gmail.com', 'student_number': 77, 'average_mark': 5}, {'name': 'bon', 'phone_number': 2170517616, 'email': 'bon@gmail.com', 'student_number': 36, 'average_mark': 9}, {'name': 'bon', 'phone_number': 7620960450, 'email': 'bon@gmail.com', 'student_number': 91, 'average_mark': 2}]\n"
          ]
        },
        {
          "output_type": "execute_result",
          "data": {
            "text/plain": [
              "[{'average_mark': 9,\n",
              "  'email': 'muoi@gmail.com',\n",
              "  'name': 'muoi',\n",
              "  'phone_number': 4925502811,\n",
              "  'student_number': 56},\n",
              " {'average_mark': 9,\n",
              "  'email': 'bon@gmail.com',\n",
              "  'name': 'bon',\n",
              "  'phone_number': 2170517616,\n",
              "  'student_number': 36},\n",
              " {'average_mark': 7,\n",
              "  'email': 'tam@gmail.com',\n",
              "  'name': 'tam',\n",
              "  'phone_number': 1344829673,\n",
              "  'student_number': 45},\n",
              " {'average_mark': 7,\n",
              "  'email': 'chin@gmail.com',\n",
              "  'name': 'chin',\n",
              "  'phone_number': 3134139576,\n",
              "  'student_number': 97},\n",
              " {'average_mark': 5,\n",
              "  'email': 'ba@gmail.com',\n",
              "  'name': 'ba',\n",
              "  'phone_number': 9327081264,\n",
              "  'student_number': 77},\n",
              " {'average_mark': 3,\n",
              "  'email': 'chin@gmail.com',\n",
              "  'name': 'chin',\n",
              "  'phone_number': 5185644250,\n",
              "  'student_number': 3},\n",
              " {'average_mark': 2,\n",
              "  'email': 'sau@gmail.com',\n",
              "  'name': 'sau',\n",
              "  'phone_number': 8927002437,\n",
              "  'student_number': 19},\n",
              " {'average_mark': 2,\n",
              "  'email': 'bay@gmail.com',\n",
              "  'name': 'bay',\n",
              "  'phone_number': 7855765625,\n",
              "  'student_number': 83},\n",
              " {'average_mark': 2,\n",
              "  'email': 'bon@gmail.com',\n",
              "  'name': 'bon',\n",
              "  'phone_number': 7620960450,\n",
              "  'student_number': 91},\n",
              " {'average_mark': 1,\n",
              "  'email': 'nam@gmail.com',\n",
              "  'name': 'nam',\n",
              "  'phone_number': 5701421140,\n",
              "  'student_number': 25}]"
            ]
          },
          "metadata": {},
          "execution_count": 16
        }
      ]
    },
    {
      "cell_type": "code",
      "metadata": {
        "colab": {
          "base_uri": "https://localhost:8080/"
        },
        "id": "jk5qdrGFqhX5",
        "outputId": "e8162957-bc0b-4bdc-82ed-489590726ca0"
      },
      "source": [
        "professor = []\n",
        "ten = (\"mot\", \"hai\", \"ba\", \"bon\", \"nam\", \"sau\", \"bay\", \"tam\", \"chin\", \"muoi\")\n",
        "for i in range(10): \n",
        "  name = random.choice(ten)\n",
        "  phone = random.randint(1000000000, 9999999999)\n",
        "  email = name + \"@gmail.com\"\n",
        "  salary = random.randint(10000000, 99999999)\n",
        "\n",
        "  luong = Professor(name, phone, email, salary)\n",
        "  professor.append(vars(luong))\n",
        "  pro = sorted(professor, key=lambda k:k['salary'], reverse=False)\n",
        "print(professor)\n",
        "pro"
      ],
      "execution_count": 18,
      "outputs": [
        {
          "output_type": "stream",
          "name": "stdout",
          "text": [
            "[{'name': 'nam', 'phone_number': 5802431502, 'email': 'nam@gmail.com', 'salary': 56118243}, {'name': 'bay', 'phone_number': 4591161025, 'email': 'bay@gmail.com', 'salary': 62818280}, {'name': 'mot', 'phone_number': 8774550714, 'email': 'mot@gmail.com', 'salary': 21451039}, {'name': 'ba', 'phone_number': 1941087317, 'email': 'ba@gmail.com', 'salary': 97389651}, {'name': 'ba', 'phone_number': 5306679589, 'email': 'ba@gmail.com', 'salary': 63428583}, {'name': 'ba', 'phone_number': 4135013697, 'email': 'ba@gmail.com', 'salary': 10019509}, {'name': 'ba', 'phone_number': 2283538701, 'email': 'ba@gmail.com', 'salary': 42504087}, {'name': 'nam', 'phone_number': 8803764085, 'email': 'nam@gmail.com', 'salary': 44647527}, {'name': 'tam', 'phone_number': 3225988839, 'email': 'tam@gmail.com', 'salary': 90468167}, {'name': 'tam', 'phone_number': 4525753116, 'email': 'tam@gmail.com', 'salary': 78010304}]\n"
          ]
        },
        {
          "output_type": "execute_result",
          "data": {
            "text/plain": [
              "[{'email': 'ba@gmail.com',\n",
              "  'name': 'ba',\n",
              "  'phone_number': 4135013697,\n",
              "  'salary': 10019509},\n",
              " {'email': 'mot@gmail.com',\n",
              "  'name': 'mot',\n",
              "  'phone_number': 8774550714,\n",
              "  'salary': 21451039},\n",
              " {'email': 'ba@gmail.com',\n",
              "  'name': 'ba',\n",
              "  'phone_number': 2283538701,\n",
              "  'salary': 42504087},\n",
              " {'email': 'nam@gmail.com',\n",
              "  'name': 'nam',\n",
              "  'phone_number': 8803764085,\n",
              "  'salary': 44647527},\n",
              " {'email': 'nam@gmail.com',\n",
              "  'name': 'nam',\n",
              "  'phone_number': 5802431502,\n",
              "  'salary': 56118243},\n",
              " {'email': 'bay@gmail.com',\n",
              "  'name': 'bay',\n",
              "  'phone_number': 4591161025,\n",
              "  'salary': 62818280},\n",
              " {'email': 'ba@gmail.com',\n",
              "  'name': 'ba',\n",
              "  'phone_number': 5306679589,\n",
              "  'salary': 63428583},\n",
              " {'email': 'tam@gmail.com',\n",
              "  'name': 'tam',\n",
              "  'phone_number': 4525753116,\n",
              "  'salary': 78010304},\n",
              " {'email': 'tam@gmail.com',\n",
              "  'name': 'tam',\n",
              "  'phone_number': 3225988839,\n",
              "  'salary': 90468167},\n",
              " {'email': 'ba@gmail.com',\n",
              "  'name': 'ba',\n",
              "  'phone_number': 1941087317,\n",
              "  'salary': 97389651}]"
            ]
          },
          "metadata": {},
          "execution_count": 18
        }
      ]
    },
    {
      "cell_type": "code",
      "metadata": {
        "colab": {
          "base_uri": "https://localhost:8080/"
        },
        "id": "-5tMdRt4qrlx",
        "outputId": "381b50b0-d5dc-4e8f-d8fe-51aa349ab0f9"
      },
      "source": [
        "f = open('Person.txt', 'wb')\n",
        "pickle.dump(per, f)\n",
        "f.close()\n",
        "f = open(\"Person.txt\", \"rb\")\n",
        "print(\"Person\\n\", pickle.load(f))\n",
        "f.close()\n"
      ],
      "execution_count": 19,
      "outputs": [
        {
          "output_type": "stream",
          "name": "stdout",
          "text": [
            "Person\n",
            " [{'name': 'tam', 'phone_number': 43136282, 'email': 'tam@gmail.com'}, {'name': 'sau', 'phone_number': 30312122, 'email': 'sau@gmail.com'}, {'name': 'nam', 'phone_number': 43121007, 'email': 'nam@gmail.com'}, {'name': 'muoi', 'phone_number': 96865367, 'email': 'muoi@gmail.com'}, {'name': 'mot', 'phone_number': 86927066, 'email': 'mot@gmail.com'}, {'name': 'hai', 'phone_number': 42121161, 'email': 'hai@gmail.com'}, {'name': 'chin', 'phone_number': 39008286, 'email': 'chin@gmail.com'}, {'name': 'bon', 'phone_number': 89226165, 'email': 'bon@gmail.com'}, {'name': 'bay', 'phone_number': 13954935, 'email': 'bay@gmail.com'}, {'name': 'ba', 'phone_number': 58318571, 'email': 'ba@gmail.com'}]\n"
          ]
        }
      ]
    },
    {
      "cell_type": "code",
      "metadata": {
        "colab": {
          "base_uri": "https://localhost:8080/"
        },
        "id": "nPlmYf-rqutY",
        "outputId": "8b29f908-f185-4920-d168-c68904351dac"
      },
      "source": [
        "s = open(\"Student.txt\", \"wb\")\n",
        "pickle.dump(stu, s)\n",
        "s.close()\n",
        "s = open(\"Student.txt\", \"rb\")\n",
        "print(\"Student\\n\", pickle.load(s))\n",
        "s.close()"
      ],
      "execution_count": 20,
      "outputs": [
        {
          "output_type": "stream",
          "name": "stdout",
          "text": [
            "Student\n",
            " [{'name': 'muoi', 'phone_number': 4925502811, 'email': 'muoi@gmail.com', 'student_number': 56, 'average_mark': 9}, {'name': 'bon', 'phone_number': 2170517616, 'email': 'bon@gmail.com', 'student_number': 36, 'average_mark': 9}, {'name': 'tam', 'phone_number': 1344829673, 'email': 'tam@gmail.com', 'student_number': 45, 'average_mark': 7}, {'name': 'chin', 'phone_number': 3134139576, 'email': 'chin@gmail.com', 'student_number': 97, 'average_mark': 7}, {'name': 'ba', 'phone_number': 9327081264, 'email': 'ba@gmail.com', 'student_number': 77, 'average_mark': 5}, {'name': 'chin', 'phone_number': 5185644250, 'email': 'chin@gmail.com', 'student_number': 3, 'average_mark': 3}, {'name': 'sau', 'phone_number': 8927002437, 'email': 'sau@gmail.com', 'student_number': 19, 'average_mark': 2}, {'name': 'bay', 'phone_number': 7855765625, 'email': 'bay@gmail.com', 'student_number': 83, 'average_mark': 2}, {'name': 'bon', 'phone_number': 7620960450, 'email': 'bon@gmail.com', 'student_number': 91, 'average_mark': 2}, {'name': 'nam', 'phone_number': 5701421140, 'email': 'nam@gmail.com', 'student_number': 25, 'average_mark': 1}]\n"
          ]
        }
      ]
    },
    {
      "cell_type": "code",
      "metadata": {
        "colab": {
          "base_uri": "https://localhost:8080/"
        },
        "id": "tRrOWfxqrMP3",
        "outputId": "117bc056-baf2-450a-ac9e-e6adcd01837b"
      },
      "source": [
        "p = open(\"Professor.txt\", \"wb\")\n",
        "pickle.dump(pro, p)\n",
        "p.close()\n",
        "p = open(\"Professor.txt\", \"rb\")\n",
        "print(\"Professor\\n\", pickle.load(p))\n",
        "p.close()"
      ],
      "execution_count": 21,
      "outputs": [
        {
          "output_type": "stream",
          "name": "stdout",
          "text": [
            "Professor\n",
            " [{'name': 'ba', 'phone_number': 4135013697, 'email': 'ba@gmail.com', 'salary': 10019509}, {'name': 'mot', 'phone_number': 8774550714, 'email': 'mot@gmail.com', 'salary': 21451039}, {'name': 'ba', 'phone_number': 2283538701, 'email': 'ba@gmail.com', 'salary': 42504087}, {'name': 'nam', 'phone_number': 8803764085, 'email': 'nam@gmail.com', 'salary': 44647527}, {'name': 'nam', 'phone_number': 5802431502, 'email': 'nam@gmail.com', 'salary': 56118243}, {'name': 'bay', 'phone_number': 4591161025, 'email': 'bay@gmail.com', 'salary': 62818280}, {'name': 'ba', 'phone_number': 5306679589, 'email': 'ba@gmail.com', 'salary': 63428583}, {'name': 'tam', 'phone_number': 4525753116, 'email': 'tam@gmail.com', 'salary': 78010304}, {'name': 'tam', 'phone_number': 3225988839, 'email': 'tam@gmail.com', 'salary': 90468167}, {'name': 'ba', 'phone_number': 1941087317, 'email': 'ba@gmail.com', 'salary': 97389651}]\n"
          ]
        }
      ]
    }
  ]
}