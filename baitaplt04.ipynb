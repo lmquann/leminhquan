{
  "nbformat": 4,
  "nbformat_minor": 0,
  "metadata": {
    "colab": {
      "name": "baitaplt04.ipynb",
      "provenance": [],
      "authorship_tag": "ABX9TyMo8s0hvcHNMWdFOossqMkV",
      "include_colab_link": true
    },
    "kernelspec": {
      "name": "python3",
      "display_name": "Python 3"
    },
    "language_info": {
      "name": "python"
    }
  },
  "cells": [
    {
      "cell_type": "markdown",
      "metadata": {
        "id": "view-in-github",
        "colab_type": "text"
      },
      "source": [
        "<a href=\"https://colab.research.google.com/github/lmquann/leminhquan/blob/main/baitaplt04.ipynb\" target=\"_parent\"><img src=\"https://colab.research.google.com/assets/colab-badge.svg\" alt=\"Open In Colab\"/></a>"
      ]
    },
    {
      "cell_type": "code",
      "metadata": {
        "id": "YNTCL41VpyPY"
      },
      "source": [
        "import pickle\n",
        "import random"
      ],
      "execution_count": 1,
      "outputs": []
    },
    {
      "cell_type": "code",
      "metadata": {
        "id": "klvgfGuaqNTq"
      },
      "source": [
        "class Person:\n",
        "  def __init__(self, name, phone_number, email):\n",
        "    self.name = name\n",
        "    self.phone_number = phone_number\n",
        "    self.email = email\n",
        "\n",
        "class Student(Person):\n",
        "  def __init__(self, name, phone_number, email, id, gpa):\n",
        "    Person.__init__(self, name, phone_number, email)\n",
        "    self.student_number = id\n",
        "    self.average_mark = gpa\n",
        "\n",
        "class Professor(Person):\n",
        "  def __init__(self, name, phone_number, email, salary):\n",
        "    Person.__init__(self, name, phone_number, email)\n",
        "    self.salary = salary"
      ],
      "execution_count": 2,
      "outputs": []
    },
    {
      "cell_type": "code",
      "metadata": {
        "colab": {
          "base_uri": "https://localhost:8080/"
        },
        "id": "_cK27AcsqRwa",
        "outputId": "e2d62a36-80fd-4dc3-c4d5-c9c9e34336d6"
      },
      "source": [
        "person = []\n",
        "for i in range(10):\n",
        "  name = input(\"Tên: \")\n",
        "  phone = random.randint(1000000, 100000000)\n",
        "  email = name + \"@gmail.com\"\n",
        "  person.append(vars(Person(name, phone, email))) \n",
        "per = sorted(person, key=lambda k:k['name'], reverse=True)\n",
        "print(per)"
      ],
      "execution_count": 3,
      "outputs": [
        {
          "output_type": "stream",
          "name": "stdout",
          "text": [
            "Tên: mot\n",
            "Tên: hai\n",
            "Tên: ba\n",
            "Tên: bon\n",
            "Tên: nam\n",
            "Tên: sau\n",
            "Tên: bay\n",
            "Tên: tam\n",
            "Tên: chin\n",
            "Tên: muoi\n",
            "[{'name': 'tam', 'phone_number': 46808091, 'email': 'tam@gmail.com'}, {'name': 'sau', 'phone_number': 62503378, 'email': 'sau@gmail.com'}, {'name': 'nam', 'phone_number': 18141764, 'email': 'nam@gmail.com'}, {'name': 'muoi', 'phone_number': 31614054, 'email': 'muoi@gmail.com'}, {'name': 'mot', 'phone_number': 25816763, 'email': 'mot@gmail.com'}, {'name': 'hai', 'phone_number': 87439453, 'email': 'hai@gmail.com'}, {'name': 'chin', 'phone_number': 42802702, 'email': 'chin@gmail.com'}, {'name': 'bon', 'phone_number': 64851403, 'email': 'bon@gmail.com'}, {'name': 'bay', 'phone_number': 83529245, 'email': 'bay@gmail.com'}, {'name': 'ba', 'phone_number': 83674620, 'email': 'ba@gmail.com'}]\n"
          ]
        }
      ]
    },
    {
      "cell_type": "code",
      "metadata": {
        "colab": {
          "base_uri": "https://localhost:8080/"
        },
        "id": "wQ5seBo7qdue",
        "outputId": "28a99870-a7f1-48f4-e63c-96d2f2a2c14d"
      },
      "source": [
        "student = []\n",
        "ten = [\"mot\", \"hai\", \"ba\", \"bon\", \"nam\", \"sau\", \"bay\", \"tam\", \"chin\", \"muoi\"]\n",
        "for i in range(10):\n",
        "  name = random.choice(ten)\n",
        "  phone = random.randint(1000000000, 9999999999)\n",
        "  email = name + \"@gmail.com\"\n",
        "  id = random.randint(1,100)\n",
        "  gpa = random.randint(1,10)\n",
        "  \n",
        "  hs = Student(name, phone, email, id, gpa)\n",
        "  student.append(vars(hs))\n",
        "print(student)\n",
        "stu = sorted(student, key=lambda k:k['average_mark'], reverse=True)\n",
        "stu"
      ],
      "execution_count": 4,
      "outputs": [
        {
          "output_type": "stream",
          "name": "stdout",
          "text": [
            "[{'name': 'mot', 'phone_number': 3100152855, 'email': 'mot@gmail.com', 'student_number': 47, 'average_mark': 5}, {'name': 'tam', 'phone_number': 6276212079, 'email': 'tam@gmail.com', 'student_number': 17, 'average_mark': 3}, {'name': 'mot', 'phone_number': 6304040182, 'email': 'mot@gmail.com', 'student_number': 56, 'average_mark': 2}, {'name': 'nam', 'phone_number': 8115923291, 'email': 'nam@gmail.com', 'student_number': 73, 'average_mark': 6}, {'name': 'hai', 'phone_number': 2926612505, 'email': 'hai@gmail.com', 'student_number': 12, 'average_mark': 5}, {'name': 'bay', 'phone_number': 8671153292, 'email': 'bay@gmail.com', 'student_number': 91, 'average_mark': 6}, {'name': 'bay', 'phone_number': 1876066999, 'email': 'bay@gmail.com', 'student_number': 90, 'average_mark': 9}, {'name': 'chin', 'phone_number': 7926152432, 'email': 'chin@gmail.com', 'student_number': 36, 'average_mark': 4}, {'name': 'muoi', 'phone_number': 6137085619, 'email': 'muoi@gmail.com', 'student_number': 85, 'average_mark': 8}, {'name': 'tam', 'phone_number': 8531640115, 'email': 'tam@gmail.com', 'student_number': 9, 'average_mark': 4}]\n"
          ]
        },
        {
          "output_type": "execute_result",
          "data": {
            "text/plain": [
              "[{'average_mark': 9,\n",
              "  'email': 'bay@gmail.com',\n",
              "  'name': 'bay',\n",
              "  'phone_number': 1876066999,\n",
              "  'student_number': 90},\n",
              " {'average_mark': 8,\n",
              "  'email': 'muoi@gmail.com',\n",
              "  'name': 'muoi',\n",
              "  'phone_number': 6137085619,\n",
              "  'student_number': 85},\n",
              " {'average_mark': 6,\n",
              "  'email': 'nam@gmail.com',\n",
              "  'name': 'nam',\n",
              "  'phone_number': 8115923291,\n",
              "  'student_number': 73},\n",
              " {'average_mark': 6,\n",
              "  'email': 'bay@gmail.com',\n",
              "  'name': 'bay',\n",
              "  'phone_number': 8671153292,\n",
              "  'student_number': 91},\n",
              " {'average_mark': 5,\n",
              "  'email': 'mot@gmail.com',\n",
              "  'name': 'mot',\n",
              "  'phone_number': 3100152855,\n",
              "  'student_number': 47},\n",
              " {'average_mark': 5,\n",
              "  'email': 'hai@gmail.com',\n",
              "  'name': 'hai',\n",
              "  'phone_number': 2926612505,\n",
              "  'student_number': 12},\n",
              " {'average_mark': 4,\n",
              "  'email': 'chin@gmail.com',\n",
              "  'name': 'chin',\n",
              "  'phone_number': 7926152432,\n",
              "  'student_number': 36},\n",
              " {'average_mark': 4,\n",
              "  'email': 'tam@gmail.com',\n",
              "  'name': 'tam',\n",
              "  'phone_number': 8531640115,\n",
              "  'student_number': 9},\n",
              " {'average_mark': 3,\n",
              "  'email': 'tam@gmail.com',\n",
              "  'name': 'tam',\n",
              "  'phone_number': 6276212079,\n",
              "  'student_number': 17},\n",
              " {'average_mark': 2,\n",
              "  'email': 'mot@gmail.com',\n",
              "  'name': 'mot',\n",
              "  'phone_number': 6304040182,\n",
              "  'student_number': 56}]"
            ]
          },
          "metadata": {},
          "execution_count": 4
        }
      ]
    },
    {
      "cell_type": "code",
      "metadata": {
        "colab": {
          "base_uri": "https://localhost:8080/"
        },
        "id": "jk5qdrGFqhX5",
        "outputId": "13bc8863-0f7e-4cea-8183-13d7aaddcec2"
      },
      "source": [
        "professor = []\n",
        "ten = (\"mot\", \"hai\", \"ba\", \"bon\", \"nam\", \"sau\", \"bay\", \"tam\", \"chin\", \"muoi\")\n",
        "for i in range(10): \n",
        "  name = random.choice(ten)\n",
        "  phone = random.randint(1000000000, 9999999999)\n",
        "  email = name + \"@gmail.com\"\n",
        "  salary = random.randint(10000000, 99999999)\n",
        "\n",
        "  luong = Professor(name, phone, email, salary)\n",
        "  professor.append(vars(luong))\n",
        "  pro = sorted(professor, key=lambda k:k['salary'], reverse=False)\n",
        "print(professor)\n",
        "pro"
      ],
      "execution_count": 6,
      "outputs": [
        {
          "output_type": "stream",
          "name": "stdout",
          "text": [
            "[{'name': 'bon', 'phone_number': 5157514607, 'email': 'bon@gmail.com', 'salary': 42512612}, {'name': 'ba', 'phone_number': 7078363439, 'email': 'ba@gmail.com', 'salary': 75237725}, {'name': 'tam', 'phone_number': 2325298160, 'email': 'tam@gmail.com', 'salary': 53288451}, {'name': 'ba', 'phone_number': 6643394642, 'email': 'ba@gmail.com', 'salary': 41457816}, {'name': 'bon', 'phone_number': 8431775955, 'email': 'bon@gmail.com', 'salary': 66445635}, {'name': 'bay', 'phone_number': 1103574897, 'email': 'bay@gmail.com', 'salary': 32831604}, {'name': 'bay', 'phone_number': 3639886418, 'email': 'bay@gmail.com', 'salary': 70503500}, {'name': 'chin', 'phone_number': 3598684235, 'email': 'chin@gmail.com', 'salary': 61193495}, {'name': 'bon', 'phone_number': 1505623536, 'email': 'bon@gmail.com', 'salary': 29821654}, {'name': 'tam', 'phone_number': 1922665488, 'email': 'tam@gmail.com', 'salary': 65666650}]\n"
          ]
        },
        {
          "output_type": "execute_result",
          "data": {
            "text/plain": [
              "[{'email': 'bon@gmail.com',\n",
              "  'name': 'bon',\n",
              "  'phone_number': 1505623536,\n",
              "  'salary': 29821654},\n",
              " {'email': 'bay@gmail.com',\n",
              "  'name': 'bay',\n",
              "  'phone_number': 1103574897,\n",
              "  'salary': 32831604},\n",
              " {'email': 'ba@gmail.com',\n",
              "  'name': 'ba',\n",
              "  'phone_number': 6643394642,\n",
              "  'salary': 41457816},\n",
              " {'email': 'bon@gmail.com',\n",
              "  'name': 'bon',\n",
              "  'phone_number': 5157514607,\n",
              "  'salary': 42512612},\n",
              " {'email': 'tam@gmail.com',\n",
              "  'name': 'tam',\n",
              "  'phone_number': 2325298160,\n",
              "  'salary': 53288451},\n",
              " {'email': 'chin@gmail.com',\n",
              "  'name': 'chin',\n",
              "  'phone_number': 3598684235,\n",
              "  'salary': 61193495},\n",
              " {'email': 'tam@gmail.com',\n",
              "  'name': 'tam',\n",
              "  'phone_number': 1922665488,\n",
              "  'salary': 65666650},\n",
              " {'email': 'bon@gmail.com',\n",
              "  'name': 'bon',\n",
              "  'phone_number': 8431775955,\n",
              "  'salary': 66445635},\n",
              " {'email': 'bay@gmail.com',\n",
              "  'name': 'bay',\n",
              "  'phone_number': 3639886418,\n",
              "  'salary': 70503500},\n",
              " {'email': 'ba@gmail.com',\n",
              "  'name': 'ba',\n",
              "  'phone_number': 7078363439,\n",
              "  'salary': 75237725}]"
            ]
          },
          "metadata": {},
          "execution_count": 6
        }
      ]
    },
    {
      "cell_type": "code",
      "metadata": {
        "colab": {
          "base_uri": "https://localhost:8080/"
        },
        "id": "-5tMdRt4qrlx",
        "outputId": "c357ae89-3e9a-4d3d-c0b0-4cbbf2bc75a8"
      },
      "source": [
        "f = open('Person.txt', 'wb')\n",
        "pickle.dump(per, f)\n",
        "f.close()\n",
        "f = open(\"Person.txt\", \"rb\")\n",
        "print(\"Person\\n\", pickle.load(f))\n",
        "f.close()\n"
      ],
      "execution_count": 9,
      "outputs": [
        {
          "output_type": "stream",
          "name": "stdout",
          "text": [
            "Person\n",
            " [{'name': 'tam', 'phone_number': 46808091, 'email': 'tam@gmail.com'}, {'name': 'sau', 'phone_number': 62503378, 'email': 'sau@gmail.com'}, {'name': 'nam', 'phone_number': 18141764, 'email': 'nam@gmail.com'}, {'name': 'muoi', 'phone_number': 31614054, 'email': 'muoi@gmail.com'}, {'name': 'mot', 'phone_number': 25816763, 'email': 'mot@gmail.com'}, {'name': 'hai', 'phone_number': 87439453, 'email': 'hai@gmail.com'}, {'name': 'chin', 'phone_number': 42802702, 'email': 'chin@gmail.com'}, {'name': 'bon', 'phone_number': 64851403, 'email': 'bon@gmail.com'}, {'name': 'bay', 'phone_number': 83529245, 'email': 'bay@gmail.com'}, {'name': 'ba', 'phone_number': 83674620, 'email': 'ba@gmail.com'}]\n"
          ]
        }
      ]
    },
    {
      "cell_type": "code",
      "metadata": {
        "colab": {
          "base_uri": "https://localhost:8080/"
        },
        "id": "nPlmYf-rqutY",
        "outputId": "1e4ac8c3-13dc-4eb4-8dae-e08d2c3b0351"
      },
      "source": [
        "s = open(\"Student.txt\", \"wb\")\n",
        "pickle.dump(stu, s)\n",
        "s.close()\n",
        "s = open(\"Student.txt\", \"rb\")\n",
        "print(\"Student\\n\", pickle.load(s))\n",
        "s.close()"
      ],
      "execution_count": 8,
      "outputs": [
        {
          "output_type": "stream",
          "name": "stdout",
          "text": [
            "Student\n",
            " [{'name': 'bay', 'phone_number': 1876066999, 'email': 'bay@gmail.com', 'student_number': 90, 'average_mark': 9}, {'name': 'muoi', 'phone_number': 6137085619, 'email': 'muoi@gmail.com', 'student_number': 85, 'average_mark': 8}, {'name': 'nam', 'phone_number': 8115923291, 'email': 'nam@gmail.com', 'student_number': 73, 'average_mark': 6}, {'name': 'bay', 'phone_number': 8671153292, 'email': 'bay@gmail.com', 'student_number': 91, 'average_mark': 6}, {'name': 'mot', 'phone_number': 3100152855, 'email': 'mot@gmail.com', 'student_number': 47, 'average_mark': 5}, {'name': 'hai', 'phone_number': 2926612505, 'email': 'hai@gmail.com', 'student_number': 12, 'average_mark': 5}, {'name': 'chin', 'phone_number': 7926152432, 'email': 'chin@gmail.com', 'student_number': 36, 'average_mark': 4}, {'name': 'tam', 'phone_number': 8531640115, 'email': 'tam@gmail.com', 'student_number': 9, 'average_mark': 4}, {'name': 'tam', 'phone_number': 6276212079, 'email': 'tam@gmail.com', 'student_number': 17, 'average_mark': 3}, {'name': 'mot', 'phone_number': 6304040182, 'email': 'mot@gmail.com', 'student_number': 56, 'average_mark': 2}]\n"
          ]
        }
      ]
    },
    {
      "cell_type": "code",
      "metadata": {
        "colab": {
          "base_uri": "https://localhost:8080/"
        },
        "id": "tRrOWfxqrMP3",
        "outputId": "7cdf3b35-1770-42b1-8f64-ac35583df524"
      },
      "source": [
        "p = open(\"Professor.txt\", \"wb\")\n",
        "pickle.dump(pro, p)\n",
        "p.close()\n",
        "p = open(\"Professor.txt\", \"rb\")\n",
        "print(\"Professor\\n\", pickle.load(p))\n",
        "p.close()"
      ],
      "execution_count": 11,
      "outputs": [
        {
          "output_type": "stream",
          "name": "stdout",
          "text": [
            "Professor\n",
            " [{'name': 'bon', 'phone_number': 1505623536, 'email': 'bon@gmail.com', 'salary': 29821654}, {'name': 'bay', 'phone_number': 1103574897, 'email': 'bay@gmail.com', 'salary': 32831604}, {'name': 'ba', 'phone_number': 6643394642, 'email': 'ba@gmail.com', 'salary': 41457816}, {'name': 'bon', 'phone_number': 5157514607, 'email': 'bon@gmail.com', 'salary': 42512612}, {'name': 'tam', 'phone_number': 2325298160, 'email': 'tam@gmail.com', 'salary': 53288451}, {'name': 'chin', 'phone_number': 3598684235, 'email': 'chin@gmail.com', 'salary': 61193495}, {'name': 'tam', 'phone_number': 1922665488, 'email': 'tam@gmail.com', 'salary': 65666650}, {'name': 'bon', 'phone_number': 8431775955, 'email': 'bon@gmail.com', 'salary': 66445635}, {'name': 'bay', 'phone_number': 3639886418, 'email': 'bay@gmail.com', 'salary': 70503500}, {'name': 'ba', 'phone_number': 7078363439, 'email': 'ba@gmail.com', 'salary': 75237725}]\n"
          ]
        }
      ]
    }
  ]
}