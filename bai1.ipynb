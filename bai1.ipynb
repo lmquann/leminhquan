{
  "nbformat": 4,
  "nbformat_minor": 0,
  "metadata": {
    "colab": {
      "name": "bai1.ipynb",
      "provenance": [],
      "authorship_tag": "ABX9TyPhpLBRPUUpDZ5fkWZvSDCo",
      "include_colab_link": true
    },
    "kernelspec": {
      "name": "python3",
      "display_name": "Python 3"
    },
    "language_info": {
      "name": "python"
    }
  },
  "cells": [
    {
      "cell_type": "markdown",
      "metadata": {
        "id": "view-in-github",
        "colab_type": "text"
      },
      "source": [
        "<a href=\"https://colab.research.google.com/github/lmquann/leminhquan/blob/main/bai1.ipynb\" target=\"_parent\"><img src=\"https://colab.research.google.com/assets/colab-badge.svg\" alt=\"Open In Colab\"/></a>"
      ]
    },
    {
      "cell_type": "code",
      "metadata": {
        "colab": {
          "base_uri": "https://localhost:8080/"
        },
        "id": "x1icZuj2qBqZ",
        "outputId": "ca07e5d0-b913-4adb-c45e-753de969f1d4"
      },
      "source": [
        "a= int(input(\"nhap a: \"))\n",
        "b= int(input(\"nhap b: \"))\n",
        "tong= a+b\n",
        "tich= a*b\n",
        "hieu= a-b\n",
        "du= a%b\n",
        "nguyen= a//b\n",
        "print(\"tong cua hai so la: \", tong)\n",
        "print(\"hieu cua hai so la: \", hieu)\n",
        "print(\"tich cua hai so la: \", tich)\n",
        "print(\"phan du cua hai so la: \", du)\n",
        "print(\"phan nguyen cua hai so la: \", nguyen)"
      ],
      "execution_count": 1,
      "outputs": [
        {
          "output_type": "stream",
          "name": "stdout",
          "text": [
            "nhap a: 5\n",
            "nhap b: 3\n",
            "tong cua hai so la:  8\n",
            "hieu cua hai so la:  2\n",
            "tich cua hai so la:  15\n",
            "phan du cua hai so la:  2\n",
            "phan nguyen cua hai so la:  1\n"
          ]
        }
      ]
    }
  ]
}