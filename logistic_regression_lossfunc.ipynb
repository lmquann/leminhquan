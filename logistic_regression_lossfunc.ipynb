{
  "nbformat": 4,
  "nbformat_minor": 0,
  "metadata": {
    "colab": {
      "provenance": [],
      "include_colab_link": true
    },
    "kernelspec": {
      "name": "python3",
      "display_name": "Python 3"
    },
    "language_info": {
      "name": "python"
    }
  },
  "cells": [
    {
      "cell_type": "markdown",
      "metadata": {
        "id": "view-in-github",
        "colab_type": "text"
      },
      "source": [
        "<a href=\"https://colab.research.google.com/github/lmquann/leminhquan/blob/main/logistic_regression_lossfunc.ipynb\" target=\"_parent\"><img src=\"https://colab.research.google.com/assets/colab-badge.svg\" alt=\"Open In Colab\"/></a>"
      ]
    },
    {
      "cell_type": "code",
      "execution_count": null,
      "metadata": {
        "id": "wPanVcuYtASY"
      },
      "outputs": [],
      "source": [
        "import numpy as np\n",
        "from sklearn.linear_model import LogisticRegression\n",
        "from sklearn import preprocessing\n",
        "import pandas as pd\n",
        "from sklearn.model_selection import train_test_split\n",
        "from sklearn.preprocessing import MinMaxScaler\n",
        "from scipy import optimize"
      ]
    },
    {
      "cell_type": "code",
      "source": [
        "from google.colab import drive\n",
        "drive.mount('/content/drive')"
      ],
      "metadata": {
        "id": "V1oeQynptwg-",
        "colab": {
          "base_uri": "https://localhost:8080/"
        },
        "outputId": "8b2be214-6dae-4ae8-a318-b4ef661b7678"
      },
      "execution_count": null,
      "outputs": [
        {
          "output_type": "stream",
          "name": "stdout",
          "text": [
            "Drive already mounted at /content/drive; to attempt to forcibly remount, call drive.mount(\"/content/drive\", force_remount=True).\n"
          ]
        }
      ]
    },
    {
      "cell_type": "code",
      "source": [
        "def readfile():\n",
        "  D= pd.read_csv(\"/content/drive/MyDrive/logisticsregres_vayvon.csv\")\n",
        "  D=preprocessing.MinMaxScaler().fit_transform(D)\n",
        "  D=np.array(D)\n",
        "  X = D[:,:-1]\n",
        "  y = D[:, -1]\n",
        "  return X, y"
      ],
      "metadata": {
        "id": "ABskkziourAV"
      },
      "execution_count": null,
      "outputs": []
    },
    {
      "cell_type": "code",
      "source": [
        "def sigmoid(X, w):\n",
        "    result = 1/(1 + np.exp(-np.dot(X, w)))\n",
        "    return result\n",
        "def loss(w, X, y):\n",
        "    m = X.shape[0]\n",
        "    h = sigmoid(X, w)\n",
        "    result = (-1 / m) * np.sum(np.dot(y.T, np.log(h)) + np.dot((1 - y).T, np.log(1 - h)))\n",
        "    return result"
      ],
      "metadata": {
        "id": "shIbRdUHwbOW"
      },
      "execution_count": null,
      "outputs": []
    },
    {
      "cell_type": "code",
      "source": [
        "def gradient(X, y, w):\n",
        "    m = X.shape[0]\n",
        "    result = (1/m)*np.dot(X.T, sigmoid(X, w) - y)\n",
        "    return result\n",
        "def gradientDescent(X, y, w, alpha, n_iters):\n",
        "    w_optimal = w.copy()\n",
        "    J_history = []\n",
        "    for i in range(n_iters):\n",
        "        w_optimal = w_optimal - alpha*gradient(X, y, w_optimal)\n",
        "        J_history.append(loss(X, y, w_optimal))\n",
        "    return w_optimal, J_history"
      ],
      "metadata": {
        "id": "QuVCG6-w3SXN"
      },
      "execution_count": null,
      "outputs": []
    },
    {
      "cell_type": "code",
      "source": [
        "def main():\n",
        "  X,y= readfile()\n",
        "  n = X.shape[1]\n",
        "  w = np.zeros((n, 1))\n",
        "  alpha = 0.01\n",
        "  n_iters = 2000\n",
        "  X_train, X_test, y_train, y_test = train_test_split(X, y,test_size=0.30,random_state=15)\n",
        "  w_opt, J_hist = gradientDescent(X_train, y_train, w, alpha, n_iters)\n",
        "  print('Trong so w toi uu la L-BFGS-B: ', w_opt[0])\n",
        "  print('tGia tri Loss toi uu: ', J_hist[0])\n",
        "\n",
        "\n",
        "\n",
        "if __name__ == \"__main__\":\n",
        "  main()"
      ],
      "metadata": {
        "id": "Xy859bSkxziw",
        "colab": {
          "base_uri": "https://localhost:8080/"
        },
        "outputId": "fae29c8d-7ebc-4860-97bc-e8dbd8bb462c"
      },
      "execution_count": null,
      "outputs": [
        {
          "output_type": "stream",
          "name": "stdout",
          "text": [
            "Trong so w toi uu la L-BFGS-B:  [-2.27953088 -2.27953088 -2.27953088  2.27953088  2.27953088 -2.27953088\n",
            " -2.27953088  2.27953088 -2.27953088 -2.27953088  2.27953088  2.27953088\n",
            " -2.27953088  2.27953088]\n",
            "tGia tri Loss toi uu:  6.1717295120183575\n"
          ]
        }
      ]
    }
  ]
}