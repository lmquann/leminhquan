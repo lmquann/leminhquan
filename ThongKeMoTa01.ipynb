{
  "nbformat": 4,
  "nbformat_minor": 0,
  "metadata": {
    "colab": {
      "name": "ThongKeMoTa01.ipynb",
      "provenance": [],
      "authorship_tag": "ABX9TyNmw+aXYlvvu7StWFYmc8iO",
      "include_colab_link": true
    },
    "kernelspec": {
      "name": "python3",
      "display_name": "Python 3"
    },
    "language_info": {
      "name": "python"
    }
  },
  "cells": [
    {
      "cell_type": "markdown",
      "metadata": {
        "id": "view-in-github",
        "colab_type": "text"
      },
      "source": [
        "<a href=\"https://colab.research.google.com/github/lmquann/leminhquan/blob/main/ThongKeMoTa01.ipynb\" target=\"_parent\"><img src=\"https://colab.research.google.com/assets/colab-badge.svg\" alt=\"Open In Colab\"/></a>"
      ]
    },
    {
      "cell_type": "markdown",
      "source": [
        "1. Dùng pandas đọc tập tin trên vào 1 dataframe."
      ],
      "metadata": {
        "id": "78xIXhPImKtK"
      }
    },
    {
      "cell_type": "code",
      "source": [
        "import pandas as pd\n",
        "df = pd.read_csv(\"/1000 Sales Records.csv\")"
      ],
      "metadata": {
        "id": "5QY52ldOOIzU"
      },
      "execution_count": 3,
      "outputs": []
    },
    {
      "cell_type": "markdown",
      "source": [
        "2. Hãy hiển thị các thông số sau của tập dữ liệu:\n",
        "\n",
        "a. Hiển thị 10 hàng đầu tiên của tập dữ liệu (gợi ý: hàm head() );\n",
        "\n",
        "\n",
        "b. Hiển thị kích thước của tập dữ liệu (gợi ý: shape);\n",
        "\n",
        "c. Hiển thị danh sách các cột(gợi ý: columns và chuyển cấu trúc Index của các\n",
        "columns về dạng list bằng hàm ép kiểu list())."
      ],
      "metadata": {
        "id": "ow08blB8mYtJ"
      }
    },
    {
      "cell_type": "markdown",
      "source": [
        "a. Hiển thị 10 hàng đầu tiên của tập dữ liệu (gợi ý: hàm head() );"
      ],
      "metadata": {
        "id": "uIg3G93Umm_S"
      }
    },
    {
      "cell_type": "code",
      "source": [
        "df.head()"
      ],
      "metadata": {
        "colab": {
          "base_uri": "https://localhost:8080/",
          "height": 320
        },
        "id": "DpsEK7rmOzm4",
        "outputId": "a704a87a-f91a-4bfd-82fb-70fe48e4c6f4"
      },
      "execution_count": 4,
      "outputs": [
        {
          "output_type": "execute_result",
          "data": {
            "text/plain": [
              "                         Region Country   Item Type Sales Channel  \\\n",
              "0  Middle East and North Africa   Libya   Cosmetics       Offline   \n",
              "1                 North America  Canada  Vegetables        Online   \n",
              "2  Middle East and North Africa   Libya   Baby Food       Offline   \n",
              "3                          Asia   Japan      Cereal       Offline   \n",
              "4            Sub-Saharan Africa    Chad      Fruits       Offline   \n",
              "\n",
              "  Order Priority  Order Date   Order ID   Ship Date  Units Sold  Unit Price  \\\n",
              "0              M  10/18/2014  686800706  10/31/2014        8446      437.20   \n",
              "1              M   11/7/2011  185941302   12/8/2011        3018      154.06   \n",
              "2              C  10/31/2016  246222341   12/9/2016        1517      255.28   \n",
              "3              C   4/10/2010  161442649   5/12/2010        3322      205.70   \n",
              "4              H   8/16/2011  645713555   8/31/2011        9845        9.33   \n",
              "\n",
              "   Unit Cost  Total Revenue  Total Cost  Total Profit  \n",
              "0     263.33     3692591.20  2224085.18    1468506.02  \n",
              "1      90.93      464953.08   274426.74     190526.34  \n",
              "2     159.42      387259.76   241840.14     145419.62  \n",
              "3     117.11      683335.40   389039.42     294295.98  \n",
              "4       6.92       91853.85    68127.40      23726.45  "
            ],
            "text/html": [
              "\n",
              "  <div id=\"df-b6f21216-0bd5-4142-9022-1877f1ed0d54\">\n",
              "    <div class=\"colab-df-container\">\n",
              "      <div>\n",
              "<style scoped>\n",
              "    .dataframe tbody tr th:only-of-type {\n",
              "        vertical-align: middle;\n",
              "    }\n",
              "\n",
              "    .dataframe tbody tr th {\n",
              "        vertical-align: top;\n",
              "    }\n",
              "\n",
              "    .dataframe thead th {\n",
              "        text-align: right;\n",
              "    }\n",
              "</style>\n",
              "<table border=\"1\" class=\"dataframe\">\n",
              "  <thead>\n",
              "    <tr style=\"text-align: right;\">\n",
              "      <th></th>\n",
              "      <th>Region</th>\n",
              "      <th>Country</th>\n",
              "      <th>Item Type</th>\n",
              "      <th>Sales Channel</th>\n",
              "      <th>Order Priority</th>\n",
              "      <th>Order Date</th>\n",
              "      <th>Order ID</th>\n",
              "      <th>Ship Date</th>\n",
              "      <th>Units Sold</th>\n",
              "      <th>Unit Price</th>\n",
              "      <th>Unit Cost</th>\n",
              "      <th>Total Revenue</th>\n",
              "      <th>Total Cost</th>\n",
              "      <th>Total Profit</th>\n",
              "    </tr>\n",
              "  </thead>\n",
              "  <tbody>\n",
              "    <tr>\n",
              "      <th>0</th>\n",
              "      <td>Middle East and North Africa</td>\n",
              "      <td>Libya</td>\n",
              "      <td>Cosmetics</td>\n",
              "      <td>Offline</td>\n",
              "      <td>M</td>\n",
              "      <td>10/18/2014</td>\n",
              "      <td>686800706</td>\n",
              "      <td>10/31/2014</td>\n",
              "      <td>8446</td>\n",
              "      <td>437.20</td>\n",
              "      <td>263.33</td>\n",
              "      <td>3692591.20</td>\n",
              "      <td>2224085.18</td>\n",
              "      <td>1468506.02</td>\n",
              "    </tr>\n",
              "    <tr>\n",
              "      <th>1</th>\n",
              "      <td>North America</td>\n",
              "      <td>Canada</td>\n",
              "      <td>Vegetables</td>\n",
              "      <td>Online</td>\n",
              "      <td>M</td>\n",
              "      <td>11/7/2011</td>\n",
              "      <td>185941302</td>\n",
              "      <td>12/8/2011</td>\n",
              "      <td>3018</td>\n",
              "      <td>154.06</td>\n",
              "      <td>90.93</td>\n",
              "      <td>464953.08</td>\n",
              "      <td>274426.74</td>\n",
              "      <td>190526.34</td>\n",
              "    </tr>\n",
              "    <tr>\n",
              "      <th>2</th>\n",
              "      <td>Middle East and North Africa</td>\n",
              "      <td>Libya</td>\n",
              "      <td>Baby Food</td>\n",
              "      <td>Offline</td>\n",
              "      <td>C</td>\n",
              "      <td>10/31/2016</td>\n",
              "      <td>246222341</td>\n",
              "      <td>12/9/2016</td>\n",
              "      <td>1517</td>\n",
              "      <td>255.28</td>\n",
              "      <td>159.42</td>\n",
              "      <td>387259.76</td>\n",
              "      <td>241840.14</td>\n",
              "      <td>145419.62</td>\n",
              "    </tr>\n",
              "    <tr>\n",
              "      <th>3</th>\n",
              "      <td>Asia</td>\n",
              "      <td>Japan</td>\n",
              "      <td>Cereal</td>\n",
              "      <td>Offline</td>\n",
              "      <td>C</td>\n",
              "      <td>4/10/2010</td>\n",
              "      <td>161442649</td>\n",
              "      <td>5/12/2010</td>\n",
              "      <td>3322</td>\n",
              "      <td>205.70</td>\n",
              "      <td>117.11</td>\n",
              "      <td>683335.40</td>\n",
              "      <td>389039.42</td>\n",
              "      <td>294295.98</td>\n",
              "    </tr>\n",
              "    <tr>\n",
              "      <th>4</th>\n",
              "      <td>Sub-Saharan Africa</td>\n",
              "      <td>Chad</td>\n",
              "      <td>Fruits</td>\n",
              "      <td>Offline</td>\n",
              "      <td>H</td>\n",
              "      <td>8/16/2011</td>\n",
              "      <td>645713555</td>\n",
              "      <td>8/31/2011</td>\n",
              "      <td>9845</td>\n",
              "      <td>9.33</td>\n",
              "      <td>6.92</td>\n",
              "      <td>91853.85</td>\n",
              "      <td>68127.40</td>\n",
              "      <td>23726.45</td>\n",
              "    </tr>\n",
              "  </tbody>\n",
              "</table>\n",
              "</div>\n",
              "      <button class=\"colab-df-convert\" onclick=\"convertToInteractive('df-b6f21216-0bd5-4142-9022-1877f1ed0d54')\"\n",
              "              title=\"Convert this dataframe to an interactive table.\"\n",
              "              style=\"display:none;\">\n",
              "        \n",
              "  <svg xmlns=\"http://www.w3.org/2000/svg\" height=\"24px\"viewBox=\"0 0 24 24\"\n",
              "       width=\"24px\">\n",
              "    <path d=\"M0 0h24v24H0V0z\" fill=\"none\"/>\n",
              "    <path d=\"M18.56 5.44l.94 2.06.94-2.06 2.06-.94-2.06-.94-.94-2.06-.94 2.06-2.06.94zm-11 1L8.5 8.5l.94-2.06 2.06-.94-2.06-.94L8.5 2.5l-.94 2.06-2.06.94zm10 10l.94 2.06.94-2.06 2.06-.94-2.06-.94-.94-2.06-.94 2.06-2.06.94z\"/><path d=\"M17.41 7.96l-1.37-1.37c-.4-.4-.92-.59-1.43-.59-.52 0-1.04.2-1.43.59L10.3 9.45l-7.72 7.72c-.78.78-.78 2.05 0 2.83L4 21.41c.39.39.9.59 1.41.59.51 0 1.02-.2 1.41-.59l7.78-7.78 2.81-2.81c.8-.78.8-2.07 0-2.86zM5.41 20L4 18.59l7.72-7.72 1.47 1.35L5.41 20z\"/>\n",
              "  </svg>\n",
              "      </button>\n",
              "      \n",
              "  <style>\n",
              "    .colab-df-container {\n",
              "      display:flex;\n",
              "      flex-wrap:wrap;\n",
              "      gap: 12px;\n",
              "    }\n",
              "\n",
              "    .colab-df-convert {\n",
              "      background-color: #E8F0FE;\n",
              "      border: none;\n",
              "      border-radius: 50%;\n",
              "      cursor: pointer;\n",
              "      display: none;\n",
              "      fill: #1967D2;\n",
              "      height: 32px;\n",
              "      padding: 0 0 0 0;\n",
              "      width: 32px;\n",
              "    }\n",
              "\n",
              "    .colab-df-convert:hover {\n",
              "      background-color: #E2EBFA;\n",
              "      box-shadow: 0px 1px 2px rgba(60, 64, 67, 0.3), 0px 1px 3px 1px rgba(60, 64, 67, 0.15);\n",
              "      fill: #174EA6;\n",
              "    }\n",
              "\n",
              "    [theme=dark] .colab-df-convert {\n",
              "      background-color: #3B4455;\n",
              "      fill: #D2E3FC;\n",
              "    }\n",
              "\n",
              "    [theme=dark] .colab-df-convert:hover {\n",
              "      background-color: #434B5C;\n",
              "      box-shadow: 0px 1px 3px 1px rgba(0, 0, 0, 0.15);\n",
              "      filter: drop-shadow(0px 1px 2px rgba(0, 0, 0, 0.3));\n",
              "      fill: #FFFFFF;\n",
              "    }\n",
              "  </style>\n",
              "\n",
              "      <script>\n",
              "        const buttonEl =\n",
              "          document.querySelector('#df-b6f21216-0bd5-4142-9022-1877f1ed0d54 button.colab-df-convert');\n",
              "        buttonEl.style.display =\n",
              "          google.colab.kernel.accessAllowed ? 'block' : 'none';\n",
              "\n",
              "        async function convertToInteractive(key) {\n",
              "          const element = document.querySelector('#df-b6f21216-0bd5-4142-9022-1877f1ed0d54');\n",
              "          const dataTable =\n",
              "            await google.colab.kernel.invokeFunction('convertToInteractive',\n",
              "                                                     [key], {});\n",
              "          if (!dataTable) return;\n",
              "\n",
              "          const docLinkHtml = 'Like what you see? Visit the ' +\n",
              "            '<a target=\"_blank\" href=https://colab.research.google.com/notebooks/data_table.ipynb>data table notebook</a>'\n",
              "            + ' to learn more about interactive tables.';\n",
              "          element.innerHTML = '';\n",
              "          dataTable['output_type'] = 'display_data';\n",
              "          await google.colab.output.renderOutput(dataTable, element);\n",
              "          const docLink = document.createElement('div');\n",
              "          docLink.innerHTML = docLinkHtml;\n",
              "          element.appendChild(docLink);\n",
              "        }\n",
              "      </script>\n",
              "    </div>\n",
              "  </div>\n",
              "  "
            ]
          },
          "metadata": {},
          "execution_count": 4
        }
      ]
    },
    {
      "cell_type": "markdown",
      "source": [
        "b. Hiển thị kích thước của tập dữ liệu (gợi ý: shape);"
      ],
      "metadata": {
        "id": "iF_5bV4wmpbd"
      }
    },
    {
      "cell_type": "code",
      "source": [
        "df.shape"
      ],
      "metadata": {
        "colab": {
          "base_uri": "https://localhost:8080/"
        },
        "id": "y_MxyKwuPB_F",
        "outputId": "cd7bf621-71ef-4475-8204-6d4dbefa39e8"
      },
      "execution_count": 5,
      "outputs": [
        {
          "output_type": "execute_result",
          "data": {
            "text/plain": [
              "(1000, 14)"
            ]
          },
          "metadata": {},
          "execution_count": 5
        }
      ]
    },
    {
      "cell_type": "markdown",
      "source": [
        "c. Hiển thị danh sách các cột(gợi ý: columns và chuyển cấu trúc Index của các columns về dạng list bằng hàm ép kiểu list())."
      ],
      "metadata": {
        "id": "n20_eWEamuZu"
      }
    },
    {
      "cell_type": "code",
      "source": [
        "list(df.columns)"
      ],
      "metadata": {
        "colab": {
          "base_uri": "https://localhost:8080/"
        },
        "id": "4amBwf9HPFsr",
        "outputId": "15441219-158b-431a-946b-ae6c930d29e2"
      },
      "execution_count": 6,
      "outputs": [
        {
          "output_type": "execute_result",
          "data": {
            "text/plain": [
              "['Region',\n",
              " 'Country',\n",
              " 'Item Type',\n",
              " 'Sales Channel',\n",
              " 'Order Priority',\n",
              " 'Order Date',\n",
              " 'Order ID',\n",
              " 'Ship Date',\n",
              " 'Units Sold',\n",
              " 'Unit Price',\n",
              " 'Unit Cost',\n",
              " 'Total Revenue',\n",
              " 'Total Cost',\n",
              " 'Total Profit']"
            ]
          },
          "metadata": {},
          "execution_count": 6
        }
      ]
    },
    {
      "cell_type": "markdown",
      "source": [
        "3. Trích rút dữ liệu:\n",
        "\n",
        "a. Trích rút cột dữ liệu (định tính) – Country của tập dữ liệu, và in ra màn hình 5 hàng đầu tien của cột này;\n",
        "\n",
        "b. Trích rút cột dữ liệu (định lượng) – Total Cost của tập dữ liệu và in ra màn hình 5 hàng đầu tien của cột này."
      ],
      "metadata": {
        "id": "GssggTB6m9ZQ"
      }
    },
    {
      "cell_type": "markdown",
      "source": [
        "a. Trích rút cột dữ liệu (định tính) – Country của tập dữ liệu, và in ra màn hình 5 hàng đầu tien của cột này;"
      ],
      "metadata": {
        "id": "-tE4X7V8nFye"
      }
    },
    {
      "cell_type": "code",
      "source": [
        "country_df = df['Country']\n",
        "country_df.head()"
      ],
      "metadata": {
        "colab": {
          "base_uri": "https://localhost:8080/"
        },
        "id": "JKBiBT0YPKOg",
        "outputId": "067bfc8e-85ac-4b9f-e528-ee744dc33f5e"
      },
      "execution_count": 7,
      "outputs": [
        {
          "output_type": "execute_result",
          "data": {
            "text/plain": [
              "0     Libya\n",
              "1    Canada\n",
              "2     Libya\n",
              "3     Japan\n",
              "4      Chad\n",
              "Name: Country, dtype: object"
            ]
          },
          "metadata": {},
          "execution_count": 7
        }
      ]
    },
    {
      "cell_type": "markdown",
      "source": [
        "b. Trích rút cột dữ liệu (định lượng) – Total Cost của tập dữ liệu và in ra màn hình 5 hàng đầu tien của cột này."
      ],
      "metadata": {
        "id": "dxLoH3K_nLEJ"
      }
    },
    {
      "cell_type": "code",
      "source": [
        "TotalCost_df = df['Total Cost']\n",
        "TotalCost_df.head()"
      ],
      "metadata": {
        "colab": {
          "base_uri": "https://localhost:8080/"
        },
        "id": "XdPGRQKZPUho",
        "outputId": "eea491c5-650d-4819-ad59-a94955f6d351"
      },
      "execution_count": 8,
      "outputs": [
        {
          "output_type": "execute_result",
          "data": {
            "text/plain": [
              "0    2224085.18\n",
              "1     274426.74\n",
              "2     241840.14\n",
              "3     389039.42\n",
              "4      68127.40\n",
              "Name: Total Cost, dtype: float64"
            ]
          },
          "metadata": {},
          "execution_count": 8
        }
      ]
    },
    {
      "cell_type": "markdown",
      "source": [
        "4. Phân tích thống kê mô tả với tập dữ liệu định lượng:\n",
        "\n",
        "a. Tính các chỉ số thống kê sau và xuất kết quả ra màn hình: (1) Số lớn nhất - max; (2) Số nhỏ nhất - min; (3) Giá trị trung bình - mean; (4) Giá trị trung vị - median; (5) Phương sai - variance; (6) Độ lệch chuẩn - standard deviation; (7) Q1 và Q3.\n",
        "\n",
        "b. Hãy vẽ biểu đồ boxplot cho tập dữ liệu định lượng này;\n",
        "\n",
        "c. Hãy vẽ biểu đồ histogram (với bins = 100) cho tập dữ liệu này."
      ],
      "metadata": {
        "id": "3uNh_jEMnOii"
      }
    },
    {
      "cell_type": "markdown",
      "source": [
        "(1) Số lớn nhất - max;"
      ],
      "metadata": {
        "id": "fEGV5Ex9net4"
      }
    },
    {
      "cell_type": "code",
      "source": [
        "TotalCost_df.max()"
      ],
      "metadata": {
        "colab": {
          "base_uri": "https://localhost:8080/"
        },
        "id": "GZr-9vBuPezA",
        "outputId": "88afb3e9-3148-40de-ba48-2bd06ac45af5"
      },
      "execution_count": 9,
      "outputs": [
        {
          "output_type": "execute_result",
          "data": {
            "text/plain": [
              "5204978.4"
            ]
          },
          "metadata": {},
          "execution_count": 9
        }
      ]
    },
    {
      "cell_type": "markdown",
      "source": [
        "(2) Số nhỏ nhất - min"
      ],
      "metadata": {
        "id": "rIG4Q7xMnjbP"
      }
    },
    {
      "cell_type": "code",
      "source": [
        "TotalCost_df.min()"
      ],
      "metadata": {
        "colab": {
          "base_uri": "https://localhost:8080/"
        },
        "id": "Nfph8yATPlEC",
        "outputId": "9a2dc4dd-6129-44f5-c507-b6fa9b528bb5"
      },
      "execution_count": 10,
      "outputs": [
        {
          "output_type": "execute_result",
          "data": {
            "text/plain": [
              "1416.75"
            ]
          },
          "metadata": {},
          "execution_count": 10
        }
      ]
    },
    {
      "cell_type": "markdown",
      "source": [
        "(3) Giá trị trung bình - mean;"
      ],
      "metadata": {
        "id": "qCMOCXf8nmnh"
      }
    },
    {
      "cell_type": "code",
      "source": [
        "TotalCost_df.mean()"
      ],
      "metadata": {
        "colab": {
          "base_uri": "https://localhost:8080/"
        },
        "id": "H0g4xVYqQPTI",
        "outputId": "78d679f7-f74a-4557-ea82-fb19fd899602"
      },
      "execution_count": 11,
      "outputs": [
        {
          "output_type": "execute_result",
          "data": {
            "text/plain": [
              "936119.2287700002"
            ]
          },
          "metadata": {},
          "execution_count": 11
        }
      ]
    },
    {
      "cell_type": "markdown",
      "source": [
        "(4) Giá trị trung vị - median;"
      ],
      "metadata": {
        "id": "QfjwIFhcntha"
      }
    },
    {
      "cell_type": "code",
      "source": [
        "TotalCost_df.median()"
      ],
      "metadata": {
        "colab": {
          "base_uri": "https://localhost:8080/"
        },
        "id": "BFf6nuaFQSPn",
        "outputId": "f24d1548-7523-41e7-fde0-aee3240d1953"
      },
      "execution_count": 12,
      "outputs": [
        {
          "output_type": "execute_result",
          "data": {
            "text/plain": [
              "464726.065"
            ]
          },
          "metadata": {},
          "execution_count": 12
        }
      ]
    },
    {
      "cell_type": "markdown",
      "source": [
        "Sử dụng module statistics để tính variance và standard deviation"
      ],
      "metadata": {
        "id": "v0l_Iejwnzh4"
      }
    },
    {
      "cell_type": "code",
      "source": [
        "import statistics as sta"
      ],
      "metadata": {
        "id": "GVhqkuhuQXIK"
      },
      "execution_count": 15,
      "outputs": []
    },
    {
      "cell_type": "markdown",
      "source": [
        "(5) Phương sai - variance"
      ],
      "metadata": {
        "id": "-gGYfNjrn9-j"
      }
    },
    {
      "cell_type": "code",
      "source": [
        "var = sta.variance(TotalCost_df)\n",
        "print(var)"
      ],
      "metadata": {
        "colab": {
          "base_uri": "https://localhost:8080/"
        },
        "id": "pi1jp7vBQUy4",
        "outputId": "a010c7b0-bf49-4171-fa11-54642ac08fd2"
      },
      "execution_count": 18,
      "outputs": [
        {
          "output_type": "stream",
          "name": "stdout",
          "text": [
            "1351570754703.938\n"
          ]
        }
      ]
    },
    {
      "cell_type": "markdown",
      "source": [
        "(6) Độ lệch chuẩn - standard deviation;"
      ],
      "metadata": {
        "id": "GuuLDznLoETX"
      }
    },
    {
      "cell_type": "code",
      "source": [
        "std = sta.stdev(TotalCost_df)\n",
        "print(std)"
      ],
      "metadata": {
        "colab": {
          "base_uri": "https://localhost:8080/"
        },
        "id": "nWm08kiYQwtF",
        "outputId": "91b0d8d4-5a30-40ff-97f6-16d32b594419"
      },
      "execution_count": 20,
      "outputs": [
        {
          "output_type": "stream",
          "name": "stdout",
          "text": [
            "1162570.7525582854\n"
          ]
        }
      ]
    },
    {
      "cell_type": "markdown",
      "source": [
        "sử dụng matplotlib.pyplot để vẽ các biểu đồ"
      ],
      "metadata": {
        "id": "9XbO96XmoK0e"
      }
    },
    {
      "cell_type": "code",
      "source": [
        "import matplotlib.pyplot as plt\n"
      ],
      "metadata": {
        "id": "OHTEHidpQ5nY"
      },
      "execution_count": 21,
      "outputs": []
    },
    {
      "cell_type": "markdown",
      "source": [
        "b. Hãy vẽ biểu đồ boxplot cho tập dữ liệu định lượng này;"
      ],
      "metadata": {
        "id": "4Pl-IkF9oRem"
      }
    },
    {
      "cell_type": "code",
      "source": [
        "plt.boxplot(TotalCost_df)\n",
        "plt.show"
      ],
      "metadata": {
        "colab": {
          "base_uri": "https://localhost:8080/",
          "height": 293
        },
        "id": "-a8x_VuHRCxC",
        "outputId": "a20e1133-2efa-4b3e-bbfa-cec521f8f8ba"
      },
      "execution_count": 22,
      "outputs": [
        {
          "output_type": "execute_result",
          "data": {
            "text/plain": [
              "<function matplotlib.pyplot.show>"
            ]
          },
          "metadata": {},
          "execution_count": 22
        },
        {
          "output_type": "display_data",
          "data": {
            "text/plain": [
              "<Figure size 432x288 with 1 Axes>"
            ],
            "image/png": "[encoded data removed]"
          },
          "metadata": {
            "needs_background": "light"
          }
        }
      ]
    },
    {
      "cell_type": "markdown",
      "source": [
        "c. Hãy vẽ biểu đồ histogram (với bins = 100) cho tập dữ liệu này."
      ],
      "metadata": {
        "id": "piln6wUSoV6x"
      }
    },
    {
      "cell_type": "code",
      "source": [
        "plt.hist(TotalCost_df, bins = 100)\n",
        "plt.show"
      ],
      "metadata": {
        "colab": {
          "base_uri": "https://localhost:8080/",
          "height": 295
        },
        "id": "KXw03esfRNiB",
        "outputId": "001873aa-35c2-4ce0-872d-354e4728ca03"
      },
      "execution_count": 23,
      "outputs": [
        {
          "output_type": "execute_result",
          "data": {
            "text/plain": [
              "<function matplotlib.pyplot.show>"
            ]
          },
          "metadata": {},
          "execution_count": 23
        },
        {
          "output_type": "display_data",
          "data": {
            "text/plain": [
              "<Figure size 432x288 with 1 Axes>"
            ],
            "image/png": "[encoded data removed]"
          },
          "metadata": {
            "needs_background": "light"
          }
        }
      ]
    },
    {
      "cell_type": "markdown",
      "source": [
        "5. Phân tích thống kê mô tả với tập dữ liệu định tính:\n",
        "\n",
        "a. Vẽ biểu đồ barplot cho tập dữ liệu này\n",
        "\n",
        "b. Vẽ biểu đồ barplot cho 15 hàng dữ liệu đầu tiên của tập dữ liệu này"
      ],
      "metadata": {
        "id": "2CEIkq74oZIX"
      }
    },
    {
      "cell_type": "markdown",
      "source": [
        "a. Vẽ biểu đồ barplot cho tập dữ liệu này"
      ],
      "metadata": {
        "id": "L_mTUOCYofyb"
      }
    },
    {
      "cell_type": "code",
      "source": [
        "label = list(set(country_df))\n",
        "plt.figure(figsize=(20,20))\n",
        "count = country_df.value_counts(sort=False).to_numpy()\n",
        "plt.bar(label, count)\n",
        "plt.show"
      ],
      "metadata": {
        "colab": {
          "base_uri": "https://localhost:8080/",
          "height": 1000
        },
        "id": "Rk0-h3qXRXdM",
        "outputId": "27546d9b-b261-475e-f102-652e21546e49"
      },
      "execution_count": 25,
      "outputs": [
        {
          "output_type": "execute_result",
          "data": {
            "text/plain": [
              "<function matplotlib.pyplot.show>"
            ]
          },
          "metadata": {},
          "execution_count": 25
        },
        {
          "output_type": "display_data",
          "data": {
            "text/plain": [
              "<Figure size 1440x1440 with 1 Axes>"
            ],
            "image/png": "[encoded data removed]"
          },
          "metadata": {
            "needs_background": "light"
          }
        }
      ]
    },
    {
      "cell_type": "markdown",
      "source": [
        "b. Vẽ biểu đồ barplot cho 15 hàng dữ liệu đầu tiên của tập dữ liệu này"
      ],
      "metadata": {
        "id": "XUbkJijdoi4n"
      }
    },
    {
      "cell_type": "code",
      "source": [
        "country_df = country_df.head(15)\n",
        "label = list(set(country_df))\n",
        "plt.figure(figsize=(20,20))\n",
        "count = country_df.value_counts(sort=False).to_numpy()\n",
        "plt.bar(label, count)\n",
        "plt.show"
      ],
      "metadata": {
        "colab": {
          "base_uri": "https://localhost:8080/",
          "height": 1000
        },
        "id": "DTS6sdm0SXHK",
        "outputId": "bc3f8ea5-f163-4c0f-a00a-e2406201abe7"
      },
      "execution_count": 26,
      "outputs": [
        {
          "output_type": "execute_result",
          "data": {
            "text/plain": [
              "<function matplotlib.pyplot.show>"
            ]
          },
          "metadata": {},
          "execution_count": 26
        },
        {
          "output_type": "display_data",
          "data": {
            "text/plain": [
              "<Figure size 1440x1440 with 1 Axes>"
            ],
            "image/png": "[encoded data removed]"
          },
          "metadata": {
            "needs_background": "light"
          }
        }
      ]
    }
  ]
}