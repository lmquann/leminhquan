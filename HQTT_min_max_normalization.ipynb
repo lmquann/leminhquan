{
  "nbformat": 4,
  "nbformat_minor": 0,
  "metadata": {
    "colab": {
      "provenance": [],
      "authorship_tag": "ABX9TyN6HmlnTjgpulyBBuqg79jh",
      "include_colab_link": true
    },
    "kernelspec": {
      "name": "python3",
      "display_name": "Python 3"
    },
    "language_info": {
      "name": "python"
    }
  },
  "cells": [
    {
      "cell_type": "markdown",
      "metadata": {
        "id": "view-in-github",
        "colab_type": "text"
      },
      "source": [
        "<a href=\"https://colab.research.google.com/github/lmquann/leminhquan/blob/main/HQTT_min_max_normalization.ipynb\" target=\"_parent\"><img src=\"https://colab.research.google.com/assets/colab-badge.svg\" alt=\"Open In Colab\"/></a>"
      ]
    },
    {
      "cell_type": "code",
      "execution_count": 1,
      "metadata": {
        "colab": {
          "base_uri": "https://localhost:8080/"
        },
        "id": "eIm4YWvPK5Eo",
        "outputId": "eeaa79f2-4b46-450f-8d75-654af2de86ab"
      },
      "outputs": [
        {
          "output_type": "stream",
          "name": "stdout",
          "text": [
            "Mounted at /content/drive\n"
          ]
        }
      ],
      "source": [
        "import os\n",
        "import numpy as np\n",
        "from matplotlib import pyplot as plt\n",
        "from google.colab import drive\n",
        "drive.mount('/content/drive')"
      ]
    },
    {
      "cell_type": "code",
      "source": [
        "def readData(folder, filename):\n",
        "    data = np.loadtxt(os.path.join(folder, filename), delimiter=',')\n",
        "    print('Original data shape', data.shape)\n",
        "    X = data[:,:-1]\n",
        "    print('X shape: ', X.shape)\n",
        "    y = data[:,-1]\n",
        "    print('y shape: ', y.shape)\n",
        "    m = X.shape[0]\n",
        "    print('Number of training examples m = ', m)\n",
        "    x0 = np.ones((m,1))\n",
        "    X = np.hstack([x0, X])\n",
        "    print('Modified X shape: ', X.shape)\n",
        "    y = np.reshape(y, (m,1))\n",
        "    print('Modified y shape: ', y.shape)\n",
        "    return X, y"
      ],
      "metadata": {
        "id": "260wTScqLF-B"
      },
      "execution_count": 2,
      "outputs": []
    },
    {
      "cell_type": "code",
      "source": [
        "def featureVectorScaling(data):\n",
        "    snn = data.min()\n",
        "    sln = data.max()\n",
        "    data_scl = (data - snn)/(sln - snn)\n",
        "    print(data_scl[1])\n",
        "    return data_scl"
      ],
      "metadata": {
        "id": "jnZ01e82LU5J"
      },
      "execution_count": 3,
      "outputs": []
    },
    {
      "cell_type": "code",
      "source": [
        "def scaleData(X, y):\n",
        "    X_scl = X[:, 0]\n",
        "    for i in range(1, X.shape[1]):\n",
        "        scl = featureVectorScaling(X[:, i])\n",
        "        X_scl = np.column_stack([X_scl, scl])\n",
        "    y_scl = featureVectorScaling(y)\n",
        "    print('X_scl shape: ', X_scl.shape)\n",
        "    print(X_scl[1,:])\n",
        "    print('y scl shape: ', y_scl.shape)\n",
        "    print(y_scl[1,:])\n",
        "    return X_scl, y_scl"
      ],
      "metadata": {
        "id": "ujAVYA-ELYCK"
      },
      "execution_count": 4,
      "outputs": []
    },
    {
      "cell_type": "code",
      "source": [
        "def computeLoss(X, y, w):\n",
        "    m = y.shape[0]\n",
        "    J = 0\n",
        "    h = np.dot(X, w)\n",
        "    J = (1/(2*m))*np.sum(np.square(h - y))\n",
        "    return J\n",
        "\n",
        "def gradientDescent(X, y, w, alpha, n):\n",
        "    m = y.shape[0]\n",
        "    J_history = []\n",
        "    w_optimal = w.copy()\n",
        "    print('w_optimal shape: ', w_optimal.shape)\n",
        "    for i in range(n):\n",
        "        h = np.dot(X, w_optimal)\n",
        "        error = h - y\n",
        "        w_optimal = w_optimal - (alpha/m)*np.dot(X.T, error)\n",
        "        J_history.append(computeLoss(X, y, w_optimal))\n",
        "    return w_optimal, J_history"
      ],
      "metadata": {
        "id": "mYBwZzJQLbzd"
      },
      "execution_count": 5,
      "outputs": []
    },
    {
      "cell_type": "code",
      "source": [
        "def visualizeDataAndModel(X, y, w_optimal):\n",
        "    fig = plt.figure()\n",
        "    plt.plot(X[:,1], y, 'g^')\n",
        "    plt.plot(X[:, 1], np.dot(X, w_optimal), 'r-')\n",
        "    plt.legend(['Raw Data', 'Linear regression'])\n",
        "    plt.ylabel('Profit in $10,000')\n",
        "    plt.xlabel('Population of City in 10,000s')\n",
        "    plt.show()"
      ],
      "metadata": {
        "id": "OMmpJUS8Lewa"
      },
      "execution_count": 6,
      "outputs": []
    },
    {
      "cell_type": "code",
      "source": [
        "def main():\n",
        "    n = 1500\n",
        "    alpha = 0.01\n",
        "    X, y = readData(\"/content/drive/MyDrive/học máy 1\", \"ex1data1.txt\")\n",
        "    X_scl, y_scl = scaleData(X, y)\n",
        "    print('X scl: ', X_scl[1,:])\n",
        "    print('y scl: ', y_scl[1])\n",
        "    w = np.zeros((X_scl.shape[1], 1))\n",
        "    w, J_history = gradientDescent(X_scl, y_scl, w, alpha, n)\n",
        "    print(\"Optimal weights are: \", w)\n",
        "    print(\"Loss function: \", J_history[-1])\n",
        "\n",
        "if __name__ == '__main__':\n",
        "    main()"
      ],
      "metadata": {
        "colab": {
          "base_uri": "https://localhost:8080/"
        },
        "id": "-zPWbIx6LiWC",
        "outputId": "e29f8efe-18a0-4685-8d8a-23ed38cd7f9d"
      },
      "execution_count": 7,
      "outputs": [
        {
          "output_type": "stream",
          "name": "stdout",
          "text": [
            "Original data shape (97, 2)\n",
            "X shape:  (97, 1)\n",
            "y shape:  (97,)\n",
            "Number of training examples m =  97\n",
            "Modified X shape:  (97, 2)\n",
            "Modified y shape:  (97, 1)\n",
            "0.02915679345136556\n",
            "[0.44025019]\n",
            "X_scl shape:  (97, 2)\n",
            "[1.         0.02915679]\n",
            "y scl shape:  (97, 1)\n",
            "[0.44025019]\n",
            "X scl:  [1.         0.02915679]\n",
            "y scl:  [0.44025019]\n",
            "w_optimal shape:  (2, 1)\n",
            "Optimal weights are:  [[0.24338406]\n",
            " [0.42408963]]\n",
            "Loss function:  0.009124713330402054\n"
          ]
        }
      ]
    }
  ]
}