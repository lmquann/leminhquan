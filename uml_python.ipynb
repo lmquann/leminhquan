{
  "nbformat": 4,
  "nbformat_minor": 0,
  "metadata": {
    "colab": {
      "name": "uml-python.ipynb",
      "provenance": [],
      "authorship_tag": "ABX9TyOtPcSQczmU12v6eZpaNtPP",
      "include_colab_link": true
    },
    "kernelspec": {
      "name": "python3",
      "display_name": "Python 3"
    },
    "language_info": {
      "name": "python"
    }
  },
  "cells": [
    {
      "cell_type": "markdown",
      "metadata": {
        "id": "view-in-github",
        "colab_type": "text"
      },
      "source": [
        "<a href=\"https://colab.research.google.com/github/lmquann/leminhquan/blob/main/uml_python.ipynb\" target=\"_parent\"><img src=\"https://colab.research.google.com/assets/colab-badge.svg\" alt=\"Open In Colab\"/></a>"
      ]
    },
    {
      "cell_type": "code",
      "metadata": {
        "colab": {
          "base_uri": "https://localhost:8080/",
          "height": 129
        },
        "id": "r5mGyRdUbQqf",
        "outputId": "49186385-17b6-4537-bc5b-82eab81fb399"
      },
      "source": [
        "class Customer:\n",
        "  def __init__(self, name:str, address):\n",
        "    self.name = name\n",
        "    self.address = address\n",
        "\n",
        "class OrderDetail:\n",
        "  def __init__(self, quantity, taxStatus:Str):\n",
        "    self.quantity = quantity\n",
        "    self.taxStatus = taxStatus\n",
        "  def calcSubTotal(self, item):\n",
        "    pass\n",
        "\n",
        "  def calcWeight(self, item):\n",
        "    pass\n",
        "\n",
        "  def calcTax(self, item):\n",
        "    pass\n",
        "\n",
        "class Order:\n",
        "  details: list[OrderDetail]\n",
        "  def __init__(self, date, status:str, details):\n",
        "    self.date = date\n",
        "    self.status = status\n",
        "    self.details = []\n",
        "  def calcSubTotal(self, detail):\n",
        "    pass\n",
        "\n",
        "  def calcTax(self, detail):\n",
        "    pass\n",
        "\n",
        "  def calcTotal(self, detail):\n",
        "    pass\n",
        "\n",
        "  def calcTotalWeight(self, detail):\n",
        "    pass \n",
        "\n",
        "\n",
        "class Item:\n",
        "  def __init__(self, shippingWeight, description:Str):\n",
        "    self.shippingWeight = shippingWeight\n",
        "    self.description = description\n",
        "  def getPriceForQuantity(self):\n",
        "    pass\n",
        "  \n",
        "  def getTax(self):\n",
        "    pass\n",
        "  \n",
        "  def inStock(self):\n",
        "    pass\n",
        "\n",
        "class Payment:\n",
        "  def __init__(self, amount:float):\n",
        "    self.amount = amount\n",
        "  \n",
        "class Cash(Payment):\n",
        "  def __init__(self, cashTendered:float):\n",
        "    Payment.__init__(self)\n",
        "    self.cashTendered = cashTendered\n",
        "  \n",
        "class Check(Payment):\n",
        "  def __init__(self, name:Str, bankID:str):\n",
        "    Payment.__init__(self)\n",
        "    self.name = name\n",
        "    self.bankID = bankID \n",
        "  def authorized(self):\n",
        "    pass\n",
        "\n",
        "class Credit(Payment):\n",
        "  def __init__(self, number:Str, type:Str, expDate):\n",
        "    Payment.__init__(self)\n",
        "    self.number = number\n",
        "    self.type = type \n",
        "    self.expDate = expDate\n",
        "  def authorized(self):\n",
        "    pass \n",
        "\n"
      ],
      "execution_count": null,
      "outputs": [
        {
          "output_type": "error",
          "ename": "SyntaxError",
          "evalue": "ignored",
          "traceback": [
            "\u001b[0;36m  File \u001b[0;32m\"<ipython-input-2-6105a23cebd2>\"\u001b[0;36m, line \u001b[0;32m8\u001b[0m\n\u001b[0;31m    self.date: = date\u001b[0m\n\u001b[0m               ^\u001b[0m\n\u001b[0;31mSyntaxError\u001b[0m\u001b[0;31m:\u001b[0m invalid syntax\n"
          ]
        }
      ]
    }
  ]
}