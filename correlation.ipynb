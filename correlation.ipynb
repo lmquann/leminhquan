{
  "nbformat": 4,
  "nbformat_minor": 0,
  "metadata": {
    "colab": {
      "name": "ptdl__24_3_2022.ipynb",
      "provenance": [],
      "authorship_tag": "ABX9TyOC7QFCqz6qHGKB8kxGT/SD",
      "include_colab_link": true
    },
    "kernelspec": {
      "name": "python3",
      "display_name": "Python 3"
    },
    "language_info": {
      "name": "python"
    }
  },
  "cells": [
    {
      "cell_type": "markdown",
      "metadata": {
        "id": "view-in-github",
        "colab_type": "text"
      },
      "source": [
        "<a href=\"https://colab.research.google.com/github/lmquann/leminhquan/blob/main/correlation.ipynb\" target=\"_parent\"><img src=\"https://colab.research.google.com/assets/colab-badge.svg\" alt=\"Open In Colab\"/></a>"
      ]
    },
    {
      "cell_type": "markdown",
      "source": [
        "BÀI TẬP: Bạn hãy tìm hiểu về hệ số tương quan (correlation), cách đọc và giải thích ý nghĩa hệ số tương quan."
      ],
      "metadata": {
        "id": "yUOrFp-itlIS"
      }
    },
    {
      "cell_type": "markdown",
      "source": [
        "   Một cách để định lượng mối quan hệ giữa hai biến là sử dụng hệ số tương quan Pearson, là thước đo liên kết tuyến tính giữa hai biến. Nó luôn có giá trị từ -1 đến 1 trong đó:\n",
        "\n",
        "+ -1 chỉ ra mối tương quan tuyến tính hoàn toàn tiêu cực giữa hai biến\n",
        "\n",
        "+ 0 cho thấy không có mối tương quan tuyến tính giữa hai biến\n",
        "\n",
        "+ 1 chỉ ra mối tương quan tuyến tính hoàn toàn tích cực giữa hai biến\n",
        "\n",
        "\n",
        "  Hệ số tương quan càng xa từ 0, mối quan hệ giữa hai biến càng mạnh."
      ],
      "metadata": {
        "id": "19Z8VVlcwdUR"
      }
    },
    {
      "cell_type": "markdown",
      "source": [
        "+ Cách tính hệ số tương quan: "
      ],
      "metadata": {
        "id": "Y1SSX-ZZv9bZ"
      }
    },
    {
      "cell_type": "markdown",
      "source": [
        "Dùng hàm corrcoef() trong Numpy để tính mối tương quan giữa 2 biến "
      ],
      "metadata": {
        "id": "Fyq1B6hOxq-o"
      }
    },
    {
      "cell_type": "code",
      "source": [
        "#Ví dụ: \n",
        "import numpy as np\n",
        "np.random.seed(100)\n",
        "#tạo 1 mảng ngẫu nhiên \n",
        "var1 = np.random.randint(0, 10, 50)\n",
        "#tạo ra một mảng tương quan tích cực với một mảng ngẫu nhiên \n",
        "var2 = var1 + np.random.normal(0, 10, 50)\n",
        "#tính hệ só tương quan giữa 2 mảng \n",
        "np.corrcoef(var1, var2)"
      ],
      "metadata": {
        "colab": {
          "base_uri": "https://localhost:8080/"
        },
        "id": "j77uC_OSyehf",
        "outputId": "b5d12382-b554-47e7-f5ac-7ab2966ed76b"
      },
      "execution_count": null,
      "outputs": [
        {
          "output_type": "execute_result",
          "data": {
            "text/plain": [
              "array([[1.       , 0.3350184],\n",
              "       [0.3350184, 1.       ]])"
            ]
          },
          "metadata": {},
          "execution_count": 5
        }
      ]
    },
    {
      "cell_type": "markdown",
      "source": [
        "   => Hệ số tương quan giữa hai biến này là 0,335, đó là một mối tương quan tích cực."
      ],
      "metadata": {
        "id": "SMMgdIEPze-R"
      }
    },
    {
      "cell_type": "markdown",
      "source": [
        "Dùng hàm pearsonr() trong Scipy để kiểm tra xem mối tương quan này có ý nghĩa thống kê hay không, ta tính toán p-value liên quan đến hệ số tương quan Pearson, nó sẽ trả về hệ số tương quan Pearson cùng với p-value hai mẫu"
      ],
      "metadata": {
        "id": "cQDRxJK_zrAv"
      }
    },
    {
      "cell_type": "code",
      "source": [
        "from scipy.stats.stats import pearsonr\n",
        "\n",
        "pearsonr(var1, var2)"
      ],
      "metadata": {
        "colab": {
          "base_uri": "https://localhost:8080/"
        },
        "id": "XKxzTXYV0rOY",
        "outputId": "a867f4bc-cf3f-40fc-8d7c-5a09bcb5f2cc"
      },
      "execution_count": null,
      "outputs": [
        {
          "output_type": "execute_result",
          "data": {
            "text/plain": [
              "(0.33501839763857016, 0.017397558087782913)"
            ]
          },
          "metadata": {},
          "execution_count": 6
        }
      ]
    },
    {
      "cell_type": "markdown",
      "source": [
        "  => Hệ số tương quan là 0,335 và p-value hai mẫu là 0,017, p-value < 0,05, ta sẽ kết luận rằng có một mối tương quan có ý nghĩa thống kê giữa hai biến."
      ],
      "metadata": {
        "id": "liGV3L8y1Gwe"
      }
    },
    {
      "cell_type": "markdown",
      "source": [
        "Dùng hàm .corr() trong pandas để tính tính mối tương quan giữa một số biến trong 1 Pandas DataFrame"
      ],
      "metadata": {
        "id": "ugSu4_b02AQP"
      }
    },
    {
      "cell_type": "code",
      "source": [
        "#Ví dụ \n",
        "import pandas as pd\n",
        "data = pd.DataFrame(np.random.randint(0, 10, size=(5, 3)), columns=['A', 'B', 'C'])\n",
        "#tính toán hệ số tương quan cho tất cả các tổ hợp theo cặp\n",
        "data.corr()"
      ],
      "metadata": {
        "colab": {
          "base_uri": "https://localhost:8080/",
          "height": 143
        },
        "id": "0RxYAwB62XAG",
        "outputId": "d0cca0c3-4d37-4dfb-ee66-5278f32f99e1"
      },
      "execution_count": null,
      "outputs": [
        {
          "output_type": "execute_result",
          "data": {
            "text/plain": [
              "          A         B         C\n",
              "A  1.000000 -0.265690  0.563543\n",
              "B -0.265690  1.000000 -0.075858\n",
              "C  0.563543 -0.075858  1.000000"
            ],
            "text/html": [
              "\n",
              "  <div id=\"df-afbd5f75-3782-42ee-b9a8-1d9932c4ce0d\">\n",
              "    <div class=\"colab-df-container\">\n",
              "      <div>\n",
              "<style scoped>\n",
              "    .dataframe tbody tr th:only-of-type {\n",
              "        vertical-align: middle;\n",
              "    }\n",
              "\n",
              "    .dataframe tbody tr th {\n",
              "        vertical-align: top;\n",
              "    }\n",
              "\n",
              "    .dataframe thead th {\n",
              "        text-align: right;\n",
              "    }\n",
              "</style>\n",
              "<table border=\"1\" class=\"dataframe\">\n",
              "  <thead>\n",
              "    <tr style=\"text-align: right;\">\n",
              "      <th></th>\n",
              "      <th>A</th>\n",
              "      <th>B</th>\n",
              "      <th>C</th>\n",
              "    </tr>\n",
              "  </thead>\n",
              "  <tbody>\n",
              "    <tr>\n",
              "      <th>A</th>\n",
              "      <td>1.000000</td>\n",
              "      <td>-0.265690</td>\n",
              "      <td>0.563543</td>\n",
              "    </tr>\n",
              "    <tr>\n",
              "      <th>B</th>\n",
              "      <td>-0.265690</td>\n",
              "      <td>1.000000</td>\n",
              "      <td>-0.075858</td>\n",
              "    </tr>\n",
              "    <tr>\n",
              "      <th>C</th>\n",
              "      <td>0.563543</td>\n",
              "      <td>-0.075858</td>\n",
              "      <td>1.000000</td>\n",
              "    </tr>\n",
              "  </tbody>\n",
              "</table>\n",
              "</div>\n",
              "      <button class=\"colab-df-convert\" onclick=\"convertToInteractive('df-afbd5f75-3782-42ee-b9a8-1d9932c4ce0d')\"\n",
              "              title=\"Convert this dataframe to an interactive table.\"\n",
              "              style=\"display:none;\">\n",
              "        \n",
              "  <svg xmlns=\"http://www.w3.org/2000/svg\" height=\"24px\"viewBox=\"0 0 24 24\"\n",
              "       width=\"24px\">\n",
              "    <path d=\"M0 0h24v24H0V0z\" fill=\"none\"/>\n",
              "    <path d=\"M18.56 5.44l.94 2.06.94-2.06 2.06-.94-2.06-.94-.94-2.06-.94 2.06-2.06.94zm-11 1L8.5 8.5l.94-2.06 2.06-.94-2.06-.94L8.5 2.5l-.94 2.06-2.06.94zm10 10l.94 2.06.94-2.06 2.06-.94-2.06-.94-.94-2.06-.94 2.06-2.06.94z\"/><path d=\"M17.41 7.96l-1.37-1.37c-.4-.4-.92-.59-1.43-.59-.52 0-1.04.2-1.43.59L10.3 9.45l-7.72 7.72c-.78.78-.78 2.05 0 2.83L4 21.41c.39.39.9.59 1.41.59.51 0 1.02-.2 1.41-.59l7.78-7.78 2.81-2.81c.8-.78.8-2.07 0-2.86zM5.41 20L4 18.59l7.72-7.72 1.47 1.35L5.41 20z\"/>\n",
              "  </svg>\n",
              "      </button>\n",
              "      \n",
              "  <style>\n",
              "    .colab-df-container {\n",
              "      display:flex;\n",
              "      flex-wrap:wrap;\n",
              "      gap: 12px;\n",
              "    }\n",
              "\n",
              "    .colab-df-convert {\n",
              "      background-color: #E8F0FE;\n",
              "      border: none;\n",
              "      border-radius: 50%;\n",
              "      cursor: pointer;\n",
              "      display: none;\n",
              "      fill: #1967D2;\n",
              "      height: 32px;\n",
              "      padding: 0 0 0 0;\n",
              "      width: 32px;\n",
              "    }\n",
              "\n",
              "    .colab-df-convert:hover {\n",
              "      background-color: #E2EBFA;\n",
              "      box-shadow: 0px 1px 2px rgba(60, 64, 67, 0.3), 0px 1px 3px 1px rgba(60, 64, 67, 0.15);\n",
              "      fill: #174EA6;\n",
              "    }\n",
              "\n",
              "    [theme=dark] .colab-df-convert {\n",
              "      background-color: #3B4455;\n",
              "      fill: #D2E3FC;\n",
              "    }\n",
              "\n",
              "    [theme=dark] .colab-df-convert:hover {\n",
              "      background-color: #434B5C;\n",
              "      box-shadow: 0px 1px 3px 1px rgba(0, 0, 0, 0.15);\n",
              "      filter: drop-shadow(0px 1px 2px rgba(0, 0, 0, 0.3));\n",
              "      fill: #FFFFFF;\n",
              "    }\n",
              "  </style>\n",
              "\n",
              "      <script>\n",
              "        const buttonEl =\n",
              "          document.querySelector('#df-afbd5f75-3782-42ee-b9a8-1d9932c4ce0d button.colab-df-convert');\n",
              "        buttonEl.style.display =\n",
              "          google.colab.kernel.accessAllowed ? 'block' : 'none';\n",
              "\n",
              "        async function convertToInteractive(key) {\n",
              "          const element = document.querySelector('#df-afbd5f75-3782-42ee-b9a8-1d9932c4ce0d');\n",
              "          const dataTable =\n",
              "            await google.colab.kernel.invokeFunction('convertToInteractive',\n",
              "                                                     [key], {});\n",
              "          if (!dataTable) return;\n",
              "\n",
              "          const docLinkHtml = 'Like what you see? Visit the ' +\n",
              "            '<a target=\"_blank\" href=https://colab.research.google.com/notebooks/data_table.ipynb>data table notebook</a>'\n",
              "            + ' to learn more about interactive tables.';\n",
              "          element.innerHTML = '';\n",
              "          dataTable['output_type'] = 'display_data';\n",
              "          await google.colab.output.renderOutput(dataTable, element);\n",
              "          const docLink = document.createElement('div');\n",
              "          docLink.innerHTML = docLinkHtml;\n",
              "          element.appendChild(docLink);\n",
              "        }\n",
              "      </script>\n",
              "    </div>\n",
              "  </div>\n",
              "  "
            ]
          },
          "metadata": {},
          "execution_count": 11
        }
      ]
    },
    {
      "cell_type": "code",
      "source": [
        "#Tính toán mối tương quan giữa hai biến cụ thể\n",
        "data['A'].corr(data['B'])"
      ],
      "metadata": {
        "colab": {
          "base_uri": "https://localhost:8080/"
        },
        "id": "6yZubP9921uO",
        "outputId": "7fe299b3-d1c9-4f8e-8881-ff0873e6ca25"
      },
      "execution_count": null,
      "outputs": [
        {
          "output_type": "execute_result",
          "data": {
            "text/plain": [
              "-0.2656898736119089"
            ]
          },
          "metadata": {},
          "execution_count": 12
        }
      ]
    },
    {
      "cell_type": "markdown",
      "source": [
        "Có một số thống kê mà bạn có thể sử dụng để định lượng mối tương quan.  Có ba hệ số tương quan:\n",
        "+ Pearson’s r\n",
        "+ Spearman’s ρ (rho)\n",
        "+ Kendall’s τ (tau)\n",
        "\n",
        "Hệ số Pearson đo lường mối tương quan tuyến tính, trong khi hệ số Spearman và Kendall so sánh thứ hạng dữ liệu\n",
        "\n"
      ],
      "metadata": {
        "id": "YB32auVf9AiT"
      }
    },
    {
      "cell_type": "markdown",
      "source": [
        "++ Pearson - mối tương quan tuyến tính :  có thể được sử dụng để tóm tắt cường độ của mối quan hệ tuyến tính giữa hai mẫu dữ liệu.\n",
        "\n",
        "Một số điều kiện cần cho mối tương quan Pearson: \n",
        "\n",
        "+ Các biến x và y phải có mối quan hệ tuyến tính.\n",
        "\n",
        "+ Cả hai biến x và y phải là số (hoặc định lượng). Đó là, chúng phải đại diện cho các phép đo mà không có giới hạn về mức độ chính xác của chúng. \n",
        "\n",
        "+ Các giá trị y phải có một phân bố bình thường cho mỗi x, với cùng một phương sai ở mỗi x.\n",
        "\n",
        "\n",
        "Hệ số tương quan của Pearson được tính như là tính hiệp biến(covariance) của hai biến chia cho sản phẩm của độ lệch chuẩn của mỗi mẫu dữ liệu.\n",
        "\n",
        "Hệ số tương quan cho biết: \n",
        "+ Dần tới +1: mối tương quan tích cực càng lớn \n",
        "+ Dần tới -1: mối tương quan tiêu cực càng lớn \n",
        "+ 0: không có mối tương quan \n",
        "\n",
        "Hệ số tương quan Pearson có thể được sử dụng để đánh giá mối quan hệ giữa nhiều hơn hai biến."
      ],
      "metadata": {
        "id": "ZfqI62fEAmnL"
      }
    }
  ]
}