{
  "nbformat": 4,
  "nbformat_minor": 0,
  "metadata": {
    "colab": {
      "name": "btap2_11.ipynb",
      "provenance": [],
      "authorship_tag": "ABX9TyP3Bdu2BWnPORrfLUcfMUbw",
      "include_colab_link": true
    },
    "kernelspec": {
      "name": "python3",
      "display_name": "Python 3"
    },
    "language_info": {
      "name": "python"
    }
  },
  "cells": [
    {
      "cell_type": "markdown",
      "metadata": {
        "id": "view-in-github",
        "colab_type": "text"
      },
      "source": [
        "<a href=\"https://colab.research.google.com/github/lmquann/leminhquan/blob/main/btap2_11.ipynb\" target=\"_parent\"><img src=\"https://colab.research.google.com/assets/colab-badge.svg\" alt=\"Open In Colab\"/></a>"
      ]
    },
    {
      "cell_type": "markdown",
      "metadata": {
        "id": "DCYuHWwe-Yd9"
      },
      "source": [
        "sắp xếp"
      ]
    },
    {
      "cell_type": "code",
      "metadata": {
        "id": "4nOePfXx-PsA",
        "colab": {
          "base_uri": "https://localhost:8080/"
        },
        "outputId": "fd53e010-293d-4bd9-bf22-a942abc77492"
      },
      "source": [
        "a = [15,7,8,5,4,0]\n",
        "for i in range (0,len(a)-1):\n",
        "  for j in range  (i+1, len(a)):\n",
        "    if a[i]>a[j]:\n",
        "      a[i],a[j]=a[j],a[i]\n",
        "print(a)\n"
      ],
      "execution_count": 1,
      "outputs": [
        {
          "output_type": "stream",
          "name": "stdout",
          "text": [
            "[0, 4, 5, 7, 8, 15]\n"
          ]
        }
      ]
    },
    {
      "cell_type": "markdown",
      "metadata": {
        "id": "RBpo1jM6aGgB"
      },
      "source": [
        "tìm kiếm"
      ]
    },
    {
      "cell_type": "code",
      "metadata": {
        "colab": {
          "base_uri": "https://localhost:8080/"
        },
        "id": "cVzCE-Y3ZeSp",
        "outputId": "7a9329e8-60be-4a1b-ef4c-15839d7f79dd"
      },
      "source": [
        "tim = int(input(\"nhap \"))\n",
        "for i in range (len(a)):\n",
        "  if a[i]== tim:\n",
        "    print(a[i])\n",
        "    break"
      ],
      "execution_count": 8,
      "outputs": [
        {
          "output_type": "stream",
          "name": "stdout",
          "text": [
            "nhap 0\n",
            "0\n"
          ]
        }
      ]
    },
    {
      "cell_type": "markdown",
      "metadata": {
        "id": "4DqrE-L4ao3Y"
      },
      "source": [
        "xây dựng hàm tìm kiếm xe theo biển số "
      ]
    },
    {
      "cell_type": "code",
      "metadata": {
        "id": "nwhaK7nQaoew"
      },
      "source": [
        ""
      ],
      "execution_count": null,
      "outputs": []
    }
  ]
}