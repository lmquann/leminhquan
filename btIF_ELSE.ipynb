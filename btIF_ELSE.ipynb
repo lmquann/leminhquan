{
  "nbformat": 4,
  "nbformat_minor": 0,
  "metadata": {
    "colab": {
      "name": "btIF_ELSE.ipynb",
      "provenance": [],
      "authorship_tag": "ABX9TyNQb/VdshulW9xpVje3kI1s",
      "include_colab_link": true
    },
    "kernelspec": {
      "name": "python3",
      "display_name": "Python 3"
    },
    "language_info": {
      "name": "python"
    }
  },
  "cells": [
    {
      "cell_type": "markdown",
      "metadata": {
        "id": "view-in-github",
        "colab_type": "text"
      },
      "source": [
        "<a href=\"https://colab.research.google.com/github/lmquann/leminhquan/blob/main/btIF_ELSE.ipynb\" target=\"_parent\"><img src=\"https://colab.research.google.com/assets/colab-badge.svg\" alt=\"Open In Colab\"/></a>"
      ]
    },
    {
      "cell_type": "code",
      "metadata": {
        "colab": {
          "base_uri": "https://localhost:8080/"
        },
        "id": "q_nGG-J_Jdih",
        "outputId": "fd5c529c-e388-4492-a903-a26e5a2db5b0"
      },
      "source": [
        "diem = float(input(\"nhap diem: \"))\n",
        "if diem >= 9.0:\n",
        "    grade='xuat sac'\n",
        "elif diem >= 8.0:\n",
        "    grade='gioi'\n",
        "elif diem >= 7.0:\n",
        "    grade='kha'\n",
        "elif diem >= 5.0:\n",
        "    grade='trung binh'\n",
        "elif diem >= 0:\n",
        "    grade='yeu'\n",
        "print(\"xep hang cua ban la: \", grade)"
      ],
      "execution_count": 21,
      "outputs": [
        {
          "output_type": "stream",
          "name": "stdout",
          "text": [
            "nhap diem: 3\n",
            "xep hang cua ban la:  yeu\n"
          ]
        }
      ]
    }
  ]
}