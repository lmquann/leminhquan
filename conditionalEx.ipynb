{
  "nbformat": 4,
  "nbformat_minor": 0,
  "metadata": {
    "colab": {
      "name": "conditionalEx.ipynb",
      "provenance": [],
      "authorship_tag": "ABX9TyMnoJ73ZHaYkhcVOw+S8e+Q",
      "include_colab_link": true
    },
    "kernelspec": {
      "name": "python3",
      "display_name": "Python 3"
    },
    "language_info": {
      "name": "python"
    }
  },
  "cells": [
    {
      "cell_type": "markdown",
      "metadata": {
        "id": "view-in-github",
        "colab_type": "text"
      },
      "source": [
        "<a href=\"https://colab.research.google.com/github/lmquann/leminhquan/blob/main/conditionalEx.ipynb\" target=\"_parent\"><img src=\"https://colab.research.google.com/assets/colab-badge.svg\" alt=\"Open In Colab\"/></a>"
      ]
    },
    {
      "cell_type": "code",
      "metadata": {
        "colab": {
          "base_uri": "https://localhost:8080/"
        },
        "id": "IRCIdOhfJ_lo",
        "outputId": "240daebf-03e4-40f3-9d09-7e095debc9e3"
      },
      "source": [
        "#1\n",
        "a = float(input(\"type number: \"))\n",
        "if (a > 0):\n",
        "  print(\"positive\")\n",
        "elif (a < 0):\n",
        "  print(\"negative\")\n",
        "else: \n",
        "  print(\"zero\")"
      ],
      "execution_count": 22,
      "outputs": [
        {
          "output_type": "stream",
          "name": "stdout",
          "text": [
            "type number: 0\n",
            "zero\n"
          ]
        }
      ]
    },
    {
      "cell_type": "code",
      "metadata": {
        "colab": {
          "base_uri": "https://localhost:8080/"
        },
        "id": "fc1jLDBSKUXE",
        "outputId": "8cd5fc5c-6aab-49c1-a747-1f8ba4d66188"
      },
      "source": [
        "#2\n",
        "x = float(input(\"type 1st number: \"))\n",
        "y = float(input(\"type 2nd number: \"))\n",
        "z = float(input(\"type 3rd number: \"))\n",
        "if (x > y) and (x > z):\n",
        "  print(\"the greatest is: \", x)\n",
        "elif (y > x) and (y > z):\n",
        "  print(\"the greatest is: \", y)\n",
        "else:\n",
        "  print(\"the greatest is: \", z)"
      ],
      "execution_count": 26,
      "outputs": [
        {
          "output_type": "stream",
          "name": "stdout",
          "text": [
            "type 1st number: 3456\n",
            "type 2nd number: 3453\n",
            "type 3rd number: 3457\n",
            "the greatest is:  3457.0\n"
          ]
        }
      ]
    },
    {
      "cell_type": "code",
      "metadata": {
        "colab": {
          "base_uri": "https://localhost:8080/"
        },
        "id": "VDXUbSHHMpyB",
        "outputId": "90c856f0-b234-4f47-b9eb-dfeb7050792e"
      },
      "source": [
        "#3\n",
        "x = float(input(\" type a number: \"))\n",
        "if (x == 0):\n",
        "  print(\"zero\")\n",
        "elif (x < -1000000):\n",
        "  print(\"large negative number\")\n",
        "elif (-1000000 < x < -1):\n",
        "  print(\"negative number\")\n",
        "elif (-1 < x < 0):\n",
        "  print(\"small negative number\")\n",
        "elif (0 < x < 1):\n",
        "  print(\"small positive number\")\n",
        "elif (1 < x < 1000000):\n",
        "  print(\"positive number\")\n",
        "elif (1000000 < x):\n",
        "  print(\"large positive number\")"
      ],
      "execution_count": 27,
      "outputs": [
        {
          "output_type": "stream",
          "name": "stdout",
          "text": [
            " type a number: 1000001\n",
            "large positive number\n"
          ]
        }
      ]
    },
    {
      "cell_type": "code",
      "metadata": {
        "colab": {
          "base_uri": "https://localhost:8080/"
        },
        "id": "OReXXQz5ORUN",
        "outputId": "34d8d9cb-3d66-463d-c864-d2ee7d6bf24b"
      },
      "source": [
        "#4\n",
        "num =  float(input(\"type a number: \"))\n",
        "s = num % 7\n",
        "s = s + 1\n",
        "if (s == 1):\n",
        "  print(\"Monday\")\n",
        "elif (s == 2):\n",
        "  print(\"Tuesday\")\n",
        "elif (s == 3):\n",
        "  print(\"Wednesday\")\n",
        "elif (s == 4):\n",
        "  print(\"Thursday\")\n",
        "elif (s == 5):\n",
        "  print(\"Friday\")\n",
        "elif (s == 6):\n",
        "  print(\"Saturday\")\n",
        "else:\n",
        "  print(\"Sunday\")"
      ],
      "execution_count": 30,
      "outputs": [
        {
          "output_type": "stream",
          "name": "stdout",
          "text": [
            "type a number: 231\n",
            "Monday\n"
          ]
        }
      ]
    },
    {
      "cell_type": "code",
      "metadata": {
        "colab": {
          "base_uri": "https://localhost:8080/"
        },
        "id": "huM-MUPEPaaO",
        "outputId": "4bb36847-1130-4194-f985-9b0f0663bc5d"
      },
      "source": [
        "#5\n",
        "x = float(input(\"type x: \"))\n",
        "y = float(input(\"type y: \"))\n",
        "x = round(x*1000)\n",
        "x = x/1000\n",
        "y = round(y*1000)\n",
        "y = y/1000\n",
        "if (x == y):\n",
        "  print(\" same \")\n",
        "else: \n",
        "  print(\" different \")"
      ],
      "execution_count": 33,
      "outputs": [
        {
          "output_type": "stream",
          "name": "stdout",
          "text": [
            "type x: 2.345\n",
            "type y: 2.346\n",
            " different \n"
          ]
        }
      ]
    }
  ]
}