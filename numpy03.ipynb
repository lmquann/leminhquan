{
  "nbformat": 4,
  "nbformat_minor": 0,
  "metadata": {
    "colab": {
      "name": "numpy03.ipynb",
      "provenance": [],
      "authorship_tag": "ABX9TyNeP/wflLlvMdiqqN/M5/xa",
      "include_colab_link": true
    },
    "kernelspec": {
      "name": "python3",
      "display_name": "Python 3"
    },
    "language_info": {
      "name": "python"
    }
  },
  "cells": [
    {
      "cell_type": "markdown",
      "metadata": {
        "id": "view-in-github",
        "colab_type": "text"
      },
      "source": [
        "<a href=\"https://colab.research.google.com/github/lmquann/leminhquan/blob/main/numpy03.ipynb\" target=\"_parent\"><img src=\"https://colab.research.google.com/assets/colab-badge.svg\" alt=\"Open In Colab\"/></a>"
      ]
    },
    {
      "cell_type": "markdown",
      "source": [
        "Câu 1: Hãy trình bày cú pháp của hàm apply_along_axis() và ý nghĩa của từng tham số của hàm\n",
        "này."
      ],
      "metadata": {
        "id": "ucFgY1KRw_gn"
      }
    },
    {
      "cell_type": "markdown",
      "source": [
        "numpy.apply_along_axis(func1d, axis, arr, *args, **kwargs)\n",
        "+ Giup chúng ta áp dụng các hàm cần thiết cho các lát cắt 1D của mảng đã cho\n",
        "\n",
        "func1dfunction (M,) -> (Nj…) \n",
        "+ Hàm này dùng cho mảng 1D. Nó được áp dụng cho các lát arr 1D dọc theo trục được chỉ định.\n",
        "\n",
        "axis: integer\n",
        "+ Trục dọc theo arr được cắt.\n",
        "\n",
        "arr: ndarray (Ni…, M, Nk…)\n",
        "\n",
        "+ Nhập mảng.\n",
        "\n",
        "args: any\n",
        "+ Đối số bổ sung cho func1d.\n",
        "\n",
        "kwargs: any\n",
        "+ Các đối số được đặt tên bổ sung cho func1d"
      ],
      "metadata": {
        "id": "RGBv09kCxUYS"
      }
    },
    {
      "cell_type": "markdown",
      "source": [
        "Câu 2: Tạo một ma trận A15x17 có giá trị ngẫu nhiên"
      ],
      "metadata": {
        "id": "XzMnXpEtyiUJ"
      }
    },
    {
      "cell_type": "code",
      "execution_count": 1,
      "metadata": {
        "id": "6lgcejXYw8EZ"
      },
      "outputs": [],
      "source": [
        "import numpy as np\n",
        "import random "
      ]
    },
    {
      "cell_type": "code",
      "source": [
        "A = np.array([random.randint(0,10) for i in range(255)])\n",
        "A = A.reshape((15,17))\n",
        "print(A)"
      ],
      "metadata": {
        "colab": {
          "base_uri": "https://localhost:8080/"
        },
        "id": "XQXOTgUdJtej",
        "outputId": "b219c5d6-fea9-46a9-d4ce-4e78ce0fecd4"
      },
      "execution_count": 4,
      "outputs": [
        {
          "output_type": "stream",
          "name": "stdout",
          "text": [
            "[[10  4  5  2  5  1  8  4  3  5  7  6  6  9  0  7  6]\n",
            " [ 6  3  4  7  0  7  8  4  8  4  6  5  4  8  1  1  6]\n",
            " [ 5  5  0  3  3  8  7  1  7  8  2  6  5  7  5  9  6]\n",
            " [10  6  9  4 10  9  8  3  8  0  8  1  8  3  2  3  1]\n",
            " [ 8  5  8  8  6  7  8  1  8  3  7  6  3  4  6  0  1]\n",
            " [ 6  8 10  8  0  7  8  9 10  1  0  3  1  3  3 10  0]\n",
            " [ 1  5  6  9  5  7 10  3 10  7  2  1  4  1  8  9  8]\n",
            " [ 7  8  7  8 10  6  3 10  3  5  7  8  9  4  0 10  9]\n",
            " [ 2 10  9  1  3  8  3  9  2  9  2  8  4  0 10  1 10]\n",
            " [ 3  8  5 10  6  9  0  4  0  4  9  6  5  2  2  7  4]\n",
            " [ 0  7  0  7  9  6  6  5  1  8  9  0  8 10  9  5  7]\n",
            " [ 5  0  4 10  2  8 10 10  0  9  8  9  8  3  4  3  5]\n",
            " [ 8  1  0  2  9  6  6  7  0  2  2  7  0  6 10  1  3]\n",
            " [ 7  8  6  1  4  4  7  6  5  9  5  4  9  2  6  6  8]\n",
            " [ 6  3  9  2  4  7  8  8  5  1  4  1  8  2 10  1  0]]\n"
          ]
        }
      ]
    },
    {
      "cell_type": "markdown",
      "source": [
        "Câu 3: Xây dựng hàm tìm giá trị lớn nhất có tên là tim_gia_tri_lon_nhat(vector_a) có tham số\n",
        "đầu vào là 1 vector a và giá trị trả về là giá trị phần tử lớn nhất của vector này. Áp dụng hàm này\n",
        "theo từng hàng của ma trận A ở Câu 1 và xuất kết quả ra màn hình."
      ],
      "metadata": {
        "id": "zTJ9x1scKLXf"
      }
    },
    {
      "cell_type": "code",
      "source": [
        "def max(A):\n",
        "  max = 0\n",
        "  for i in range(len(A)):\n",
        "    if max < A[i]:\n",
        "      max = A[i]\n",
        "    else:\n",
        "      max = max\n",
        "  return max\n",
        "\n",
        "print(np.apply_along_axis(max, 1, A))"
      ],
      "metadata": {
        "colab": {
          "base_uri": "https://localhost:8080/"
        },
        "id": "Ux0Pj2pMKht6",
        "outputId": "550f5ae5-cbd8-4087-ba44-1b4c3c9f61d9"
      },
      "execution_count": 5,
      "outputs": [
        {
          "output_type": "stream",
          "name": "stdout",
          "text": [
            "[10  8  9 10  8 10 10 10 10 10 10 10 10  9 10]\n"
          ]
        }
      ]
    },
    {
      "cell_type": "markdown",
      "source": [
        "Câu 4: Xây dựng hàm tìm giá trị nhỏ nhất có tên là tim_gia_tri_nho_nhat(vector_a) có tham số\n",
        "đầu vào là 1 vector a và giá trị trả về là giá trị phần tử nhỏ nhất của vector này. Áp dụng hàm này\n",
        "theo từng cột của ma trận A ở Câu 1 và xuất kết quả ra màn hình."
      ],
      "metadata": {
        "id": "6GC21vN2Lng5"
      }
    },
    {
      "cell_type": "code",
      "source": [
        "def min(A):\n",
        "  min = 10\n",
        "  for i in range(len(A)):\n",
        "    if min > A[i]:\n",
        "      min = A[i]\n",
        "    else:\n",
        "      min = min\n",
        "  return min\n",
        "\n",
        "print(np.apply_along_axis(min, 1, A))"
      ],
      "metadata": {
        "colab": {
          "base_uri": "https://localhost:8080/"
        },
        "id": "wGTGhx0VLq4N",
        "outputId": "ab518427-c05a-4642-a11c-5ede44977b58"
      },
      "execution_count": 6,
      "outputs": [
        {
          "output_type": "stream",
          "name": "stdout",
          "text": [
            "[0 0 0 0 0 0 1 0 0 0 0 0 0 1 0]\n"
          ]
        }
      ]
    },
    {
      "cell_type": "markdown",
      "source": [
        "Câu 5: Xây dựng hàm tìm giá trị lớn nhất có tên là tinh_tong(vector_a) có tham số đầu vào là 1\n",
        "vector a và giá trị trả về là tổng các phần tử của vector này. Áp dụng hàm này theo từng hàng của\n",
        "ma trận A ở Câu 1 và xuất kết quả ra màn hình."
      ],
      "metadata": {
        "id": "xI0cy3IEL_gB"
      }
    },
    {
      "cell_type": "code",
      "source": [
        "def sum(A):\n",
        "  sum = 0\n",
        "  for i in range(len(A)):\n",
        "    sum += A[i]\n",
        "  return sum \n",
        "\n",
        "print(np.apply_along_axis(sum,1,A))"
      ],
      "metadata": {
        "colab": {
          "base_uri": "https://localhost:8080/"
        },
        "id": "dV56ztTNMDeD",
        "outputId": "0a1d41ed-dc44-4fbc-ce6a-9596bdfaeb50"
      },
      "execution_count": 7,
      "outputs": [
        {
          "output_type": "stream",
          "name": "stdout",
          "text": [
            "[ 88  82  87  93  89  87  96 114  91  84  97  98  70  97  79]\n"
          ]
        }
      ]
    },
    {
      "cell_type": "markdown",
      "source": [
        "Câu 6: Xây dựng hàm tìm giá trị lớn nhất có tên là tinh_tong_2(vector_a) có tham số đầu vào là\n",
        "1 vector a và giá trị trả về là tổng các phần tử có chỉ số lẻ (1 – 3 – 5 , .v.v.) của vector này. Áp\n",
        "dụng hàm này theo từng cột của ma trận A ở Câu 1 và xuất kết quả ra màn hình. Tiếp tục áp dụng\n",
        "hàm này theo từng hàng của ma trận A kể trên và xuất kết quả ra màn hình."
      ],
      "metadata": {
        "id": "OnJIMdnWMaTm"
      }
    },
    {
      "cell_type": "code",
      "source": [
        "def sum2(A):\n",
        "  sum = 0\n",
        "  for i in range(len(A)):\n",
        "    if i %2 !=0:\n",
        "      sum += A[i]\n",
        "  return sum\n",
        "\n",
        "print(np.apply_along_axis(sum2,1,A))"
      ],
      "metadata": {
        "colab": {
          "base_uri": "https://localhost:8080/"
        },
        "id": "UHQtfNeqMdav",
        "outputId": "f95f76a6-e4be-4c81-9406-a3cdfac9b9aa"
      },
      "execution_count": 12,
      "outputs": [
        {
          "output_type": "stream",
          "name": "stdout",
          "text": [
            "[38 39 47 29 34 49 42 59 46 50 48 52 32 40 25]\n"
          ]
        }
      ]
    }
  ]
}