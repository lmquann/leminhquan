{
  "cells": [
    {
      "cell_type": "markdown",
      "metadata": {
        "id": "view-in-github",
        "colab_type": "text"
      },
      "source": [
        "<a href=\"https://colab.research.google.com/github/lmquann/leminhquan/blob/main/bai_tap_sinh_mau_ngau_nhien.ipynb\" target=\"_parent\"><img src=\"https://colab.research.google.com/assets/colab-badge.svg\" alt=\"Open In Colab\"/></a>"
      ]
    },
    {
      "cell_type": "code",
      "source": [
        "import numpy as np"
      ],
      "metadata": {
        "id": "AlEge1Ey3FnR"
      },
      "execution_count": 1,
      "outputs": []
    },
    {
      "cell_type": "markdown",
      "metadata": {
        "id": "r9sBilHg1-uX"
      },
      "source": [
        "Sử dụng thư viện Numpy\n",
        "\n",
        "1. Sinh mẫu ngẫu nhiên bằng hàm arange trong khoảng [-15, 27] với khoảng cách là 0.7 và in kết quả ra màn hình"
      ]
    },
    {
      "cell_type": "code",
      "execution_count": 2,
      "metadata": {
        "id": "h1hR0bjo1-uf",
        "outputId": "3515b06d-f91e-487b-afdd-b7bae6d4eed2",
        "colab": {
          "base_uri": "https://localhost:8080/"
        }
      },
      "outputs": [
        {
          "output_type": "execute_result",
          "data": {
            "text/plain": [
              "array([-15. , -14.3, -13.6, -12.9, -12.2, -11.5, -10.8, -10.1,  -9.4,\n",
              "        -8.7,  -8. ,  -7.3,  -6.6,  -5.9,  -5.2,  -4.5,  -3.8,  -3.1,\n",
              "        -2.4,  -1.7,  -1. ,  -0.3,   0.4,   1.1,   1.8,   2.5,   3.2,\n",
              "         3.9,   4.6,   5.3,   6. ,   6.7,   7.4,   8.1,   8.8,   9.5,\n",
              "        10.2,  10.9,  11.6,  12.3,  13. ,  13.7,  14.4,  15.1,  15.8,\n",
              "        16.5,  17.2,  17.9,  18.6,  19.3,  20. ,  20.7,  21.4,  22.1,\n",
              "        22.8,  23.5,  24.2,  24.9,  25.6,  26.3,  27. ])"
            ]
          },
          "metadata": {},
          "execution_count": 2
        }
      ],
      "source": [
        "np.arange(-15, 27, 0.7)"
      ]
    },
    {
      "cell_type": "markdown",
      "metadata": {
        "id": "oBFBtwBk1-uh"
      },
      "source": [
        "2. Sinh mẫu ngẫu nhiên theo phân phối chuẩn với mean = 2.7 std = 1.2 và size = 40\n",
        "In kết quả ra màn hình"
      ]
    },
    {
      "cell_type": "code",
      "execution_count": 3,
      "metadata": {
        "id": "w4mFAfMt1-uk",
        "outputId": "2bdc3f7e-0d3e-440d-f090-f5d8043e084e",
        "colab": {
          "base_uri": "https://localhost:8080/"
        }
      },
      "outputs": [
        {
          "output_type": "execute_result",
          "data": {
            "text/plain": [
              "array([4.46139814, 2.10018508, 2.78132534, 2.36224895, 3.93802642,\n",
              "       3.74366024, 1.2112945 , 1.11968189, 3.20414478, 4.12438066,\n",
              "       1.92149953, 3.75551822, 2.63257298, 2.94612963, 0.86532074,\n",
              "       5.03430308, 3.79781645, 3.79281814, 0.84866939, 0.96226628,\n",
              "       3.77633426, 1.06586511, 2.84903083, 2.65730191, 2.39183553,\n",
              "       2.57580349, 1.53403341, 2.40767654, 4.07336637, 1.54435853,\n",
              "       1.48201176, 2.05558675, 2.58520581, 1.77689916, 2.06432417,\n",
              "       2.88696414, 3.57136643, 3.00435337, 1.88730379, 3.14667717])"
            ]
          },
          "metadata": {},
          "execution_count": 3
        }
      ],
      "source": [
        "np.random.normal(2.7, 1.2, 40)"
      ]
    },
    {
      "cell_type": "markdown",
      "metadata": {
        "id": "D2bO7in21-ul"
      },
      "source": [
        "3. Sinh mẫu ngẫu nhiên từ vector ['Viet Nam', 'Britain', 'France', 'Russia', 'Singapore'] \n",
        "\n",
        "với kích thước là 17 theo phân phối chuẩn"
      ]
    },
    {
      "cell_type": "code",
      "execution_count": 4,
      "metadata": {
        "id": "J6bBGDIX1-um",
        "outputId": "893d4aac-6d27-4103-c3e5-09a247dabb94",
        "colab": {
          "base_uri": "https://localhost:8080/"
        }
      },
      "outputs": [
        {
          "output_type": "execute_result",
          "data": {
            "text/plain": [
              "array(['Singapore', 'Russia', 'Russia', 'Singapore', 'Singapore',\n",
              "       'France', 'Russia', 'Viet Nam', 'France', 'Viet Nam', 'Russia',\n",
              "       'Britain', 'Viet Nam', 'Britain', 'France', 'France', 'Russia'],\n",
              "      dtype='<U9')"
            ]
          },
          "metadata": {},
          "execution_count": 4
        }
      ],
      "source": [
        "np.random.choice(['Viet Nam', 'Britain', 'France', 'Russia', 'Singapore'], size = 17)"
      ]
    },
    {
      "cell_type": "markdown",
      "metadata": {
        "id": "OpnZR6Qs1-un"
      },
      "source": [
        "4. Sinh mẫu ngẫu nhiên ở câu 3 nhưng không theo phân phối chuẩn mà theo 1 vector đặc tả giá trị xác suất do bạn chọn"
      ]
    },
    {
      "cell_type": "code",
      "execution_count": 5,
      "metadata": {
        "id": "37e3uxvq1-up",
        "outputId": "5642eeb5-5eda-4768-b769-61969514e3b2",
        "colab": {
          "base_uri": "https://localhost:8080/"
        }
      },
      "outputs": [
        {
          "output_type": "execute_result",
          "data": {
            "text/plain": [
              "array(['Viet Nam', 'Singapore', 'Viet Nam', 'Russia', 'Viet Nam',\n",
              "       'Viet Nam', 'France', 'Viet Nam', 'Viet Nam', 'Viet Nam', 'Russia',\n",
              "       'Britain', 'Viet Nam', 'Viet Nam', 'Viet Nam', 'Britain',\n",
              "       'Viet Nam'], dtype='<U9')"
            ]
          },
          "metadata": {},
          "execution_count": 5
        }
      ],
      "source": [
        "np.random.choice(['Viet Nam', 'Britain', 'France', 'Russia', 'Singapore'], 17, p= [0.6, 0.1, 0.1, 0.1, 0.1])"
      ]
    },
    {
      "cell_type": "code",
      "source": [
        "import scipy.stats as st"
      ],
      "metadata": {
        "id": "Or8IywhN4ICf"
      },
      "execution_count": 6,
      "outputs": []
    },
    {
      "cell_type": "markdown",
      "metadata": {
        "id": "69g_-E5I1-uq"
      },
      "source": [
        "Sử dụng thư việc scipy.stats để sinh mẫu ngẫu nhiên\n",
        "\n",
        "1. Sinh mẫu ngẫu nhiên theo phân phối chuẩn với mean = 12.7, std = 2.6 và size = 30. In kết quả ra màn hình"
      ]
    },
    {
      "cell_type": "code",
      "execution_count": 7,
      "metadata": {
        "id": "mKKL8EUb1-us",
        "outputId": "10a02351-4d22-49ac-dff7-dc5b5262b71a",
        "colab": {
          "base_uri": "https://localhost:8080/"
        }
      },
      "outputs": [
        {
          "output_type": "execute_result",
          "data": {
            "text/plain": [
              "array([14.14041995,  9.83413368, 11.13907353,  8.40517536, 12.32777316,\n",
              "        9.37574535, 10.23792442, 15.80424874, 18.33620105, 11.40658865,\n",
              "       13.75364259, 15.0958273 , 13.48800076, 11.34858083,  8.51573384,\n",
              "       13.50236693, 11.98739274, 14.33942754, 18.33029004, 11.71548272,\n",
              "       12.68899268, 13.639089  , 12.21024144, 14.02184721, 16.08762541,\n",
              "       12.56067874, 11.02605253, 12.43370212,  9.07016764, 15.17299424])"
            ]
          },
          "metadata": {},
          "execution_count": 7
        }
      ],
      "source": [
        "st.norm.rvs(12.7, 2.6, 30)"
      ]
    }
  ],
  "metadata": {
    "kernelspec": {
      "display_name": "Python 3",
      "language": "python",
      "name": "python3"
    },
    "language_info": {
      "codemirror_mode": {
        "name": "ipython",
        "version": 3
      },
      "file_extension": ".py",
      "mimetype": "text/x-python",
      "name": "python",
      "nbconvert_exporter": "python",
      "pygments_lexer": "ipython3",
      "version": "3.7.3"
    },
    "colab": {
      "name": "bai-tap-sinh-mau-ngau-nhien.ipynb",
      "provenance": [],
      "include_colab_link": true
    }
  },
  "nbformat": 4,
  "nbformat_minor": 0
}