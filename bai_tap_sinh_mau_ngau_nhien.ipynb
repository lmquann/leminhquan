{
  "cells": [
    {
      "cell_type": "markdown",
      "metadata": {
        "id": "view-in-github",
        "colab_type": "text"
      },
      "source": [
        "<a href=\"https://colab.research.google.com/github/lmquann/leminhquan/blob/main/bai_tap_sinh_mau_ngau_nhien.ipynb\" target=\"_parent\"><img src=\"https://colab.research.google.com/assets/colab-badge.svg\" alt=\"Open In Colab\"/></a>"
      ]
    },
    {
      "cell_type": "code",
      "source": [
        "import numpy as np"
      ],
      "metadata": {
        "id": "AlEge1Ey3FnR"
      },
      "execution_count": null,
      "outputs": []
    },
    {
      "cell_type": "markdown",
      "metadata": {
        "id": "r9sBilHg1-uX"
      },
      "source": [
        "Sử dụng thư viện Numpy\n",
        "\n",
        "1. Sinh mẫu ngẫu nhiên bằng hàm arange trong khoảng [-15, 27] với khoảng cách là 0.7 và in kết quả ra màn hình"
      ]
    },
    {
      "cell_type": "code",
      "execution_count": null,
      "metadata": {
        "id": "h1hR0bjo1-uf",
        "outputId": "222c206e-dd78-41d7-9dfb-cf2ab1ee391b",
        "colab": {
          "base_uri": "https://localhost:8080/"
        }
      },
      "outputs": [
        {
          "output_type": "execute_result",
          "data": {
            "text/plain": [
              "array([-15. , -14.3, -13.6, -12.9, -12.2, -11.5, -10.8, -10.1,  -9.4,\n",
              "        -8.7,  -8. ,  -7.3,  -6.6,  -5.9,  -5.2,  -4.5,  -3.8,  -3.1,\n",
              "        -2.4,  -1.7,  -1. ,  -0.3,   0.4,   1.1,   1.8,   2.5,   3.2,\n",
              "         3.9,   4.6,   5.3,   6. ,   6.7,   7.4,   8.1,   8.8,   9.5,\n",
              "        10.2,  10.9,  11.6,  12.3,  13. ,  13.7,  14.4,  15.1,  15.8,\n",
              "        16.5,  17.2,  17.9,  18.6,  19.3,  20. ,  20.7,  21.4,  22.1,\n",
              "        22.8,  23.5,  24.2,  24.9,  25.6,  26.3,  27. ])"
            ]
          },
          "metadata": {},
          "execution_count": 2
        }
      ],
      "source": [
        "#Code \n",
        "np.arange(-15, 27, 0.7)"
      ]
    },
    {
      "cell_type": "markdown",
      "metadata": {
        "id": "oBFBtwBk1-uh"
      },
      "source": [
        "2. Sinh mẫu ngẫu nhiên theo phân phối chuẩn với mean = 2.7 std = 1.2 và size = 40\n",
        "In kết quả ra màn hình"
      ]
    },
    {
      "cell_type": "code",
      "execution_count": null,
      "metadata": {
        "id": "w4mFAfMt1-uk",
        "outputId": "b4ae9fa6-f63e-431f-d5ba-886601b60772",
        "colab": {
          "base_uri": "https://localhost:8080/"
        }
      },
      "outputs": [
        {
          "output_type": "execute_result",
          "data": {
            "text/plain": [
              "array([2.80674756, 5.20824029, 2.81707641, 2.37324531, 3.67519775,\n",
              "       3.40700669, 3.81063998, 3.71088444, 1.99704905, 1.07859064,\n",
              "       4.30167186, 1.54722607, 3.75643666, 3.9083011 , 2.71106366,\n",
              "       3.73603144, 4.46279542, 6.01756701, 1.17821085, 2.97238565,\n",
              "       0.52611876, 2.8128201 , 3.24835074, 2.69586935, 1.94944335,\n",
              "       1.37599372, 2.54580953, 3.87849577, 4.15511978, 4.50846119,\n",
              "       1.29469237, 3.66282205, 2.54247229, 2.114257  , 3.64135635,\n",
              "       2.3556566 , 2.86006426, 3.38314825, 4.75411629, 5.25410074])"
            ]
          },
          "metadata": {},
          "execution_count": 3
        }
      ],
      "source": [
        "#Code\n",
        "np.random.normal(2.7, 1.2, 40)"
      ]
    },
    {
      "cell_type": "markdown",
      "metadata": {
        "id": "D2bO7in21-ul"
      },
      "source": [
        "3. Sinh mẫu ngẫu nhiên từ vector ['Viet Nam', 'Britain', 'France', 'Russia', 'Singapore'] \n",
        "\n",
        "với kích thước là 17 theo phân phối chuẩn"
      ]
    },
    {
      "cell_type": "code",
      "execution_count": null,
      "metadata": {
        "id": "J6bBGDIX1-um",
        "outputId": "04e9315d-d5a9-445e-875a-79734ac5d867",
        "colab": {
          "base_uri": "https://localhost:8080/"
        }
      },
      "outputs": [
        {
          "output_type": "execute_result",
          "data": {
            "text/plain": [
              "array(['Viet Nam', 'Viet Nam', 'Russia', 'Singapore', 'Britain', 'Russia',\n",
              "       'Singapore', 'France', 'Britain', 'Britain', 'Britain', 'France',\n",
              "       'Singapore', 'Britain', 'Russia', 'Russia', 'Russia'], dtype='<U9')"
            ]
          },
          "metadata": {},
          "execution_count": 4
        }
      ],
      "source": [
        "#Code\n",
        "np.random.choice(['Viet Nam', 'Britain', 'France', 'Russia', 'Singapore'], size = 17)"
      ]
    },
    {
      "cell_type": "markdown",
      "metadata": {
        "id": "OpnZR6Qs1-un"
      },
      "source": [
        "4. Sinh mẫu ngẫu nhiên ở câu 3 nhưng không theo phân phối chuẩn mà theo 1 vector đặc tả giá trị xác suất do bạn chọn"
      ]
    },
    {
      "cell_type": "code",
      "execution_count": null,
      "metadata": {
        "id": "37e3uxvq1-up",
        "outputId": "6fd3c1aa-7b9a-4513-f098-3edabbae4f6d",
        "colab": {
          "base_uri": "https://localhost:8080/"
        }
      },
      "outputs": [
        {
          "output_type": "execute_result",
          "data": {
            "text/plain": [
              "array(['Viet Nam', 'Viet Nam', 'France', 'Viet Nam', 'Viet Nam', 'Russia',\n",
              "       'Viet Nam', 'France', 'Viet Nam', 'Russia', 'Viet Nam', 'France',\n",
              "       'Viet Nam', 'Britain', 'Viet Nam', 'Viet Nam', 'Viet Nam'],\n",
              "      dtype='<U9')"
            ]
          },
          "metadata": {},
          "execution_count": 6
        }
      ],
      "source": [
        "#Code\n",
        "np.random.choice(['Viet Nam', 'Britain', 'France', 'Russia', 'Singapore'], 17, p= [0.6, 0.1, 0.1, 0.1, 0.1])"
      ]
    },
    {
      "cell_type": "code",
      "source": [
        "import scipy.stats as st"
      ],
      "metadata": {
        "id": "Or8IywhN4ICf"
      },
      "execution_count": null,
      "outputs": []
    },
    {
      "cell_type": "markdown",
      "metadata": {
        "id": "69g_-E5I1-uq"
      },
      "source": [
        "Sử dụng thư việc scipy.stats để sinh mẫu ngẫu nhiên\n",
        "\n",
        "1. Sinh mẫu ngẫu nhiên theo phân phối chuẩn với mean = 12.7, std = 2.6 và size = 30. In kết quả ra màn hình"
      ]
    },
    {
      "cell_type": "code",
      "execution_count": null,
      "metadata": {
        "id": "mKKL8EUb1-us",
        "outputId": "d71843cf-b360-4cf9-b205-08c2cdee4d1d",
        "colab": {
          "base_uri": "https://localhost:8080/"
        }
      },
      "outputs": [
        {
          "output_type": "execute_result",
          "data": {
            "text/plain": [
              "array([13.0879663 , 10.38928409, 14.76239185, 13.50608795,  6.24411657,\n",
              "       16.46695184, 10.31756313, 14.43325269, 12.41627759, 13.15124597,\n",
              "       16.92506516,  9.2038644 , 15.12285531, 17.48718393, 12.01037653,\n",
              "       10.33511985, 12.55824029, 11.91466438, 16.74627938, 13.02773258,\n",
              "       11.67312898, 14.27773498, 14.97200348, 11.36398972, 14.73106044,\n",
              "        9.64666362, 16.53102569, 14.23275837,  8.29442741,  9.20216316])"
            ]
          },
          "metadata": {},
          "execution_count": 8
        }
      ],
      "source": [
        "#Code\n",
        "st.norm.rvs(12.7, 2.6, 30)"
      ]
    },
    {
      "cell_type": "code",
      "execution_count": null,
      "metadata": {
        "id": "wqKqLiUg1-uu"
      },
      "outputs": [],
      "source": [
        ""
      ]
    }
  ],
  "metadata": {
    "kernelspec": {
      "display_name": "Python 3",
      "language": "python",
      "name": "python3"
    },
    "language_info": {
      "codemirror_mode": {
        "name": "ipython",
        "version": 3
      },
      "file_extension": ".py",
      "mimetype": "text/x-python",
      "name": "python",
      "nbconvert_exporter": "python",
      "pygments_lexer": "ipython3",
      "version": "3.7.3"
    },
    "colab": {
      "name": "bai-tap-sinh-mau-ngau-nhien.ipynb",
      "provenance": [],
      "include_colab_link": true
    }
  },
  "nbformat": 4,
  "nbformat_minor": 0
}