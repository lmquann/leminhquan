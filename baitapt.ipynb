{
  "nbformat": 4,
  "nbformat_minor": 0,
  "metadata": {
    "colab": {
      "name": "baitapt.ipynb",
      "provenance": [],
      "authorship_tag": "ABX9TyNejPDutxSI3GFqyuKXpQ3Z",
      "include_colab_link": true
    },
    "kernelspec": {
      "name": "python3",
      "display_name": "Python 3"
    },
    "language_info": {
      "name": "python"
    }
  },
  "cells": [
    {
      "cell_type": "markdown",
      "metadata": {
        "id": "view-in-github",
        "colab_type": "text"
      },
      "source": [
        "<a href=\"https://colab.research.google.com/github/lmquann/leminhquan/blob/main/baitapt.ipynb\" target=\"_parent\"><img src=\"https://colab.research.google.com/assets/colab-badge.svg\" alt=\"Open In Colab\"/></a>"
      ]
    },
    {
      "cell_type": "code",
      "metadata": {
        "colab": {
          "base_uri": "https://localhost:8080/"
        },
        "id": "0IRPxRY3WNY4",
        "outputId": "12307d3f-df0c-49f7-bfa9-f5b9295558cc"
      },
      "source": [
        "list = [5, 2, 3, 4]\n",
        "listSum = sum(list)\n",
        "print(\" tong la: \", listSum)\n"
      ],
      "execution_count": 20,
      "outputs": [
        {
          "output_type": "stream",
          "name": "stdout",
          "text": [
            " tong la:  14\n"
          ]
        }
      ]
    },
    {
      "cell_type": "code",
      "metadata": {
        "colab": {
          "base_uri": "https://localhost:8080/"
        },
        "id": "FebdlvZ0fIL3",
        "outputId": "00f70c5d-d3e2-4ed5-c507-6c5f22acca9f"
      },
      "source": [
        "import numpy \n",
        "list = [5, 2, 3, 4]\n",
        "print(\" tich la: \", numpy.prod(list))\n"
      ],
      "execution_count": 21,
      "outputs": [
        {
          "output_type": "stream",
          "name": "stdout",
          "text": [
            " tich la:  120\n"
          ]
        }
      ]
    },
    {
      "cell_type": "code",
      "metadata": {
        "colab": {
          "base_uri": "https://localhost:8080/"
        },
        "id": "Yo1ewbO7fanE",
        "outputId": "8b7a8b6e-f141-4dac-f751-ae29a67e91fa"
      },
      "source": [
        "list = [5, 2, 3, 4]\n",
        "listMax = max(list)\n",
        "print(\" gia tri lon nhat la: \", listMax)\n",
        "listMin = min(list)\n",
        "print(\" gia tri nho nhat la: \", listMin)\n"
      ],
      "execution_count": 22,
      "outputs": [
        {
          "output_type": "stream",
          "name": "stdout",
          "text": [
            " gia tri lon nhat la:  5\n",
            " gia tri nho nhat la:  2\n"
          ]
        }
      ]
    },
    {
      "cell_type": "code",
      "metadata": {
        "colab": {
          "base_uri": "https://localhost:8080/"
        },
        "id": "rLM890_3fjXD",
        "outputId": "a681c151-2209-4103-e938-636f0bef01f6"
      },
      "source": [
        "list = [5, 2, 3, 4]\n",
        "list.sort()\n",
        "print(\" tang dan \", list)\n",
        "list.sort(reverse=True)\n",
        "print(\" giam dan \", list)\n"
      ],
      "execution_count": 23,
      "outputs": [
        {
          "output_type": "stream",
          "name": "stdout",
          "text": [
            " tang dan  [2, 3, 4, 5]\n",
            " giam dan  [5, 4, 3, 2]\n"
          ]
        }
      ]
    },
    {
      "cell_type": "code",
      "metadata": {
        "colab": {
          "base_uri": "https://localhost:8080/"
        },
        "id": "rRuyJVadfrn3",
        "outputId": "04aefb41-1ccd-4c86-b405-70e91d9f7d8e"
      },
      "source": [
        "import random\n",
        "list = [5, 2, 3, 4]\n",
        "print(\"do dai: \", len(list))\n",
        "print(\"random: \", random.choice(list))\n",
        "list1 = [9, 1]\n",
        "print(\"them vao: \", list+list1)"
      ],
      "execution_count": 26,
      "outputs": [
        {
          "output_type": "stream",
          "name": "stdout",
          "text": [
            "do dai:  4\n",
            "random:  2\n",
            "them vao:  [5, 2, 3, 4, 9, 1]\n"
          ]
        }
      ]
    }
  ]
}