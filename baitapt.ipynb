{
  "nbformat": 4,
  "nbformat_minor": 0,
  "metadata": {
    "colab": {
      "name": "baitapt.ipynb",
      "provenance": [],
      "authorship_tag": "ABX9TyMRB9MSnOvOsGzkSBk2PiZo",
      "include_colab_link": true
    },
    "kernelspec": {
      "name": "python3",
      "display_name": "Python 3"
    },
    "language_info": {
      "name": "python"
    }
  },
  "cells": [
    {
      "cell_type": "markdown",
      "metadata": {
        "id": "view-in-github",
        "colab_type": "text"
      },
      "source": [
        "<a href=\"https://colab.research.google.com/github/lmquann/leminhquan/blob/main/baitapt.ipynb\" target=\"_parent\"><img src=\"https://colab.research.google.com/assets/colab-badge.svg\" alt=\"Open In Colab\"/></a>"
      ]
    },
    {
      "cell_type": "code",
      "metadata": {
        "colab": {
          "base_uri": "https://localhost:8080/"
        },
        "id": "0IRPxRY3WNY4",
        "outputId": "aa502237-70d8-44ca-f57f-63304524855d"
      },
      "source": [
        "import random\n",
        "import numpy\n",
        "list = [5, 2, 3, 4]\n",
        "listSum = sum(list)\n",
        "print(\" tong la: \", listSum)\n",
        "print(\" tich la: \", numpy.prod(list))\n",
        "listMax = max(list)\n",
        "print(\" gia tri lon nhat la: \", listMax)\n",
        "listMin = min(list)\n",
        "print(\" gia tri nho nhat la: \", listMin)\n",
        "list.sort()\n",
        "print(\" tang dan \", list)\n",
        "list.sort(reverse=True)\n",
        "print(\" giam dan \", list)\n",
        "print(\"do dai: \", len(list))\n",
        "print(\" random: \", random.choice(list))\n",
        "list1 = [9, 1]\n",
        "print(\"them vao: \", list+list1)"
      ],
      "execution_count": 19,
      "outputs": [
        {
          "output_type": "stream",
          "name": "stdout",
          "text": [
            " tong la:  14\n",
            " tich la:  120\n",
            " gia tri lon nhat la:  5\n",
            " gia tri nho nhat la:  2\n",
            " tang dan  [2, 3, 4, 5]\n",
            " giam dan  [5, 4, 3, 2]\n",
            "do dai:  4\n",
            " random:  3\n",
            "them vao:  [5, 4, 3, 2, 9, 1]\n"
          ]
        }
      ]
    }
  ]
}