{
  "cells": [
    {
      "cell_type": "markdown",
      "metadata": {
        "id": "view-in-github",
        "colab_type": "text"
      },
      "source": [
        "<a href=\"https://colab.research.google.com/github/lmquann/leminhquan/blob/main/bai_tap_kiem_dinh_z_t.ipynb\" target=\"_parent\"><img src=\"https://colab.research.google.com/assets/colab-badge.svg\" alt=\"Open In Colab\"/></a>"
      ]
    },
    {
      "cell_type": "markdown",
      "metadata": {
        "id": "YjXvqlYw3a_e"
      },
      "source": [
        "XÂY DỰNG CHƯƠNG TRÌNH KIỂM ĐỊNH Z (HOẶC T) CHO CÁC BÀI TẬP SAU\n",
        "\n",
        "Gợi ý:\n",
        "\n",
        "- Số liệu được sinh ngẫu nhiên theo phân phối chuẩn\n",
        "- Sử dụng gói phần mềm statsmodels để tiến hành kiểm định\n",
        "- Đối với các bài tập kiểm định giả thuyết thì sinh viên cần phát biểu các giả thuyết (bằng tiếng Việt) $H_{0}$ và $H_{a}$ trước khi lập trình kiểm định"
      ]
    },
    {
      "cell_type": "code",
      "source": [
        "import numpy as np\n",
        "import pandas as pd\n",
        "import random\n",
        "import scipy.stats as st\n",
        "from statsmodels.stats.weightstats import ztest\n",
        "import warnings\n",
        "import matplotlib.pyplot as plt\n",
        "import seaborn as sns\n",
        "%matplotlib inline\n",
        "import math"
      ],
      "metadata": {
        "id": "giJ0AGtU4Pt7",
        "outputId": "0b4d81d8-d0e2-4690-e30c-0c51d4405643",
        "colab": {
          "base_uri": "https://localhost:8080/"
        }
      },
      "execution_count": 2,
      "outputs": [
        {
          "output_type": "stream",
          "name": "stderr",
          "text": [
            "/usr/local/lib/python3.7/dist-packages/statsmodels/tools/_testing.py:19: FutureWarning: pandas.util.testing is deprecated. Use the functions in the public API at pandas.testing instead.\n",
            "  import pandas.util.testing as tm\n"
          ]
        }
      ]
    },
    {
      "cell_type": "markdown",
      "metadata": {
        "id": "POJg8kY03a_s"
      },
      "source": [
        "Bài 1: You’re a Q/C inspector for Gallo. The sample standard deviation for 2-liter bottles is .05 liters.  A random sample of 100 bottles showed sasmple mean = 1.99 liters.  What is the 90%  confidence interval estimate of the true mean amount in 2-liter bottles? "
      ]
    },
    {
      "cell_type": "markdown",
      "source": [
        "Bài 1: Độ lệch chuẩn của mẫu đối với chai 2 lít là 0,05 lít. Một mẫu ngẫu nhiên gồm 100 chai cho thấy trung bình của mẫu = 1,99 lít. Ước lượng khoảng tin cậy 90% của lượng trung bình thực trong chai 2 lít là bao nhiêu?"
      ],
      "metadata": {
        "id": "VxWoGHzs3rzf"
      }
    },
    {
      "cell_type": "code",
      "execution_count": 2,
      "metadata": {
        "id": "8RxMEYVc3a_u",
        "outputId": "a9cd5f38-d2ba-4301-ba7b-16017b8649ff",
        "colab": {
          "base_uri": "https://localhost:8080/"
        }
      },
      "outputs": [
        {
          "output_type": "execute_result",
          "data": {
            "text/plain": [
              "(1.9844324111119769, 1.999872715125782)"
            ]
          },
          "metadata": {},
          "execution_count": 2
        }
      ],
      "source": [
        "#Tạo mẫu: \n",
        "sample = np.random.normal(1.99, 0.05, 100)\n",
        "#Tính \n",
        "st.norm.interval(0.9, np.mean(sample), np.std(sample)/math.sqrt(len(sample)))"
      ]
    },
    {
      "cell_type": "markdown",
      "metadata": {
        "id": "WNdYAD-Y3a_x"
      },
      "source": [
        "Bài 2: You’re a time study analyst in manufacturing.  You’ve recorded the following task times (min.): 3.6, 4.2, 4.0, 3.5, 3.8, 3.1. What is the 90% confidence interval estimate of the population mean task time? "
      ]
    },
    {
      "cell_type": "markdown",
      "source": [
        "Bài 2: Bạn là một nhà phân tích nghiên cứu thời gian trong lĩnh vực sản xuất. Bạn đã ghi lại thời gian tác vụ sau (tối thiểu): 3.6, 4.2, 4.0, 3.5, 3.8, 3.1. Ước tính khoảng tin cậy 90% của thời gian thực hiện nhiệm vụ trung bình của tổng thể là bao nhiêu?"
      ],
      "metadata": {
        "id": "1m0HBNXl5ZSe"
      }
    },
    {
      "cell_type": "code",
      "execution_count": 3,
      "metadata": {
        "id": "Tq7c3wRP3a_y",
        "outputId": "e88629df-4879-44dd-e823-ef372e1b7567",
        "colab": {
          "base_uri": "https://localhost:8080/"
        }
      },
      "outputs": [
        {
          "output_type": "execute_result",
          "data": {
            "text/plain": [
              "(3.4072202592396357, 3.9927797407603656)"
            ]
          },
          "metadata": {},
          "execution_count": 3
        }
      ],
      "source": [
        "#Tạo mẫu: \n",
        "sample = [3.6, 4.2, 4.0, 3.5, 3.8, 3.1]\n",
        "#tính\n",
        "st.t.interval(0.9, len(sample)-1, np.mean(sample), np.std(sample)/math.sqrt(len(sample)))"
      ]
    },
    {
      "cell_type": "markdown",
      "metadata": {
        "id": "tm7S2Zku3a_z"
      },
      "source": [
        "Bài 3: Does an average box of cereal contain 368 grams of cereal?  A random sample of 25 boxes had $\\overline{\\rm x}$ = 372.5.  The company has specified $\\sigma$ to be 25 grams.  Test at the .05 level of significance."
      ]
    },
    {
      "cell_type": "markdown",
      "source": [
        "Bài 3: Một hộp ngũ cốc trung bình có chứa 368 gam ngũ cốc? Một mẫu ngẫu nhiên gồm 25 hộp có x¯¯¯ = 372,5. Công ty đã quy định σ là 25 gram. Kiểm định ở mức ý nghĩa 0,05"
      ],
      "metadata": {
        "id": "w4q2Iz_A6ewn"
      }
    },
    {
      "cell_type": "markdown",
      "source": [
        "Xây dựng giả thuyết:\n",
        "\n",
        "$$H_{0}: \\mu_{} = 368$$\n",
        "Giả thuyết thay thế:\n",
        "\n",
        "$$H_{a}: \\mu_{} \\neq 368$$"
      ],
      "metadata": {
        "id": "ElzsE9sx6zV9"
      }
    },
    {
      "cell_type": "code",
      "execution_count": 4,
      "metadata": {
        "id": "v-vZ94f-3a_1"
      },
      "outputs": [],
      "source": [
        "#Tạo mẫu \n",
        "sample = np.random.normal(372.5, 25, 25)\n",
        "#Xác định thông số:\n",
        "alpha = 0.05\n",
        "null_mean = 368 "
      ]
    },
    {
      "cell_type": "code",
      "source": [
        "#T_test: \n",
        "import statsmodels\n",
        "ttest, p_value = st.ttest_1samp(sample, null_mean)\n",
        "print('t = ', ttest, '; p = ', p_value)\n",
        "if(p_value <  alpha):\n",
        "  print(\"Có bằng chứng để bác bỏ giả thuyết H0\")\n",
        "else:\n",
        "  print(\"Chưa có bằng chứng để bác bỏ giả thuyết H0\")"
      ],
      "metadata": {
        "id": "AooGcIGS8vSI",
        "outputId": "74d60bd2-4859-4462-9ff9-18300884fbd6",
        "colab": {
          "base_uri": "https://localhost:8080/"
        }
      },
      "execution_count": 5,
      "outputs": [
        {
          "output_type": "stream",
          "name": "stdout",
          "text": [
            "t =  1.3572072382864662 ; p =  0.18734279450157126\n",
            "Chưa có bằng chứng để bác bỏ giả thuyết H0\n"
          ]
        }
      ]
    },
    {
      "cell_type": "markdown",
      "metadata": {
        "id": "iAFjec0b3a_3"
      },
      "source": [
        "Bài 4: You’re a Q/C inspector.  You want to find out if a new machine is making electrical cords to customer specification: average breaking strength of 70 lb. with $\\sigma$ = 3.5 lb.  You take a sample of 36 cords & compute a sample mean of 69.7 lb.  At the .05 level of significance, is there evidence that the machine is not meeting the average breaking strength?"
      ]
    },
    {
      "cell_type": "markdown",
      "source": [
        "Bài 4: Bạn muốn tìm hiểu xem một chiếc máy mới có đang làm dây điện theo thông số kỹ thuật của khách hàng hay không: độ bền đứt trung bình là 70 lb. với σ = 3,5 lb. Bạn lấy mẫu 36 dây & tính giá trị trung bình mẫu là 69,7 lb. Tại 0,05 mức độ ý nghĩa, có bằng chứng cho thấy máy không đạt độ bền đứt trung bình không?"
      ],
      "metadata": {
        "id": "ZWxAcrxy9OLE"
      }
    },
    {
      "cell_type": "markdown",
      "source": [
        "Xây dựng giả thuyết:\n",
        "\n",
        "$$H_{0}: \\mu_{} > 70$$\n",
        "\n",
        "Giả thuyết thay thế:\n",
        "\n",
        "$$H_{a}: \\mu_{} \\leq 70$$"
      ],
      "metadata": {
        "id": "daL7yS1GC5YW"
      }
    },
    {
      "cell_type": "code",
      "execution_count": 6,
      "metadata": {
        "id": "uFdYcfcs3a_6"
      },
      "outputs": [],
      "source": [
        "#Tạo mẫu: \n",
        "sample = np.random.normal(69.7, 3.5, 36)\n",
        "#Xác định thông số: \n",
        "alpha = 0.05\n",
        "null_mean = 70"
      ]
    },
    {
      "cell_type": "code",
      "source": [
        "#z_test: \n",
        "ttest_score, p_value = ztest(sample, value = null_mean, alternative = 'smaller')\n",
        "if (p_value < alpha):\n",
        "  print(\"Có bằng chứng để bác bỏ giả thuyết H0\")\n",
        "else: \n",
        "  print(\"chưa có bằng chứng để bác bỏ giả thuyết H0\")"
      ],
      "metadata": {
        "id": "QRyS5VW_pgie",
        "outputId": "e663f0fb-fbf0-41b1-be93-f7088d9ff262",
        "colab": {
          "base_uri": "https://localhost:8080/"
        }
      },
      "execution_count": 7,
      "outputs": [
        {
          "output_type": "stream",
          "name": "stdout",
          "text": [
            "chưa có bằng chứng để bác bỏ giả thuyết H0\n"
          ]
        }
      ]
    },
    {
      "cell_type": "markdown",
      "metadata": {
        "id": "Aemtqa2R3a_8"
      },
      "source": [
        "Bài 5: Does an average box of cereal contain more than 368 grams of cereal?  A random sample of 25 boxes showed $\\overline{\\rm x}$ =  372.5.  The company has specified $\\sigma$ to be 25 grams.  Test at the .05 level of significance."
      ]
    },
    {
      "cell_type": "markdown",
      "source": [
        "Bài 5: Một hộp ngũ cốc trung bình có chứa nhiều hơn 368 gam ngũ cốc? Một mẫu ngẫu nhiên gồm 25 hộp cho thấy x¯¯¯ = 372,5. Công ty đã quy định σ là 25 gram. Kiểm định ở mức ý nghĩa .05."
      ],
      "metadata": {
        "id": "Zcen4TRlqK6p"
      }
    },
    {
      "cell_type": "markdown",
      "source": [
        "Xây dựng giả thuyết:\n",
        "\n",
        "$$H_{0}: \\mu_{} > 368$$\n",
        "\n",
        "Giả thuyết thay thế:\n",
        "\n",
        "$$H_{a}: \\mu_{} \\leq 368$$"
      ],
      "metadata": {
        "id": "dHcIXESKqUfW"
      }
    },
    {
      "cell_type": "code",
      "execution_count": 5,
      "metadata": {
        "id": "YdJDGdE13a_-"
      },
      "outputs": [],
      "source": [
        "#Tạo mẫu:\n",
        "sample = np.random.normal(372.5, 25, 25)\n",
        "#Xác định thông số: \n",
        "alpha = 0.05\n",
        "null_mean = 368"
      ]
    },
    {
      "cell_type": "code",
      "source": [
        "#t_test:\n",
        "import statsmodels\n",
        "ttest, p_value = st.ttest_1samp(sample, null_mean)\n",
        "print('t = ', ttest, '; p = ', p_value)\n",
        "if(p_value <  alpha):\n",
        "  print(\"Có bằng chứng để bác bỏ giả thuyết H0\")\n",
        "else:\n",
        "  print(\"Chưa có bằng chứng để bác bỏ giả thuyết H0\")\n"
      ],
      "metadata": {
        "id": "hoyQY3loY4Nq",
        "outputId": "3d57f7aa-c4d2-4678-f97d-a12b34081549",
        "colab": {
          "base_uri": "https://localhost:8080/"
        }
      },
      "execution_count": 6,
      "outputs": [
        {
          "output_type": "stream",
          "name": "stdout",
          "text": [
            "t =  -0.18121058477009835 ; p =  0.8577239494153888\n",
            "Chưa có bằng chứng để bác bỏ giả thuyết H0\n"
          ]
        }
      ]
    },
    {
      "cell_type": "markdown",
      "metadata": {
        "id": "z8Lqjtbq3a__"
      },
      "source": [
        "Bài 6: You’re an analyst for Ford.  You want to find out if the average miles per gallon of Escorts is at least 32 mpg. Similar models have a standard deviation of 3.8 mpg. You take a sample of 60 Escorts & compute a sample mean of 30.7 mpg. At the .01 level of significance, is there evidence that the miles per gallon is less than 32?"
      ]
    },
    {
      "cell_type": "markdown",
      "source": [
        "Bài 6: Bạn là nhà phân tích của Ford. Bạn muốn tìm hiểu xem liệu số dặm trung bình trên một gallon của Hộ tống đạt tối thiểu là 32 mpg hay không. Các mô hình tương tự có độ lệch chuẩn là 3,8 mpg. Bạn lấy mẫu 60 Escorts và tính giá trị trung bình mẫu là 30,7 mpg. Với mức ý nghĩa 0,01, có bằng chứng nào cho thấy dặm trên gallon nhỏ hơn 32 không?"
      ],
      "metadata": {
        "id": "zNTUgMHkZmUv"
      }
    },
    {
      "cell_type": "markdown",
      "source": [
        "Xây dựng giả thuyết:\n",
        "\n",
        "$$H_{0}: \\mu_{} > 32$$\n",
        "\n",
        "Giả thuyết thay thế:\n",
        "\n",
        "$$H_{a}: \\mu_{} \\leq 32$$"
      ],
      "metadata": {
        "id": "gRkWvd-BZzfa"
      }
    },
    {
      "cell_type": "code",
      "execution_count": 7,
      "metadata": {
        "id": "uIYdiiDh3bAA"
      },
      "outputs": [],
      "source": [
        "#Tạo mẫu: \n",
        "sample = np.random.normal(30.7, 3.8, 60)\n",
        "#Xác định thông số:\n",
        "alpha = 0.01\n",
        "null_mean = 32"
      ]
    },
    {
      "cell_type": "code",
      "source": [
        "#z_test: \n",
        "ttest_score, p_value = ztest(sample, value = null_mean, alternative = 'smaller')\n",
        "if (p_value < alpha):\n",
        "  print(\"Có bằng chứng để bác bỏ giả thuyết H0\")\n",
        "else: \n",
        "  print(\"chưa có bằng chứng để bác bỏ giả thuyết H0\")"
      ],
      "metadata": {
        "id": "5GRnnuaKaOd5",
        "outputId": "51cdd1e5-12bf-4942-c725-4ceeb756cf74",
        "colab": {
          "base_uri": "https://localhost:8080/"
        }
      },
      "execution_count": 8,
      "outputs": [
        {
          "output_type": "stream",
          "name": "stdout",
          "text": [
            "chưa có bằng chứng để bác bỏ giả thuyết H0\n"
          ]
        }
      ]
    },
    {
      "cell_type": "markdown",
      "metadata": {
        "id": "jJmIxMVI3bAB"
      },
      "source": [
        "Bài 7: Does an average box of cereal contain 368 grams of cereal?  A random sample of 25 boxes showed $\\overline{\\rm x}$ = 372.5.  The company has specified $\\sigma$ to be 15 grams.  Find the p-Value."
      ]
    },
    {
      "cell_type": "markdown",
      "source": [
        "Bài 7: Một hộp ngũ cốc trung bình có chứa 368 gam ngũ cốc? Một mẫu ngẫu nhiên gồm 25 hộp cho thấy x¯¯¯ = 372,5. Công ty đã quy định σ là 15 gam. Tìm giá trị p."
      ],
      "metadata": {
        "id": "dr-vSPp-d1Gv"
      }
    },
    {
      "cell_type": "code",
      "execution_count": 9,
      "metadata": {
        "id": "-AyAX2Xl3bAB"
      },
      "outputs": [],
      "source": [
        "#Tạo mâu:\n",
        "sample = np.random.normal(372.5, 15, 25)\n",
        "#Xác định thông số: \n",
        "null_mean = 368"
      ]
    },
    {
      "cell_type": "code",
      "source": [
        "#t_test:\n",
        "import statsmodels\n",
        "ttest, p_value = st.ttest_1samp(sample, null_mean)\n",
        "print('t = ', ttest, '; p = ', p_value)"
      ],
      "metadata": {
        "id": "ZvKtKapbeXwR",
        "outputId": "327090b0-c658-4ada-be2f-0d05d43b32e4",
        "colab": {
          "base_uri": "https://localhost:8080/"
        }
      },
      "execution_count": 10,
      "outputs": [
        {
          "output_type": "stream",
          "name": "stdout",
          "text": [
            "t =  -1.1047202293103187 ; p =  0.2802334737875925\n"
          ]
        }
      ]
    },
    {
      "cell_type": "markdown",
      "metadata": {
        "id": "BpMl9zX73bAC"
      },
      "source": [
        "Bài 8: Does an average box of cereal contain more than 368 grams of cereal?  A random sample of 25 boxes showed $\\overline{\\rm x}$ = 372.5.  The company has specified $\\sigma$ to be 15 grams.  Find the p-Value."
      ]
    },
    {
      "cell_type": "markdown",
      "source": [
        "Bài 8: Một hộp ngũ cốc trung bình có chứa nhiều hơn 368 gam ngũ cốc? Một mẫu ngẫu nhiên gồm 25 hộp cho thấy x¯¯¯ = 372,5. Công ty đã quy định σ là 15 gam. Tìm giá trị p."
      ],
      "metadata": {
        "id": "-fQP_JVgejFe"
      }
    },
    {
      "cell_type": "code",
      "execution_count": 11,
      "metadata": {
        "id": "CrZAId4c3bAD",
        "outputId": "15205a8e-1f1a-4195-fb2e-d66a39647fb6",
        "colab": {
          "base_uri": "https://localhost:8080/"
        }
      },
      "outputs": [
        {
          "output_type": "stream",
          "name": "stdout",
          "text": [
            "t =  -1.1047202293103187 ; p =  0.2802334737875925\n"
          ]
        }
      ],
      "source": [
        "#Xác định thông số: \n",
        "null_mean = 368\n",
        "#t_test:\n",
        "import statsmodels\n",
        "ttest, p_value = st.ttest_1samp(sample, null_mean)\n",
        "print('t = ', ttest, '; p = ', p_value)"
      ]
    },
    {
      "cell_type": "markdown",
      "metadata": {
        "id": "9rERkMTL3bAE"
      },
      "source": [
        "Bài 9: You’re an analyst for Ford.  You want to find out if the average miles per gallon of Escorts is less than 32 mpg.   Similar models have a standard deviation of 3.8 mpg.  You take a sample of 60 Escorts & compute a sample mean of 30.7 mpg.  What is the value of the observed level of significance (p-Value)?"
      ]
    },
    {
      "cell_type": "markdown",
      "source": [
        "Bài 9: Bạn là nhà phân tích của Ford. Bạn muốn tìm hiểu xem số dặm trung bình trên mỗi gallon của Hộ tống đạt có nhỏ hơn 32 mpg hay không. Các mô hình tương tự có độ lệch chuẩn là 3,8 mpg. Bạn lấy mẫu 60 Escorts và tính giá trị trung bình mẫu là 30,7 mpg. Giá trị của mức ý nghĩa quan sát (p-Value) là bao nhiêu?"
      ],
      "metadata": {
        "id": "QQzBmPhje70n"
      }
    },
    {
      "cell_type": "code",
      "execution_count": 12,
      "metadata": {
        "id": "SoAxjGbf3bAF"
      },
      "outputs": [],
      "source": [
        "#Tạo mẫu: \n",
        "sample9 = np.random.normal(30.7, 3.8, 60)\n",
        "#Xác định thông số\n",
        "null_mean = 32"
      ]
    },
    {
      "cell_type": "code",
      "source": [
        "#z_test: \n",
        "ttest_score, p_value = ztest(sample9, value = null_mean, alternative = 'smaller')\n",
        "print(p_value)"
      ],
      "metadata": {
        "id": "UxOcxnRbfhkJ",
        "outputId": "37ea5656-5176-4224-c73e-19b0d7071551",
        "colab": {
          "base_uri": "https://localhost:8080/"
        }
      },
      "execution_count": 13,
      "outputs": [
        {
          "output_type": "stream",
          "name": "stdout",
          "text": [
            "8.785183745670104e-05\n"
          ]
        }
      ]
    },
    {
      "cell_type": "markdown",
      "metadata": {
        "id": "Er2ahOGl3bAG"
      },
      "source": [
        "Bài 10: Does an average box of cereal contain 368 grams of cereal?  A random sample of 36 boxes had a mean of 372.5 and a standard deviation of 12 grams. Test at the .05 level of significance."
      ]
    },
    {
      "cell_type": "markdown",
      "source": [
        "Bài 10: Một hộp ngũ cốc trung bình có chứa 368 gam ngũ cốc? Một mẫu ngẫu nhiên gồm 36 hộp có giá trị trung bình là 372,5 và độ lệch chuẩn là 12 gam. Kiểm định ở mức ý nghĩa .05."
      ],
      "metadata": {
        "id": "Txl0fayCfxUw"
      }
    },
    {
      "cell_type": "markdown",
      "source": [
        "Xây dựng giả thuyết:\n",
        "\n",
        "$$H_{0}: \\mu_{} = 368$$\n",
        "Giả thuyết thay thế:\n",
        "\n",
        "$$H_{a}: \\mu_{} \\neq 368$$"
      ],
      "metadata": {
        "id": "P8S1MJuNglNM"
      }
    },
    {
      "cell_type": "code",
      "execution_count": 14,
      "metadata": {
        "id": "FoIUGoQt3bAH"
      },
      "outputs": [],
      "source": [
        "#Tạo mẫu:\n",
        "s10 = np.random.normal(372.5, 12, 36)\n",
        "#Xác định thông số: \n",
        "alpha = 0.05\n",
        "null_mean = 368"
      ]
    },
    {
      "cell_type": "code",
      "source": [
        "#z_test: \n",
        "ttest_score, p_value = ztest(s10, value = null_mean, alternative = 'two-sided')\n",
        "if (p_value < alpha):\n",
        "  print(\"Có bằng chứng để bác bỏ giả thuyết H0\")\n",
        "else: \n",
        "  print(\"chưa có bằng chứng để bác bỏ giả thuyết H0\")"
      ],
      "metadata": {
        "id": "YxbJV7C7isMr",
        "outputId": "1f916ca3-464c-4aed-8d96-1a5708b99155",
        "colab": {
          "base_uri": "https://localhost:8080/"
        }
      },
      "execution_count": 16,
      "outputs": [
        {
          "output_type": "stream",
          "name": "stdout",
          "text": [
            "Có bằng chứng để bác bỏ giả thuyết H0\n"
          ]
        }
      ]
    },
    {
      "cell_type": "markdown",
      "metadata": {
        "id": "tjFzQOp83bAH"
      },
      "source": [
        "Bài 11: You work for the FTC.  A manufacturer of detergent claims that the mean weight of detergent is 3.25 lb.  You take a random sample of 64 containers.  You calculate the sample average to be 3.238 lb. with a standard deviation of .117 lb.  At the .01 level of significance, is the manufacturer correct?"
      ]
    },
    {
      "cell_type": "markdown",
      "source": [
        "Bài 11: Bạn làm việc cho FTC. Một nhà sản xuất chất tẩy rửa tuyên bố rằng trọng lượng trung bình của chất tẩy rửa là 3,25 lb. Bạn lấy một mẫu ngẫu nhiên gồm 64 thùng chứa. Bạn tính giá trị trung bình của mẫu là 3,238 lb. với độ lệch chuẩn là 0,117 lb. Với mức ý nghĩa 0,01, nhà sản xuất có đúng không?"
      ],
      "metadata": {
        "id": "Ar5CE8opjANh"
      }
    },
    {
      "cell_type": "markdown",
      "source": [
        "Xây dựng giả thuyết:\n",
        "\n",
        "$$H_{0}: \\mu_{} = 3.25$$\n",
        "Giả thuyết thay thế:\n",
        "\n",
        "$$H_{a}: \\mu_{} \\neq 3.25$$"
      ],
      "metadata": {
        "id": "4fqF_sQGjRVU"
      }
    },
    {
      "cell_type": "code",
      "execution_count": 17,
      "metadata": {
        "id": "mNkpgEug3bAI"
      },
      "outputs": [],
      "source": [
        "#Tạo mẫu: \n",
        "s11 = np.random.normal(3.238, 0.117, 64)\n",
        "#Xác định thông số: \n",
        "alpha = 0.01\n",
        "null_mean = 3.25"
      ]
    },
    {
      "cell_type": "code",
      "source": [
        "#z_test: \n",
        "ttest_score, p_value = ztest(s11, value = null_mean, alternative = 'two-sided')\n",
        "if (p_value < alpha):\n",
        "  print(\"Có bằng chứng để bác bỏ giả thuyết H0\")\n",
        "else: \n",
        "  print(\"chưa có bằng chứng để bác bỏ giả thuyết H0\")"
      ],
      "metadata": {
        "id": "mjwL5C58jtHf",
        "outputId": "c81fcea2-e5cd-48e4-c9ec-6484e850c0a9",
        "colab": {
          "base_uri": "https://localhost:8080/"
        }
      },
      "execution_count": 20,
      "outputs": [
        {
          "output_type": "stream",
          "name": "stdout",
          "text": [
            "Có bằng chứng để bác bỏ giả thuyết H0\n"
          ]
        }
      ]
    },
    {
      "cell_type": "markdown",
      "metadata": {
        "id": "7lsl_Ed13bAJ"
      },
      "source": [
        "Bài 12: Is the average capacity of batteries less than 140 ampere-hours?  A random sample of 20 batteries had a mean of 138.47 and a standard deviation of 2.66.  Assume a normal distribution. Test at the .05 level of significance."
      ]
    },
    {
      "cell_type": "markdown",
      "source": [
        "Bài 12: Công suất trung bình của pin nhỏ hơn 140 ampe-giờ? Một mẫu ngẫu nhiên gồm 20 pin có giá trị trung bình là 138,47 và độ lệch chuẩn là 2,66. Giả sử một phân phối chuẩn. Kiểm định ở mức ý nghĩa 0,05"
      ],
      "metadata": {
        "id": "HLYrcGW9jzzP"
      }
    },
    {
      "cell_type": "markdown",
      "source": [
        "Xây dựng giả thuyết:\n",
        "\n",
        "$$H_{0}: \\mu_{} > 140$$\n",
        "\n",
        "Giả thuyết thay thế:\n",
        "\n",
        "$$H_{a}: \\mu_{} \\leq 140$$"
      ],
      "metadata": {
        "id": "tryC_SaVkkVn"
      }
    },
    {
      "cell_type": "code",
      "execution_count": 19,
      "metadata": {
        "id": "vn0YLHLt3bAJ"
      },
      "outputs": [],
      "source": [
        "#Tạo mẫu:\n",
        "s12 = np.random.normal(138.47, 2.66, 20)\n",
        "#Xác định thông số: \n",
        "alpha = 0.05\n",
        "null_mean = 140"
      ]
    },
    {
      "cell_type": "code",
      "source": [
        "#t_test:\n",
        "import statsmodels\n",
        "ttest, p_value = st.ttest_1samp(s12, null_mean)\n",
        "print('t = ', ttest, '; p = ', p_value)\n",
        "if(p_value <  alpha):\n",
        "  print(\"Có bằng chứng để bác bỏ giả thuyết H0\")\n",
        "else:\n",
        "  print(\"Chưa có bằng chứng để bác bỏ giả thuyết H0\")"
      ],
      "metadata": {
        "id": "dA0JMx0Zk3jU",
        "outputId": "f87d70fe-5d80-4cc3-a414-812cf42850dc",
        "colab": {
          "base_uri": "https://localhost:8080/"
        }
      },
      "execution_count": 21,
      "outputs": [
        {
          "output_type": "stream",
          "name": "stdout",
          "text": [
            "t =  -4.849665579490772 ; p =  0.00011132001449445738\n",
            "Có bằng chứng để bác bỏ giả thuyết H0\n"
          ]
        }
      ]
    },
    {
      "cell_type": "markdown",
      "metadata": {
        "id": "bS-hmecT3bAK"
      },
      "source": [
        "Bài 13: You’re a marketing analyst for Wal-Mart.  Wal-Mart had teddy bears on sale last week.  The weekly sales of bears sold in 10 stores was: 8  11  0   4   7   8   10   5   8   3. At the .05 level of significance, is there evidence that the average bear sales per store is more than 5?"
      ]
    },
    {
      "cell_type": "markdown",
      "source": [
        "Bài 13: bạn là nhà phân tích tiếp thị của Wal-Mart. Wal-Mart đã bán gấu bông vào tuần trước. Doanh thu hàng tuần của số gấu bán được ở 10 cửa hàng là: 8 11 0 4 7 8 10 5 8 3. Với mức ý nghĩa 0,05, có bằng chứng nào cho thấy doanh thu trung bình của mỗi cửa hàng là hơn 5 con không?"
      ],
      "metadata": {
        "id": "A7N_BwHSlFzi"
      }
    },
    {
      "cell_type": "markdown",
      "source": [
        "Xây dựng giả thuyết:\n",
        "\n",
        "$$H_{0}: \\mu_{} > 5$$\n",
        "\n",
        "Giả thuyết thay thế:\n",
        "\n",
        "$$H_{a}: \\mu_{} \\leq 5$$"
      ],
      "metadata": {
        "id": "oSyDlcWOlNPf"
      }
    },
    {
      "cell_type": "code",
      "execution_count": 22,
      "metadata": {
        "id": "stCSBZy03bAL"
      },
      "outputs": [],
      "source": [
        "#Tạo mẫu: \n",
        "s13 = [8, 11, 0, 4, 7, 8, 10, 5, 8, 3]\n",
        "#Xác định thông số\n",
        "alpha = 0.05\n",
        "null_mean = 5"
      ]
    },
    {
      "cell_type": "code",
      "execution_count": 23,
      "metadata": {
        "id": "TCCNcGAP3bAL",
        "outputId": "4209d177-15f0-4a92-8a33-de34332f7d99",
        "colab": {
          "base_uri": "https://localhost:8080/"
        }
      },
      "outputs": [
        {
          "output_type": "stream",
          "name": "stdout",
          "text": [
            "t =  1.3125000000000004 ; p =  0.2218341554238571\n",
            "Chưa có bằng chứng để bác bỏ giả thuyết H0\n"
          ]
        }
      ],
      "source": [
        "#t_test:\n",
        "import statsmodels\n",
        "ttest, p_value = st.ttest_1samp(s13, null_mean)\n",
        "print('t = ', ttest, '; p = ', p_value)\n",
        "if(p_value <  alpha):\n",
        "  print(\"Có bằng chứng để bác bỏ giả thuyết H0\")\n",
        "else:\n",
        "  print(\"Chưa có bằng chứng để bác bỏ giả thuyết H0\")"
      ]
    }
  ],
  "metadata": {
    "kernelspec": {
      "display_name": "Python 3",
      "language": "python",
      "name": "python3"
    },
    "language_info": {
      "codemirror_mode": {
        "name": "ipython",
        "version": 3
      },
      "file_extension": ".py",
      "mimetype": "text/x-python",
      "name": "python",
      "nbconvert_exporter": "python",
      "pygments_lexer": "ipython3",
      "version": "3.7.3"
    },
    "colab": {
      "name": "bai-tap-kiem-dinh-z-t.ipynb",
      "provenance": [],
      "include_colab_link": true
    }
  },
  "nbformat": 4,
  "nbformat_minor": 0
}