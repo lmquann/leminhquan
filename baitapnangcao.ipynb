{
  "nbformat": 4,
  "nbformat_minor": 0,
  "metadata": {
    "colab": {
      "name": "baitapnangcao.ipynb",
      "provenance": [],
      "authorship_tag": "ABX9TyPFdswZDSpddIyWfCnnhYcQ",
      "include_colab_link": true
    },
    "kernelspec": {
      "name": "python3",
      "display_name": "Python 3"
    },
    "language_info": {
      "name": "python"
    }
  },
  "cells": [
    {
      "cell_type": "markdown",
      "metadata": {
        "id": "view-in-github",
        "colab_type": "text"
      },
      "source": [
        "<a href=\"https://colab.research.google.com/github/lmquann/leminhquan/blob/main/baitapnangcao.ipynb\" target=\"_parent\"><img src=\"https://colab.research.google.com/assets/colab-badge.svg\" alt=\"Open In Colab\"/></a>"
      ]
    },
    {
      "cell_type": "code",
      "metadata": {
        "id": "BbwE4YyvxQW_"
      },
      "source": [
        "from google.colab import files\n",
        "uploaded = files.upload()"
      ],
      "execution_count": null,
      "outputs": []
    },
    {
      "cell_type": "code",
      "metadata": {
        "id": "8B8hD52fyfaY"
      },
      "source": [
        "class Person():\n",
        "  def init(self):\n",
        "    self.Name:str=\"\"\n",
        "    self.PhoneNum:str=\"\"\n",
        "    self.Email:str=\"\"\n",
        "  def setName(self,Name):\n",
        "    self.Name = Name\n",
        "  def setPhoneNum(self,PhoneNum):\n",
        "    self.PhoneNum = PhoneNum\n",
        "  def setEmail(self,Email):\n",
        "    self.Email = Email\n",
        "class Student(Person):\n",
        "  def init(self):\n",
        "    super().init()\n",
        "    self.ID:str=\"\"\n",
        "    self.AvgMark:float=0.0\n",
        "  def setID(self,ID):\n",
        "    self.ID = ID\n",
        "  def setMark(self,Mark):\n",
        "    self.AvgMark = Mark\n",
        "  def Rank(self):\n",
        "    if self.AvgMark>=8.5:\n",
        "      return \"A\"\n",
        "    elif self.AvgMark>=7:\n",
        "      return \"B\"\n",
        "    elif self.AvgMark>=5.5:\n",
        "      return \"C\"\n",
        "    elif self.AvgMark>=4.0:\n",
        "      return \"D\"\n",
        "    else:\n",
        "      return \"F\"\n",
        "class Professor(Person):\n",
        "  def init(self):\n",
        "    super().init()\n",
        "    self.Salary:float=0.0\n",
        "  def setSalary(self,Salary):\n",
        "    self.Salary = Salary"
      ],
      "execution_count": null,
      "outputs": []
    },
    {
      "cell_type": "code",
      "metadata": {
        "id": "L5Nmxbznyl3v"
      },
      "source": [
        "import pickle\n",
        "PersonList = []\n",
        "StudentList = []\n",
        "ProfessorList = []\n",
        "tempPerson = Person()\n",
        "tempStudent = Student()\n",
        "tempProfessor = Professor()\n",
        "tempPerson.init()\n",
        "tempStudent.init()\n",
        "tempProfessor.init()\n",
        "ftest = open(\"ftest.csv\",\"r\")\n",
        "#Nhập dữ liệu\n",
        "for i in range(0,10):\n",
        "  line = ftest.readline().split(\",\")\n",
        "  tempPerson.setName(line[0])\n",
        "  tempPerson.setEmail(line[1])\n",
        "  tempPerson.setPhoneNum(line[2])\n",
        "  print(tempPerson.Name)\n",
        "  PersonList.append(tempPerson)\n",
        "  tempPerson.init()\n",
        "for i in range(0,10):\n",
        "  line = ftest.readline().split(\",\")\n",
        "  tempStudent.setName(line[0])\n",
        "  tempStudent.setEmail(line[1])\n",
        "  tempStudent.setPhoneNum(line[2])\n",
        "  tempStudent.setMark(line[3])\n",
        "  tempStudent.setID(line[4])\n",
        "  StudentList.append(tempStudent)\n",
        "  tempStudent.init()\n",
        "for i in range(0,10):\n",
        "  line = ftest.readline().split(\",\")\n",
        "  tempProfessor.setName(line[0])\n",
        "  tempProfessor.setEmail(line[1])\n",
        "  tempProfessor.setPhoneNum(line[2])\n",
        "  tempProfessor.setSalary(line[3])\n",
        "  ProfessorList.append(tempProfessor)\n",
        "  tempProfessor.init()\n",
        "ftest.close()\n",
        "#Sắp xếp\n",
        "for i in range(0,10):\n",
        "  for j in range(0,i):\n",
        "    ichar = PersonList[i].Name\n",
        "    jchar = PersonList[j].Name\n",
        "    if ichar < jchar:\n",
        "      PersonList[i],PersonList[j] = PersonList[j],PersonList[i]\n",
        "for i in range(0,10):\n",
        "  for j in range(0,i):\n",
        "    imark = StudentList[i].AvgMark\n",
        "    jmark = StudentList[j].AvgMark\n",
        "    if imark < jmark:\n",
        "      StudentList[i],StudentList[j] = StudentList[j],StudentList[i]\n",
        "for i in range(0,10):\n",
        "  for j in range(0,i):\n",
        "    isalary = ProfessorList[i].Salary\n",
        "    jsalary = ProfessorList[j].Salary\n",
        "    if isalary > jsalary:\n",
        "      ProfessorList[i],ProfessorList[j] = ProfessorList[j],ProfessorList[i]\n",
        "fPerson = open(\"Person.pickle\",\"wb\")\n",
        "pickle.dump(PersonList,fPerson)\n",
        "fPerson.close()\n",
        "fStudent = open(\"Student.pickle\",\"wb\")\n",
        "pickle.dump(StudentList,fStudent)\n",
        "fStudent.close()\n",
        "fProfessor = open(\"Professor.pickle\",\"wb\")\n",
        "pickle.dump(ProfessorList,fProfessor)\n",
        "fProfessor.close()"
      ],
      "execution_count": null,
      "outputs": []
    },
    {
      "cell_type": "code",
      "metadata": {
        "id": "9M7HGaOuyplL"
      },
      "source": [
        "PersonList = []\n",
        "StudentList = []\n",
        "ProfessorList = []\n",
        "fPerson = open(\"Person.pickle\",\"rb\")\n",
        "PersonList = pickle.load(fPerson)\n",
        "fPerson.close()\n",
        "fStudent = open(\"Student.pickle\",\"rb\")\n",
        "StudentList = pickle.load(fStudent)\n",
        "fStudent.close()\n",
        "fProfessor = open(\"Professor.pickle\",\"rb\")\n",
        "ProfessorList = pickle.load(fProfessor)\n",
        "fProfessor.close()\n",
        "print(\"Danh sách người:\")\n",
        "for i in range(0,10):\n",
        "  print(\"Tên: \"+PersonList[i].Name)\n",
        "  print(\"SĐT: \"+PersonList[i].PhoneNum)\n",
        "  print(\"Email: \"+PersonList[i].Email)\n",
        "  print(\"_____\")\n",
        "print(\"Danh sách sinh viên:\")\n",
        "for i in range(0,10):\n",
        "  print(\"Mã SV: \"+StudentList[i].ID)\n",
        "  print(\"Tên: \"+StudentList[i].Name)\n",
        "  print(\"SĐT: \"+StudentList[i].PhoneNum)\n",
        "  print(\"Email: \"+StudentList[i].Email)\n",
        "  print(\"Điểm trung bình: \",StudentList[i].AvgMark)\n",
        "  print(\"_____\")\n",
        "print(\"Danh sách giảng viên:\")\n",
        "for i in range(0,10):\n",
        "  print(\"Tên: \"+ProfessorList[i].Name)\n",
        "  print(\"SĐT: \"+ProfessorList[i].PhoneNum)\n",
        "  print(\"Email: \"+ProfessorList[i].Email)\n",
        "  print(\"Mức lương: \",ProfessorList[i].Salary)\n",
        "  print(\"_____\")"
      ],
      "execution_count": null,
      "outputs": []
    }
  ]
}