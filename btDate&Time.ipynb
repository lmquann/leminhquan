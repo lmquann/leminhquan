{
  "nbformat": 4,
  "nbformat_minor": 0,
  "metadata": {
    "colab": {
      "name": "btDate&Time.ipynb",
      "provenance": [],
      "authorship_tag": "ABX9TyP94RAZIaJayMz3T8r/T+ej",
      "include_colab_link": true
    },
    "kernelspec": {
      "name": "python3",
      "display_name": "Python 3"
    },
    "language_info": {
      "name": "python"
    }
  },
  "cells": [
    {
      "cell_type": "markdown",
      "metadata": {
        "id": "view-in-github",
        "colab_type": "text"
      },
      "source": [
        "<a href=\"https://colab.research.google.com/github/lmquann/leminhquan/blob/main/btDate%26Time.ipynb\" target=\"_parent\"><img src=\"https://colab.research.google.com/assets/colab-badge.svg\" alt=\"Open In Colab\"/></a>"
      ]
    },
    {
      "cell_type": "code",
      "metadata": {
        "colab": {
          "base_uri": "https://localhost:8080/"
        },
        "id": "6xAsK1n3Inki",
        "outputId": "e848469f-abfa-4e68-e267-d9cc73f96f04"
      },
      "source": [
        "import time; # This is required to include time module.\n",
        "ticks = time.time()\n",
        "print(\"Number of ticks since 12:00am, January 1, 1970:\", ticks)\n",
        "#Number of ticks since 12:00am, January 1, 1970: 7186862.73399\n",
        "localtime = time.localtime(time.time())\n",
        "print(\"Local current time :\", localtime)\n",
        "\n",
        "localtime = time.asctime( time.localtime(time.time()) )\n",
        "print(\"Local current time :\", localtime)\n",
        "\n",
        "import calendar\n",
        "cal = calendar.month(2008, 1)\n",
        "print(\"Here is the calendar:\")\n",
        "print(cal)"
      ],
      "execution_count": 20,
      "outputs": [
        {
          "output_type": "stream",
          "name": "stdout",
          "text": [
            "Number of ticks since 12:00am, January 1, 1970: 1633599839.68443\n",
            "Local current time : time.struct_time(tm_year=2021, tm_mon=10, tm_mday=7, tm_hour=9, tm_min=43, tm_sec=59, tm_wday=3, tm_yday=280, tm_isdst=0)\n",
            "Local current time : Thu Oct  7 09:43:59 2021\n",
            "Here is the calendar:\n",
            "    January 2008\n",
            "Mo Tu We Th Fr Sa Su\n",
            "    1  2  3  4  5  6\n",
            " 7  8  9 10 11 12 13\n",
            "14 15 16 17 18 19 20\n",
            "21 22 23 24 25 26 27\n",
            "28 29 30 31\n",
            "\n"
          ]
        }
      ]
    }
  ]
}