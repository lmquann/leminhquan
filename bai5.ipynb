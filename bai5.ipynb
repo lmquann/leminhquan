{
  "nbformat": 4,
  "nbformat_minor": 0,
  "metadata": {
    "colab": {
      "name": "bai5.ipynb",
      "provenance": [],
      "authorship_tag": "ABX9TyONz90tECioswNPz+tECksN",
      "include_colab_link": true
    },
    "kernelspec": {
      "name": "python3",
      "display_name": "Python 3"
    },
    "language_info": {
      "name": "python"
    }
  },
  "cells": [
    {
      "cell_type": "markdown",
      "metadata": {
        "id": "view-in-github",
        "colab_type": "text"
      },
      "source": [
        "<a href=\"https://colab.research.google.com/github/lmquann/leminhquan/blob/main/bai5.ipynb\" target=\"_parent\"><img src=\"https://colab.research.google.com/assets/colab-badge.svg\" alt=\"Open In Colab\"/></a>"
      ]
    },
    {
      "cell_type": "code",
      "metadata": {
        "colab": {
          "base_uri": "https://localhost:8080/"
        },
        "id": "x1icZuj2qBqZ",
        "outputId": "fe2bc30f-1292-4437-e43a-077ae8398403"
      },
      "source": [
        "x=input(\"nhap vao: \")\n",
        "print(x.upper())\n",
        "print(x.lower())"
      ],
      "execution_count": 23,
      "outputs": [
        {
          "output_type": "stream",
          "name": "stdout",
          "text": [
            "nhap vao: Leminhquan\n",
            "LEMINHQUAN\n",
            "leminhquan\n"
          ]
        }
      ]
    }
  ]
}