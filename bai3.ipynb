{
  "nbformat": 4,
  "nbformat_minor": 0,
  "metadata": {
    "colab": {
      "name": "bai3.ipynb",
      "provenance": [],
      "authorship_tag": "ABX9TyPjelHR01AIR/3BEBy74UDE",
      "include_colab_link": true
    },
    "kernelspec": {
      "name": "python3",
      "display_name": "Python 3"
    },
    "language_info": {
      "name": "python"
    }
  },
  "cells": [
    {
      "cell_type": "markdown",
      "metadata": {
        "id": "view-in-github",
        "colab_type": "text"
      },
      "source": [
        "<a href=\"https://colab.research.google.com/github/lmquann/leminhquan/blob/main/bai3.ipynb\" target=\"_parent\"><img src=\"https://colab.research.google.com/assets/colab-badge.svg\" alt=\"Open In Colab\"/></a>"
      ]
    },
    {
      "cell_type": "code",
      "metadata": {
        "colab": {
          "base_uri": "https://localhost:8080/"
        },
        "id": "x1icZuj2qBqZ",
        "outputId": "29f2096e-043d-460e-c54d-a4ee1280f545"
      },
      "source": [
        "import math\n",
        "x= float(input(\"nhap so: \"))\n",
        "tri= abs(x)\n",
        "print(\"gia tri tuyet doi cua so la: \", tri)\n",
        "nguyen= int(x)\n",
        "print(\"phan nguyen cua so la: \", nguyen)\n",
        "y= float(input(\"nhap so tiep theo: \"))\n",
        "luythua= (x)**y\n",
        "print(\"luy thua la \", luythua)\n",
        "canbac= math.sqrt(tri)\n",
        "print(\"can bac hai cua\", tri, \"la: \", canbac)\n"
      ],
      "execution_count": 21,
      "outputs": [
        {
          "output_type": "stream",
          "name": "stdout",
          "text": [
            "nhap so: -4.9\n",
            "gia tri tuyet doi cua so la:  4.9\n",
            "phan nguyen cua so la:  -4\n",
            "nhap so tiep theo: 5\n",
            "luy thua la  -2824.752490000001\n",
            "can bac hai cua 4.9 la:  2.2135943621178655\n"
          ]
        }
      ]
    }
  ]
}